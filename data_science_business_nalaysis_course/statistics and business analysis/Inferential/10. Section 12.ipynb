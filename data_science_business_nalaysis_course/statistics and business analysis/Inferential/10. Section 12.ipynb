{
 "cells": [
  {
   "cell_type": "code",
   "execution_count": 1,
   "id": "f9794fb2",
   "metadata": {},
   "outputs": [],
   "source": [
    "import pandas as pd\n",
    "import numpy as np "
   ]
  },
  {
   "cell_type": "markdown",
   "id": "c77e2c46",
   "metadata": {},
   "source": [
    "# S12_L68"
   ]
  },
  {
   "cell_type": "markdown",
   "id": "6e6254ff",
   "metadata": {},
   "source": [
    "You are given the same dataset. We have also created two new worksheets: 'White' (containing only employees that are indicated as white) and 'Nonwhite' (Asian, Black or African American, Hispanic, Two or more races). \t\t\t\t\t\t\t\t\n",
    "\n",
    "With the help of the new worksheets, it will be easier for you to calculate sample statistics.\t\t\t\t\n",
    "\n",
    "**Using the same methodology as in the lecture, find if there is pay gap based on race.**\t\t\t\t\t\t"
   ]
  },
  {
   "cell_type": "code",
   "execution_count": 2,
   "id": "e7ae5f9c",
   "metadata": {},
   "outputs": [
    {
     "data": {
      "text/html": [
       "<div>\n",
       "<style scoped>\n",
       "    .dataframe tbody tr th:only-of-type {\n",
       "        vertical-align: middle;\n",
       "    }\n",
       "\n",
       "    .dataframe tbody tr th {\n",
       "        vertical-align: top;\n",
       "    }\n",
       "\n",
       "    .dataframe thead th {\n",
       "        text-align: right;\n",
       "    }\n",
       "</style>\n",
       "<table border=\"1\" class=\"dataframe\">\n",
       "  <thead>\n",
       "    <tr style=\"text-align: right;\">\n",
       "      <th></th>\n",
       "      <th>Surname</th>\n",
       "      <th>Name</th>\n",
       "      <th>Age</th>\n",
       "      <th>Gender</th>\n",
       "      <th>Country</th>\n",
       "      <th>Ethnicity</th>\n",
       "      <th>Start_date</th>\n",
       "      <th>Department</th>\n",
       "      <th>Position</th>\n",
       "      <th>Salary</th>\n",
       "    </tr>\n",
       "  </thead>\n",
       "  <tbody>\n",
       "    <tr>\n",
       "      <th>0</th>\n",
       "      <td>Sweetwater</td>\n",
       "      <td>Alex</td>\n",
       "      <td>51</td>\n",
       "      <td>Male</td>\n",
       "      <td>United States</td>\n",
       "      <td>White</td>\n",
       "      <td>2011-08-15</td>\n",
       "      <td>Software Engineering</td>\n",
       "      <td>Software Engineering Manager</td>\n",
       "      <td>56160.0</td>\n",
       "    </tr>\n",
       "    <tr>\n",
       "      <th>1</th>\n",
       "      <td>Carabbio</td>\n",
       "      <td>Judith</td>\n",
       "      <td>30</td>\n",
       "      <td>Female</td>\n",
       "      <td>United States</td>\n",
       "      <td>White</td>\n",
       "      <td>2013-11-11</td>\n",
       "      <td>Software Engineering</td>\n",
       "      <td>Software Engineer</td>\n",
       "      <td>116480.0</td>\n",
       "    </tr>\n",
       "    <tr>\n",
       "      <th>2</th>\n",
       "      <td>Saada</td>\n",
       "      <td>Adell</td>\n",
       "      <td>31</td>\n",
       "      <td>Female</td>\n",
       "      <td>United States</td>\n",
       "      <td>White</td>\n",
       "      <td>2012-11-05</td>\n",
       "      <td>Software Engineering</td>\n",
       "      <td>Software Engineer</td>\n",
       "      <td>102440.0</td>\n",
       "    </tr>\n",
       "    <tr>\n",
       "      <th>3</th>\n",
       "      <td>Szabo</td>\n",
       "      <td>Andrew</td>\n",
       "      <td>34</td>\n",
       "      <td>Male</td>\n",
       "      <td>United States</td>\n",
       "      <td>White</td>\n",
       "      <td>2014-07-07</td>\n",
       "      <td>Software Engineering</td>\n",
       "      <td>Software Engineer</td>\n",
       "      <td>99840.0</td>\n",
       "    </tr>\n",
       "    <tr>\n",
       "      <th>4</th>\n",
       "      <td>Andreola</td>\n",
       "      <td>Colby</td>\n",
       "      <td>38</td>\n",
       "      <td>Female</td>\n",
       "      <td>United States</td>\n",
       "      <td>White</td>\n",
       "      <td>2014-11-10</td>\n",
       "      <td>Software Engineering</td>\n",
       "      <td>Software Engineer</td>\n",
       "      <td>99008.0</td>\n",
       "    </tr>\n",
       "  </tbody>\n",
       "</table>\n",
       "</div>"
      ],
      "text/plain": [
       "      Surname    Name  Age  Gender        Country Ethnicity Start_date  \\\n",
       "0  Sweetwater    Alex   51    Male  United States     White 2011-08-15   \n",
       "1    Carabbio  Judith   30  Female  United States     White 2013-11-11   \n",
       "2       Saada   Adell   31  Female  United States     White 2012-11-05   \n",
       "3       Szabo  Andrew   34    Male  United States     White 2014-07-07   \n",
       "4    Andreola   Colby   38  Female  United States     White 2014-11-10   \n",
       "\n",
       "                  Department                      Position    Salary  \n",
       "0  Software Engineering       Software Engineering Manager   56160.0  \n",
       "1       Software Engineering             Software Engineer  116480.0  \n",
       "2       Software Engineering             Software Engineer  102440.0  \n",
       "3       Software Engineering             Software Engineer   99840.0  \n",
       "4       Software Engineering             Software Engineer   99008.0  "
      ]
     },
     "execution_count": 2,
     "metadata": {},
     "output_type": "execute_result"
    }
   ],
   "source": [
    "company = pd.read_excel(\"S12_L69\\company_spark_fortress.xlsx\")\n",
    "company.head()"
   ]
  },
  {
   "cell_type": "markdown",
   "id": "41f6c627",
   "metadata": {},
   "source": [
    "**We are going to split this dataset between two, the whites and the non whites**"
   ]
  },
  {
   "cell_type": "code",
   "execution_count": 7,
   "id": "33a05e67",
   "metadata": {},
   "outputs": [
    {
     "data": {
      "text/plain": [
       "(112, 10)"
      ]
     },
     "execution_count": 7,
     "metadata": {},
     "output_type": "execute_result"
    }
   ],
   "source": [
    "white = company.loc[company[\"Ethnicity\"] == \"White\", :]\n",
    "white.shape"
   ]
  },
  {
   "cell_type": "code",
   "execution_count": 19,
   "id": "365e575b",
   "metadata": {},
   "outputs": [],
   "source": [
    "n_white = 112"
   ]
  },
  {
   "cell_type": "code",
   "execution_count": 8,
   "id": "7ff6423a",
   "metadata": {},
   "outputs": [
    {
     "data": {
      "text/plain": [
       "(62, 10)"
      ]
     },
     "execution_count": 8,
     "metadata": {},
     "output_type": "execute_result"
    }
   ],
   "source": [
    "non_white = company.loc[company[\"Ethnicity\"] != \"White\", :]\n",
    "non_white.shape"
   ]
  },
  {
   "cell_type": "code",
   "execution_count": 20,
   "id": "ba51e389",
   "metadata": {},
   "outputs": [],
   "source": [
    "n_non_white = 62"
   ]
  },
  {
   "cell_type": "markdown",
   "id": "ea7b3dd4",
   "metadata": {},
   "source": [
    "So we have 112 white people and 62 on white people in the fortress company what about the mean salaries between these two groups? "
   ]
  },
  {
   "cell_type": "code",
   "execution_count": 12,
   "id": "039f2460",
   "metadata": {},
   "outputs": [
    {
     "data": {
      "text/plain": [
       "67323.1"
      ]
     },
     "execution_count": 12,
     "metadata": {},
     "output_type": "execute_result"
    }
   ],
   "source": [
    "mean_white = white[\"Salary\"].mean()\n",
    "mean_white"
   ]
  },
  {
   "cell_type": "code",
   "execution_count": 13,
   "id": "0d0328f5",
   "metadata": {},
   "outputs": [
    {
     "data": {
      "text/plain": [
       "70917.26"
      ]
     },
     "execution_count": 13,
     "metadata": {},
     "output_type": "execute_result"
    }
   ],
   "source": [
    "mean_non_white = round(non_white[\"Salary\"].mean(), 2)\n",
    "mean_non_white"
   ]
  },
  {
   "cell_type": "markdown",
   "id": "c21f5556",
   "metadata": {},
   "source": [
    "Now let's calculate the variance of these two groups in their salaries."
   ]
  },
  {
   "cell_type": "code",
   "execution_count": 14,
   "id": "d2758db0",
   "metadata": {},
   "outputs": [
    {
     "data": {
      "text/plain": [
       "1136728018.0252259"
      ]
     },
     "execution_count": 14,
     "metadata": {},
     "output_type": "execute_result"
    }
   ],
   "source": [
    "white[\"Salary\"].var() "
   ]
  },
  {
   "cell_type": "code",
   "execution_count": 16,
   "id": "71f1a64a",
   "metadata": {},
   "outputs": [
    {
     "data": {
      "text/plain": [
       "1136728018.0252259"
      ]
     },
     "execution_count": 16,
     "metadata": {},
     "output_type": "execute_result"
    }
   ],
   "source": [
    "white[\"Salary\"].std() ** 2"
   ]
  },
  {
   "cell_type": "markdown",
   "id": "bb2ecd5a",
   "metadata": {},
   "source": [
    "The above methods are two ways to calculate the STD and the variance "
   ]
  },
  {
   "cell_type": "code",
   "execution_count": 18,
   "id": "95d1aa2a",
   "metadata": {},
   "outputs": [],
   "source": [
    "white_var = round(white[\"Salary\"].var(), 2) \n",
    "non_white_var = round(non_white[\"Salary\"].var(), 2)"
   ]
  },
  {
   "cell_type": "markdown",
   "id": "7cfd71ff",
   "metadata": {},
   "source": [
    "Now it is time to calculate the pooled variance formula in order to get the standard error between these two variables samples"
   ]
  },
  {
   "cell_type": "code",
   "execution_count": 22,
   "id": "a8ad0379",
   "metadata": {},
   "outputs": [
    {
     "data": {
      "text/plain": [
       "1168051481.95"
      ]
     },
     "execution_count": 22,
     "metadata": {},
     "output_type": "execute_result"
    }
   ],
   "source": [
    "pooled = round(((n_white - 1) * white_var + (n_non_white - 1) * non_white_var) / (n_white + n_non_white - 2), 2)\n",
    "pooled"
   ]
  },
  {
   "cell_type": "markdown",
   "id": "e8876bed",
   "metadata": {},
   "source": [
    "Since the H0 is \n",
    "\n",
    "1. H0: mean salary of white = mean salary of non white\n",
    "2. H1: mean salary of white != mean salary of non white\n",
    "\n",
    "or\n",
    "\n",
    "3. H0: mean salary of white - mean salary of non white = 0\n",
    "\n",
    "We are going to calculate the difference of the sample means minus the expected difference which is 0 based on the H0 divided by the standar error of these two samples with the help of the results of th epooled variance formula."
   ]
  },
  {
   "cell_type": "markdown",
   "id": "5f63ed58",
   "metadata": {},
   "source": [
    "And we are going to use the T score because we have don't know the population variances and we don't have big samples, the comapny has more than 5000 employees and we have just a fraction of that, but we assume that the variances of these two samples are equal, white and non white. "
   ]
  },
  {
   "cell_type": "code",
   "execution_count": 26,
   "id": "7c89d21e",
   "metadata": {},
   "outputs": [
    {
     "data": {
      "text/plain": [
       "-0.66"
      ]
     },
     "execution_count": 26,
     "metadata": {},
     "output_type": "execute_result"
    }
   ],
   "source": [
    "T_score = round(((mean_white - mean_non_white) - 0) / np.sqrt(pooled / n_white + pooled / n_non_white), 2)\n",
    "T_score"
   ]
  },
  {
   "cell_type": "markdown",
   "id": "1ec67f16",
   "metadata": {},
   "source": [
    "These are the degrees of freedom (n_white + n_non_white - 2) = 172"
   ]
  },
  {
   "cell_type": "markdown",
   "id": "9241620a",
   "metadata": {},
   "source": [
    "P value is **0.510**"
   ]
  },
  {
   "cell_type": "markdown",
   "id": "3579ef64",
   "metadata": {},
   "source": [
    "Since the p value is bigger than the most common levels of significance 0.10, 0.05, 0.01, there is no statistical evidence to reject H0. The result is insignificant"
   ]
  },
  {
   "cell_type": "markdown",
   "id": "8e2ff975",
   "metadata": {},
   "source": [
    "We are going to findo some other discoveries with two samples with unkown variance but assumed to be equal."
   ]
  },
  {
   "cell_type": "markdown",
   "id": "d27e8f6c",
   "metadata": {},
   "source": [
    "# 1. Focus on a single department and conduct the same test"
   ]
  },
  {
   "cell_type": "code",
   "execution_count": 29,
   "id": "01f15400",
   "metadata": {},
   "outputs": [
    {
     "data": {
      "text/plain": [
       "array(['Software Engineering     ', 'Software Engineering', 'Sales',\n",
       "       'Production       ', 'IT/IS', 'Executive Office', 'Admin Offices'],\n",
       "      dtype=object)"
      ]
     },
     "execution_count": 29,
     "metadata": {},
     "output_type": "execute_result"
    }
   ],
   "source": [
    "company[\"Department\"].unique()"
   ]
  },
  {
   "cell_type": "code",
   "execution_count": 30,
   "id": "44b97cdc",
   "metadata": {},
   "outputs": [
    {
     "data": {
      "text/plain": [
       "Production                   106\n",
       "Sales                         26\n",
       "IT/IS                         26\n",
       "Admin Offices                  8\n",
       "Software Engineering           6\n",
       "Software Engineering           1\n",
       "Executive Office               1\n",
       "Name: Department, dtype: int64"
      ]
     },
     "execution_count": 30,
     "metadata": {},
     "output_type": "execute_result"
    }
   ],
   "source": [
    "company[\"Department\"].value_counts()"
   ]
  },
  {
   "cell_type": "markdown",
   "id": "62dd694f",
   "metadata": {},
   "source": [
    "We can focus on the difference in salary between the production department and the sales department."
   ]
  },
  {
   "cell_type": "code",
   "execution_count": 37,
   "id": "ff5102af",
   "metadata": {},
   "outputs": [
    {
     "data": {
      "text/plain": [
       "(106, 10)"
      ]
     },
     "execution_count": 37,
     "metadata": {},
     "output_type": "execute_result"
    }
   ],
   "source": [
    "production = company.loc[company[\"Department\"] == 'Production       ', :]\n",
    "production.shape"
   ]
  },
  {
   "cell_type": "code",
   "execution_count": 41,
   "id": "f0db2744",
   "metadata": {},
   "outputs": [
    {
     "data": {
      "text/html": [
       "<div>\n",
       "<style scoped>\n",
       "    .dataframe tbody tr th:only-of-type {\n",
       "        vertical-align: middle;\n",
       "    }\n",
       "\n",
       "    .dataframe tbody tr th {\n",
       "        vertical-align: top;\n",
       "    }\n",
       "\n",
       "    .dataframe thead th {\n",
       "        text-align: right;\n",
       "    }\n",
       "</style>\n",
       "<table border=\"1\" class=\"dataframe\">\n",
       "  <thead>\n",
       "    <tr style=\"text-align: right;\">\n",
       "      <th></th>\n",
       "      <th>Surname</th>\n",
       "      <th>Name</th>\n",
       "      <th>Age</th>\n",
       "      <th>Gender</th>\n",
       "      <th>Country</th>\n",
       "      <th>Ethnicity</th>\n",
       "      <th>Start_date</th>\n",
       "      <th>Department</th>\n",
       "      <th>Position</th>\n",
       "      <th>Salary</th>\n",
       "    </tr>\n",
       "  </thead>\n",
       "  <tbody>\n",
       "    <tr>\n",
       "      <th>18</th>\n",
       "      <td>Sahoo</td>\n",
       "      <td>Adil</td>\n",
       "      <td>31</td>\n",
       "      <td>Male</td>\n",
       "      <td>United States</td>\n",
       "      <td>White</td>\n",
       "      <td>2010-08-30</td>\n",
       "      <td>Production</td>\n",
       "      <td>Production Technician II</td>\n",
       "      <td>60320.0</td>\n",
       "    </tr>\n",
       "    <tr>\n",
       "      <th>19</th>\n",
       "      <td>Blount</td>\n",
       "      <td>Dianna</td>\n",
       "      <td>27</td>\n",
       "      <td>Female</td>\n",
       "      <td>United States</td>\n",
       "      <td>White</td>\n",
       "      <td>2011-04-04</td>\n",
       "      <td>Production</td>\n",
       "      <td>Production Technician II</td>\n",
       "      <td>56160.0</td>\n",
       "    </tr>\n",
       "    <tr>\n",
       "      <th>20</th>\n",
       "      <td>Monkfish</td>\n",
       "      <td>Erasumus</td>\n",
       "      <td>25</td>\n",
       "      <td>Male</td>\n",
       "      <td>United States</td>\n",
       "      <td>White</td>\n",
       "      <td>2011-11-07</td>\n",
       "      <td>Production</td>\n",
       "      <td>Production Technician II</td>\n",
       "      <td>56160.0</td>\n",
       "    </tr>\n",
       "    <tr>\n",
       "      <th>21</th>\n",
       "      <td>Nowlan</td>\n",
       "      <td>Kristie</td>\n",
       "      <td>32</td>\n",
       "      <td>Female</td>\n",
       "      <td>United States</td>\n",
       "      <td>White</td>\n",
       "      <td>2014-11-10</td>\n",
       "      <td>Production</td>\n",
       "      <td>Production Technician II</td>\n",
       "      <td>54891.2</td>\n",
       "    </tr>\n",
       "    <tr>\n",
       "      <th>22</th>\n",
       "      <td>Burkett</td>\n",
       "      <td>Benjamin</td>\n",
       "      <td>40</td>\n",
       "      <td>Male</td>\n",
       "      <td>United States</td>\n",
       "      <td>White</td>\n",
       "      <td>2011-04-04</td>\n",
       "      <td>Production</td>\n",
       "      <td>Production Technician II</td>\n",
       "      <td>54080.0</td>\n",
       "    </tr>\n",
       "  </tbody>\n",
       "</table>\n",
       "</div>"
      ],
      "text/plain": [
       "     Surname      Name  Age  Gender        Country Ethnicity Start_date  \\\n",
       "18     Sahoo      Adil   31    Male  United States     White 2010-08-30   \n",
       "19    Blount    Dianna   27  Female  United States     White 2011-04-04   \n",
       "20  Monkfish  Erasumus   25    Male  United States     White 2011-11-07   \n",
       "21    Nowlan   Kristie   32  Female  United States     White 2014-11-10   \n",
       "22   Burkett  Benjamin   40    Male  United States     White 2011-04-04   \n",
       "\n",
       "           Department                  Position   Salary  \n",
       "18  Production         Production Technician II  60320.0  \n",
       "19  Production         Production Technician II  56160.0  \n",
       "20  Production         Production Technician II  56160.0  \n",
       "21  Production         Production Technician II  54891.2  \n",
       "22  Production         Production Technician II  54080.0  "
      ]
     },
     "execution_count": 41,
     "metadata": {},
     "output_type": "execute_result"
    }
   ],
   "source": [
    "production.head()"
   ]
  },
  {
   "cell_type": "markdown",
   "id": "43d0c1d6",
   "metadata": {},
   "source": [
    "Now that we have the production department only, let's see if there is racial discrimination regarding the salary in this department, we are going to create two samples from this dataset, white and non white again. "
   ]
  },
  {
   "cell_type": "markdown",
   "id": "6000af6a",
   "metadata": {},
   "source": [
    "In the production department\n",
    "\n",
    "1. H0: salary white - salary non white = 0\n",
    "2. H1: salary white - salary non white != 0"
   ]
  },
  {
   "cell_type": "code",
   "execution_count": 45,
   "id": "dc2c0f7b",
   "metadata": {},
   "outputs": [],
   "source": [
    "white = production.loc[production[\"Ethnicity\"] == \"White\", :]\n",
    "non_white = production.loc[production[\"Ethnicity\"] != \"White\", :]"
   ]
  },
  {
   "cell_type": "markdown",
   "id": "a6e7d849",
   "metadata": {},
   "source": [
    "**Means**"
   ]
  },
  {
   "cell_type": "code",
   "execution_count": 48,
   "id": "9a261e35",
   "metadata": {},
   "outputs": [],
   "source": [
    "white_mean = round(white[\"Salary\"].mean(), 2)\n",
    "non_white_mean = round(non_white[\"Salary\"].mean(), 2)"
   ]
  },
  {
   "cell_type": "code",
   "execution_count": 49,
   "id": "fd0169cb",
   "metadata": {},
   "outputs": [
    {
     "data": {
      "text/plain": [
       "49042.48"
      ]
     },
     "execution_count": 49,
     "metadata": {},
     "output_type": "execute_result"
    }
   ],
   "source": [
    "white_mean"
   ]
  },
  {
   "cell_type": "code",
   "execution_count": 50,
   "id": "fc510abc",
   "metadata": {},
   "outputs": [
    {
     "data": {
      "text/plain": [
       "49546.72"
      ]
     },
     "execution_count": 50,
     "metadata": {},
     "output_type": "execute_result"
    }
   ],
   "source": [
    "non_white_mean"
   ]
  },
  {
   "cell_type": "markdown",
   "id": "5f5513f8",
   "metadata": {},
   "source": [
    "**Sizes**"
   ]
  },
  {
   "cell_type": "code",
   "execution_count": 51,
   "id": "ad674b80",
   "metadata": {},
   "outputs": [
    {
     "data": {
      "text/plain": [
       "(69, 10)"
      ]
     },
     "execution_count": 51,
     "metadata": {},
     "output_type": "execute_result"
    }
   ],
   "source": [
    "white.shape"
   ]
  },
  {
   "cell_type": "code",
   "execution_count": 52,
   "id": "6de6948d",
   "metadata": {},
   "outputs": [
    {
     "data": {
      "text/plain": [
       "(37, 10)"
      ]
     },
     "execution_count": 52,
     "metadata": {},
     "output_type": "execute_result"
    }
   ],
   "source": [
    "non_white.shape"
   ]
  },
  {
   "cell_type": "code",
   "execution_count": 53,
   "id": "09c0df8c",
   "metadata": {},
   "outputs": [],
   "source": [
    "n_white = 69\n",
    "n_non_white = 37"
   ]
  },
  {
   "cell_type": "markdown",
   "id": "ac4488b0",
   "metadata": {},
   "source": [
    "**Variances**"
   ]
  },
  {
   "cell_type": "code",
   "execution_count": 55,
   "id": "1cc0b601",
   "metadata": {},
   "outputs": [
    {
     "data": {
      "text/plain": [
       "496036460.54"
      ]
     },
     "execution_count": 55,
     "metadata": {},
     "output_type": "execute_result"
    }
   ],
   "source": [
    "white_var = round(white[\"Salary\"].var(), 2)\n",
    "white_var"
   ]
  },
  {
   "cell_type": "code",
   "execution_count": 58,
   "id": "7a1e73d4",
   "metadata": {},
   "outputs": [
    {
     "data": {
      "text/plain": [
       "476851720.66"
      ]
     },
     "execution_count": 58,
     "metadata": {},
     "output_type": "execute_result"
    }
   ],
   "source": [
    "non_white_var = round(non_white[\"Salary\"].var(), 2)\n",
    "non_white_var"
   ]
  },
  {
   "cell_type": "markdown",
   "id": "5103b9ee",
   "metadata": {},
   "source": [
    "**We are going to calculate the pooled variance**"
   ]
  },
  {
   "cell_type": "code",
   "execution_count": 59,
   "id": "913e14a6",
   "metadata": {},
   "outputs": [
    {
     "data": {
      "text/plain": [
       "104"
      ]
     },
     "execution_count": 59,
     "metadata": {},
     "output_type": "execute_result"
    }
   ],
   "source": [
    "degrees_f = n_white + n_non_white - 2\n",
    "degrees_f"
   ]
  },
  {
   "cell_type": "code",
   "execution_count": 63,
   "id": "bac71acf",
   "metadata": {},
   "outputs": [
    {
     "data": {
      "text/plain": [
       "489395589.04"
      ]
     },
     "execution_count": 63,
     "metadata": {},
     "output_type": "execute_result"
    }
   ],
   "source": [
    "pooled = round(((n_white - 1) * white_var + (n_non_white - 1) * non_white_var) / degrees_f, 2)\n",
    "pooled"
   ]
  },
  {
   "cell_type": "markdown",
   "id": "7bd88be1",
   "metadata": {},
   "source": [
    "**Let's take the Standard Error**"
   ]
  },
  {
   "cell_type": "code",
   "execution_count": 65,
   "id": "b8334d61",
   "metadata": {},
   "outputs": [
    {
     "data": {
      "text/plain": [
       "4507.73"
      ]
     },
     "execution_count": 65,
     "metadata": {},
     "output_type": "execute_result"
    }
   ],
   "source": [
    "SE = round(np.sqrt(pooled / n_white + pooled / n_non_white), 2)\n",
    "SE"
   ]
  },
  {
   "cell_type": "markdown",
   "id": "d9d31193",
   "metadata": {},
   "source": [
    "**Now it is time for the T score**"
   ]
  },
  {
   "cell_type": "code",
   "execution_count": 69,
   "id": "512f0da5",
   "metadata": {},
   "outputs": [
    {
     "data": {
      "text/plain": [
       "-0.11"
      ]
     },
     "execution_count": 69,
     "metadata": {},
     "output_type": "execute_result"
    }
   ],
   "source": [
    "T_score = round((white_mean - non_white_mean - 0) / SE, 2)\n",
    "T_score"
   ]
  },
  {
   "cell_type": "markdown",
   "id": "41184f4a",
   "metadata": {},
   "source": [
    "**The p value is 0.912**"
   ]
  },
  {
   "cell_type": "markdown",
   "id": "994973e9",
   "metadata": {},
   "source": [
    "Again, the comparison between the p value and the usual levels of confidence are not significant, in fact in this department with this two samples the p value is bigger than the overall sample set. We still acept H0"
   ]
  },
  {
   "cell_type": "markdown",
   "id": "47064972",
   "metadata": {},
   "source": [
    "# 2. Is there racial discrimination for employees above 35 years?"
   ]
  },
  {
   "cell_type": "code",
   "execution_count": 71,
   "id": "4f61f3ac",
   "metadata": {},
   "outputs": [
    {
     "data": {
      "text/html": [
       "<div>\n",
       "<style scoped>\n",
       "    .dataframe tbody tr th:only-of-type {\n",
       "        vertical-align: middle;\n",
       "    }\n",
       "\n",
       "    .dataframe tbody tr th {\n",
       "        vertical-align: top;\n",
       "    }\n",
       "\n",
       "    .dataframe thead th {\n",
       "        text-align: right;\n",
       "    }\n",
       "</style>\n",
       "<table border=\"1\" class=\"dataframe\">\n",
       "  <thead>\n",
       "    <tr style=\"text-align: right;\">\n",
       "      <th></th>\n",
       "      <th>Surname</th>\n",
       "      <th>Name</th>\n",
       "      <th>Age</th>\n",
       "      <th>Gender</th>\n",
       "      <th>Country</th>\n",
       "      <th>Ethnicity</th>\n",
       "      <th>Start_date</th>\n",
       "      <th>Department</th>\n",
       "      <th>Position</th>\n",
       "      <th>Salary</th>\n",
       "    </tr>\n",
       "  </thead>\n",
       "  <tbody>\n",
       "    <tr>\n",
       "      <th>0</th>\n",
       "      <td>Sweetwater</td>\n",
       "      <td>Alex</td>\n",
       "      <td>51</td>\n",
       "      <td>Male</td>\n",
       "      <td>United States</td>\n",
       "      <td>White</td>\n",
       "      <td>2011-08-15</td>\n",
       "      <td>Software Engineering</td>\n",
       "      <td>Software Engineering Manager</td>\n",
       "      <td>56160.0</td>\n",
       "    </tr>\n",
       "    <tr>\n",
       "      <th>1</th>\n",
       "      <td>Carabbio</td>\n",
       "      <td>Judith</td>\n",
       "      <td>30</td>\n",
       "      <td>Female</td>\n",
       "      <td>United States</td>\n",
       "      <td>White</td>\n",
       "      <td>2013-11-11</td>\n",
       "      <td>Software Engineering</td>\n",
       "      <td>Software Engineer</td>\n",
       "      <td>116480.0</td>\n",
       "    </tr>\n",
       "    <tr>\n",
       "      <th>2</th>\n",
       "      <td>Saada</td>\n",
       "      <td>Adell</td>\n",
       "      <td>31</td>\n",
       "      <td>Female</td>\n",
       "      <td>United States</td>\n",
       "      <td>White</td>\n",
       "      <td>2012-11-05</td>\n",
       "      <td>Software Engineering</td>\n",
       "      <td>Software Engineer</td>\n",
       "      <td>102440.0</td>\n",
       "    </tr>\n",
       "    <tr>\n",
       "      <th>3</th>\n",
       "      <td>Szabo</td>\n",
       "      <td>Andrew</td>\n",
       "      <td>34</td>\n",
       "      <td>Male</td>\n",
       "      <td>United States</td>\n",
       "      <td>White</td>\n",
       "      <td>2014-07-07</td>\n",
       "      <td>Software Engineering</td>\n",
       "      <td>Software Engineer</td>\n",
       "      <td>99840.0</td>\n",
       "    </tr>\n",
       "    <tr>\n",
       "      <th>4</th>\n",
       "      <td>Andreola</td>\n",
       "      <td>Colby</td>\n",
       "      <td>38</td>\n",
       "      <td>Female</td>\n",
       "      <td>United States</td>\n",
       "      <td>White</td>\n",
       "      <td>2014-11-10</td>\n",
       "      <td>Software Engineering</td>\n",
       "      <td>Software Engineer</td>\n",
       "      <td>99008.0</td>\n",
       "    </tr>\n",
       "  </tbody>\n",
       "</table>\n",
       "</div>"
      ],
      "text/plain": [
       "      Surname    Name  Age  Gender        Country Ethnicity Start_date  \\\n",
       "0  Sweetwater    Alex   51    Male  United States     White 2011-08-15   \n",
       "1    Carabbio  Judith   30  Female  United States     White 2013-11-11   \n",
       "2       Saada   Adell   31  Female  United States     White 2012-11-05   \n",
       "3       Szabo  Andrew   34    Male  United States     White 2014-07-07   \n",
       "4    Andreola   Colby   38  Female  United States     White 2014-11-10   \n",
       "\n",
       "                  Department                      Position    Salary  \n",
       "0  Software Engineering       Software Engineering Manager   56160.0  \n",
       "1       Software Engineering             Software Engineer  116480.0  \n",
       "2       Software Engineering             Software Engineer  102440.0  \n",
       "3       Software Engineering             Software Engineer   99840.0  \n",
       "4       Software Engineering             Software Engineer   99008.0  "
      ]
     },
     "execution_count": 71,
     "metadata": {},
     "output_type": "execute_result"
    }
   ],
   "source": [
    "company.head()"
   ]
  },
  {
   "cell_type": "markdown",
   "id": "92b870c4",
   "metadata": {},
   "source": [
    "We are going to divide this dataset between employees with more than 35 years and other with less than 35 years. "
   ]
  },
  {
   "cell_type": "code",
   "execution_count": 74,
   "id": "d1f1349f",
   "metadata": {},
   "outputs": [],
   "source": [
    "more_35 = company[company[\"Age\"] >= 35]\n",
    "less_35 = company[company[\"Age\"] < 35]"
   ]
  },
  {
   "cell_type": "markdown",
   "id": "8e8d0ec5",
   "metadata": {},
   "source": [
    "The H0 is:\n",
    "\n",
    "1. H0: salaries more_35 - less_35 = 0\n",
    "2. H1: salaries more_35 - less_35 != 0"
   ]
  },
  {
   "cell_type": "markdown",
   "id": "581845ed",
   "metadata": {},
   "source": [
    "**means in salaries**"
   ]
  },
  {
   "cell_type": "code",
   "execution_count": 76,
   "id": "07a81685",
   "metadata": {},
   "outputs": [
    {
     "data": {
      "text/plain": [
       "68568.05"
      ]
     },
     "execution_count": 76,
     "metadata": {},
     "output_type": "execute_result"
    }
   ],
   "source": [
    "more_35_mean = round(more_35[\"Salary\"].mean(), 2)\n",
    "more_35_mean"
   ]
  },
  {
   "cell_type": "code",
   "execution_count": 78,
   "id": "2082334c",
   "metadata": {},
   "outputs": [
    {
     "data": {
      "text/plain": [
       "68649.85"
      ]
     },
     "execution_count": 78,
     "metadata": {},
     "output_type": "execute_result"
    }
   ],
   "source": [
    "less_35_mean = round(less_35[\"Salary\"].mean(), 2)\n",
    "less_35_mean"
   ]
  },
  {
   "cell_type": "markdown",
   "id": "8c736395",
   "metadata": {},
   "source": [
    "**Sizes**"
   ]
  },
  {
   "cell_type": "code",
   "execution_count": 82,
   "id": "1427ff30",
   "metadata": {},
   "outputs": [
    {
     "data": {
      "text/plain": [
       "98"
      ]
     },
     "execution_count": 82,
     "metadata": {},
     "output_type": "execute_result"
    }
   ],
   "source": [
    "n_more_35 = len(more_35)\n",
    "n_more_35"
   ]
  },
  {
   "cell_type": "code",
   "execution_count": 84,
   "id": "3223ae9d",
   "metadata": {},
   "outputs": [
    {
     "data": {
      "text/plain": [
       "76"
      ]
     },
     "execution_count": 84,
     "metadata": {},
     "output_type": "execute_result"
    }
   ],
   "source": [
    "n_less_35 = len(less_35)\n",
    "n_less_35"
   ]
  },
  {
   "cell_type": "markdown",
   "id": "c287031c",
   "metadata": {},
   "source": [
    "**Variances**"
   ]
  },
  {
   "cell_type": "code",
   "execution_count": 87,
   "id": "dc3a98b7",
   "metadata": {},
   "outputs": [
    {
     "data": {
      "text/plain": [
       "1281567868.7"
      ]
     },
     "execution_count": 87,
     "metadata": {},
     "output_type": "execute_result"
    }
   ],
   "source": [
    "more_35_var = round(more_35[\"Salary\"].var(), 2)\n",
    "more_35_var"
   ]
  },
  {
   "cell_type": "code",
   "execution_count": 88,
   "id": "b4b20159",
   "metadata": {},
   "outputs": [
    {
     "data": {
      "text/plain": [
       "1028106907.58"
      ]
     },
     "execution_count": 88,
     "metadata": {},
     "output_type": "execute_result"
    }
   ],
   "source": [
    "less_35_var = round(less_35[\"Salary\"].var(), 2)\n",
    "less_35_var"
   ]
  },
  {
   "cell_type": "markdown",
   "id": "23fcc2f4",
   "metadata": {},
   "source": [
    "**Pooled variance**"
   ]
  },
  {
   "cell_type": "code",
   "execution_count": 89,
   "id": "31186aec",
   "metadata": {},
   "outputs": [
    {
     "data": {
      "text/plain": [
       "172"
      ]
     },
     "execution_count": 89,
     "metadata": {},
     "output_type": "execute_result"
    }
   ],
   "source": [
    "DF = n_more_35 + n_less_35 - 2\n",
    "DF"
   ]
  },
  {
   "cell_type": "code",
   "execution_count": 97,
   "id": "8cbaf47d",
   "metadata": {},
   "outputs": [
    {
     "data": {
      "text/plain": [
       "1171047100.77"
      ]
     },
     "execution_count": 97,
     "metadata": {},
     "output_type": "execute_result"
    }
   ],
   "source": [
    "pooled = round(((n_more_35 - 1) * more_35_var + (n_less_35 - 1) * less_35_var) / DF, 2)\n",
    "pooled"
   ]
  },
  {
   "cell_type": "markdown",
   "id": "d555dc3e",
   "metadata": {},
   "source": [
    "**Standard error**"
   ]
  },
  {
   "cell_type": "code",
   "execution_count": 101,
   "id": "e36fb912",
   "metadata": {},
   "outputs": [
    {
     "data": {
      "text/plain": [
       "5230.49"
      ]
     },
     "execution_count": 101,
     "metadata": {},
     "output_type": "execute_result"
    }
   ],
   "source": [
    "SE_age = round(np.sqrt(pooled / n_more_35 + pooled / n_less_35), 2)\n",
    "SE_age"
   ]
  },
  {
   "cell_type": "markdown",
   "id": "7491924d",
   "metadata": {},
   "source": [
    "**T score**"
   ]
  },
  {
   "cell_type": "code",
   "execution_count": 105,
   "id": "5e1f8737",
   "metadata": {},
   "outputs": [
    {
     "data": {
      "text/plain": [
       "-0.02"
      ]
     },
     "execution_count": 105,
     "metadata": {},
     "output_type": "execute_result"
    }
   ],
   "source": [
    "T_score = round((more_35_mean - less_35_mean - 0) / SE_age, 2) \n",
    "T_score"
   ]
  },
  {
   "cell_type": "markdown",
   "id": "8d7e77e6",
   "metadata": {},
   "source": [
    "The p value is **0.984**"
   ]
  },
  {
   "cell_type": "markdown",
   "id": "afa700ee",
   "metadata": {},
   "source": [
    "Again, the comparison between the p value and the usual levels of confidence are not significant when we are trying to reject H0, there is no statistical evidence that there is a difference in salary for the people above 35 years old and below of that threshold, we accept H0."
   ]
  },
  {
   "attachments": {},
   "cell_type": "markdown",
   "id": "bc737211",
   "metadata": {},
   "source": [
    "# 3. Filter the employees by start date. \n",
    "\n",
    "Check gender pay gap only looking at the 50 employees that are working the longest in the firm.\t\t"
   ]
  },
  {
   "cell_type": "code",
   "execution_count": 135,
   "id": "9808577e",
   "metadata": {},
   "outputs": [
    {
     "data": {
      "text/html": [
       "<div>\n",
       "<style scoped>\n",
       "    .dataframe tbody tr th:only-of-type {\n",
       "        vertical-align: middle;\n",
       "    }\n",
       "\n",
       "    .dataframe tbody tr th {\n",
       "        vertical-align: top;\n",
       "    }\n",
       "\n",
       "    .dataframe thead th {\n",
       "        text-align: right;\n",
       "    }\n",
       "</style>\n",
       "<table border=\"1\" class=\"dataframe\">\n",
       "  <thead>\n",
       "    <tr style=\"text-align: right;\">\n",
       "      <th></th>\n",
       "      <th>Surname</th>\n",
       "      <th>Name</th>\n",
       "      <th>Age</th>\n",
       "      <th>Gender</th>\n",
       "      <th>Country</th>\n",
       "      <th>Ethnicity</th>\n",
       "      <th>Start_date</th>\n",
       "      <th>Department</th>\n",
       "      <th>Position</th>\n",
       "      <th>Salary</th>\n",
       "    </tr>\n",
       "  </thead>\n",
       "  <tbody>\n",
       "    <tr>\n",
       "      <th>17</th>\n",
       "      <td>Riordan</td>\n",
       "      <td>Michael</td>\n",
       "      <td>50</td>\n",
       "      <td>Male</td>\n",
       "      <td>United States</td>\n",
       "      <td>White</td>\n",
       "      <td>2006-01-09</td>\n",
       "      <td>Sales</td>\n",
       "      <td>Area Sales Manager</td>\n",
       "      <td>114400.0</td>\n",
       "    </tr>\n",
       "    <tr>\n",
       "      <th>149</th>\n",
       "      <td>Pitt</td>\n",
       "      <td>Brad</td>\n",
       "      <td>36</td>\n",
       "      <td>Male</td>\n",
       "      <td>United States</td>\n",
       "      <td>Black or African American</td>\n",
       "      <td>2007-11-05</td>\n",
       "      <td>Production</td>\n",
       "      <td>Production Technician I</td>\n",
       "      <td>35360.0</td>\n",
       "    </tr>\n",
       "    <tr>\n",
       "      <th>42</th>\n",
       "      <td>Alagbe</td>\n",
       "      <td>Trina</td>\n",
       "      <td>29</td>\n",
       "      <td>Female</td>\n",
       "      <td>United States</td>\n",
       "      <td>White</td>\n",
       "      <td>2008-01-07</td>\n",
       "      <td>Production</td>\n",
       "      <td>Production Technician I</td>\n",
       "      <td>43680.0</td>\n",
       "    </tr>\n",
       "    <tr>\n",
       "      <th>157</th>\n",
       "      <td>Brown</td>\n",
       "      <td>Mia</td>\n",
       "      <td>32</td>\n",
       "      <td>Female</td>\n",
       "      <td>United States</td>\n",
       "      <td>Black or African American</td>\n",
       "      <td>2008-10-27</td>\n",
       "      <td>Admin Offices</td>\n",
       "      <td>Accountant I</td>\n",
       "      <td>59280.0</td>\n",
       "    </tr>\n",
       "    <tr>\n",
       "      <th>153</th>\n",
       "      <td>Bramante</td>\n",
       "      <td>Elisa</td>\n",
       "      <td>34</td>\n",
       "      <td>Female</td>\n",
       "      <td>United States</td>\n",
       "      <td>Black or African American</td>\n",
       "      <td>2009-01-05</td>\n",
       "      <td>Production</td>\n",
       "      <td>Director of Operations</td>\n",
       "      <td>124800.0</td>\n",
       "    </tr>\n",
       "  </tbody>\n",
       "</table>\n",
       "</div>"
      ],
      "text/plain": [
       "      Surname     Name  Age  Gender        Country                  Ethnicity  \\\n",
       "17    Riordan  Michael   50    Male  United States                      White   \n",
       "149      Pitt     Brad   36    Male  United States  Black or African American   \n",
       "42     Alagbe    Trina   29  Female  United States                      White   \n",
       "157     Brown      Mia   32  Female  United States  Black or African American   \n",
       "153  Bramante    Elisa   34  Female  United States  Black or African American   \n",
       "\n",
       "    Start_date         Department                 Position    Salary  \n",
       "17  2006-01-09              Sales       Area Sales Manager  114400.0  \n",
       "149 2007-11-05  Production         Production Technician I   35360.0  \n",
       "42  2008-01-07  Production         Production Technician I   43680.0  \n",
       "157 2008-10-27      Admin Offices             Accountant I   59280.0  \n",
       "153 2009-01-05  Production          Director of Operations  124800.0  "
      ]
     },
     "execution_count": 135,
     "metadata": {},
     "output_type": "execute_result"
    }
   ],
   "source": [
    "oldest = company.sort_values(\"Start_date\", ascending = True).head(50)\n",
    "oldest.head()"
   ]
  },
  {
   "cell_type": "markdown",
   "id": "07ae61e4",
   "metadata": {},
   "source": [
    "We are going to filter this dataset with males and females"
   ]
  },
  {
   "cell_type": "code",
   "execution_count": 136,
   "id": "064d8347",
   "metadata": {},
   "outputs": [],
   "source": [
    "male = oldest.loc[oldest[\"Gender\"] == \"Male\", :]\n",
    "female = oldest.loc[oldest[\"Gender\"] == \"Female\", :]"
   ]
  },
  {
   "cell_type": "markdown",
   "id": "4b0146fb",
   "metadata": {},
   "source": [
    "The H0 is: \n",
    "\n",
    "1. H0: Mean salary male - mean salary female = 0\n",
    "2. H1: Mean salary male - mean salary female != 0"
   ]
  },
  {
   "cell_type": "markdown",
   "id": "56d6ecab",
   "metadata": {},
   "source": [
    "**mean in salaries**"
   ]
  },
  {
   "cell_type": "code",
   "execution_count": 137,
   "id": "5d7a0941",
   "metadata": {},
   "outputs": [
    {
     "data": {
      "text/plain": [
       "76386.36"
      ]
     },
     "execution_count": 137,
     "metadata": {},
     "output_type": "execute_result"
    }
   ],
   "source": [
    "male_mean = round(male[\"Salary\"].mean(), 2)\n",
    "male_mean"
   ]
  },
  {
   "cell_type": "code",
   "execution_count": 138,
   "id": "19f7b13a",
   "metadata": {},
   "outputs": [
    {
     "data": {
      "text/plain": [
       "68620.54"
      ]
     },
     "execution_count": 138,
     "metadata": {},
     "output_type": "execute_result"
    }
   ],
   "source": [
    "female_mean = round(female[\"Salary\"].mean(), 2)\n",
    "female_mean"
   ]
  },
  {
   "cell_type": "markdown",
   "id": "9b5491ce",
   "metadata": {},
   "source": [
    "**Sizes**"
   ]
  },
  {
   "cell_type": "code",
   "execution_count": 139,
   "id": "4db26464",
   "metadata": {},
   "outputs": [
    {
     "data": {
      "text/plain": [
       "19"
      ]
     },
     "execution_count": 139,
     "metadata": {},
     "output_type": "execute_result"
    }
   ],
   "source": [
    "n_male = len(male)\n",
    "n_male"
   ]
  },
  {
   "cell_type": "code",
   "execution_count": 140,
   "id": "72abb12a",
   "metadata": {},
   "outputs": [
    {
     "data": {
      "text/plain": [
       "31"
      ]
     },
     "execution_count": 140,
     "metadata": {},
     "output_type": "execute_result"
    }
   ],
   "source": [
    "n_female = len(female)\n",
    "n_female"
   ]
  },
  {
   "cell_type": "markdown",
   "id": "491d6b1e",
   "metadata": {},
   "source": [
    "**Variances**"
   ]
  },
  {
   "cell_type": "code",
   "execution_count": 141,
   "id": "1726d1e5",
   "metadata": {},
   "outputs": [
    {
     "data": {
      "text/plain": [
       "1475233288.92"
      ]
     },
     "execution_count": 141,
     "metadata": {},
     "output_type": "execute_result"
    }
   ],
   "source": [
    "male_var = round(male[\"Salary\"].var(), 2)\n",
    "male_var"
   ]
  },
  {
   "cell_type": "code",
   "execution_count": 142,
   "id": "4a39d314",
   "metadata": {},
   "outputs": [
    {
     "data": {
      "text/plain": [
       "1125016402.79"
      ]
     },
     "execution_count": 142,
     "metadata": {},
     "output_type": "execute_result"
    }
   ],
   "source": [
    "female_var = round(female[\"Salary\"].var(), 2)\n",
    "female_var"
   ]
  },
  {
   "cell_type": "markdown",
   "id": "5de16230",
   "metadata": {},
   "source": [
    "**Pool variance**"
   ]
  },
  {
   "cell_type": "code",
   "execution_count": 143,
   "id": "d5a2b1c9",
   "metadata": {},
   "outputs": [
    {
     "data": {
      "text/plain": [
       "48"
      ]
     },
     "execution_count": 143,
     "metadata": {},
     "output_type": "execute_result"
    }
   ],
   "source": [
    "degrees = n_male + n_female - 2\n",
    "degrees"
   ]
  },
  {
   "cell_type": "code",
   "execution_count": 144,
   "id": "e6ed7147",
   "metadata": {},
   "outputs": [
    {
     "data": {
      "text/plain": [
       "1256347735.09"
      ]
     },
     "execution_count": 144,
     "metadata": {},
     "output_type": "execute_result"
    }
   ],
   "source": [
    "pooled = round(((n_male - 1) * male_var + (n_female - 1) * female_var) / degrees, 2)\n",
    "pooled"
   ]
  },
  {
   "cell_type": "markdown",
   "id": "7d05928b",
   "metadata": {},
   "source": [
    "**T score**"
   ]
  },
  {
   "cell_type": "code",
   "execution_count": 145,
   "id": "0bb40d86",
   "metadata": {},
   "outputs": [
    {
     "data": {
      "text/plain": [
       "10327.19"
      ]
     },
     "execution_count": 145,
     "metadata": {},
     "output_type": "execute_result"
    }
   ],
   "source": [
    "SE_gender = round(np.sqrt(pooled / n_male + pooled / n_female), 2)\n",
    "SE_gender"
   ]
  },
  {
   "cell_type": "code",
   "execution_count": 146,
   "id": "40cfebec",
   "metadata": {},
   "outputs": [
    {
     "data": {
      "text/plain": [
       "0.75"
      ]
     },
     "execution_count": 146,
     "metadata": {},
     "output_type": "execute_result"
    }
   ],
   "source": [
    "T_score = round(((male_mean - female_mean) - 0) / SE_gender, 2) \n",
    "T_score"
   ]
  },
  {
   "cell_type": "markdown",
   "id": "445cacc8",
   "metadata": {},
   "source": [
    "The p value is **0.456**"
   ]
  },
  {
   "cell_type": "markdown",
   "id": "53ed219b",
   "metadata": {},
   "source": [
    "We accept the H0 at the levels of significance of 0.10, 0.05 and 0.01, there is no discrimination salary between mean and women in the oldest employees working in this company, according to this statistical evidence."
   ]
  },
  {
   "cell_type": "code",
   "execution_count": null,
   "id": "8c934417",
   "metadata": {},
   "outputs": [],
   "source": []
  }
 ],
 "metadata": {
  "kernelspec": {
   "display_name": "Python 3 (ipykernel)",
   "language": "python",
   "name": "python3"
  },
  "language_info": {
   "codemirror_mode": {
    "name": "ipython",
    "version": 3
   },
   "file_extension": ".py",
   "mimetype": "text/x-python",
   "name": "python",
   "nbconvert_exporter": "python",
   "pygments_lexer": "ipython3",
   "version": "3.11.4"
  }
 },
 "nbformat": 4,
 "nbformat_minor": 5
}
