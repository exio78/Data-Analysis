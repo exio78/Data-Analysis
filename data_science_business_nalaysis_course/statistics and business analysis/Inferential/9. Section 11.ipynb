{
 "cells": [
  {
   "cell_type": "code",
   "execution_count": 1,
   "id": "ec934e6b",
   "metadata": {},
   "outputs": [],
   "source": [
    "import pandas as pd\n",
    "import numpy as np"
   ]
  },
  {
   "cell_type": "markdown",
   "id": "19691ac4",
   "metadata": {},
   "source": [
    "# S11_L58"
   ]
  },
  {
   "cell_type": "markdown",
   "id": "724ee617",
   "metadata": {},
   "source": [
    "You are given the data from the lesson\n",
    "Test the null hypothesis at 10% significance\n",
    "\n",
    "We have known variance of the population which is 225000000 and with STD it is 15000"
   ]
  },
  {
   "cell_type": "markdown",
   "id": "b407f2b5",
   "metadata": {},
   "source": [
    "The H0 is the data scientist salary is 113 000 USD on average, and the alternative is that it differs from 113 000 USD"
   ]
  },
  {
   "cell_type": "code",
   "execution_count": 2,
   "id": "71eacb3e",
   "metadata": {},
   "outputs": [
    {
     "data": {
      "text/html": [
       "<div>\n",
       "<style scoped>\n",
       "    .dataframe tbody tr th:only-of-type {\n",
       "        vertical-align: middle;\n",
       "    }\n",
       "\n",
       "    .dataframe tbody tr th {\n",
       "        vertical-align: top;\n",
       "    }\n",
       "\n",
       "    .dataframe thead th {\n",
       "        text-align: right;\n",
       "    }\n",
       "</style>\n",
       "<table border=\"1\" class=\"dataframe\">\n",
       "  <thead>\n",
       "    <tr style=\"text-align: right;\">\n",
       "      <th></th>\n",
       "      <th>Dataset</th>\n",
       "    </tr>\n",
       "  </thead>\n",
       "  <tbody>\n",
       "    <tr>\n",
       "      <th>0</th>\n",
       "      <td>117313</td>\n",
       "    </tr>\n",
       "    <tr>\n",
       "      <th>1</th>\n",
       "      <td>104002</td>\n",
       "    </tr>\n",
       "    <tr>\n",
       "      <th>2</th>\n",
       "      <td>113038</td>\n",
       "    </tr>\n",
       "    <tr>\n",
       "      <th>3</th>\n",
       "      <td>101936</td>\n",
       "    </tr>\n",
       "    <tr>\n",
       "      <th>4</th>\n",
       "      <td>84560</td>\n",
       "    </tr>\n",
       "  </tbody>\n",
       "</table>\n",
       "</div>"
      ],
      "text/plain": [
       "   Dataset\n",
       "0   117313\n",
       "1   104002\n",
       "2   113038\n",
       "3   101936\n",
       "4    84560"
      ]
     },
     "execution_count": 2,
     "metadata": {},
     "output_type": "execute_result"
    }
   ],
   "source": [
    "salaries = pd.read_excel(\"S11_L58\\salary.xlsx\")\n",
    "salaries.head()"
   ]
  },
  {
   "cell_type": "markdown",
   "id": "408b772c",
   "metadata": {},
   "source": [
    "**Mean**"
   ]
  },
  {
   "cell_type": "code",
   "execution_count": 3,
   "id": "21dc04b2",
   "metadata": {},
   "outputs": [
    {
     "data": {
      "text/plain": [
       "Dataset    100200.0\n",
       "dtype: float64"
      ]
     },
     "execution_count": 3,
     "metadata": {},
     "output_type": "execute_result"
    }
   ],
   "source": [
    "round(salaries.mean())"
   ]
  },
  {
   "cell_type": "code",
   "execution_count": 4,
   "id": "4656e2fa",
   "metadata": {},
   "outputs": [],
   "source": [
    "mean_sample =  round(salaries.mean())"
   ]
  },
  {
   "cell_type": "markdown",
   "id": "0ab5c49b",
   "metadata": {},
   "source": [
    "**Standard error**"
   ]
  },
  {
   "cell_type": "code",
   "execution_count": 5,
   "id": "2aa4664d",
   "metadata": {},
   "outputs": [
    {
     "data": {
      "text/plain": [
       "2739"
      ]
     },
     "execution_count": 5,
     "metadata": {},
     "output_type": "execute_result"
    }
   ],
   "source": [
    "round(15000 / np.sqrt(len(salaries))) # remember we are considering the STD of the population"
   ]
  },
  {
   "cell_type": "code",
   "execution_count": 6,
   "id": "94d99e62",
   "metadata": {},
   "outputs": [],
   "source": [
    "SE = round(15000 / np.sqrt(len(salaries)))"
   ]
  },
  {
   "cell_type": "markdown",
   "id": "622037f3",
   "metadata": {},
   "source": [
    "**Sample size**"
   ]
  },
  {
   "cell_type": "code",
   "execution_count": 7,
   "id": "cbca5082",
   "metadata": {},
   "outputs": [
    {
     "data": {
      "text/plain": [
       "30"
      ]
     },
     "execution_count": 7,
     "metadata": {},
     "output_type": "execute_result"
    }
   ],
   "source": [
    "len(salaries)"
   ]
  },
  {
   "cell_type": "markdown",
   "id": "fc342378",
   "metadata": {},
   "source": [
    "10% level of significance it is alpha 0.10 / 2 which is 0.05 since it is atwo sided test issue and 1 - 0.05 is 0.95, this 0.95 is capital Z, and 1.65 is the sum of the axes on the Z table, this is lower z this 1.65"
   ]
  },
  {
   "cell_type": "markdown",
   "id": "9d6ed675",
   "metadata": {},
   "source": [
    "**Time for calculating te Z test**\n",
    "\n",
    "The hypothesized mean is 113 000 USD as the average salary and 100 200 USD is the mean of the sample"
   ]
  },
  {
   "cell_type": "code",
   "execution_count": 8,
   "id": "0fe66898",
   "metadata": {},
   "outputs": [],
   "source": [
    "Z_test = round((mean_sample - 113000) / SE, 2)"
   ]
  },
  {
   "cell_type": "code",
   "execution_count": 9,
   "id": "670807f8",
   "metadata": {},
   "outputs": [
    {
     "data": {
      "text/plain": [
       "Dataset   -4.67\n",
       "dtype: float64"
      ]
     },
     "execution_count": 9,
     "metadata": {},
     "output_type": "execute_result"
    }
   ],
   "source": [
    "Z_test"
   ]
  },
  {
   "cell_type": "markdown",
   "id": "79906d24",
   "metadata": {},
   "source": [
    "1.65 < 4.67 which means we can reject the H0 with a confidence interval of 0.10, in the refered lesson with a significance level alpha of 0.5 the critical value was 1.96, the Z test is still higher than the cut of point 1.96 < 4.67. There is no statistical evidence to accept H0 with the provided data. "
   ]
  },
  {
   "cell_type": "markdown",
   "id": "2ed9a2b3",
   "metadata": {},
   "source": [
    "# S11_L61"
   ]
  },
  {
   "cell_type": "markdown",
   "id": "d50d32f4",
   "metadata": {},
   "source": [
    "Background\tYou are given the data from the lesson.\t\t\t\t\t\t\t\n",
    "\n",
    "1. Task 1\tWhat if the question was: is the competitor open rate EXACTLY 40%. What would be the decision then?\t\t\t\t\t\t\t\n",
    "2. Task 1.1\tTest at 5% significance. Comment on the decision with the appropriate statistical jargon.\t\t\t\t\t\t\n",
    "3. Task 1.2\tTest at 1% significance. Comment on the decision with the appropriate statistical jargon.\t\t\t\t\t\t\n",
    "4. Task 1.3\tCalculate the p-value of the test. Solve 1.1 and 1.2 using the p-value\t\t\t\t\t\t"
   ]
  },
  {
   "cell_type": "code",
   "execution_count": 10,
   "id": "c62d26c8",
   "metadata": {},
   "outputs": [
    {
     "data": {
      "text/html": [
       "<div>\n",
       "<style scoped>\n",
       "    .dataframe tbody tr th:only-of-type {\n",
       "        vertical-align: middle;\n",
       "    }\n",
       "\n",
       "    .dataframe tbody tr th {\n",
       "        vertical-align: top;\n",
       "    }\n",
       "\n",
       "    .dataframe thead th {\n",
       "        text-align: right;\n",
       "    }\n",
       "</style>\n",
       "<table border=\"1\" class=\"dataframe\">\n",
       "  <thead>\n",
       "    <tr style=\"text-align: right;\">\n",
       "      <th></th>\n",
       "      <th>Open rate</th>\n",
       "    </tr>\n",
       "  </thead>\n",
       "  <tbody>\n",
       "    <tr>\n",
       "      <th>0</th>\n",
       "      <td>0.26</td>\n",
       "    </tr>\n",
       "    <tr>\n",
       "      <th>1</th>\n",
       "      <td>0.23</td>\n",
       "    </tr>\n",
       "    <tr>\n",
       "      <th>2</th>\n",
       "      <td>0.42</td>\n",
       "    </tr>\n",
       "    <tr>\n",
       "      <th>3</th>\n",
       "      <td>0.49</td>\n",
       "    </tr>\n",
       "    <tr>\n",
       "      <th>4</th>\n",
       "      <td>0.23</td>\n",
       "    </tr>\n",
       "  </tbody>\n",
       "</table>\n",
       "</div>"
      ],
      "text/plain": [
       "   Open rate\n",
       "0       0.26\n",
       "1       0.23\n",
       "2       0.42\n",
       "3       0.49\n",
       "4       0.23"
      ]
     },
     "execution_count": 10,
     "metadata": {},
     "output_type": "execute_result"
    }
   ],
   "source": [
    "open_rate = pd.read_excel(\"S11_L61\\open_rate.xlsx\")\n",
    "open_rate.head()"
   ]
  },
  {
   "cell_type": "markdown",
   "id": "04b7f40e",
   "metadata": {},
   "source": [
    "# Competitor open rate = 40% is a two sided tail hypothesis "
   ]
  },
  {
   "cell_type": "markdown",
   "id": "9855427b",
   "metadata": {},
   "source": [
    "We have an unknown population variance and we are going to use the T statistics distribution and table"
   ]
  },
  {
   "cell_type": "markdown",
   "id": "c105faad",
   "metadata": {},
   "source": [
    "**Mean**"
   ]
  },
  {
   "cell_type": "code",
   "execution_count": 11,
   "id": "625063c9",
   "metadata": {},
   "outputs": [
    {
     "data": {
      "text/plain": [
       "Open rate    0.377\n",
       "dtype: float64"
      ]
     },
     "execution_count": 11,
     "metadata": {},
     "output_type": "execute_result"
    }
   ],
   "source": [
    "open_rate.mean()"
   ]
  },
  {
   "cell_type": "code",
   "execution_count": 12,
   "id": "c8f1010d",
   "metadata": {},
   "outputs": [
    {
     "data": {
      "text/plain": [
       "Open rate    0.377\n",
       "dtype: float64"
      ]
     },
     "execution_count": 12,
     "metadata": {},
     "output_type": "execute_result"
    }
   ],
   "source": [
    "mean2 = open_rate.mean()\n",
    "mean2"
   ]
  },
  {
   "cell_type": "markdown",
   "id": "9eae8320",
   "metadata": {},
   "source": [
    "**Standard error**"
   ]
  },
  {
   "cell_type": "code",
   "execution_count": 13,
   "id": "656fbe89",
   "metadata": {},
   "outputs": [
    {
     "data": {
      "text/plain": [
       "Open rate    0.043\n",
       "dtype: float64"
      ]
     },
     "execution_count": 13,
     "metadata": {},
     "output_type": "execute_result"
    }
   ],
   "source": [
    "round(open_rate.std() / np.sqrt(len(open_rate)), 3)"
   ]
  },
  {
   "cell_type": "code",
   "execution_count": 14,
   "id": "5b1ba1f8",
   "metadata": {},
   "outputs": [
    {
     "data": {
      "text/plain": [
       "Open rate    0.043\n",
       "dtype: float64"
      ]
     },
     "execution_count": 14,
     "metadata": {},
     "output_type": "execute_result"
    }
   ],
   "source": [
    "SE2 = round(open_rate.std() / np.sqrt(len(open_rate)), 3)\n",
    "SE2"
   ]
  },
  {
   "cell_type": "markdown",
   "id": "66dbed39",
   "metadata": {},
   "source": [
    "**lenght of the data**"
   ]
  },
  {
   "cell_type": "code",
   "execution_count": 15,
   "id": "55b70103",
   "metadata": {},
   "outputs": [
    {
     "data": {
      "text/plain": [
       "10"
      ]
     },
     "execution_count": 15,
     "metadata": {},
     "output_type": "execute_result"
    }
   ],
   "source": [
    "len_op = len(open_rate)\n",
    "len_op"
   ]
  },
  {
   "cell_type": "markdown",
   "id": "9382890b",
   "metadata": {},
   "source": [
    "**Calculating this time the T-score**"
   ]
  },
  {
   "cell_type": "code",
   "execution_count": 16,
   "id": "b1c8c726",
   "metadata": {},
   "outputs": [
    {
     "data": {
      "text/plain": [
       "Open rate   -0.53\n",
       "dtype: float64"
      ]
     },
     "execution_count": 16,
     "metadata": {},
     "output_type": "execute_result"
    }
   ],
   "source": [
    "T_score = round((mean2 - 0.4) / SE2, 2)\n",
    "T_score"
   ]
  },
  {
   "cell_type": "markdown",
   "id": "8bd1d24f",
   "metadata": {},
   "source": [
    "We are going to test at 5% level of significance, alpha is = to 0.05 but since it is a two tailed H0 we divide it by two which would be equal to 0.025. As the data has lenght 10 - 9 it would be 9, hence the T table critical value would be 2.26.\n",
    "\n",
    "The absolute value of the T score is less than the critical value, T socre (0.53) < T critical (2.26), for this reason we accept H0"
   ]
  },
  {
   "cell_type": "markdown",
   "id": "05d80f01",
   "metadata": {},
   "source": [
    "**We are going to test now 1% with significance level on a two sided H0**\n",
    "\n",
    "0.01 / 2  = 0.005, the critical value of the T table is 3.25 and the T core is still lower than 3.25, the significance level of 1%, we still accept the H0."
   ]
  },
  {
   "cell_type": "markdown",
   "id": "3789c8be",
   "metadata": {},
   "source": [
    "The p-value of this test is 0.608 > 0.05 and 0.01, therefore, we cannot reject the null hypothesis. In a two sided test, and 0.304 in a one sided test, in both cases the value is greater than alpha, we accept H0. "
   ]
  },
  {
   "cell_type": "markdown",
   "id": "c30d42ee",
   "metadata": {},
   "source": [
    "# S11_L63"
   ]
  },
  {
   "cell_type": "markdown",
   "id": "7b126ea1",
   "metadata": {},
   "source": [
    "Background\tSome guy on the internet designed a weight-loss program. You are wondering if it is working. You are given a sample of some people who did the program. You can find the data in kg if you prefer working with kg as a unit of measurement.\t\t\t\t\t\t\t\t\t\t\t\t\n",
    "1. Task 1\tCalculate the difference between before and after\t\t\t\t\t\t\t\t\t\t\t\t\n",
    "2. Task 2\tState the null hypothesis.\t\t\t\t\t\t\t\t\t\t\t\t\n",
    "3. Task 3\tCalculate the appropriate statistic\t\t\t\t\t\t\t\t\t\t\t\t\n",
    "4. Task 4\tDecide if this is a one-sided or a two-sided test. Calculate the p-value of this statistic\t\t\t\t\t\t\t\n",
    "\n",
    "5. Task 5\tBased on the p-value, decide at 1%,5% and 10% significance, if the program is working. Comment using the appropriate statistical jargon.\t\t\t\t\t\t\t\t\t\t\t\t\n"
   ]
  },
  {
   "cell_type": "code",
   "execution_count": 17,
   "id": "a00b82b0",
   "metadata": {},
   "outputs": [
    {
     "data": {
      "text/html": [
       "<div>\n",
       "<style scoped>\n",
       "    .dataframe tbody tr th:only-of-type {\n",
       "        vertical-align: middle;\n",
       "    }\n",
       "\n",
       "    .dataframe tbody tr th {\n",
       "        vertical-align: top;\n",
       "    }\n",
       "\n",
       "    .dataframe thead th {\n",
       "        text-align: right;\n",
       "    }\n",
       "</style>\n",
       "<table border=\"1\" class=\"dataframe\">\n",
       "  <thead>\n",
       "    <tr style=\"text-align: right;\">\n",
       "      <th></th>\n",
       "      <th>Before (lbs)</th>\n",
       "      <th>After (lbs)</th>\n",
       "    </tr>\n",
       "  </thead>\n",
       "  <tbody>\n",
       "    <tr>\n",
       "      <th>0</th>\n",
       "      <td>228.575273</td>\n",
       "      <td>228.550000</td>\n",
       "    </tr>\n",
       "    <tr>\n",
       "      <th>1</th>\n",
       "      <td>244.007632</td>\n",
       "      <td>238.945566</td>\n",
       "    </tr>\n",
       "    <tr>\n",
       "      <th>2</th>\n",
       "      <td>262.460323</td>\n",
       "      <td>255.620000</td>\n",
       "    </tr>\n",
       "    <tr>\n",
       "      <th>3</th>\n",
       "      <td>224.320352</td>\n",
       "      <td>224.220000</td>\n",
       "    </tr>\n",
       "    <tr>\n",
       "      <th>4</th>\n",
       "      <td>202.141848</td>\n",
       "      <td>199.710000</td>\n",
       "    </tr>\n",
       "  </tbody>\n",
       "</table>\n",
       "</div>"
      ],
      "text/plain": [
       "   Before (lbs)  After (lbs)\n",
       "0    228.575273   228.550000\n",
       "1    244.007632   238.945566\n",
       "2    262.460323   255.620000\n",
       "3    224.320352   224.220000\n",
       "4    202.141848   199.710000"
      ]
     },
     "execution_count": 17,
     "metadata": {},
     "output_type": "execute_result"
    }
   ],
   "source": [
    "weights = pd.read_excel(\"S11_L63\\weights.xlsx\")\n",
    "weights.head()"
   ]
  },
  {
   "cell_type": "markdown",
   "id": "044df762",
   "metadata": {},
   "source": [
    "Difference"
   ]
  },
  {
   "cell_type": "code",
   "execution_count": 18,
   "id": "11c8cb23",
   "metadata": {},
   "outputs": [
    {
     "data": {
      "text/html": [
       "<div>\n",
       "<style scoped>\n",
       "    .dataframe tbody tr th:only-of-type {\n",
       "        vertical-align: middle;\n",
       "    }\n",
       "\n",
       "    .dataframe tbody tr th {\n",
       "        vertical-align: top;\n",
       "    }\n",
       "\n",
       "    .dataframe thead th {\n",
       "        text-align: right;\n",
       "    }\n",
       "</style>\n",
       "<table border=\"1\" class=\"dataframe\">\n",
       "  <thead>\n",
       "    <tr style=\"text-align: right;\">\n",
       "      <th></th>\n",
       "      <th>Before (lbs)</th>\n",
       "      <th>After (lbs)</th>\n",
       "      <th>DF</th>\n",
       "    </tr>\n",
       "  </thead>\n",
       "  <tbody>\n",
       "    <tr>\n",
       "      <th>0</th>\n",
       "      <td>228.575273</td>\n",
       "      <td>228.550000</td>\n",
       "      <td>0.025273</td>\n",
       "    </tr>\n",
       "    <tr>\n",
       "      <th>1</th>\n",
       "      <td>244.007632</td>\n",
       "      <td>238.945566</td>\n",
       "      <td>5.062066</td>\n",
       "    </tr>\n",
       "    <tr>\n",
       "      <th>2</th>\n",
       "      <td>262.460323</td>\n",
       "      <td>255.620000</td>\n",
       "      <td>6.840323</td>\n",
       "    </tr>\n",
       "    <tr>\n",
       "      <th>3</th>\n",
       "      <td>224.320352</td>\n",
       "      <td>224.220000</td>\n",
       "      <td>0.100352</td>\n",
       "    </tr>\n",
       "    <tr>\n",
       "      <th>4</th>\n",
       "      <td>202.141848</td>\n",
       "      <td>199.710000</td>\n",
       "      <td>2.431848</td>\n",
       "    </tr>\n",
       "  </tbody>\n",
       "</table>\n",
       "</div>"
      ],
      "text/plain": [
       "   Before (lbs)  After (lbs)        DF\n",
       "0    228.575273   228.550000  0.025273\n",
       "1    244.007632   238.945566  5.062066\n",
       "2    262.460323   255.620000  6.840323\n",
       "3    224.320352   224.220000  0.100352\n",
       "4    202.141848   199.710000  2.431848"
      ]
     },
     "execution_count": 18,
     "metadata": {},
     "output_type": "execute_result"
    }
   ],
   "source": [
    "weights[\"DF\"] = weights[\"Before (lbs)\"] - weights[\"After (lbs)\"]\n",
    "weights.head()"
   ]
  },
  {
   "cell_type": "markdown",
   "id": "92b4dfc2",
   "metadata": {},
   "source": [
    "Stating the null hypothesis H0: \n",
    "\n",
    "1. H0: the mean DF is >= 0 \n",
    "1. H1: the mean DF is < 0"
   ]
  },
  {
   "cell_type": "markdown",
   "id": "44adb605",
   "metadata": {},
   "source": [
    "Calculating the appropiate statistic"
   ]
  },
  {
   "cell_type": "markdown",
   "id": "4d3f9498",
   "metadata": {},
   "source": [
    "**Mean**"
   ]
  },
  {
   "cell_type": "code",
   "execution_count": 19,
   "id": "814c98f6",
   "metadata": {},
   "outputs": [
    {
     "data": {
      "text/plain": [
       "2.51"
      ]
     },
     "execution_count": 19,
     "metadata": {},
     "output_type": "execute_result"
    }
   ],
   "source": [
    "mean_w = round(weights[\"DF\"].mean(), 2)\n",
    "mean_w"
   ]
  },
  {
   "cell_type": "markdown",
   "id": "60b11c4c",
   "metadata": {},
   "source": [
    "**STD**"
   ]
  },
  {
   "cell_type": "code",
   "execution_count": 20,
   "id": "df1b944e",
   "metadata": {},
   "outputs": [
    {
     "data": {
      "text/plain": [
       "3.95"
      ]
     },
     "execution_count": 20,
     "metadata": {},
     "output_type": "execute_result"
    }
   ],
   "source": [
    "STD = round(weights[\"DF\"].std(), 2)\n",
    "STD"
   ]
  },
  {
   "cell_type": "markdown",
   "id": "90b9b278",
   "metadata": {},
   "source": [
    "**SE**"
   ]
  },
  {
   "cell_type": "code",
   "execution_count": 21,
   "id": "85f70449",
   "metadata": {},
   "outputs": [
    {
     "data": {
      "text/plain": [
       "1.25"
      ]
     },
     "execution_count": 21,
     "metadata": {},
     "output_type": "execute_result"
    }
   ],
   "source": [
    "SE = round(STD / np.sqrt(len(weights)), 2)\n",
    "SE"
   ]
  },
  {
   "cell_type": "code",
   "execution_count": 22,
   "id": "2307adf3",
   "metadata": {},
   "outputs": [
    {
     "data": {
      "text/plain": [
       "2.01"
      ]
     },
     "execution_count": 22,
     "metadata": {},
     "output_type": "execute_result"
    }
   ],
   "source": [
    "T_stat = round((mean_w - 0) / SE, 2)\n",
    "T_stat"
   ]
  },
  {
   "cell_type": "markdown",
   "id": "d264a14f",
   "metadata": {},
   "source": [
    "Deciding if it is a one sided or two sided test: definetely it is a one sided because we want to know if we are going to lose weight with this program, > 0 otherwise it is the alternative H1"
   ]
  },
  {
   "cell_type": "markdown",
   "id": "763763db",
   "metadata": {},
   "source": [
    "The P value is **0.038**"
   ]
  },
  {
   "cell_type": "markdown",
   "id": "19d7a01e",
   "metadata": {},
   "source": [
    "1. 0.038 < 0.10 Reject at 10% level of confidence we reject the H0, the program is not working\n",
    "2. 0.038 < 0.05 Reject at 5% level of confidence we reject the H0, the program is not working\n",
    "3. 0.038 > 0.01 Accept at 1% level of confidence we accept the H0, the program is working"
   ]
  },
  {
   "cell_type": "markdown",
   "id": "f0372d56",
   "metadata": {},
   "source": [
    "Note that the t-score and the p-value are not affected by the unit of measurement wether it is kg or lbs. This shows the power of standardization.\t"
   ]
  },
  {
   "cell_type": "markdown",
   "id": "ace60e42",
   "metadata": {},
   "source": [
    "# S11_L65"
   ]
  },
  {
   "cell_type": "markdown",
   "id": "ab80d742",
   "metadata": {},
   "source": [
    "Background: Ajax releases a new dish detergent, called Extreme Ajax+, which they advertise to be able to clean many more dishes with a single bottle.\t\t\t\t\t\t\t\t\t\n",
    "\n",
    "You want to see if that is true and have bought 25 bottles of Extreme Ajax+ and 25 bottles of Ajax and collected data on how many dirty dishes you can wash with a single bottle. (Population variance is assumed to be known.)\t\t\t\t\t\t\t\t\t\n",
    "\t\t\t\t\t\t\t\t\t\t\n",
    "1. Task 1\tFind the standard deviations of the two samples\t\t\t\t\t\t\t\t\n",
    "2. Task 2\tState the Null Hypothesis\t\t\t\t\t\t\t\t\n",
    "3. Task 3\tDetermine the Z-score\t\t\t\t\t\t\t\t\n",
    "4. Task 4\tFind the p-value\t\t\t\t\t\t\t\t\n",
    "5. Task 5\tInterpret the result\t\t\t\t\t\t\t\t"
   ]
  },
  {
   "cell_type": "code",
   "execution_count": 23,
   "id": "ec5d40f5",
   "metadata": {},
   "outputs": [
    {
     "data": {
      "text/html": [
       "<div>\n",
       "<style scoped>\n",
       "    .dataframe tbody tr th:only-of-type {\n",
       "        vertical-align: middle;\n",
       "    }\n",
       "\n",
       "    .dataframe tbody tr th {\n",
       "        vertical-align: top;\n",
       "    }\n",
       "\n",
       "    .dataframe thead th {\n",
       "        text-align: right;\n",
       "    }\n",
       "</style>\n",
       "<table border=\"1\" class=\"dataframe\">\n",
       "  <thead>\n",
       "    <tr style=\"text-align: right;\">\n",
       "      <th></th>\n",
       "      <th>Ajax</th>\n",
       "      <th>Extreme Ajax</th>\n",
       "      <th>DF</th>\n",
       "    </tr>\n",
       "  </thead>\n",
       "  <tbody>\n",
       "    <tr>\n",
       "      <th>size</th>\n",
       "      <td>25</td>\n",
       "      <td>25</td>\n",
       "      <td>0</td>\n",
       "    </tr>\n",
       "    <tr>\n",
       "      <th>mean</th>\n",
       "      <td>115</td>\n",
       "      <td>100</td>\n",
       "      <td>15</td>\n",
       "    </tr>\n",
       "    <tr>\n",
       "      <th>variace</th>\n",
       "      <td>625</td>\n",
       "      <td>400</td>\n",
       "      <td>225</td>\n",
       "    </tr>\n",
       "  </tbody>\n",
       "</table>\n",
       "</div>"
      ],
      "text/plain": [
       "         Ajax  Extreme Ajax   DF\n",
       "size       25            25    0\n",
       "mean      115           100   15\n",
       "variace   625           400  225"
      ]
     },
     "execution_count": 23,
     "metadata": {},
     "output_type": "execute_result"
    }
   ],
   "source": [
    "ajax = pd.DataFrame({\"Ajax\" : [25, 115, 625], \"Extreme Ajax\" : [25, 100, 400]}, index = [\"size\", \"mean\", \"variace\"])\n",
    "ajax[\"DF\"] = ajax[\"Ajax\"] - ajax[\"Extreme Ajax\"]\n",
    "ajax"
   ]
  },
  {
   "cell_type": "markdown",
   "id": "ba139c0b",
   "metadata": {},
   "source": [
    "The difference of the variances of two population can be measured with a subtraction, let's change that"
   ]
  },
  {
   "cell_type": "code",
   "execution_count": 24,
   "id": "9144c1bf",
   "metadata": {},
   "outputs": [
    {
     "data": {
      "text/plain": [
       "6.4"
      ]
     },
     "execution_count": 24,
     "metadata": {},
     "output_type": "execute_result"
    }
   ],
   "source": [
    "round(np.sqrt((625 / 25) + (400 / 25)), 2)"
   ]
  },
  {
   "cell_type": "code",
   "execution_count": 25,
   "id": "0baf6f04",
   "metadata": {},
   "outputs": [],
   "source": [
    "ajax.iloc[2, 2] = round(np.sqrt((625 / 25) + (400 / 25)), 2)"
   ]
  },
  {
   "cell_type": "code",
   "execution_count": 26,
   "id": "33406d21",
   "metadata": {},
   "outputs": [
    {
     "data": {
      "text/html": [
       "<div>\n",
       "<style scoped>\n",
       "    .dataframe tbody tr th:only-of-type {\n",
       "        vertical-align: middle;\n",
       "    }\n",
       "\n",
       "    .dataframe tbody tr th {\n",
       "        vertical-align: top;\n",
       "    }\n",
       "\n",
       "    .dataframe thead th {\n",
       "        text-align: right;\n",
       "    }\n",
       "</style>\n",
       "<table border=\"1\" class=\"dataframe\">\n",
       "  <thead>\n",
       "    <tr style=\"text-align: right;\">\n",
       "      <th></th>\n",
       "      <th>Ajax</th>\n",
       "      <th>Extreme Ajax</th>\n",
       "      <th>DF</th>\n",
       "    </tr>\n",
       "  </thead>\n",
       "  <tbody>\n",
       "    <tr>\n",
       "      <th>size</th>\n",
       "      <td>25</td>\n",
       "      <td>25</td>\n",
       "      <td>0.0</td>\n",
       "    </tr>\n",
       "    <tr>\n",
       "      <th>mean</th>\n",
       "      <td>115</td>\n",
       "      <td>100</td>\n",
       "      <td>15.0</td>\n",
       "    </tr>\n",
       "    <tr>\n",
       "      <th>variace</th>\n",
       "      <td>625</td>\n",
       "      <td>400</td>\n",
       "      <td>6.4</td>\n",
       "    </tr>\n",
       "  </tbody>\n",
       "</table>\n",
       "</div>"
      ],
      "text/plain": [
       "         Ajax  Extreme Ajax    DF\n",
       "size       25            25   0.0\n",
       "mean      115           100  15.0\n",
       "variace   625           400   6.4"
      ]
     },
     "execution_count": 26,
     "metadata": {},
     "output_type": "execute_result"
    }
   ],
   "source": [
    "ajax"
   ]
  },
  {
   "cell_type": "markdown",
   "id": "a451dc96",
   "metadata": {},
   "source": [
    "**STD of the two samples**"
   ]
  },
  {
   "cell_type": "code",
   "execution_count": 27,
   "id": "6d8673eb",
   "metadata": {},
   "outputs": [
    {
     "data": {
      "text/plain": [
       "25.0"
      ]
     },
     "execution_count": 27,
     "metadata": {},
     "output_type": "execute_result"
    }
   ],
   "source": [
    "np.sqrt(625)"
   ]
  },
  {
   "cell_type": "code",
   "execution_count": 28,
   "id": "a6974b07",
   "metadata": {},
   "outputs": [
    {
     "data": {
      "text/plain": [
       "20.0"
      ]
     },
     "execution_count": 28,
     "metadata": {},
     "output_type": "execute_result"
    }
   ],
   "source": [
    "np.sqrt(400)"
   ]
  },
  {
   "cell_type": "markdown",
   "id": "9da50796",
   "metadata": {},
   "source": [
    "**H0: ajax mean dishes cleaned - extreme ajax+ dishes cleaned > 0**"
   ]
  },
  {
   "cell_type": "markdown",
   "id": "b53343ab",
   "metadata": {},
   "source": [
    "**Z score**"
   ]
  },
  {
   "cell_type": "code",
   "execution_count": 29,
   "id": "fa224e06",
   "metadata": {},
   "outputs": [
    {
     "data": {
      "text/plain": [
       "2.34"
      ]
     },
     "execution_count": 29,
     "metadata": {},
     "output_type": "execute_result"
    }
   ],
   "source": [
    "Z_score = round((115 - 100) / np.sqrt((625 / 25) + (400 / 25)), 2)\n",
    "Z_score"
   ]
  },
  {
   "cell_type": "markdown",
   "id": "29d96411",
   "metadata": {},
   "source": [
    "**The P value in this case is 0.010**"
   ]
  },
  {
   "cell_type": "markdown",
   "id": "635476c5",
   "metadata": {},
   "source": [
    "1. 0.010 < 0.10 reject H0 \n",
    "2. 0.010 < 0.05 reject H0 \n",
    "3. 0.010 == 0.01 accept H0 at 1% confidence level we accept that extreme ajax+ clean more dishes per bottle"
   ]
  },
  {
   "cell_type": "markdown",
   "id": "e4399d81",
   "metadata": {},
   "source": [
    "# S11_L67"
   ]
  },
  {
   "attachments": {},
   "cell_type": "markdown",
   "id": "dea59667",
   "metadata": {},
   "source": [
    "You have data on the amount of times people click on a pop-up add on 24 Mondays and 21 Saturdays on an e-learning platform for several years. \n",
    "\n",
    "The samples are drawn independently.\t\t\t\t\t\t\t\t\t\t\t\t\t\t\t\t\t\t\t\n",
    "\t\t\t\t\t\t\t\t\t\t\t\t\t\t\t\t\t\t\t\t\n",
    "Task Statistically speaking, is there strong evidence that the number of clicks the add records on Mondays is higher than the number of clicks on Saturdays? \t\t\t\t\t\t\t\t\t\t\t\t"
   ]
  },
  {
   "cell_type": "code",
   "execution_count": 32,
   "id": "1c0b185a",
   "metadata": {},
   "outputs": [
    {
     "data": {
      "text/html": [
       "<div>\n",
       "<style scoped>\n",
       "    .dataframe tbody tr th:only-of-type {\n",
       "        vertical-align: middle;\n",
       "    }\n",
       "\n",
       "    .dataframe tbody tr th {\n",
       "        vertical-align: top;\n",
       "    }\n",
       "\n",
       "    .dataframe thead th {\n",
       "        text-align: right;\n",
       "    }\n",
       "</style>\n",
       "<table border=\"1\" class=\"dataframe\">\n",
       "  <thead>\n",
       "    <tr style=\"text-align: right;\">\n",
       "      <th></th>\n",
       "      <th>Monday</th>\n",
       "      <th>Saturday</th>\n",
       "    </tr>\n",
       "  </thead>\n",
       "  <tbody>\n",
       "    <tr>\n",
       "      <th>Mean</th>\n",
       "      <td>1078</td>\n",
       "      <td>908.2</td>\n",
       "    </tr>\n",
       "    <tr>\n",
       "      <th>STD</th>\n",
       "      <td>633</td>\n",
       "      <td>469.8</td>\n",
       "    </tr>\n",
       "    <tr>\n",
       "      <th>Sample_Size</th>\n",
       "      <td>24</td>\n",
       "      <td>21.0</td>\n",
       "    </tr>\n",
       "  </tbody>\n",
       "</table>\n",
       "</div>"
      ],
      "text/plain": [
       "             Monday  Saturday\n",
       "Mean           1078     908.2\n",
       "STD             633     469.8\n",
       "Sample_Size      24      21.0"
      ]
     },
     "execution_count": 32,
     "metadata": {},
     "output_type": "execute_result"
    }
   ],
   "source": [
    "click = pd.DataFrame({\"Monday\" : [1078, 633, 24], \"Saturday\" : [908.20, 469.80, 21]}, index = [\"Mean\", \"STD\", \"Sample_Size\"])\n",
    "click"
   ]
  },
  {
   "cell_type": "markdown",
   "id": "318fd78f",
   "metadata": {},
   "source": [
    "1. H0: mean Monday - mean Saturday =< 0\n",
    "2. H1: mean Monday - mean Saturday > 0"
   ]
  },
  {
   "cell_type": "markdown",
   "id": "99b93ab5",
   "metadata": {},
   "source": [
    "**Pooled variance formula**"
   ]
  },
  {
   "cell_type": "code",
   "execution_count": 36,
   "id": "478d5c7b",
   "metadata": {},
   "outputs": [],
   "source": [
    "variance_m = 633 ** 2\n",
    "variance_s = 469.8 ** 2"
   ]
  },
  {
   "cell_type": "code",
   "execution_count": 37,
   "id": "3a94c70c",
   "metadata": {},
   "outputs": [
    {
     "data": {
      "text/plain": [
       "400689"
      ]
     },
     "execution_count": 37,
     "metadata": {},
     "output_type": "execute_result"
    }
   ],
   "source": [
    "variance_m"
   ]
  },
  {
   "cell_type": "code",
   "execution_count": 38,
   "id": "6e98670c",
   "metadata": {},
   "outputs": [
    {
     "data": {
      "text/plain": [
       "220712.04"
      ]
     },
     "execution_count": 38,
     "metadata": {},
     "output_type": "execute_result"
    }
   ],
   "source": [
    "variance_s"
   ]
  },
  {
   "cell_type": "code",
   "execution_count": 41,
   "id": "6fa52191",
   "metadata": {},
   "outputs": [
    {
     "data": {
      "text/plain": [
       "316978.79"
      ]
     },
     "execution_count": 41,
     "metadata": {},
     "output_type": "execute_result"
    }
   ],
   "source": [
    "pooled = round(((24 - 1) * (variance_m) + (21 - 1) * (variance_s)) / (24 + 21 - 2), 2)\n",
    "pooled"
   ]
  },
  {
   "cell_type": "markdown",
   "id": "c3aaee28",
   "metadata": {},
   "source": [
    "**We are going to use the T score** small sample sizes and population variance unknown"
   ]
  },
  {
   "cell_type": "markdown",
   "id": "2d3af4a6",
   "metadata": {},
   "source": [
    "**Standard error**"
   ]
  },
  {
   "cell_type": "code",
   "execution_count": 44,
   "id": "31821b53",
   "metadata": {},
   "outputs": [
    {
     "data": {
      "text/plain": [
       "168.23"
      ]
     },
     "execution_count": 44,
     "metadata": {},
     "output_type": "execute_result"
    }
   ],
   "source": [
    "SE = round(np.sqrt(pooled / 24 + pooled / 21), 2)\n",
    "SE"
   ]
  },
  {
   "cell_type": "code",
   "execution_count": 47,
   "id": "7be39fe3",
   "metadata": {},
   "outputs": [
    {
     "data": {
      "text/plain": [
       "1.01"
      ]
     },
     "execution_count": 47,
     "metadata": {},
     "output_type": "execute_result"
    }
   ],
   "source": [
    "T_score = round((1078 - 908.2) / SE, 2)\n",
    "T_score"
   ]
  },
  {
   "cell_type": "markdown",
   "id": "0793f144",
   "metadata": {},
   "source": [
    "The P value is **0.16**"
   ]
  },
  {
   "attachments": {},
   "cell_type": "markdown",
   "id": "46bb3f6d",
   "metadata": {},
   "source": [
    "The p-value shows the reuslt is not significant. \t\t\t\t\t\t\t\t\n",
    "Therefore, there is no reason to assume more people click on Mondays than on Saturdays.\t\t\t\t\t\t\t\t"
   ]
  },
  {
   "cell_type": "code",
   "execution_count": null,
   "id": "f7d71ee2",
   "metadata": {},
   "outputs": [],
   "source": []
  }
 ],
 "metadata": {
  "kernelspec": {
   "display_name": "Python 3 (ipykernel)",
   "language": "python",
   "name": "python3"
  },
  "language_info": {
   "codemirror_mode": {
    "name": "ipython",
    "version": 3
   },
   "file_extension": ".py",
   "mimetype": "text/x-python",
   "name": "python",
   "nbconvert_exporter": "python",
   "pygments_lexer": "ipython3",
   "version": "3.11.4"
  }
 },
 "nbformat": 4,
 "nbformat_minor": 5
}
