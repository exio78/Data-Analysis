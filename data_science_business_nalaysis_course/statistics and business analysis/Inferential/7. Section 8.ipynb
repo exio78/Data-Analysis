{
 "cells": [
  {
   "cell_type": "code",
   "execution_count": 1,
   "id": "d2da95d5",
   "metadata": {},
   "outputs": [],
   "source": [
    "import pandas as pd\n",
    "import numpy as np\n",
    "import matplotlib.pyplot as plt\n",
    "%matplotlib inline"
   ]
  },
  {
   "cell_type": "markdown",
   "id": "0a586d45",
   "metadata": {},
   "source": [
    "# **S8_L45**"
   ]
  },
  {
   "cell_type": "markdown",
   "id": "9ef7d3a0",
   "metadata": {},
   "source": [
    "The 365 team has developed a diet and an exercise program for losing weight. It seems that it works like a charm. However, you are interested in how much weight are you likely to lose.\n",
    "\n",
    "You have a sample of 10 people who have already completed the 12-week program. The second sheet in shows the data in kg, if you feel more comfortable using kg as a unit of measurement\t\n",
    "\n",
    "1. Calculate the mean and standard deviation of the dataset\t\t\t\t\t\t\t\t\t\t\t\t\n",
    "2. Determine the appropriate statistic to use\t\t\t\t\t\t\t\t\t\t\t\t\n",
    "3. Calculate the 95% confidence interval\t\t\t\t\t\t\t\t\t\t\t\t\n",
    "4. Interpret the result\t\t\t\t\t\t\t\t\t\t\t\t\n",
    "\n",
    "You can try to calculate the 90% and 99% confidence intervals to see the difference. There is no solution provided for these cases. \t\t\t\t\t\t\t\t\t\t\t\t"
   ]
  },
  {
   "cell_type": "code",
   "execution_count": 2,
   "id": "625a5f44",
   "metadata": {},
   "outputs": [
    {
     "data": {
      "text/html": [
       "<div>\n",
       "<style scoped>\n",
       "    .dataframe tbody tr th:only-of-type {\n",
       "        vertical-align: middle;\n",
       "    }\n",
       "\n",
       "    .dataframe tbody tr th {\n",
       "        vertical-align: top;\n",
       "    }\n",
       "\n",
       "    .dataframe thead th {\n",
       "        text-align: right;\n",
       "    }\n",
       "</style>\n",
       "<table border=\"1\" class=\"dataframe\">\n",
       "  <thead>\n",
       "    <tr style=\"text-align: right;\">\n",
       "      <th></th>\n",
       "      <th>Weight before (lbs)</th>\n",
       "      <th>Weight after (lbs)</th>\n",
       "      <th>Difference</th>\n",
       "    </tr>\n",
       "    <tr>\n",
       "      <th>Subject</th>\n",
       "      <th></th>\n",
       "      <th></th>\n",
       "      <th></th>\n",
       "    </tr>\n",
       "  </thead>\n",
       "  <tbody>\n",
       "    <tr>\n",
       "      <th>1</th>\n",
       "      <td>228.575273</td>\n",
       "      <td>204.743303</td>\n",
       "      <td>-23.831971</td>\n",
       "    </tr>\n",
       "    <tr>\n",
       "      <th>2</th>\n",
       "      <td>244.007632</td>\n",
       "      <td>223.945566</td>\n",
       "      <td>-20.062066</td>\n",
       "    </tr>\n",
       "    <tr>\n",
       "      <th>3</th>\n",
       "      <td>262.460323</td>\n",
       "      <td>232.940426</td>\n",
       "      <td>-29.519897</td>\n",
       "    </tr>\n",
       "    <tr>\n",
       "      <th>4</th>\n",
       "      <td>224.320352</td>\n",
       "      <td>212.040604</td>\n",
       "      <td>-12.279748</td>\n",
       "    </tr>\n",
       "    <tr>\n",
       "      <th>5</th>\n",
       "      <td>202.141848</td>\n",
       "      <td>191.736029</td>\n",
       "      <td>-10.405819</td>\n",
       "    </tr>\n",
       "    <tr>\n",
       "      <th>6</th>\n",
       "      <td>246.983872</td>\n",
       "      <td>233.469535</td>\n",
       "      <td>-13.514337</td>\n",
       "    </tr>\n",
       "    <tr>\n",
       "      <th>7</th>\n",
       "      <td>195.858674</td>\n",
       "      <td>177.604398</td>\n",
       "      <td>-18.254275</td>\n",
       "    </tr>\n",
       "    <tr>\n",
       "      <th>8</th>\n",
       "      <td>231.882207</td>\n",
       "      <td>213.848394</td>\n",
       "      <td>-18.033813</td>\n",
       "    </tr>\n",
       "    <tr>\n",
       "      <th>9</th>\n",
       "      <td>243.324199</td>\n",
       "      <td>218.852887</td>\n",
       "      <td>-24.471311</td>\n",
       "    </tr>\n",
       "    <tr>\n",
       "      <th>10</th>\n",
       "      <td>266.737291</td>\n",
       "      <td>236.864654</td>\n",
       "      <td>-29.872637</td>\n",
       "    </tr>\n",
       "  </tbody>\n",
       "</table>\n",
       "</div>"
      ],
      "text/plain": [
       "         Weight before (lbs)  Weight after (lbs)  Difference\n",
       "Subject                                                     \n",
       "1                 228.575273          204.743303  -23.831971\n",
       "2                 244.007632          223.945566  -20.062066\n",
       "3                 262.460323          232.940426  -29.519897\n",
       "4                 224.320352          212.040604  -12.279748\n",
       "5                 202.141848          191.736029  -10.405819\n",
       "6                 246.983872          233.469535  -13.514337\n",
       "7                 195.858674          177.604398  -18.254275\n",
       "8                 231.882207          213.848394  -18.033813\n",
       "9                 243.324199          218.852887  -24.471311\n",
       "10                266.737291          236.864654  -29.872637"
      ]
     },
     "execution_count": 2,
     "metadata": {},
     "output_type": "execute_result"
    }
   ],
   "source": [
    "subjects = pd.read_excel(\"S8_L45\\\\subjects.xlsx\", index_col = \"Subject\")\n",
    "subjects"
   ]
  },
  {
   "cell_type": "markdown",
   "id": "9446c7b8",
   "metadata": {},
   "source": [
    "# 1"
   ]
  },
  {
   "cell_type": "code",
   "execution_count": 3,
   "id": "53b2cd70",
   "metadata": {},
   "outputs": [
    {
     "data": {
      "text/plain": [
       "-20.024587257460006"
      ]
     },
     "execution_count": 3,
     "metadata": {},
     "output_type": "execute_result"
    }
   ],
   "source": [
    "subjects[\"Difference\"].mean()"
   ]
  },
  {
   "cell_type": "code",
   "execution_count": 4,
   "id": "53657434",
   "metadata": {},
   "outputs": [],
   "source": [
    "mean = subjects[\"Difference\"].mean()"
   ]
  },
  {
   "cell_type": "code",
   "execution_count": 5,
   "id": "141956f0",
   "metadata": {},
   "outputs": [
    {
     "data": {
      "text/plain": [
       "6.858892810864106"
      ]
     },
     "execution_count": 5,
     "metadata": {},
     "output_type": "execute_result"
    }
   ],
   "source": [
    "subjects[\"Difference\"].std()"
   ]
  },
  {
   "cell_type": "code",
   "execution_count": 6,
   "id": "bffe29e4",
   "metadata": {},
   "outputs": [],
   "source": [
    "std = subjects[\"Difference\"].std()"
   ]
  },
  {
   "cell_type": "code",
   "execution_count": 7,
   "id": "aa5d6ebc",
   "metadata": {},
   "outputs": [],
   "source": [
    "standard_error = std / np.sqrt(len(subjects[\"Difference\"]))"
   ]
  },
  {
   "cell_type": "markdown",
   "id": "37c3bb1a",
   "metadata": {},
   "source": [
    "# 2"
   ]
  },
  {
   "cell_type": "markdown",
   "id": "5e393705",
   "metadata": {},
   "source": [
    "T statistics: \n",
    "1. Population variance is unknown\t\t\n",
    "2. We have a small sample\t\t\n",
    "3. We assume that the population is normally distributed\t\t\t"
   ]
  },
  {
   "cell_type": "markdown",
   "id": "10919410",
   "metadata": {},
   "source": [
    "# 3. 95% confidence interval "
   ]
  },
  {
   "cell_type": "code",
   "execution_count": 8,
   "id": "c44796a6",
   "metadata": {},
   "outputs": [],
   "source": [
    "interval = [mean + 2.26 * standard_error, mean - 2.26 * standard_error]"
   ]
  },
  {
   "cell_type": "code",
   "execution_count": 9,
   "id": "fb3838e3",
   "metadata": {},
   "outputs": [
    {
     "data": {
      "text/plain": [
       "[-15.122709744361583, -24.92646477055843]"
      ]
     },
     "execution_count": 9,
     "metadata": {},
     "output_type": "execute_result"
    }
   ],
   "source": [
    "interval"
   ]
  },
  {
   "cell_type": "code",
   "execution_count": 10,
   "id": "e30daf92",
   "metadata": {},
   "outputs": [
    {
     "data": {
      "image/png": "[encoded data removed]",
      "text/plain": [
       "<Figure size 640x480 with 1 Axes>"
      ]
     },
     "metadata": {},
     "output_type": "display_data"
    }
   ],
   "source": [
    "plt.hist(subjects[\"Difference\"], color = \"#0652DD\", edgecolor = \"#f5f6fa\", bins = 5)\n",
    "plt.axvline(interval[0], color = \"#EA2027\")\n",
    "plt.axvline(interval[1], color = \"#EA2027\")\n",
    "plt.show()"
   ]
  },
  {
   "cell_type": "markdown",
   "id": "4d1bf504",
   "metadata": {},
   "source": [
    "# 4"
   ]
  },
  {
   "cell_type": "markdown",
   "id": "680b01ec",
   "metadata": {},
   "source": [
    "You are 95% confident that you will lose between 24.93lbs and 15.12lbs,\t\n",
    "given that you follow the program as strict as the sample."
   ]
  },
  {
   "cell_type": "code",
   "execution_count": 11,
   "id": "314f5ef6",
   "metadata": {},
   "outputs": [],
   "source": [
    "interval2 = [mean + 1.83 * standard_error, mean - 1.83 * standard_error] # 90% confidence interval"
   ]
  },
  {
   "cell_type": "code",
   "execution_count": 12,
   "id": "1cc096d3",
   "metadata": {},
   "outputs": [
    {
     "data": {
      "image/png": "[encoded data removed]",
      "text/plain": [
       "<Figure size 640x480 with 1 Axes>"
      ]
     },
     "metadata": {},
     "output_type": "display_data"
    }
   ],
   "source": [
    "plt.hist(subjects[\"Difference\"], color = \"#3c40c6\", edgecolor = \"#f5f6fa\", bins = 5)\n",
    "plt.axvline(interval2[0], color = \"#f53b57\")\n",
    "plt.axvline(interval2[1], color = \"#f53b57\")\n",
    "plt.show()"
   ]
  },
  {
   "cell_type": "code",
   "execution_count": 13,
   "id": "d05561e4",
   "metadata": {},
   "outputs": [],
   "source": [
    "interval3 = [mean + 3.25 * standard_error, mean - 3.25 * standard_error] # 99% confidence interval"
   ]
  },
  {
   "cell_type": "code",
   "execution_count": 14,
   "id": "6f5130f2",
   "metadata": {},
   "outputs": [
    {
     "data": {
      "image/png": "[encoded data removed]",
      "text/plain": [
       "<Figure size 640x480 with 1 Axes>"
      ]
     },
     "metadata": {},
     "output_type": "display_data"
    }
   ],
   "source": [
    "plt.hist(subjects[\"Difference\"], color = \"#3c40c6\", edgecolor = \"#f5f6fa\", bins = 5)\n",
    "plt.axvline(interval3[0], color = \"#f53b57\")\n",
    "plt.axvline(interval3[1], color = \"#f53b57\")\n",
    "plt.show()"
   ]
  },
  {
   "cell_type": "markdown",
   "id": "ae490e5f",
   "metadata": {},
   "source": [
    "# S8_L47"
   ]
  },
  {
   "cell_type": "markdown",
   "id": "664c3ad7",
   "metadata": {},
   "source": [
    "You have the dataset from the lesson.\t\t\t\t\n",
    "\n",
    "1. Calculate the 99% confidence interval\t\t\t\t\n",
    "2. Compare it to the 95% confidence interval from the lesson\t\t\t\t"
   ]
  },
  {
   "cell_type": "code",
   "execution_count": 15,
   "id": "b9c7c7fd",
   "metadata": {},
   "outputs": [],
   "source": [
    "grades = pd.read_excel(\"S8_L47\\\\grades.xlsx\")\n",
    "grades = grades.rename(columns = {\"Unnamed: 0\" : \"Parameters\"})\n",
    "grades.index.name = \"Index\""
   ]
  },
  {
   "cell_type": "code",
   "execution_count": 16,
   "id": "09b53b3d",
   "metadata": {},
   "outputs": [
    {
     "data": {
      "text/html": [
       "<div>\n",
       "<style scoped>\n",
       "    .dataframe tbody tr th:only-of-type {\n",
       "        vertical-align: middle;\n",
       "    }\n",
       "\n",
       "    .dataframe tbody tr th {\n",
       "        vertical-align: top;\n",
       "    }\n",
       "\n",
       "    .dataframe thead th {\n",
       "        text-align: right;\n",
       "    }\n",
       "</style>\n",
       "<table border=\"1\" class=\"dataframe\">\n",
       "  <thead>\n",
       "    <tr style=\"text-align: right;\">\n",
       "      <th></th>\n",
       "      <th>Parameters</th>\n",
       "      <th>Engineering</th>\n",
       "      <th>Management</th>\n",
       "      <th>Difference</th>\n",
       "    </tr>\n",
       "    <tr>\n",
       "      <th>Index</th>\n",
       "      <th></th>\n",
       "      <th></th>\n",
       "      <th></th>\n",
       "      <th></th>\n",
       "    </tr>\n",
       "  </thead>\n",
       "  <tbody>\n",
       "    <tr>\n",
       "      <th>0</th>\n",
       "      <td>Size</td>\n",
       "      <td>100</td>\n",
       "      <td>70</td>\n",
       "      <td>NaN</td>\n",
       "    </tr>\n",
       "    <tr>\n",
       "      <th>1</th>\n",
       "      <td>Sample mean</td>\n",
       "      <td>58</td>\n",
       "      <td>65</td>\n",
       "      <td>-7.000000</td>\n",
       "    </tr>\n",
       "    <tr>\n",
       "      <th>2</th>\n",
       "      <td>Population std</td>\n",
       "      <td>10</td>\n",
       "      <td>5</td>\n",
       "      <td>1.164965</td>\n",
       "    </tr>\n",
       "  </tbody>\n",
       "</table>\n",
       "</div>"
      ],
      "text/plain": [
       "           Parameters  Engineering  Management  Difference\n",
       "Index                                                     \n",
       "0                Size          100          70         NaN\n",
       "1         Sample mean           58          65   -7.000000\n",
       "2      Population std           10           5    1.164965"
      ]
     },
     "execution_count": 16,
     "metadata": {},
     "output_type": "execute_result"
    }
   ],
   "source": [
    "grades"
   ]
  },
  {
   "cell_type": "markdown",
   "id": "956fa555",
   "metadata": {},
   "source": [
    "**99% confidence interval**"
   ]
  },
  {
   "cell_type": "code",
   "execution_count": 17,
   "id": "6b6add6f",
   "metadata": {},
   "outputs": [
    {
     "data": {
      "text/plain": [
       "-7"
      ]
     },
     "execution_count": 17,
     "metadata": {},
     "output_type": "execute_result"
    }
   ],
   "source": [
    "mean_difference = grades.loc[1, \"Engineering\"] - grades.loc[1, \"Management\"]\n",
    "mean_difference"
   ]
  },
  {
   "cell_type": "code",
   "execution_count": 18,
   "id": "e4ee8abb",
   "metadata": {},
   "outputs": [
    {
     "data": {
      "text/plain": [
       "1.36"
      ]
     },
     "execution_count": 18,
     "metadata": {},
     "output_type": "execute_result"
    }
   ],
   "source": [
    "std_difference = (grades.loc[2, \"Engineering\"] ** 2 / grades.loc[0, \"Engineering\"]\n",
    "                  + \n",
    "                  grades.loc[2, \"Management\"] ** 2 / grades.loc[0, \"Management\"])\n",
    "\n",
    "std_difference = round(std_difference, 2)\n",
    "std_difference"
   ]
  },
  {
   "cell_type": "code",
   "execution_count": 19,
   "id": "1263cb3a",
   "metadata": {},
   "outputs": [],
   "source": [
    "interval_grades = [round(mean_difference - 2.58 * np.sqrt(std_difference), 2), \n",
    "                   round(mean_difference + 2.58 * np.sqrt(std_difference), 2)]"
   ]
  },
  {
   "cell_type": "code",
   "execution_count": 20,
   "id": "5ad875ab",
   "metadata": {},
   "outputs": [
    {
     "data": {
      "text/plain": [
       "[-10.01, -3.99]"
      ]
     },
     "execution_count": 20,
     "metadata": {},
     "output_type": "execute_result"
    }
   ],
   "source": [
    "interval_grades"
   ]
  },
  {
   "cell_type": "markdown",
   "id": "0bacddae",
   "metadata": {},
   "source": [
    "**95% interval**"
   ]
  },
  {
   "cell_type": "code",
   "execution_count": 21,
   "id": "3ffb67de",
   "metadata": {},
   "outputs": [],
   "source": [
    "interval_grades_95 = [round(mean_difference - 1.96 * np.sqrt(std_difference), 2), \n",
    "                   round(mean_difference + 1.96 * np.sqrt(std_difference), 2)]"
   ]
  },
  {
   "cell_type": "code",
   "execution_count": 22,
   "id": "88fb066d",
   "metadata": {},
   "outputs": [
    {
     "data": {
      "text/plain": [
       "[-9.29, -4.71]"
      ]
     },
     "execution_count": 22,
     "metadata": {},
     "output_type": "execute_result"
    }
   ],
   "source": [
    "interval_grades_95"
   ]
  },
  {
   "cell_type": "markdown",
   "id": "fbd539bb",
   "metadata": {},
   "source": [
    "# S8_L49"
   ]
  },
  {
   "cell_type": "markdown",
   "id": "ec087642",
   "metadata": {},
   "source": [
    "You have the same datasets from the lesson.\t\t\t\t\t\t\n",
    "\n",
    "1. Calculate the 90% confidence interval\t\t\t\t\t\t\n",
    "2. Compare the result with the 95% confidence interval from the lesson\t\t\t\t\t"
   ]
  },
  {
   "cell_type": "code",
   "execution_count": 23,
   "id": "5710f24c",
   "metadata": {},
   "outputs": [
    {
     "data": {
      "text/html": [
       "<div>\n",
       "<style scoped>\n",
       "    .dataframe tbody tr th:only-of-type {\n",
       "        vertical-align: middle;\n",
       "    }\n",
       "\n",
       "    .dataframe tbody tr th {\n",
       "        vertical-align: top;\n",
       "    }\n",
       "\n",
       "    .dataframe thead th {\n",
       "        text-align: right;\n",
       "    }\n",
       "</style>\n",
       "<table border=\"1\" class=\"dataframe\">\n",
       "  <thead>\n",
       "    <tr style=\"text-align: right;\">\n",
       "      <th></th>\n",
       "      <th>NY apples</th>\n",
       "      <th>LA apples</th>\n",
       "    </tr>\n",
       "  </thead>\n",
       "  <tbody>\n",
       "    <tr>\n",
       "      <th>0</th>\n",
       "      <td>3.80</td>\n",
       "      <td>3.02</td>\n",
       "    </tr>\n",
       "    <tr>\n",
       "      <th>1</th>\n",
       "      <td>3.76</td>\n",
       "      <td>3.22</td>\n",
       "    </tr>\n",
       "    <tr>\n",
       "      <th>2</th>\n",
       "      <td>3.87</td>\n",
       "      <td>3.24</td>\n",
       "    </tr>\n",
       "    <tr>\n",
       "      <th>3</th>\n",
       "      <td>3.99</td>\n",
       "      <td>3.02</td>\n",
       "    </tr>\n",
       "    <tr>\n",
       "      <th>4</th>\n",
       "      <td>4.02</td>\n",
       "      <td>3.06</td>\n",
       "    </tr>\n",
       "    <tr>\n",
       "      <th>5</th>\n",
       "      <td>4.25</td>\n",
       "      <td>3.15</td>\n",
       "    </tr>\n",
       "    <tr>\n",
       "      <th>6</th>\n",
       "      <td>4.13</td>\n",
       "      <td>3.81</td>\n",
       "    </tr>\n",
       "    <tr>\n",
       "      <th>7</th>\n",
       "      <td>3.98</td>\n",
       "      <td>3.44</td>\n",
       "    </tr>\n",
       "    <tr>\n",
       "      <th>8</th>\n",
       "      <td>3.99</td>\n",
       "      <td>NaN</td>\n",
       "    </tr>\n",
       "    <tr>\n",
       "      <th>9</th>\n",
       "      <td>3.62</td>\n",
       "      <td>NaN</td>\n",
       "    </tr>\n",
       "  </tbody>\n",
       "</table>\n",
       "</div>"
      ],
      "text/plain": [
       "   NY apples  LA apples\n",
       "0       3.80       3.02\n",
       "1       3.76       3.22\n",
       "2       3.87       3.24\n",
       "3       3.99       3.02\n",
       "4       4.02       3.06\n",
       "5       4.25       3.15\n",
       "6       4.13       3.81\n",
       "7       3.98       3.44\n",
       "8       3.99        NaN\n",
       "9       3.62        NaN"
      ]
     },
     "execution_count": 23,
     "metadata": {},
     "output_type": "execute_result"
    }
   ],
   "source": [
    "apples = pd.read_excel(\"S8_L49\\\\apples.xlsx\")\n",
    "apples"
   ]
  },
  {
   "cell_type": "code",
   "execution_count": 24,
   "id": "6ff402fd",
   "metadata": {},
   "outputs": [
    {
     "data": {
      "text/plain": [
       "0.18"
      ]
     },
     "execution_count": 24,
     "metadata": {},
     "output_type": "execute_result"
    }
   ],
   "source": [
    "std_x = apples[\"NY apples\"].std()\n",
    "std_x = round(std_x, 2)\n",
    "std_x"
   ]
  },
  {
   "cell_type": "code",
   "execution_count": 25,
   "id": "9aea8859",
   "metadata": {},
   "outputs": [
    {
     "data": {
      "text/plain": [
       "0.27"
      ]
     },
     "execution_count": 25,
     "metadata": {},
     "output_type": "execute_result"
    }
   ],
   "source": [
    "std_y = apples[\"LA apples\"].std()\n",
    "std_y = round(std_y, 2)\n",
    "std_y"
   ]
  },
  {
   "cell_type": "code",
   "execution_count": 26,
   "id": "75327185",
   "metadata": {},
   "outputs": [
    {
     "data": {
      "text/plain": [
       "10"
      ]
     },
     "execution_count": 26,
     "metadata": {},
     "output_type": "execute_result"
    }
   ],
   "source": [
    "n_x = len(apples[\"NY apples\"])\n",
    "n_x"
   ]
  },
  {
   "cell_type": "code",
   "execution_count": 27,
   "id": "d00d2b4c",
   "metadata": {},
   "outputs": [
    {
     "data": {
      "text/plain": [
       "8"
      ]
     },
     "execution_count": 27,
     "metadata": {},
     "output_type": "execute_result"
    }
   ],
   "source": [
    "n_y = len(apples[\"LA apples\"]) - apples[\"LA apples\"].isnull().sum()\n",
    "n_y"
   ]
  },
  {
   "cell_type": "code",
   "execution_count": 28,
   "id": "00c14718",
   "metadata": {},
   "outputs": [
    {
     "data": {
      "text/plain": [
       "3.94"
      ]
     },
     "execution_count": 28,
     "metadata": {},
     "output_type": "execute_result"
    }
   ],
   "source": [
    "mean_x = apples[\"NY apples\"].mean()\n",
    "mean_x = round(mean_x, 2)\n",
    "mean_x"
   ]
  },
  {
   "cell_type": "code",
   "execution_count": 29,
   "id": "78c2ae51",
   "metadata": {},
   "outputs": [
    {
     "data": {
      "text/plain": [
       "3.24"
      ]
     },
     "execution_count": 29,
     "metadata": {},
     "output_type": "execute_result"
    }
   ],
   "source": [
    "mean_y = apples[\"LA apples\"].mean()\n",
    "mean_y = round(mean_y, 2)\n",
    "mean_y"
   ]
  },
  {
   "cell_type": "markdown",
   "id": "d1df221b",
   "metadata": {},
   "source": [
    "Applying the pooled variance formula "
   ]
  },
  {
   "cell_type": "code",
   "execution_count": 30,
   "id": "15a6fb92",
   "metadata": {},
   "outputs": [
    {
     "data": {
      "text/plain": [
       "0.05"
      ]
     },
     "execution_count": 30,
     "metadata": {},
     "output_type": "execute_result"
    }
   ],
   "source": [
    "pooled = ((n_x - 1) * std_x ** 2 + (n_y - 1) * std_y ** 2) / (n_x + n_y - 2)\n",
    "\n",
    "pooled = round(pooled, 2)\n",
    "pooled"
   ]
  },
  {
   "cell_type": "code",
   "execution_count": 31,
   "id": "a114b0ce",
   "metadata": {},
   "outputs": [
    {
     "data": {
      "text/plain": [
       "0.22"
      ]
     },
     "execution_count": 31,
     "metadata": {},
     "output_type": "execute_result"
    }
   ],
   "source": [
    "std_pooled = round(np.sqrt(pooled), 2)\n",
    "std_pooled"
   ]
  },
  {
   "cell_type": "code",
   "execution_count": 48,
   "id": "284872b2",
   "metadata": {},
   "outputs": [],
   "source": [
    "confidence_interval = [round((mean_x - mean_y) - 1.75 * np.sqrt(pooled / n_x + pooled / n_y), 2), \n",
    "                       round((mean_x - mean_y) + 1.75 * np.sqrt(pooled / n_y + pooled / n_y), 3)]"
   ]
  },
  {
   "cell_type": "code",
   "execution_count": 51,
   "id": "c4fefbfd",
   "metadata": {},
   "outputs": [
    {
     "data": {
      "text/plain": [
       "[0.51, 0.896]"
      ]
     },
     "execution_count": 51,
     "metadata": {},
     "output_type": "execute_result"
    }
   ],
   "source": [
    "confidence_interval # this is the 90% confidence interval "
   ]
  },
  {
   "cell_type": "code",
   "execution_count": 52,
   "id": "84a32bbb",
   "metadata": {},
   "outputs": [],
   "source": [
    "confidence_interval2 = [round((mean_x - mean_y) - 2.12 * np.sqrt(pooled / n_x + pooled / n_y), 2), \n",
    "                       round((mean_x - mean_y) + 2.12 * np.sqrt(pooled / n_y + pooled / n_y), 3)]"
   ]
  },
  {
   "cell_type": "code",
   "execution_count": 54,
   "id": "8ab39790",
   "metadata": {},
   "outputs": [
    {
     "data": {
      "text/plain": [
       "[0.48, 0.937]"
      ]
     },
     "execution_count": 54,
     "metadata": {},
     "output_type": "execute_result"
    }
   ],
   "source": [
    "confidence_interval2 # this is the 95% confidence interval"
   ]
  },
  {
   "attachments": {},
   "cell_type": "markdown",
   "id": "a7c01c3c",
   "metadata": {},
   "source": [
    "A lower confidence results in a narrower interval (see Margin of error lesson)"
   ]
  },
  {
   "cell_type": "code",
   "execution_count": null,
   "id": "4e58c1f1",
   "metadata": {},
   "outputs": [],
   "source": []
  }
 ],
 "metadata": {
  "kernelspec": {
   "display_name": "Python 3 (ipykernel)",
   "language": "python",
   "name": "python3"
  },
  "language_info": {
   "codemirror_mode": {
    "name": "ipython",
    "version": 3
   },
   "file_extension": ".py",
   "mimetype": "text/x-python",
   "name": "python",
   "nbconvert_exporter": "python",
   "pygments_lexer": "ipython3",
   "version": "3.11.4"
  }
 },
 "nbformat": 4,
 "nbformat_minor": 5
}
