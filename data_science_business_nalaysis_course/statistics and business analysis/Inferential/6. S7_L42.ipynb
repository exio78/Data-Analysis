{
 "cells": [
  {
   "cell_type": "code",
   "execution_count": 7,
   "id": "3ef32899",
   "metadata": {},
   "outputs": [],
   "source": [
    "import pandas as pd\n",
    "import numpy as np"
   ]
  },
  {
   "cell_type": "markdown",
   "id": "9179815a",
   "metadata": {},
   "source": [
    "# **S7_L42**"
   ]
  },
  {
   "attachments": {},
   "cell_type": "markdown",
   "id": "1b14d9a9",
   "metadata": {},
   "source": [
    "You are given the dataset from the lesson\t\t\t\t\t\t\t\t\t\n",
    "\n",
    "1. Calculate the mean and the standard error of the dataset\t\t\t\t\t\t\t\t\t\n",
    "2. Determine which statistic to use for inference\t\t\t\t\t\t\t\t\t\n",
    "3. Find the appropriate statistic, taking into consideration the degrees of freedom (if applicable) for 99% confidence\t\t\t\t\t\t\t\t\t\n",
    "4. Find the 99% confidence interval\t\t\t\t\t\t\t\t\t"
   ]
  },
  {
   "cell_type": "code",
   "execution_count": 4,
   "id": "17b89ca0",
   "metadata": {},
   "outputs": [],
   "source": [
    "dataset = pd.read_excel(\"S7_L42\\\\data.xlsx\")"
   ]
  },
  {
   "cell_type": "markdown",
   "id": "1d216340",
   "metadata": {},
   "source": [
    "**mean and standard error**"
   ]
  },
  {
   "cell_type": "code",
   "execution_count": 20,
   "id": "aa2466d0",
   "metadata": {},
   "outputs": [
    {
     "data": {
      "text/plain": [
       "Dataset    92533.0\n",
       "dtype: float64"
      ]
     },
     "execution_count": 20,
     "metadata": {},
     "output_type": "execute_result"
    }
   ],
   "source": [
    "round(dataset.mean(), 0)"
   ]
  },
  {
   "cell_type": "code",
   "execution_count": 21,
   "id": "60b02c2e",
   "metadata": {},
   "outputs": [],
   "source": [
    "mean = round(dataset.mean(), 0)"
   ]
  },
  {
   "cell_type": "code",
   "execution_count": 22,
   "id": "039a83b9",
   "metadata": {},
   "outputs": [
    {
     "data": {
      "text/plain": [
       "Dataset    4644.0\n",
       "dtype: float64"
      ]
     },
     "execution_count": 22,
     "metadata": {},
     "output_type": "execute_result"
    }
   ],
   "source": [
    "round(dataset.std() / np.sqrt(len(dataset)), 0) # applied the stdandard error formula"
   ]
  },
  {
   "cell_type": "code",
   "execution_count": 23,
   "id": "b20a0dcb",
   "metadata": {},
   "outputs": [],
   "source": [
    "standard_error = round(dataset.std() / np.sqrt(len(dataset)), 0) "
   ]
  },
  {
   "cell_type": "markdown",
   "id": "f1f9f5d9",
   "metadata": {},
   "source": [
    "**Which statistic to use for inference?**"
   ]
  },
  {
   "attachments": {},
   "cell_type": "markdown",
   "id": "b09e9588",
   "metadata": {},
   "source": [
    "T statistic, Population variance is unknown\t\t\t\n",
    "We have a small sample\t\t\t\n",
    "We assume that the population is normally distributed\t\t\t\n",
    "The appropriate statistic to use is the t-statistic\t\t\t"
   ]
  },
  {
   "cell_type": "markdown",
   "id": "1ddc55d7",
   "metadata": {},
   "source": [
    "**appropiate statistic with 99% of confidence interval**"
   ]
  },
  {
   "cell_type": "code",
   "execution_count": 26,
   "id": "925256cf",
   "metadata": {},
   "outputs": [],
   "source": [
    "interval = [mean - 3.36 * standard_error, mean + 3.36 * standard_error]"
   ]
  },
  {
   "cell_type": "code",
   "execution_count": 27,
   "id": "f0a36fa5",
   "metadata": {},
   "outputs": [
    {
     "data": {
      "text/plain": [
       "[Dataset    76929.16\n",
       " dtype: float64,\n",
       " Dataset    108136.84\n",
       " dtype: float64]"
      ]
     },
     "execution_count": 27,
     "metadata": {},
     "output_type": "execute_result"
    }
   ],
   "source": [
    "interval"
   ]
  },
  {
   "cell_type": "code",
   "execution_count": null,
   "id": "2cea5cc3",
   "metadata": {},
   "outputs": [],
   "source": []
  }
 ],
 "metadata": {
  "kernelspec": {
   "display_name": "Python 3 (ipykernel)",
   "language": "python",
   "name": "python3"
  },
  "language_info": {
   "codemirror_mode": {
    "name": "ipython",
    "version": 3
   },
   "file_extension": ".py",
   "mimetype": "text/x-python",
   "name": "python",
   "nbconvert_exporter": "python",
   "pygments_lexer": "ipython3",
   "version": "3.11.4"
  }
 },
 "nbformat": 4,
 "nbformat_minor": 5
}
