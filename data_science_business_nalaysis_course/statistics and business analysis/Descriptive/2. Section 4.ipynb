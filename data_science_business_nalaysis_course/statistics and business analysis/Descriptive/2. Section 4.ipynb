{
 "cells": [
  {
   "cell_type": "markdown",
   "id": "0435073c",
   "metadata": {},
   "source": [
    "# 14/09/2023"
   ]
  },
  {
   "cell_type": "code",
   "execution_count": 32,
   "id": "e7262980",
   "metadata": {},
   "outputs": [],
   "source": [
    "import pandas as pd\n",
    "import matplotlib.pyplot as plt\n",
    "import seaborn as sns\n",
    "import numpy as np"
   ]
  },
  {
   "cell_type": "markdown",
   "id": "7c703aa3",
   "metadata": {},
   "source": [
    "# **S4_L15**"
   ]
  },
  {
   "cell_type": "code",
   "execution_count": 2,
   "id": "52d7b2b7",
   "metadata": {},
   "outputs": [
    {
     "data": {
      "text/html": [
       "<div>\n",
       "<style scoped>\n",
       "    .dataframe tbody tr th:only-of-type {\n",
       "        vertical-align: middle;\n",
       "    }\n",
       "\n",
       "    .dataframe tbody tr th {\n",
       "        vertical-align: top;\n",
       "    }\n",
       "\n",
       "    .dataframe thead th {\n",
       "        text-align: right;\n",
       "    }\n",
       "</style>\n",
       "<table border=\"1\" class=\"dataframe\">\n",
       "  <thead>\n",
       "    <tr style=\"text-align: right;\">\n",
       "      <th></th>\n",
       "      <th>Annual income</th>\n",
       "    </tr>\n",
       "  </thead>\n",
       "  <tbody>\n",
       "    <tr>\n",
       "      <th>0</th>\n",
       "      <td>62000</td>\n",
       "    </tr>\n",
       "    <tr>\n",
       "      <th>1</th>\n",
       "      <td>64000</td>\n",
       "    </tr>\n",
       "    <tr>\n",
       "      <th>2</th>\n",
       "      <td>49000</td>\n",
       "    </tr>\n",
       "    <tr>\n",
       "      <th>3</th>\n",
       "      <td>324000</td>\n",
       "    </tr>\n",
       "    <tr>\n",
       "      <th>4</th>\n",
       "      <td>1264000</td>\n",
       "    </tr>\n",
       "    <tr>\n",
       "      <th>5</th>\n",
       "      <td>54330</td>\n",
       "    </tr>\n",
       "    <tr>\n",
       "      <th>6</th>\n",
       "      <td>64000</td>\n",
       "    </tr>\n",
       "    <tr>\n",
       "      <th>7</th>\n",
       "      <td>51000</td>\n",
       "    </tr>\n",
       "    <tr>\n",
       "      <th>8</th>\n",
       "      <td>55000</td>\n",
       "    </tr>\n",
       "    <tr>\n",
       "      <th>9</th>\n",
       "      <td>48000</td>\n",
       "    </tr>\n",
       "    <tr>\n",
       "      <th>10</th>\n",
       "      <td>53000</td>\n",
       "    </tr>\n",
       "  </tbody>\n",
       "</table>\n",
       "</div>"
      ],
      "text/plain": [
       "    Annual income\n",
       "0           62000\n",
       "1           64000\n",
       "2           49000\n",
       "3          324000\n",
       "4         1264000\n",
       "5           54330\n",
       "6           64000\n",
       "7           51000\n",
       "8           55000\n",
       "9           48000\n",
       "10          53000"
      ]
     },
     "execution_count": 2,
     "metadata": {},
     "output_type": "execute_result"
    }
   ],
   "source": [
    "pd.read_excel(\"S4_L15\\\\central_tendency.xlsx\")"
   ]
  },
  {
   "cell_type": "code",
   "execution_count": 3,
   "id": "6febb852",
   "metadata": {},
   "outputs": [],
   "source": [
    "central_tendency = pd.read_excel(\"S4_L15\\\\central_tendency.xlsx\")"
   ]
  },
  {
   "cell_type": "markdown",
   "id": "7fc7bf31",
   "metadata": {},
   "source": [
    "**Mean**"
   ]
  },
  {
   "cell_type": "code",
   "execution_count": 4,
   "id": "d0b1ba06",
   "metadata": {},
   "outputs": [
    {
     "data": {
      "text/plain": [
       "Annual income    189848.0\n",
       "dtype: float64"
      ]
     },
     "execution_count": 4,
     "metadata": {},
     "output_type": "execute_result"
    }
   ],
   "source": [
    "round(central_tendency.mean())"
   ]
  },
  {
   "cell_type": "markdown",
   "id": "4c5c4d40",
   "metadata": {},
   "source": [
    "**Median**"
   ]
  },
  {
   "cell_type": "markdown",
   "id": "d0941d90",
   "metadata": {},
   "source": [
    "First we need to order it"
   ]
  },
  {
   "cell_type": "code",
   "execution_count": 5,
   "id": "a7ab8c60",
   "metadata": {},
   "outputs": [
    {
     "data": {
      "text/html": [
       "<div>\n",
       "<style scoped>\n",
       "    .dataframe tbody tr th:only-of-type {\n",
       "        vertical-align: middle;\n",
       "    }\n",
       "\n",
       "    .dataframe tbody tr th {\n",
       "        vertical-align: top;\n",
       "    }\n",
       "\n",
       "    .dataframe thead th {\n",
       "        text-align: right;\n",
       "    }\n",
       "</style>\n",
       "<table border=\"1\" class=\"dataframe\">\n",
       "  <thead>\n",
       "    <tr style=\"text-align: right;\">\n",
       "      <th></th>\n",
       "      <th>Annual income</th>\n",
       "    </tr>\n",
       "  </thead>\n",
       "  <tbody>\n",
       "    <tr>\n",
       "      <th>9</th>\n",
       "      <td>48000</td>\n",
       "    </tr>\n",
       "    <tr>\n",
       "      <th>2</th>\n",
       "      <td>49000</td>\n",
       "    </tr>\n",
       "    <tr>\n",
       "      <th>7</th>\n",
       "      <td>51000</td>\n",
       "    </tr>\n",
       "    <tr>\n",
       "      <th>10</th>\n",
       "      <td>53000</td>\n",
       "    </tr>\n",
       "    <tr>\n",
       "      <th>5</th>\n",
       "      <td>54330</td>\n",
       "    </tr>\n",
       "    <tr>\n",
       "      <th>8</th>\n",
       "      <td>55000</td>\n",
       "    </tr>\n",
       "    <tr>\n",
       "      <th>0</th>\n",
       "      <td>62000</td>\n",
       "    </tr>\n",
       "    <tr>\n",
       "      <th>1</th>\n",
       "      <td>64000</td>\n",
       "    </tr>\n",
       "    <tr>\n",
       "      <th>6</th>\n",
       "      <td>64000</td>\n",
       "    </tr>\n",
       "    <tr>\n",
       "      <th>3</th>\n",
       "      <td>324000</td>\n",
       "    </tr>\n",
       "    <tr>\n",
       "      <th>4</th>\n",
       "      <td>1264000</td>\n",
       "    </tr>\n",
       "  </tbody>\n",
       "</table>\n",
       "</div>"
      ],
      "text/plain": [
       "    Annual income\n",
       "9           48000\n",
       "2           49000\n",
       "7           51000\n",
       "10          53000\n",
       "5           54330\n",
       "8           55000\n",
       "0           62000\n",
       "1           64000\n",
       "6           64000\n",
       "3          324000\n",
       "4         1264000"
      ]
     },
     "execution_count": 5,
     "metadata": {},
     "output_type": "execute_result"
    }
   ],
   "source": [
    "central_tendency.sort_values(\"Annual income\")"
   ]
  },
  {
   "cell_type": "code",
   "execution_count": 6,
   "id": "24d54e72",
   "metadata": {},
   "outputs": [
    {
     "data": {
      "text/plain": [
       "Annual income    55000.0\n",
       "dtype: float64"
      ]
     },
     "execution_count": 6,
     "metadata": {},
     "output_type": "execute_result"
    }
   ],
   "source": [
    "central_tendency.median()"
   ]
  },
  {
   "cell_type": "markdown",
   "id": "cc5a6c2c",
   "metadata": {},
   "source": [
    "**Mode**"
   ]
  },
  {
   "cell_type": "code",
   "execution_count": 7,
   "id": "b1b8e4d1",
   "metadata": {},
   "outputs": [
    {
     "data": {
      "text/html": [
       "<div>\n",
       "<style scoped>\n",
       "    .dataframe tbody tr th:only-of-type {\n",
       "        vertical-align: middle;\n",
       "    }\n",
       "\n",
       "    .dataframe tbody tr th {\n",
       "        vertical-align: top;\n",
       "    }\n",
       "\n",
       "    .dataframe thead th {\n",
       "        text-align: right;\n",
       "    }\n",
       "</style>\n",
       "<table border=\"1\" class=\"dataframe\">\n",
       "  <thead>\n",
       "    <tr style=\"text-align: right;\">\n",
       "      <th></th>\n",
       "      <th>Annual income</th>\n",
       "    </tr>\n",
       "  </thead>\n",
       "  <tbody>\n",
       "    <tr>\n",
       "      <th>0</th>\n",
       "      <td>64000</td>\n",
       "    </tr>\n",
       "  </tbody>\n",
       "</table>\n",
       "</div>"
      ],
      "text/plain": [
       "   Annual income\n",
       "0          64000"
      ]
     },
     "execution_count": 7,
     "metadata": {},
     "output_type": "execute_result"
    }
   ],
   "source": [
    "central_tendency.mode()"
   ]
  },
  {
   "cell_type": "markdown",
   "id": "f2451fa1",
   "metadata": {},
   "source": [
    "Income is a very interesting topic. There is extreme variability in the income of different individuals.\t\t\t\t\n",
    "Generally, most of the people gravitate around a certain salary.\t\n",
    "\n",
    "Moreover, in most countries there is a minimum salary, therefore most data points are constrained between the minimum salary and some number. \t\t\t\t\n",
    "\n",
    "Finally, there are certain individuals that are earn much more than others. They are the outliers. \t\n",
    "\n",
    "Usually, whenever we have research on income, we use the median income, instead of the mean income. \n",
    "\n",
    "Income is an example where averages are meaningless. You should be aware that the correct measure to use depends on the research that you are conducting.\t\t\t\t"
   ]
  },
  {
   "cell_type": "markdown",
   "id": "13c66de8",
   "metadata": {},
   "source": [
    "# **S4_L17**\n",
    "\n",
    "Calculate the skewness of the following two datasets."
   ]
  },
  {
   "cell_type": "code",
   "execution_count": 8,
   "id": "b8a58ac3",
   "metadata": {},
   "outputs": [],
   "source": [
    "import scipy.stats as stats # this module is important\n",
    "import numpy as np"
   ]
  },
  {
   "cell_type": "code",
   "execution_count": 9,
   "id": "30528dcb",
   "metadata": {},
   "outputs": [],
   "source": [
    "data1 = pd.read_excel(\"S4_L17\\\\data_one.xlsx\")\n",
    "\n",
    "data2 = pd.read_excel(\"S4_L17\\\\data_two.xlsx\")"
   ]
  },
  {
   "cell_type": "code",
   "execution_count": 10,
   "id": "13522a8a",
   "metadata": {},
   "outputs": [
    {
     "data": {
      "text/plain": [
       "array([0.59898992])"
      ]
     },
     "execution_count": 10,
     "metadata": {},
     "output_type": "execute_result"
    }
   ],
   "source": [
    "stats.skew(data1)"
   ]
  },
  {
   "cell_type": "code",
   "execution_count": 11,
   "id": "6c94c2ee",
   "metadata": {},
   "outputs": [
    {
     "data": {
      "text/plain": [
       "0.6"
      ]
     },
     "execution_count": 11,
     "metadata": {},
     "output_type": "execute_result"
    }
   ],
   "source": [
    "round(stats.skew(data1)[0], 2) # dataset 1"
   ]
  },
  {
   "cell_type": "code",
   "execution_count": 12,
   "id": "a825ea12",
   "metadata": {},
   "outputs": [
    {
     "data": {
      "text/plain": [
       "-0.35"
      ]
     },
     "execution_count": 12,
     "metadata": {},
     "output_type": "execute_result"
    }
   ],
   "source": [
    "round(stats.skew(data2)[0], 2) # dataset 2"
   ]
  },
  {
   "cell_type": "code",
   "execution_count": 13,
   "id": "2ea42a4c",
   "metadata": {},
   "outputs": [
    {
     "data": {
      "image/png": "[encoded data removed]",
      "text/plain": [
       "<Figure size 640x480 with 1 Axes>"
      ]
     },
     "metadata": {},
     "output_type": "display_data"
    }
   ],
   "source": [
    "plt.hist(data1, color = \"#00d8d6\", edgecolor = \"#1e272e\")\n",
    "plt.show()"
   ]
  },
  {
   "cell_type": "code",
   "execution_count": 14,
   "id": "c21fd25f",
   "metadata": {},
   "outputs": [
    {
     "data": {
      "image/png": "[encoded data removed]",
      "text/plain": [
       "<Figure size 640x480 with 1 Axes>"
      ]
     },
     "metadata": {},
     "output_type": "display_data"
    }
   ],
   "source": [
    "plt.hist(data2, color = \"#05c46b\", edgecolor = \"#1e272e\")\n",
    "plt.show()"
   ]
  },
  {
   "cell_type": "markdown",
   "id": "48e16fa8",
   "metadata": {},
   "source": [
    "# **S4_L19**"
   ]
  },
  {
   "cell_type": "markdown",
   "id": "2d699886",
   "metadata": {},
   "source": [
    "You have the annual personal income of 11 people from the USA. You have the mean income from the exercise on mean, median and mode.\n",
    "\n",
    "1. Decide whether you have to use sample or population formula for the variance\t\t\t\t\t\t\t\n",
    "2. Calculate the variance of their income\t\t\t\t\t\t\t\n",
    "3. Generally, what does this number tell you?\t\t\t\t\t\t\t"
   ]
  },
  {
   "cell_type": "code",
   "execution_count": 15,
   "id": "7763e3fb",
   "metadata": {},
   "outputs": [
    {
     "data": {
      "text/html": [
       "<div>\n",
       "<style scoped>\n",
       "    .dataframe tbody tr th:only-of-type {\n",
       "        vertical-align: middle;\n",
       "    }\n",
       "\n",
       "    .dataframe tbody tr th {\n",
       "        vertical-align: top;\n",
       "    }\n",
       "\n",
       "    .dataframe thead th {\n",
       "        text-align: right;\n",
       "    }\n",
       "</style>\n",
       "<table border=\"1\" class=\"dataframe\">\n",
       "  <thead>\n",
       "    <tr style=\"text-align: right;\">\n",
       "      <th></th>\n",
       "      <th>Annual income</th>\n",
       "    </tr>\n",
       "  </thead>\n",
       "  <tbody>\n",
       "    <tr>\n",
       "      <th>0</th>\n",
       "      <td>62000</td>\n",
       "    </tr>\n",
       "    <tr>\n",
       "      <th>1</th>\n",
       "      <td>64000</td>\n",
       "    </tr>\n",
       "    <tr>\n",
       "      <th>2</th>\n",
       "      <td>49000</td>\n",
       "    </tr>\n",
       "    <tr>\n",
       "      <th>3</th>\n",
       "      <td>324000</td>\n",
       "    </tr>\n",
       "    <tr>\n",
       "      <th>4</th>\n",
       "      <td>1264000</td>\n",
       "    </tr>\n",
       "    <tr>\n",
       "      <th>5</th>\n",
       "      <td>54330</td>\n",
       "    </tr>\n",
       "    <tr>\n",
       "      <th>6</th>\n",
       "      <td>64000</td>\n",
       "    </tr>\n",
       "    <tr>\n",
       "      <th>7</th>\n",
       "      <td>51000</td>\n",
       "    </tr>\n",
       "    <tr>\n",
       "      <th>8</th>\n",
       "      <td>55000</td>\n",
       "    </tr>\n",
       "    <tr>\n",
       "      <th>9</th>\n",
       "      <td>48000</td>\n",
       "    </tr>\n",
       "    <tr>\n",
       "      <th>10</th>\n",
       "      <td>53000</td>\n",
       "    </tr>\n",
       "  </tbody>\n",
       "</table>\n",
       "</div>"
      ],
      "text/plain": [
       "    Annual income\n",
       "0           62000\n",
       "1           64000\n",
       "2           49000\n",
       "3          324000\n",
       "4         1264000\n",
       "5           54330\n",
       "6           64000\n",
       "7           51000\n",
       "8           55000\n",
       "9           48000\n",
       "10          53000"
      ]
     },
     "execution_count": 15,
     "metadata": {},
     "output_type": "execute_result"
    }
   ],
   "source": [
    "central_tendency # this is the data"
   ]
  },
  {
   "cell_type": "markdown",
   "id": "354b99fd",
   "metadata": {},
   "source": [
    "Using the ddof argument: The var() method has an optional argument called ddof. The ddof argument stands for \"degrees of freedom\". \n",
    "\n",
    "By default, the ddof argument is set to 0, which means that the variance is calculated using the **population variance formula**. If you set the ddof argument to 1, the variance will be calculated using the **sample variance formula**.\n",
    "\n",
    "The sample variance formula is more accurate than the population variance formula, but it is also less biased. The population variance formula assumes that the data is a perfect representation of the population, while the sample variance formula does not make this assumption."
   ]
  },
  {
   "cell_type": "code",
   "execution_count": 16,
   "id": "40c33b1d",
   "metadata": {},
   "outputs": [
    {
     "data": {
      "text/plain": [
       "Annual income    1.213031e+11\n",
       "dtype: float64"
      ]
     },
     "execution_count": 16,
     "metadata": {},
     "output_type": "execute_result"
    }
   ],
   "source": [
    "round(central_tendency.var(ddof = 0), 2) # for the population"
   ]
  },
  {
   "cell_type": "code",
   "execution_count": 17,
   "id": "82a49158",
   "metadata": {},
   "outputs": [
    {
     "data": {
      "text/plain": [
       "Annual income    1.334334e+11\n",
       "dtype: float64"
      ]
     },
     "execution_count": 17,
     "metadata": {},
     "output_type": "execute_result"
    }
   ],
   "source": [
    "round(central_tendency.var(ddof = 1), 2)"
   ]
  },
  {
   "cell_type": "markdown",
   "id": "b3e515ee",
   "metadata": {},
   "source": [
    "# **S4_L21**"
   ]
  },
  {
   "cell_type": "markdown",
   "id": "82d9f1cd",
   "metadata": {},
   "source": [
    "You have the annual personal income of 11 people from the USA and 10 from Denmark. You have the mean income for USA from previous exercises\n",
    "\n",
    "Decide whether you have to use sample or population formula for the standard deviation and the coefficient of variation\t\t\t\t\t\t\t\t\n",
    "Calculate the standard deviation of income in the USA and in Denmark\t\t\t\t\t\t\t\t\n",
    "Hint: You may start by calculating the mean and the variance\t\t\t\t\t\t\t\n",
    "\n",
    "Calculate the coefficient of variation of income in the USA and in Denmark\t\t\t\t\t\t\t\t\n",
    "Try to interpret the numbers you got\t\t\t\t\t\t\t\t"
   ]
  },
  {
   "cell_type": "code",
   "execution_count": 18,
   "id": "7f3e5927",
   "metadata": {},
   "outputs": [
    {
     "data": {
      "text/html": [
       "<div>\n",
       "<style scoped>\n",
       "    .dataframe tbody tr th:only-of-type {\n",
       "        vertical-align: middle;\n",
       "    }\n",
       "\n",
       "    .dataframe tbody tr th {\n",
       "        vertical-align: top;\n",
       "    }\n",
       "\n",
       "    .dataframe thead th {\n",
       "        text-align: right;\n",
       "    }\n",
       "</style>\n",
       "<table border=\"1\" class=\"dataframe\">\n",
       "  <thead>\n",
       "    <tr style=\"text-align: right;\">\n",
       "      <th></th>\n",
       "      <th>Annual income</th>\n",
       "    </tr>\n",
       "  </thead>\n",
       "  <tbody>\n",
       "    <tr>\n",
       "      <th>0</th>\n",
       "      <td>62000</td>\n",
       "    </tr>\n",
       "    <tr>\n",
       "      <th>1</th>\n",
       "      <td>64000</td>\n",
       "    </tr>\n",
       "    <tr>\n",
       "      <th>2</th>\n",
       "      <td>49000</td>\n",
       "    </tr>\n",
       "    <tr>\n",
       "      <th>3</th>\n",
       "      <td>324000</td>\n",
       "    </tr>\n",
       "    <tr>\n",
       "      <th>4</th>\n",
       "      <td>1264000</td>\n",
       "    </tr>\n",
       "    <tr>\n",
       "      <th>5</th>\n",
       "      <td>54330</td>\n",
       "    </tr>\n",
       "    <tr>\n",
       "      <th>6</th>\n",
       "      <td>64000</td>\n",
       "    </tr>\n",
       "    <tr>\n",
       "      <th>7</th>\n",
       "      <td>51000</td>\n",
       "    </tr>\n",
       "    <tr>\n",
       "      <th>8</th>\n",
       "      <td>55000</td>\n",
       "    </tr>\n",
       "    <tr>\n",
       "      <th>9</th>\n",
       "      <td>48000</td>\n",
       "    </tr>\n",
       "    <tr>\n",
       "      <th>10</th>\n",
       "      <td>53000</td>\n",
       "    </tr>\n",
       "  </tbody>\n",
       "</table>\n",
       "</div>"
      ],
      "text/plain": [
       "    Annual income\n",
       "0           62000\n",
       "1           64000\n",
       "2           49000\n",
       "3          324000\n",
       "4         1264000\n",
       "5           54330\n",
       "6           64000\n",
       "7           51000\n",
       "8           55000\n",
       "9           48000\n",
       "10          53000"
      ]
     },
     "execution_count": 18,
     "metadata": {},
     "output_type": "execute_result"
    }
   ],
   "source": [
    "USA = central_tendency\n",
    "USA"
   ]
  },
  {
   "cell_type": "code",
   "execution_count": 19,
   "id": "cdee5351",
   "metadata": {},
   "outputs": [],
   "source": [
    "denmark = pd.read_excel(\"S4_L21\\\\denmark.xlsx\")"
   ]
  },
  {
   "cell_type": "code",
   "execution_count": 20,
   "id": "0680be32",
   "metadata": {},
   "outputs": [
    {
     "data": {
      "text/html": [
       "<div>\n",
       "<style scoped>\n",
       "    .dataframe tbody tr th:only-of-type {\n",
       "        vertical-align: middle;\n",
       "    }\n",
       "\n",
       "    .dataframe tbody tr th {\n",
       "        vertical-align: top;\n",
       "    }\n",
       "\n",
       "    .dataframe thead th {\n",
       "        text-align: right;\n",
       "    }\n",
       "</style>\n",
       "<table border=\"1\" class=\"dataframe\">\n",
       "  <thead>\n",
       "    <tr style=\"text-align: right;\">\n",
       "      <th></th>\n",
       "      <th>Annual income Denmark</th>\n",
       "    </tr>\n",
       "  </thead>\n",
       "  <tbody>\n",
       "    <tr>\n",
       "      <th>0</th>\n",
       "      <td>62000</td>\n",
       "    </tr>\n",
       "    <tr>\n",
       "      <th>1</th>\n",
       "      <td>63000</td>\n",
       "    </tr>\n",
       "    <tr>\n",
       "      <th>2</th>\n",
       "      <td>76000</td>\n",
       "    </tr>\n",
       "    <tr>\n",
       "      <th>3</th>\n",
       "      <td>79000</td>\n",
       "    </tr>\n",
       "    <tr>\n",
       "      <th>4</th>\n",
       "      <td>67000</td>\n",
       "    </tr>\n",
       "    <tr>\n",
       "      <th>5</th>\n",
       "      <td>66000</td>\n",
       "    </tr>\n",
       "    <tr>\n",
       "      <th>6</th>\n",
       "      <td>69000</td>\n",
       "    </tr>\n",
       "    <tr>\n",
       "      <th>7</th>\n",
       "      <td>68000</td>\n",
       "    </tr>\n",
       "    <tr>\n",
       "      <th>8</th>\n",
       "      <td>57000</td>\n",
       "    </tr>\n",
       "    <tr>\n",
       "      <th>9</th>\n",
       "      <td>70000</td>\n",
       "    </tr>\n",
       "    <tr>\n",
       "      <th>10</th>\n",
       "      <td>67000</td>\n",
       "    </tr>\n",
       "  </tbody>\n",
       "</table>\n",
       "</div>"
      ],
      "text/plain": [
       "    Annual income Denmark\n",
       "0                   62000\n",
       "1                   63000\n",
       "2                   76000\n",
       "3                   79000\n",
       "4                   67000\n",
       "5                   66000\n",
       "6                   69000\n",
       "7                   68000\n",
       "8                   57000\n",
       "9                   70000\n",
       "10                  67000"
      ]
     },
     "execution_count": 20,
     "metadata": {},
     "output_type": "execute_result"
    }
   ],
   "source": [
    "denmark"
   ]
  },
  {
   "cell_type": "markdown",
   "id": "15c47cd9",
   "metadata": {},
   "source": [
    "**calculate the STD of both countries**"
   ]
  },
  {
   "cell_type": "code",
   "execution_count": 21,
   "id": "297ba33c",
   "metadata": {},
   "outputs": [
    {
     "data": {
      "text/plain": [
       "Annual income    365285.380951\n",
       "dtype: float64"
      ]
     },
     "execution_count": 21,
     "metadata": {},
     "output_type": "execute_result"
    }
   ],
   "source": [
    "USA.std()"
   ]
  },
  {
   "cell_type": "code",
   "execution_count": 22,
   "id": "3b599933",
   "metadata": {},
   "outputs": [
    {
     "data": {
      "text/plain": [
       "Annual income Denmark    6136.329966\n",
       "dtype: float64"
      ]
     },
     "execution_count": 22,
     "metadata": {},
     "output_type": "execute_result"
    }
   ],
   "source": [
    "denmark.std()"
   ]
  },
  {
   "cell_type": "markdown",
   "id": "ba1073de",
   "metadata": {},
   "source": [
    "**Calculate the coefficiente of variation of both countries**"
   ]
  },
  {
   "cell_type": "code",
   "execution_count": 23,
   "id": "611a6dd5",
   "metadata": {},
   "outputs": [
    {
     "data": {
      "text/plain": [
       "Annual income    1.924092\n",
       "dtype: float64"
      ]
     },
     "execution_count": 23,
     "metadata": {},
     "output_type": "execute_result"
    }
   ],
   "source": [
    "USA.std() / USA.mean() "
   ]
  },
  {
   "cell_type": "code",
   "execution_count": 24,
   "id": "3a7953c9",
   "metadata": {},
   "outputs": [
    {
     "data": {
      "text/plain": [
       "Annual income Denmark    0.090725\n",
       "dtype: float64"
      ]
     },
     "execution_count": 24,
     "metadata": {},
     "output_type": "execute_result"
    }
   ],
   "source": [
    "denmark.std() / denmark.mean() "
   ]
  },
  {
   "cell_type": "markdown",
   "id": "b4e0c384",
   "metadata": {},
   "source": [
    "**Central tendency measures**"
   ]
  },
  {
   "cell_type": "code",
   "execution_count": 25,
   "id": "27871e5c",
   "metadata": {},
   "outputs": [
    {
     "data": {
      "text/plain": [
       "Annual income Denmark    3.765455e+07\n",
       "dtype: float64"
      ]
     },
     "execution_count": 25,
     "metadata": {},
     "output_type": "execute_result"
    }
   ],
   "source": [
    "denmark.var(ddof = 1)"
   ]
  },
  {
   "cell_type": "code",
   "execution_count": 26,
   "id": "a77c5b78",
   "metadata": {},
   "outputs": [
    {
     "data": {
      "text/plain": [
       "Annual income Denmark    67636.363636\n",
       "dtype: float64"
      ]
     },
     "execution_count": 26,
     "metadata": {},
     "output_type": "execute_result"
    }
   ],
   "source": [
    "denmark.mean()"
   ]
  },
  {
   "cell_type": "code",
   "execution_count": 27,
   "id": "e6a2abbe",
   "metadata": {},
   "outputs": [
    {
     "data": {
      "text/plain": [
       "Annual income Denmark    67000.0\n",
       "dtype: float64"
      ]
     },
     "execution_count": 27,
     "metadata": {},
     "output_type": "execute_result"
    }
   ],
   "source": [
    "denmark.median()"
   ]
  },
  {
   "cell_type": "code",
   "execution_count": 28,
   "id": "cd3433ad",
   "metadata": {},
   "outputs": [
    {
     "data": {
      "text/plain": [
       "Annual income    1.334334e+11\n",
       "dtype: float64"
      ]
     },
     "execution_count": 28,
     "metadata": {},
     "output_type": "execute_result"
    }
   ],
   "source": [
    "USA.var(ddof = 1)"
   ]
  },
  {
   "cell_type": "code",
   "execution_count": 29,
   "id": "13fe7e6e",
   "metadata": {},
   "outputs": [
    {
     "data": {
      "text/plain": [
       "Annual income    189848.181818\n",
       "dtype: float64"
      ]
     },
     "execution_count": 29,
     "metadata": {},
     "output_type": "execute_result"
    }
   ],
   "source": [
    "USA.mean()"
   ]
  },
  {
   "cell_type": "code",
   "execution_count": 30,
   "id": "6c7450ea",
   "metadata": {},
   "outputs": [
    {
     "data": {
      "text/plain": [
       "Annual income    55000.0\n",
       "dtype: float64"
      ]
     },
     "execution_count": 30,
     "metadata": {},
     "output_type": "execute_result"
    }
   ],
   "source": [
    "USA.median()"
   ]
  },
  {
   "cell_type": "markdown",
   "id": "57de4bd2",
   "metadata": {},
   "source": [
    "**Denmark is a much more egalitarian country than the USA.**\n",
    "\n",
    "Not only the variance is smaller, but also the standard deviation of salaries.\n",
    "\n",
    "You can get the feeling that almost all people in the country gravitate around the same income.\t\t\t\t\n",
    "We can further calculate the median income to see if they differ.\n",
    "\n",
    "Median US\t $55,000.00 \t\tMedian Denmark\t67,000.00 euros.\n",
    "\n",
    "According to this sample, the average salary in the US is much higher ( 189,848 dollars to 67,636.363636 euros = $75,642.41)\t\t\t\t\n",
    "However, on the average American earns less than the average Danish, which is evident from the median salary.\n",
    "\n",
    "Finally, the coefficients of variation of the salaries in the two countries are very different.\t\t\n",
    "\n",
    "In the USA we have much higher variability of income, evident from the coeffcients of variation. In the USA the value is 1.92, while in Denmark it is 0.09.\t\n",
    "\n",
    "By all means, a coefficient of variation of 1.92 is extremely high, while 0.09 is extremely low. \t\t\t\t\n",
    "\t\t\t\t\n",
    "Note that we only needed the coefficient of variation, because the currencies we used were different.\n",
    "\n",
    "Had the salaries been in expressed in dollars for both datasets, a comparison of the standard deviations would be sufficient."
   ]
  },
  {
   "cell_type": "markdown",
   "id": "2bf3fb4a",
   "metadata": {},
   "source": [
    "# **15/09/2023** \n",
    "\n",
    "# **S4_L23**"
   ]
  },
  {
   "cell_type": "markdown",
   "id": "5b687db5",
   "metadata": {},
   "source": [
    "You are given data on the SAT reading and writing scores of several students from our lesson on cross tables and scatter plots\t\t\t\t\t\t\t\t\t\n",
    "1. Determine if this is sample or population\t\n",
    "\n",
    "2. Calculate the covariance of the two datasets\n",
    "\n",
    "3. Plot the data on scatter plot and using your previous knowledge comment on whether there is a noticeable relationship between the two variables.\t\t\t\t\t\t\t\t\t"
   ]
  },
  {
   "cell_type": "code",
   "execution_count": 31,
   "id": "c69f5dca",
   "metadata": {},
   "outputs": [
    {
     "data": {
      "text/html": [
       "<div>\n",
       "<style scoped>\n",
       "    .dataframe tbody tr th:only-of-type {\n",
       "        vertical-align: middle;\n",
       "    }\n",
       "\n",
       "    .dataframe tbody tr th {\n",
       "        vertical-align: top;\n",
       "    }\n",
       "\n",
       "    .dataframe thead th {\n",
       "        text-align: right;\n",
       "    }\n",
       "</style>\n",
       "<table border=\"1\" class=\"dataframe\">\n",
       "  <thead>\n",
       "    <tr style=\"text-align: right;\">\n",
       "      <th></th>\n",
       "      <th>Writing</th>\n",
       "      <th>Reading</th>\n",
       "    </tr>\n",
       "  </thead>\n",
       "  <tbody>\n",
       "    <tr>\n",
       "      <th>0</th>\n",
       "      <td>344</td>\n",
       "      <td>378</td>\n",
       "    </tr>\n",
       "    <tr>\n",
       "      <th>1</th>\n",
       "      <td>383</td>\n",
       "      <td>349</td>\n",
       "    </tr>\n",
       "    <tr>\n",
       "      <th>2</th>\n",
       "      <td>611</td>\n",
       "      <td>503</td>\n",
       "    </tr>\n",
       "    <tr>\n",
       "      <th>3</th>\n",
       "      <td>713</td>\n",
       "      <td>719</td>\n",
       "    </tr>\n",
       "    <tr>\n",
       "      <th>4</th>\n",
       "      <td>536</td>\n",
       "      <td>503</td>\n",
       "    </tr>\n",
       "  </tbody>\n",
       "</table>\n",
       "</div>"
      ],
      "text/plain": [
       "   Writing  Reading\n",
       "0      344      378\n",
       "1      383      349\n",
       "2      611      503\n",
       "3      713      719\n",
       "4      536      503"
      ]
     },
     "execution_count": 31,
     "metadata": {},
     "output_type": "execute_result"
    }
   ],
   "source": [
    "pd.read_excel(\"S4_L23\\\\covariance.xlsx\")"
   ]
  },
  {
   "cell_type": "markdown",
   "id": "e43da43c",
   "metadata": {},
   "source": [
    "**1. This is a sample data**\n",
    "\n",
    "Because we only have 5 students"
   ]
  },
  {
   "cell_type": "markdown",
   "id": "5c25abd8",
   "metadata": {},
   "source": [
    "**2. calculating the covariance of these two datasets**"
   ]
  },
  {
   "cell_type": "code",
   "execution_count": 47,
   "id": "b70f7beb",
   "metadata": {},
   "outputs": [
    {
     "data": {
      "text/plain": [
       "21155.55"
      ]
     },
     "execution_count": 47,
     "metadata": {},
     "output_type": "execute_result"
    }
   ],
   "source": [
    "SAT = pd.read_excel(\"S4_L23\\\\covariance.xlsx\")\n",
    "\n",
    "np.cov(SAT[\"Writing\"], SAT[\"Reading\"])[1][0] # 21155.55 is the covariance matrix"
   ]
  },
  {
   "cell_type": "code",
   "execution_count": 53,
   "id": "4d4de4ce",
   "metadata": {},
   "outputs": [
    {
     "data": {
      "text/plain": [
       "array([[23874.3 , 21155.55],\n",
       "       [21155.55, 21300.8 ]])"
      ]
     },
     "execution_count": 53,
     "metadata": {},
     "output_type": "execute_result"
    }
   ],
   "source": [
    "np.cov(SAT[\"Writing\"], SAT[\"Reading\"])"
   ]
  },
  {
   "cell_type": "markdown",
   "id": "678fe481",
   "metadata": {},
   "source": [
    "The first element of the covariance matrix, 23874.3, is the covariance between the first row of x (writing) and the first row of y (writing). \n",
    "\n",
    "The second element of the covariance matrix, 21155.55, is the covariance between the first row of x (writing) and the second row of y (reading). \n",
    "\n",
    "The third element of the covariance matrix, 21155.55, is the covariance between the second row of x (reading) and the first row of y (writing) \n",
    "\n",
    "the fourth element of the covariance matrix, 21300.8, is the covariance between the second row of x (reading) and the second row of y (reading)."
   ]
  },
  {
   "cell_type": "code",
   "execution_count": 56,
   "id": "c0e11cfb",
   "metadata": {},
   "outputs": [
    {
     "data": {
      "text/html": [
       "<div>\n",
       "<style scoped>\n",
       "    .dataframe tbody tr th:only-of-type {\n",
       "        vertical-align: middle;\n",
       "    }\n",
       "\n",
       "    .dataframe tbody tr th {\n",
       "        vertical-align: top;\n",
       "    }\n",
       "\n",
       "    .dataframe thead th {\n",
       "        text-align: right;\n",
       "    }\n",
       "</style>\n",
       "<table border=\"1\" class=\"dataframe\">\n",
       "  <thead>\n",
       "    <tr style=\"text-align: right;\">\n",
       "      <th></th>\n",
       "      <th>Writing</th>\n",
       "      <th>Reading</th>\n",
       "    </tr>\n",
       "  </thead>\n",
       "  <tbody>\n",
       "    <tr>\n",
       "      <th>Writing</th>\n",
       "      <td>23874.30</td>\n",
       "      <td>21155.55</td>\n",
       "    </tr>\n",
       "    <tr>\n",
       "      <th>Reading</th>\n",
       "      <td>21155.55</td>\n",
       "      <td>21300.80</td>\n",
       "    </tr>\n",
       "  </tbody>\n",
       "</table>\n",
       "</div>"
      ],
      "text/plain": [
       "          Writing   Reading\n",
       "Writing  23874.30  21155.55\n",
       "Reading  21155.55  21300.80"
      ]
     },
     "execution_count": 56,
     "metadata": {},
     "output_type": "execute_result"
    }
   ],
   "source": [
    "covariance = np.cov(SAT[\"Writing\"], SAT[\"Reading\"])\n",
    "\n",
    "pd.DataFrame(covariance, columns = [\"Writing\", \"Reading\"], index = [\"Writing\", \"Reading\"])"
   ]
  },
  {
   "cell_type": "markdown",
   "id": "097e404d",
   "metadata": {},
   "source": [
    "**3. plotting a scatterplot**"
   ]
  },
  {
   "cell_type": "code",
   "execution_count": 49,
   "id": "35c135ba",
   "metadata": {},
   "outputs": [
    {
     "data": {
      "image/png": "[encoded data removed]",
      "text/plain": [
       "<Figure size 640x480 with 1 Axes>"
      ]
     },
     "metadata": {},
     "output_type": "display_data"
    }
   ],
   "source": [
    "plt.scatter(x = SAT[\"Writing\"], y = SAT[\"Reading\"])\n",
    "plt.xlabel(\"Writing\")\n",
    "plt.ylabel(\"Reading\")\n",
    "plt.show()"
   ]
  },
  {
   "cell_type": "markdown",
   "id": "c6e1fb3d",
   "metadata": {},
   "source": [
    "# **S4_L25**"
   ]
  },
  {
   "cell_type": "markdown",
   "id": "b52ca29c",
   "metadata": {},
   "source": [
    "You are given data on the SAT scores from the correlation exercise.\t\t\t\t\n",
    "\n",
    "1. Calculate the correlation coefficient of the two datasets.\t\t\t\t\n",
    "2. Comment on the strength of the correlation between the two datasets\t\t\t\t"
   ]
  },
  {
   "cell_type": "code",
   "execution_count": 50,
   "id": "8ca56f56",
   "metadata": {},
   "outputs": [
    {
     "data": {
      "text/html": [
       "<div>\n",
       "<style scoped>\n",
       "    .dataframe tbody tr th:only-of-type {\n",
       "        vertical-align: middle;\n",
       "    }\n",
       "\n",
       "    .dataframe tbody tr th {\n",
       "        vertical-align: top;\n",
       "    }\n",
       "\n",
       "    .dataframe thead th {\n",
       "        text-align: right;\n",
       "    }\n",
       "</style>\n",
       "<table border=\"1\" class=\"dataframe\">\n",
       "  <thead>\n",
       "    <tr style=\"text-align: right;\">\n",
       "      <th></th>\n",
       "      <th>Writing</th>\n",
       "      <th>Reading</th>\n",
       "    </tr>\n",
       "  </thead>\n",
       "  <tbody>\n",
       "    <tr>\n",
       "      <th>Writing</th>\n",
       "      <td>1.000000</td>\n",
       "      <td>0.938126</td>\n",
       "    </tr>\n",
       "    <tr>\n",
       "      <th>Reading</th>\n",
       "      <td>0.938126</td>\n",
       "      <td>1.000000</td>\n",
       "    </tr>\n",
       "  </tbody>\n",
       "</table>\n",
       "</div>"
      ],
      "text/plain": [
       "          Writing   Reading\n",
       "Writing  1.000000  0.938126\n",
       "Reading  0.938126  1.000000"
      ]
     },
     "execution_count": 50,
     "metadata": {},
     "output_type": "execute_result"
    }
   ],
   "source": [
    "SAT.corr()"
   ]
  },
  {
   "cell_type": "markdown",
   "id": "6cecf771",
   "metadata": {},
   "source": [
    "0.94 is extremely close to 1, therefore there is a very strong positive correlation between the two datasets."
   ]
  },
  {
   "cell_type": "markdown",
   "id": "7828b528",
   "metadata": {},
   "source": [
    "# Ended 15/09/2023"
   ]
  },
  {
   "cell_type": "code",
   "execution_count": null,
   "id": "24a9df8e",
   "metadata": {},
   "outputs": [],
   "source": []
  }
 ],
 "metadata": {
  "kernelspec": {
   "display_name": "Python 3 (ipykernel)",
   "language": "python",
   "name": "python3"
  },
  "language_info": {
   "codemirror_mode": {
    "name": "ipython",
    "version": 3
   },
   "file_extension": ".py",
   "mimetype": "text/x-python",
   "name": "python",
   "nbconvert_exporter": "python",
   "pygments_lexer": "ipython3",
   "version": "3.11.4"
  }
 },
 "nbformat": 4,
 "nbformat_minor": 5
}
