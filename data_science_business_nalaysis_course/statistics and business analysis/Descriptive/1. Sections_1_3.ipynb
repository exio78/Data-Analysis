{
 "cells": [
  {
   "cell_type": "markdown",
   "id": "70bee63a",
   "metadata": {},
   "source": [
    "# 12/09/2023"
   ]
  },
  {
   "cell_type": "code",
   "execution_count": 1,
   "id": "d85901a9",
   "metadata": {},
   "outputs": [],
   "source": [
    "import pandas as pd\n",
    "import matplotlib.pyplot as plt\n",
    "import seaborn as sns\n",
    "%matplotlib inline\n",
    "plt.style.use(\"fivethirtyeight\")"
   ]
  },
  {
   "cell_type": "markdown",
   "id": "2d4a3f7c",
   "metadata": {},
   "source": [
    "# **S3_L6** \n",
    "\n",
    "Pareto chart"
   ]
  },
  {
   "cell_type": "code",
   "execution_count": 2,
   "id": "8b9ea9f1",
   "metadata": {},
   "outputs": [
    {
     "data": {
      "text/html": [
       "<div>\n",
       "<style scoped>\n",
       "    .dataframe tbody tr th:only-of-type {\n",
       "        vertical-align: middle;\n",
       "    }\n",
       "\n",
       "    .dataframe tbody tr th {\n",
       "        vertical-align: top;\n",
       "    }\n",
       "\n",
       "    .dataframe thead th {\n",
       "        text-align: right;\n",
       "    }\n",
       "</style>\n",
       "<table border=\"1\" class=\"dataframe\">\n",
       "  <thead>\n",
       "    <tr style=\"text-align: right;\">\n",
       "      <th></th>\n",
       "      <th>Frequency</th>\n",
       "    </tr>\n",
       "  </thead>\n",
       "  <tbody>\n",
       "    <tr>\n",
       "      <th>Audi</th>\n",
       "      <td>124</td>\n",
       "    </tr>\n",
       "    <tr>\n",
       "      <th>BMW</th>\n",
       "      <td>98</td>\n",
       "    </tr>\n",
       "    <tr>\n",
       "      <th>Mercedes</th>\n",
       "      <td>113</td>\n",
       "    </tr>\n",
       "  </tbody>\n",
       "</table>\n",
       "</div>"
      ],
      "text/plain": [
       "          Frequency\n",
       "Audi            124\n",
       "BMW              98\n",
       "Mercedes        113"
      ]
     },
     "execution_count": 2,
     "metadata": {},
     "output_type": "execute_result"
    }
   ],
   "source": [
    "cars = pd.DataFrame({\"Frequency\": [124, 98, 113]}, index = [\"Audi\", \"BMW\", \"Mercedes\"])\n",
    "\n",
    "cars # we are going to see the frequency of sells per brand"
   ]
  },
  {
   "cell_type": "code",
   "execution_count": 3,
   "id": "d189c235",
   "metadata": {},
   "outputs": [
    {
     "data": {
      "text/plain": [
       "Audi        37\n",
       "BMW         29\n",
       "Mercedes    34\n",
       "Name: Frequency, dtype: int64"
      ]
     },
     "execution_count": 3,
     "metadata": {},
     "output_type": "execute_result"
    }
   ],
   "source": [
    "cars[\"Frequency\"].apply(lambda x : round((x * 100) /cars[\"Frequency\"].sum()))"
   ]
  },
  {
   "cell_type": "code",
   "execution_count": 4,
   "id": "93552333",
   "metadata": {},
   "outputs": [],
   "source": [
    "cars[\"Relative_Frequency\"] = cars[\"Frequency\"].apply(lambda x : round((x * 100) /cars[\"Frequency\"].sum()))"
   ]
  },
  {
   "cell_type": "code",
   "execution_count": 5,
   "id": "afdc2a1a",
   "metadata": {},
   "outputs": [
    {
     "data": {
      "text/html": [
       "<div>\n",
       "<style scoped>\n",
       "    .dataframe tbody tr th:only-of-type {\n",
       "        vertical-align: middle;\n",
       "    }\n",
       "\n",
       "    .dataframe tbody tr th {\n",
       "        vertical-align: top;\n",
       "    }\n",
       "\n",
       "    .dataframe thead th {\n",
       "        text-align: right;\n",
       "    }\n",
       "</style>\n",
       "<table border=\"1\" class=\"dataframe\">\n",
       "  <thead>\n",
       "    <tr style=\"text-align: right;\">\n",
       "      <th></th>\n",
       "      <th>Frequency</th>\n",
       "      <th>Relative_Frequency</th>\n",
       "    </tr>\n",
       "  </thead>\n",
       "  <tbody>\n",
       "    <tr>\n",
       "      <th>Audi</th>\n",
       "      <td>124</td>\n",
       "      <td>37</td>\n",
       "    </tr>\n",
       "    <tr>\n",
       "      <th>Mercedes</th>\n",
       "      <td>113</td>\n",
       "      <td>34</td>\n",
       "    </tr>\n",
       "    <tr>\n",
       "      <th>BMW</th>\n",
       "      <td>98</td>\n",
       "      <td>29</td>\n",
       "    </tr>\n",
       "  </tbody>\n",
       "</table>\n",
       "</div>"
      ],
      "text/plain": [
       "          Frequency  Relative_Frequency\n",
       "Audi            124                  37\n",
       "Mercedes        113                  34\n",
       "BMW              98                  29"
      ]
     },
     "execution_count": 5,
     "metadata": {},
     "output_type": "execute_result"
    }
   ],
   "source": [
    "cars = cars.sort_values(\"Frequency\", ascending = False)\n",
    "cars"
   ]
  },
  {
   "cell_type": "code",
   "execution_count": 6,
   "id": "96c80d6a",
   "metadata": {},
   "outputs": [
    {
     "data": {
      "text/plain": [
       "Audi         37\n",
       "Mercedes     71\n",
       "BMW         100\n",
       "Name: Relative_Frequency, dtype: int64"
      ]
     },
     "execution_count": 6,
     "metadata": {},
     "output_type": "execute_result"
    }
   ],
   "source": [
    "cars[\"Relative_Frequency\"].cumsum() # with this function we can set the cumulative frequency"
   ]
  },
  {
   "cell_type": "code",
   "execution_count": 7,
   "id": "63817ee4",
   "metadata": {},
   "outputs": [],
   "source": [
    "cars[\"Cumulative_Frequency\"] = cars[\"Relative_Frequency\"].cumsum() "
   ]
  },
  {
   "cell_type": "code",
   "execution_count": 8,
   "id": "6d343636",
   "metadata": {},
   "outputs": [
    {
     "data": {
      "text/html": [
       "<div>\n",
       "<style scoped>\n",
       "    .dataframe tbody tr th:only-of-type {\n",
       "        vertical-align: middle;\n",
       "    }\n",
       "\n",
       "    .dataframe tbody tr th {\n",
       "        vertical-align: top;\n",
       "    }\n",
       "\n",
       "    .dataframe thead th {\n",
       "        text-align: right;\n",
       "    }\n",
       "</style>\n",
       "<table border=\"1\" class=\"dataframe\">\n",
       "  <thead>\n",
       "    <tr style=\"text-align: right;\">\n",
       "      <th></th>\n",
       "      <th>Frequency</th>\n",
       "      <th>Relative_Frequency</th>\n",
       "      <th>Cumulative_Frequency</th>\n",
       "    </tr>\n",
       "  </thead>\n",
       "  <tbody>\n",
       "    <tr>\n",
       "      <th>Audi</th>\n",
       "      <td>124</td>\n",
       "      <td>37</td>\n",
       "      <td>37</td>\n",
       "    </tr>\n",
       "    <tr>\n",
       "      <th>Mercedes</th>\n",
       "      <td>113</td>\n",
       "      <td>34</td>\n",
       "      <td>71</td>\n",
       "    </tr>\n",
       "    <tr>\n",
       "      <th>BMW</th>\n",
       "      <td>98</td>\n",
       "      <td>29</td>\n",
       "      <td>100</td>\n",
       "    </tr>\n",
       "  </tbody>\n",
       "</table>\n",
       "</div>"
      ],
      "text/plain": [
       "          Frequency  Relative_Frequency  Cumulative_Frequency\n",
       "Audi            124                  37                    37\n",
       "Mercedes        113                  34                    71\n",
       "BMW              98                  29                   100"
      ]
     },
     "execution_count": 8,
     "metadata": {},
     "output_type": "execute_result"
    }
   ],
   "source": [
    "cars"
   ]
  },
  {
   "cell_type": "markdown",
   "id": "586c066a",
   "metadata": {},
   "source": [
    "**Now let's plot a pareto diagram**"
   ]
  },
  {
   "cell_type": "code",
   "execution_count": 9,
   "id": "f63c803e",
   "metadata": {},
   "outputs": [
    {
     "data": {
      "image/png": "[encoded data removed]",
      "text/plain": [
       "<Figure size 640x480 with 2 Axes>"
      ]
     },
     "metadata": {},
     "output_type": "display_data"
    }
   ],
   "source": [
    "fig, ax1 = plt.subplots()\n",
    "\n",
    "ax1.bar(data = cars, x = cars.index, height = cars[\"Frequency\"], color = \"#1e272e\", label =\"Frequency\", width = 0.6)\n",
    "ax1.set_ylabel(\"Frequency of Brand Cars sold\")\n",
    "\n",
    "ax2 = ax1.twinx() # this method is to place two y axes in the same plot, on the left and on the right.\n",
    "\n",
    "ax2.plot(cars[\"Cumulative_Frequency\"], color = \"#05c46b\", marker = \"o\", label = \"Cumulative Frequency\")\n",
    "ax2.set_ylabel(\"Cumulative Freqency in %\")\n",
    "ax2.set_yticks(cars[\"Cumulative_Frequency\"])\n",
    "\n",
    "plt.legend(loc = (1.2, 0))\n",
    "plt.show()"
   ]
  },
  {
   "cell_type": "markdown",
   "id": "96af5a5b",
   "metadata": {},
   "source": [
    "# S3_L7"
   ]
  },
  {
   "cell_type": "code",
   "execution_count": 10,
   "id": "72507514",
   "metadata": {},
   "outputs": [
    {
     "data": {
      "text/html": [
       "<div>\n",
       "<style scoped>\n",
       "    .dataframe tbody tr th:only-of-type {\n",
       "        vertical-align: middle;\n",
       "    }\n",
       "\n",
       "    .dataframe tbody tr th {\n",
       "        vertical-align: top;\n",
       "    }\n",
       "\n",
       "    .dataframe thead th {\n",
       "        text-align: right;\n",
       "    }\n",
       "</style>\n",
       "<table border=\"1\" class=\"dataframe\">\n",
       "  <thead>\n",
       "    <tr style=\"text-align: right;\">\n",
       "      <th></th>\n",
       "      <th>Frequency</th>\n",
       "    </tr>\n",
       "  </thead>\n",
       "  <tbody>\n",
       "    <tr>\n",
       "      <th>NY</th>\n",
       "      <td>12327</td>\n",
       "    </tr>\n",
       "    <tr>\n",
       "      <th>LA</th>\n",
       "      <td>17129</td>\n",
       "    </tr>\n",
       "    <tr>\n",
       "      <th>SF</th>\n",
       "      <td>19223</td>\n",
       "    </tr>\n",
       "  </tbody>\n",
       "</table>\n",
       "</div>"
      ],
      "text/plain": [
       "    Frequency\n",
       "NY      12327\n",
       "LA      17129\n",
       "SF      19223"
      ]
     },
     "execution_count": 10,
     "metadata": {},
     "output_type": "execute_result"
    }
   ],
   "source": [
    "cities = pd.DataFrame({\"Frequency\": [12327, 17129, 19223]}, index = [\"NY\", \"LA\", \"SF\"])\n",
    "cities"
   ]
  },
  {
   "cell_type": "markdown",
   "id": "51b7d8fa",
   "metadata": {},
   "source": [
    "# **S3_L9**\n",
    "\n",
    "Frequency distribution table exercise"
   ]
  },
  {
   "cell_type": "code",
   "execution_count": 11,
   "id": "81db5655",
   "metadata": {},
   "outputs": [
    {
     "data": {
      "text/html": [
       "<div>\n",
       "<style scoped>\n",
       "    .dataframe tbody tr th:only-of-type {\n",
       "        vertical-align: middle;\n",
       "    }\n",
       "\n",
       "    .dataframe tbody tr th {\n",
       "        vertical-align: top;\n",
       "    }\n",
       "\n",
       "    .dataframe thead th {\n",
       "        text-align: right;\n",
       "    }\n",
       "</style>\n",
       "<table border=\"1\" class=\"dataframe\">\n",
       "  <thead>\n",
       "    <tr style=\"text-align: right;\">\n",
       "      <th></th>\n",
       "      <th>Dataset</th>\n",
       "    </tr>\n",
       "  </thead>\n",
       "  <tbody>\n",
       "    <tr>\n",
       "      <th>0</th>\n",
       "      <td>8</td>\n",
       "    </tr>\n",
       "    <tr>\n",
       "      <th>1</th>\n",
       "      <td>30</td>\n",
       "    </tr>\n",
       "    <tr>\n",
       "      <th>2</th>\n",
       "      <td>30</td>\n",
       "    </tr>\n",
       "    <tr>\n",
       "      <th>3</th>\n",
       "      <td>50</td>\n",
       "    </tr>\n",
       "    <tr>\n",
       "      <th>4</th>\n",
       "      <td>86</td>\n",
       "    </tr>\n",
       "  </tbody>\n",
       "</table>\n",
       "</div>"
      ],
      "text/plain": [
       "   Dataset\n",
       "0        8\n",
       "1       30\n",
       "2       30\n",
       "3       50\n",
       "4       86"
      ]
     },
     "execution_count": 11,
     "metadata": {},
     "output_type": "execute_result"
    }
   ],
   "source": [
    "Dataset = pd.read_excel(\"S3_L9\\\\distribution_table.xlsx\")\n",
    "Dataset.head()"
   ]
  },
  {
   "cell_type": "markdown",
   "id": "a5e9e75f",
   "metadata": {},
   "source": [
    "**1. Given that we want to divide the numbers into 6 intervals of equal width, calculate that interval width. Round up to the nearest whole number, bigger than the result that you obtain**\t\t\t\t\t\t\t\t\t"
   ]
  },
  {
   "cell_type": "code",
   "execution_count": 12,
   "id": "e13813c1",
   "metadata": {},
   "outputs": [
    {
     "data": {
      "text/plain": [
       "Dataset    282\n",
       "dtype: int64"
      ]
     },
     "execution_count": 12,
     "metadata": {},
     "output_type": "execute_result"
    }
   ],
   "source": [
    "Dataset.max()"
   ]
  },
  {
   "cell_type": "code",
   "execution_count": 13,
   "id": "e84126ab",
   "metadata": {},
   "outputs": [
    {
     "data": {
      "text/plain": [
       "Dataset    8\n",
       "dtype: int64"
      ]
     },
     "execution_count": 13,
     "metadata": {},
     "output_type": "execute_result"
    }
   ],
   "source": [
    "Dataset.min()"
   ]
  },
  {
   "cell_type": "code",
   "execution_count": 14,
   "id": "bbf3b8da",
   "metadata": {},
   "outputs": [
    {
     "data": {
      "text/plain": [
       "Dataset    46.0\n",
       "dtype: float64"
      ]
     },
     "execution_count": 14,
     "metadata": {},
     "output_type": "execute_result"
    }
   ],
   "source": [
    "round((Dataset.max() - Dataset.min()) / 6) # <-- this is the formula to divide equally the desired intervals by 6"
   ]
  },
  {
   "cell_type": "markdown",
   "id": "be50c28f",
   "metadata": {},
   "source": [
    "**2.Create a frequency distribution table that shows** \t\t\n",
    "\n",
    "1. The intervals \t\t\n",
    "2. The absolute frequency of each interval\n",
    "3. The relative frequency of each interval"
   ]
  },
  {
   "cell_type": "code",
   "execution_count": 15,
   "id": "b33d8118",
   "metadata": {},
   "outputs": [
    {
     "data": {
      "text/html": [
       "<div>\n",
       "<style scoped>\n",
       "    .dataframe tbody tr th:only-of-type {\n",
       "        vertical-align: middle;\n",
       "    }\n",
       "\n",
       "    .dataframe tbody tr th {\n",
       "        vertical-align: top;\n",
       "    }\n",
       "\n",
       "    .dataframe thead th {\n",
       "        text-align: right;\n",
       "    }\n",
       "</style>\n",
       "<table border=\"1\" class=\"dataframe\">\n",
       "  <thead>\n",
       "    <tr style=\"text-align: right;\">\n",
       "      <th></th>\n",
       "      <th>Dataset</th>\n",
       "    </tr>\n",
       "  </thead>\n",
       "  <tbody>\n",
       "    <tr>\n",
       "      <th>0</th>\n",
       "      <td>8</td>\n",
       "    </tr>\n",
       "    <tr>\n",
       "      <th>1</th>\n",
       "      <td>30</td>\n",
       "    </tr>\n",
       "    <tr>\n",
       "      <th>2</th>\n",
       "      <td>30</td>\n",
       "    </tr>\n",
       "    <tr>\n",
       "      <th>3</th>\n",
       "      <td>50</td>\n",
       "    </tr>\n",
       "    <tr>\n",
       "      <th>4</th>\n",
       "      <td>86</td>\n",
       "    </tr>\n",
       "  </tbody>\n",
       "</table>\n",
       "</div>"
      ],
      "text/plain": [
       "   Dataset\n",
       "0        8\n",
       "1       30\n",
       "2       30\n",
       "3       50\n",
       "4       86"
      ]
     },
     "execution_count": 15,
     "metadata": {},
     "output_type": "execute_result"
    }
   ],
   "source": [
    "Dataset.head()"
   ]
  },
  {
   "cell_type": "markdown",
   "id": "bdd85ba7",
   "metadata": {},
   "source": [
    "**Intervals**"
   ]
  },
  {
   "cell_type": "code",
   "execution_count": 16,
   "id": "9b0618a7",
   "metadata": {},
   "outputs": [
    {
     "data": {
      "text/plain": [
       "0        (7.726, 53.667]\n",
       "1        (7.726, 53.667]\n",
       "2        (7.726, 53.667]\n",
       "3        (7.726, 53.667]\n",
       "4       (53.667, 99.333]\n",
       "5       (53.667, 99.333]\n",
       "6        (99.333, 145.0]\n",
       "7        (99.333, 145.0]\n",
       "8       (145.0, 190.667]\n",
       "9       (145.0, 190.667]\n",
       "10      (145.0, 190.667]\n",
       "11    (190.667, 236.333]\n",
       "12      (236.333, 282.0]\n",
       "13      (236.333, 282.0]\n",
       "14      (236.333, 282.0]\n",
       "15      (236.333, 282.0]\n",
       "16      (236.333, 282.0]\n",
       "17      (236.333, 282.0]\n",
       "18      (236.333, 282.0]\n",
       "19      (236.333, 282.0]\n",
       "Name: Dataset, dtype: object"
      ]
     },
     "execution_count": 16,
     "metadata": {},
     "output_type": "execute_result"
    }
   ],
   "source": [
    "pd.cut(Dataset[\"Dataset\"], bins = 6).astype(str)"
   ]
  },
  {
   "cell_type": "code",
   "execution_count": 17,
   "id": "15e58969",
   "metadata": {},
   "outputs": [
    {
     "data": {
      "text/html": [
       "<div>\n",
       "<style scoped>\n",
       "    .dataframe tbody tr th:only-of-type {\n",
       "        vertical-align: middle;\n",
       "    }\n",
       "\n",
       "    .dataframe tbody tr th {\n",
       "        vertical-align: top;\n",
       "    }\n",
       "\n",
       "    .dataframe thead th {\n",
       "        text-align: right;\n",
       "    }\n",
       "</style>\n",
       "<table border=\"1\" class=\"dataframe\">\n",
       "  <thead>\n",
       "    <tr style=\"text-align: right;\">\n",
       "      <th></th>\n",
       "      <th>Dataset</th>\n",
       "    </tr>\n",
       "  </thead>\n",
       "  <tbody>\n",
       "    <tr>\n",
       "      <th>0</th>\n",
       "      <td>(7.726, 53.667]</td>\n",
       "    </tr>\n",
       "    <tr>\n",
       "      <th>4</th>\n",
       "      <td>(53.667, 99.333]</td>\n",
       "    </tr>\n",
       "    <tr>\n",
       "      <th>6</th>\n",
       "      <td>(99.333, 145.0]</td>\n",
       "    </tr>\n",
       "    <tr>\n",
       "      <th>8</th>\n",
       "      <td>(145.0, 190.667]</td>\n",
       "    </tr>\n",
       "    <tr>\n",
       "      <th>11</th>\n",
       "      <td>(190.667, 236.333]</td>\n",
       "    </tr>\n",
       "    <tr>\n",
       "      <th>12</th>\n",
       "      <td>(236.333, 282.0]</td>\n",
       "    </tr>\n",
       "  </tbody>\n",
       "</table>\n",
       "</div>"
      ],
      "text/plain": [
       "               Dataset\n",
       "0      (7.726, 53.667]\n",
       "4     (53.667, 99.333]\n",
       "6      (99.333, 145.0]\n",
       "8     (145.0, 190.667]\n",
       "11  (190.667, 236.333]\n",
       "12    (236.333, 282.0]"
      ]
     },
     "execution_count": 17,
     "metadata": {},
     "output_type": "execute_result"
    }
   ],
   "source": [
    "intervals = pd.cut(Dataset[\"Dataset\"], bins = 6).astype(str)\n",
    "\n",
    "# here we create the absolute and relative frequency\n",
    "absolute = intervals.value_counts()\n",
    "relative = intervals.value_counts(normalize = True)\n",
    "\n",
    "intervals = pd.DataFrame(intervals)\n",
    "\n",
    "intervals = intervals[intervals[\"Dataset\"].duplicated() == False]\n",
    "\n",
    "intervals"
   ]
  },
  {
   "cell_type": "code",
   "execution_count": 18,
   "id": "893b74de",
   "metadata": {},
   "outputs": [],
   "source": [
    "intervals = intervals[\"Dataset\"].str.split(\",\", expand = True)"
   ]
  },
  {
   "cell_type": "code",
   "execution_count": 19,
   "id": "bd77b9a3",
   "metadata": {},
   "outputs": [],
   "source": [
    "intervals = intervals.rename(columns = {0 : \"interval_start\", 1 :  \"intervals_ends\"})"
   ]
  },
  {
   "cell_type": "code",
   "execution_count": 20,
   "id": "9fc76a6b",
   "metadata": {},
   "outputs": [
    {
     "data": {
      "text/html": [
       "<div>\n",
       "<style scoped>\n",
       "    .dataframe tbody tr th:only-of-type {\n",
       "        vertical-align: middle;\n",
       "    }\n",
       "\n",
       "    .dataframe tbody tr th {\n",
       "        vertical-align: top;\n",
       "    }\n",
       "\n",
       "    .dataframe thead th {\n",
       "        text-align: right;\n",
       "    }\n",
       "</style>\n",
       "<table border=\"1\" class=\"dataframe\">\n",
       "  <thead>\n",
       "    <tr style=\"text-align: right;\">\n",
       "      <th></th>\n",
       "      <th>interval_start</th>\n",
       "      <th>intervals_ends</th>\n",
       "    </tr>\n",
       "  </thead>\n",
       "  <tbody>\n",
       "    <tr>\n",
       "      <th>0</th>\n",
       "      <td>7.726</td>\n",
       "      <td>53.667</td>\n",
       "    </tr>\n",
       "    <tr>\n",
       "      <th>4</th>\n",
       "      <td>53.667</td>\n",
       "      <td>99.333</td>\n",
       "    </tr>\n",
       "    <tr>\n",
       "      <th>6</th>\n",
       "      <td>99.333</td>\n",
       "      <td>145.0</td>\n",
       "    </tr>\n",
       "    <tr>\n",
       "      <th>8</th>\n",
       "      <td>145.0</td>\n",
       "      <td>190.667</td>\n",
       "    </tr>\n",
       "    <tr>\n",
       "      <th>11</th>\n",
       "      <td>190.667</td>\n",
       "      <td>236.333</td>\n",
       "    </tr>\n",
       "    <tr>\n",
       "      <th>12</th>\n",
       "      <td>236.333</td>\n",
       "      <td>282.0</td>\n",
       "    </tr>\n",
       "  </tbody>\n",
       "</table>\n",
       "</div>"
      ],
      "text/plain": [
       "   interval_start intervals_ends\n",
       "0           7.726         53.667\n",
       "4          53.667         99.333\n",
       "6          99.333          145.0\n",
       "8           145.0        190.667\n",
       "11        190.667        236.333\n",
       "12        236.333          282.0"
      ]
     },
     "execution_count": 20,
     "metadata": {},
     "output_type": "execute_result"
    }
   ],
   "source": [
    "intervals[\"interval_start\"] = intervals[\"interval_start\"].apply(lambda x : x[1:])\n",
    "\n",
    "intervals[\"intervals_ends\"] = intervals[\"intervals_ends\"].apply(lambda x : x.replace(\"]\", \"\"))\n",
    "\n",
    "intervals"
   ]
  },
  {
   "cell_type": "markdown",
   "id": "2af02e8e",
   "metadata": {},
   "source": [
    "**Combining**"
   ]
  },
  {
   "cell_type": "code",
   "execution_count": 21,
   "id": "ded877ef",
   "metadata": {},
   "outputs": [],
   "source": [
    "# we need to match the index of relative and absolute for aligment \n",
    "absolute.index = intervals.index\n",
    "relative.index = intervals.index\n",
    "\n",
    "absolute = absolute.rename(\"absolute_frequency\")\n",
    "relative = relative.rename(\"relative_frequency\")"
   ]
  },
  {
   "cell_type": "code",
   "execution_count": 22,
   "id": "aa6e9681",
   "metadata": {},
   "outputs": [
    {
     "data": {
      "text/html": [
       "<div>\n",
       "<style scoped>\n",
       "    .dataframe tbody tr th:only-of-type {\n",
       "        vertical-align: middle;\n",
       "    }\n",
       "\n",
       "    .dataframe tbody tr th {\n",
       "        vertical-align: top;\n",
       "    }\n",
       "\n",
       "    .dataframe thead th {\n",
       "        text-align: right;\n",
       "    }\n",
       "</style>\n",
       "<table border=\"1\" class=\"dataframe\">\n",
       "  <thead>\n",
       "    <tr style=\"text-align: right;\">\n",
       "      <th></th>\n",
       "      <th>interval_start</th>\n",
       "      <th>intervals_ends</th>\n",
       "      <th>absolute_frequency</th>\n",
       "      <th>relative_frequency</th>\n",
       "    </tr>\n",
       "  </thead>\n",
       "  <tbody>\n",
       "    <tr>\n",
       "      <th>0</th>\n",
       "      <td>7.726</td>\n",
       "      <td>53.667</td>\n",
       "      <td>8</td>\n",
       "      <td>0.40</td>\n",
       "    </tr>\n",
       "    <tr>\n",
       "      <th>4</th>\n",
       "      <td>53.667</td>\n",
       "      <td>99.333</td>\n",
       "      <td>4</td>\n",
       "      <td>0.20</td>\n",
       "    </tr>\n",
       "    <tr>\n",
       "      <th>6</th>\n",
       "      <td>99.333</td>\n",
       "      <td>145.0</td>\n",
       "      <td>3</td>\n",
       "      <td>0.15</td>\n",
       "    </tr>\n",
       "    <tr>\n",
       "      <th>8</th>\n",
       "      <td>145.0</td>\n",
       "      <td>190.667</td>\n",
       "      <td>2</td>\n",
       "      <td>0.10</td>\n",
       "    </tr>\n",
       "    <tr>\n",
       "      <th>11</th>\n",
       "      <td>190.667</td>\n",
       "      <td>236.333</td>\n",
       "      <td>2</td>\n",
       "      <td>0.10</td>\n",
       "    </tr>\n",
       "    <tr>\n",
       "      <th>12</th>\n",
       "      <td>236.333</td>\n",
       "      <td>282.0</td>\n",
       "      <td>1</td>\n",
       "      <td>0.05</td>\n",
       "    </tr>\n",
       "  </tbody>\n",
       "</table>\n",
       "</div>"
      ],
      "text/plain": [
       "   interval_start intervals_ends  absolute_frequency  relative_frequency\n",
       "0           7.726         53.667                   8                0.40\n",
       "4          53.667         99.333                   4                0.20\n",
       "6          99.333          145.0                   3                0.15\n",
       "8           145.0        190.667                   2                0.10\n",
       "11        190.667        236.333                   2                0.10\n",
       "12        236.333          282.0                   1                0.05"
      ]
     },
     "execution_count": 22,
     "metadata": {},
     "output_type": "execute_result"
    }
   ],
   "source": [
    "pd.concat([intervals, absolute, relative], axis = 1)"
   ]
  },
  {
   "cell_type": "code",
   "execution_count": 23,
   "id": "5c05e9a0",
   "metadata": {},
   "outputs": [
    {
     "data": {
      "image/png": "[encoded data removed]",
      "text/plain": [
       "<Figure size 640x480 with 1 Axes>"
      ]
     },
     "metadata": {},
     "output_type": "display_data"
    }
   ],
   "source": [
    "plt.hist(Dataset, bins = 6, color = \"#ff5e57\", edgecolor = \"#1e272e\")\n",
    "plt.show()"
   ]
  },
  {
   "cell_type": "markdown",
   "id": "2188b73f",
   "metadata": {},
   "source": [
    "# **S3_L13**"
   ]
  },
  {
   "cell_type": "markdown",
   "id": "b6ba21e6",
   "metadata": {},
   "source": [
    "Background:\n",
    "\n",
    "You have employment data about country X. You have been asked to prepare a cross-table showing that data.\t\t\t\t\t\t\t\t\t\t\t\t\n",
    "1. 60% of 18 to 25-year-olds are employed\t\t\t\t\t\t\t\t\t\t\t\t\n",
    "2. 85% of 25 to 35-year-olds are employed\t\t\t\t\t\t\t\t\t\t\t\t\n",
    "3. 5% of 35 to 45-year-olds are unemployed\t\t\t\t\t\t\t\t\t\t\t\t\n",
    "4. 3% of 45 to 55-year-olds are unemployed\t\t\t\t\t\t\t\t\t\t\t\t\n",
    "5. 3% of 55 to 65-year-olds are unemployed\t\t\t\t\t\t\t\t\t\t\t\t\n",
    "6. All 65+ are employed. Note: the definition of unemployed is: without a job, but actively searching for one. That's probably why all 65+s are employed.\t\t\t\t\t\t\t\t\t\t\t\t\n",
    "\n",
    "Task 1\tCreate a cross table summarizing the data you have been given.\t\t\t\t\t\t\t\t\t\t\t\t\n",
    "\n",
    "Task 2\tCreate a side-by-side bar chart (it is called clustered column chart in Excel), in order to visually enhance your summary.\t\t\t\t\t\t\t\t\t\t\t\t"
   ]
  },
  {
   "cell_type": "code",
   "execution_count": 24,
   "id": "9721c2e1",
   "metadata": {},
   "outputs": [],
   "source": [
    "employment = pd.DataFrame({\"Employed\" : [60, 85, 95, 97, 97, 100]}, \n",
    "             index = [\"18-25\", \"25-35\", \"35-45\", \"45-55\", \"55-65\", \"+65\"])\n",
    "\n",
    "employment.index.names = [\"employment %\"]"
   ]
  },
  {
   "cell_type": "code",
   "execution_count": 25,
   "id": "f5d3aacd",
   "metadata": {},
   "outputs": [],
   "source": [
    "employment[\"Unemployed\"] = 100 - employment[\"Employed\"]"
   ]
  },
  {
   "cell_type": "code",
   "execution_count": 26,
   "id": "b2c481d3",
   "metadata": {},
   "outputs": [
    {
     "data": {
      "text/html": [
       "<div>\n",
       "<style scoped>\n",
       "    .dataframe tbody tr th:only-of-type {\n",
       "        vertical-align: middle;\n",
       "    }\n",
       "\n",
       "    .dataframe tbody tr th {\n",
       "        vertical-align: top;\n",
       "    }\n",
       "\n",
       "    .dataframe thead th {\n",
       "        text-align: right;\n",
       "    }\n",
       "</style>\n",
       "<table border=\"1\" class=\"dataframe\">\n",
       "  <thead>\n",
       "    <tr style=\"text-align: right;\">\n",
       "      <th></th>\n",
       "      <th>Employed</th>\n",
       "      <th>Unemployed</th>\n",
       "    </tr>\n",
       "    <tr>\n",
       "      <th>employment %</th>\n",
       "      <th></th>\n",
       "      <th></th>\n",
       "    </tr>\n",
       "  </thead>\n",
       "  <tbody>\n",
       "    <tr>\n",
       "      <th>18-25</th>\n",
       "      <td>60</td>\n",
       "      <td>40</td>\n",
       "    </tr>\n",
       "    <tr>\n",
       "      <th>25-35</th>\n",
       "      <td>85</td>\n",
       "      <td>15</td>\n",
       "    </tr>\n",
       "    <tr>\n",
       "      <th>35-45</th>\n",
       "      <td>95</td>\n",
       "      <td>5</td>\n",
       "    </tr>\n",
       "    <tr>\n",
       "      <th>45-55</th>\n",
       "      <td>97</td>\n",
       "      <td>3</td>\n",
       "    </tr>\n",
       "    <tr>\n",
       "      <th>55-65</th>\n",
       "      <td>97</td>\n",
       "      <td>3</td>\n",
       "    </tr>\n",
       "    <tr>\n",
       "      <th>+65</th>\n",
       "      <td>100</td>\n",
       "      <td>0</td>\n",
       "    </tr>\n",
       "  </tbody>\n",
       "</table>\n",
       "</div>"
      ],
      "text/plain": [
       "              Employed  Unemployed\n",
       "employment %                      \n",
       "18-25               60          40\n",
       "25-35               85          15\n",
       "35-45               95           5\n",
       "45-55               97           3\n",
       "55-65               97           3\n",
       "+65                100           0"
      ]
     },
     "execution_count": 26,
     "metadata": {},
     "output_type": "execute_result"
    }
   ],
   "source": [
    "employment"
   ]
  },
  {
   "cell_type": "code",
   "execution_count": 27,
   "id": "76237319",
   "metadata": {},
   "outputs": [],
   "source": [
    "employment[\"total\"] = employment[\"Employed\"] + employment[\"Unemployed\"]"
   ]
  },
  {
   "cell_type": "code",
   "execution_count": 28,
   "id": "a34ab733",
   "metadata": {},
   "outputs": [],
   "source": [
    "employment.loc[\"total\", [\"Employed\"]] = employment[\"Employed\"].sum() \n",
    "\n",
    "employment.loc[\"total\", [\"Unemployed\"]] = employment[\"Unemployed\"].sum() \n",
    "\n",
    "employment.loc[\"total\", [\"total\"]] = employment[\"total\"].sum() "
   ]
  },
  {
   "cell_type": "code",
   "execution_count": 29,
   "id": "852e5550",
   "metadata": {},
   "outputs": [
    {
     "data": {
      "text/html": [
       "<div>\n",
       "<style scoped>\n",
       "    .dataframe tbody tr th:only-of-type {\n",
       "        vertical-align: middle;\n",
       "    }\n",
       "\n",
       "    .dataframe tbody tr th {\n",
       "        vertical-align: top;\n",
       "    }\n",
       "\n",
       "    .dataframe thead th {\n",
       "        text-align: right;\n",
       "    }\n",
       "</style>\n",
       "<table border=\"1\" class=\"dataframe\">\n",
       "  <thead>\n",
       "    <tr style=\"text-align: right;\">\n",
       "      <th></th>\n",
       "      <th>Employed</th>\n",
       "      <th>Unemployed</th>\n",
       "      <th>total</th>\n",
       "    </tr>\n",
       "    <tr>\n",
       "      <th>employment %</th>\n",
       "      <th></th>\n",
       "      <th></th>\n",
       "      <th></th>\n",
       "    </tr>\n",
       "  </thead>\n",
       "  <tbody>\n",
       "    <tr>\n",
       "      <th>18-25</th>\n",
       "      <td>60.0</td>\n",
       "      <td>40.0</td>\n",
       "      <td>100.0</td>\n",
       "    </tr>\n",
       "    <tr>\n",
       "      <th>25-35</th>\n",
       "      <td>85.0</td>\n",
       "      <td>15.0</td>\n",
       "      <td>100.0</td>\n",
       "    </tr>\n",
       "    <tr>\n",
       "      <th>35-45</th>\n",
       "      <td>95.0</td>\n",
       "      <td>5.0</td>\n",
       "      <td>100.0</td>\n",
       "    </tr>\n",
       "    <tr>\n",
       "      <th>45-55</th>\n",
       "      <td>97.0</td>\n",
       "      <td>3.0</td>\n",
       "      <td>100.0</td>\n",
       "    </tr>\n",
       "    <tr>\n",
       "      <th>55-65</th>\n",
       "      <td>97.0</td>\n",
       "      <td>3.0</td>\n",
       "      <td>100.0</td>\n",
       "    </tr>\n",
       "    <tr>\n",
       "      <th>+65</th>\n",
       "      <td>100.0</td>\n",
       "      <td>0.0</td>\n",
       "      <td>100.0</td>\n",
       "    </tr>\n",
       "    <tr>\n",
       "      <th>total</th>\n",
       "      <td>534.0</td>\n",
       "      <td>66.0</td>\n",
       "      <td>600.0</td>\n",
       "    </tr>\n",
       "  </tbody>\n",
       "</table>\n",
       "</div>"
      ],
      "text/plain": [
       "              Employed  Unemployed  total\n",
       "employment %                             \n",
       "18-25             60.0        40.0  100.0\n",
       "25-35             85.0        15.0  100.0\n",
       "35-45             95.0         5.0  100.0\n",
       "45-55             97.0         3.0  100.0\n",
       "55-65             97.0         3.0  100.0\n",
       "+65              100.0         0.0  100.0\n",
       "total            534.0        66.0  600.0"
      ]
     },
     "execution_count": 29,
     "metadata": {},
     "output_type": "execute_result"
    }
   ],
   "source": [
    "employment"
   ]
  },
  {
   "cell_type": "markdown",
   "id": "56285bed",
   "metadata": {},
   "source": [
    "**Create a side-by-side bar chart (it is called clustered column chart in Excel), in order to visually enhance your summary.**"
   ]
  },
  {
   "cell_type": "code",
   "execution_count": 30,
   "id": "dc89dc9d",
   "metadata": {
    "scrolled": true
   },
   "outputs": [
    {
     "data": {
      "text/html": [
       "<div>\n",
       "<style scoped>\n",
       "    .dataframe tbody tr th:only-of-type {\n",
       "        vertical-align: middle;\n",
       "    }\n",
       "\n",
       "    .dataframe tbody tr th {\n",
       "        vertical-align: top;\n",
       "    }\n",
       "\n",
       "    .dataframe thead th {\n",
       "        text-align: right;\n",
       "    }\n",
       "</style>\n",
       "<table border=\"1\" class=\"dataframe\">\n",
       "  <thead>\n",
       "    <tr style=\"text-align: right;\">\n",
       "      <th></th>\n",
       "      <th>Employed</th>\n",
       "      <th>Unemployed</th>\n",
       "      <th>total</th>\n",
       "    </tr>\n",
       "    <tr>\n",
       "      <th>employment %</th>\n",
       "      <th></th>\n",
       "      <th></th>\n",
       "      <th></th>\n",
       "    </tr>\n",
       "  </thead>\n",
       "  <tbody>\n",
       "    <tr>\n",
       "      <th>18-25</th>\n",
       "      <td>60.0</td>\n",
       "      <td>40.0</td>\n",
       "      <td>100.0</td>\n",
       "    </tr>\n",
       "    <tr>\n",
       "      <th>25-35</th>\n",
       "      <td>85.0</td>\n",
       "      <td>15.0</td>\n",
       "      <td>100.0</td>\n",
       "    </tr>\n",
       "    <tr>\n",
       "      <th>35-45</th>\n",
       "      <td>95.0</td>\n",
       "      <td>5.0</td>\n",
       "      <td>100.0</td>\n",
       "    </tr>\n",
       "    <tr>\n",
       "      <th>45-55</th>\n",
       "      <td>97.0</td>\n",
       "      <td>3.0</td>\n",
       "      <td>100.0</td>\n",
       "    </tr>\n",
       "    <tr>\n",
       "      <th>55-65</th>\n",
       "      <td>97.0</td>\n",
       "      <td>3.0</td>\n",
       "      <td>100.0</td>\n",
       "    </tr>\n",
       "    <tr>\n",
       "      <th>+65</th>\n",
       "      <td>100.0</td>\n",
       "      <td>0.0</td>\n",
       "      <td>100.0</td>\n",
       "    </tr>\n",
       "  </tbody>\n",
       "</table>\n",
       "</div>"
      ],
      "text/plain": [
       "              Employed  Unemployed  total\n",
       "employment %                             \n",
       "18-25             60.0        40.0  100.0\n",
       "25-35             85.0        15.0  100.0\n",
       "35-45             95.0         5.0  100.0\n",
       "45-55             97.0         3.0  100.0\n",
       "55-65             97.0         3.0  100.0\n",
       "+65              100.0         0.0  100.0"
      ]
     },
     "execution_count": 30,
     "metadata": {},
     "output_type": "execute_result"
    }
   ],
   "source": [
    "employment = employment.drop(\"total\", axis = 0)\n",
    "employment"
   ]
  },
  {
   "cell_type": "code",
   "execution_count": 31,
   "id": "18e180ec",
   "metadata": {},
   "outputs": [
    {
     "data": {
      "image/png": "[encoded data removed]",
      "text/plain": [
       "<Figure size 640x480 with 1 Axes>"
      ]
     },
     "metadata": {},
     "output_type": "display_data"
    }
   ],
   "source": [
    "plt.bar(x = employment.index, height = employment[\"Employed\"], color = \"#ffd32a\", label = \"Employed\", width = 0.6)\n",
    "\n",
    "plt.bar(x = employment.index, height = employment[\"Unemployed\"], color = \"#ff3f34\", label = \"Unemployed\", width = 0.6)\n",
    "\n",
    "plt.legend(loc = (1, 1))\n",
    "plt.xlabel(\"Ages\")\n",
    "plt.ylabel(\"Percentage of Employment %\")\n",
    "plt.show()"
   ]
  },
  {
   "cell_type": "markdown",
   "id": "b2505daf",
   "metadata": {},
   "source": [
    "# Ended 14/09/2023"
   ]
  },
  {
   "cell_type": "code",
   "execution_count": null,
   "id": "b133630e",
   "metadata": {},
   "outputs": [],
   "source": []
  }
 ],
 "metadata": {
  "kernelspec": {
   "display_name": "Python 3 (ipykernel)",
   "language": "python",
   "name": "python3"
  },
  "language_info": {
   "codemirror_mode": {
    "name": "ipython",
    "version": 3
   },
   "file_extension": ".py",
   "mimetype": "text/x-python",
   "name": "python",
   "nbconvert_exporter": "python",
   "pygments_lexer": "ipython3",
   "version": "3.11.4"
  }
 },
 "nbformat": 4,
 "nbformat_minor": 5
}
