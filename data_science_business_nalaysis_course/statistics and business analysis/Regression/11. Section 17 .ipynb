{
 "cells": [
  {
   "cell_type": "code",
   "execution_count": null,
   "id": "4540d812",
   "metadata": {},
   "outputs": [],
   "source": [
    "import pandas as pd\n",
    "import numpy as np\n",
    "import seaborn as sns\n",
    "import matplotlib.pyplot as plt\n",
    "%matplotlib inline"
   ]
  },
  {
   "cell_type": "markdown",
   "id": "3b0bc31c",
   "metadata": {},
   "source": [
    "# S17_L91 Practical example regression analysis"
   ]
  },
  {
   "cell_type": "code",
   "execution_count": null,
   "id": "f83ca5b6",
   "metadata": {},
   "outputs": [],
   "source": [
    "cars = pd.read_excel(\"S17_L91\\cars2.xlsx\")\n",
    "cars.head()"
   ]
  },
  {
   "cell_type": "markdown",
   "id": "0f6d92d1",
   "metadata": {},
   "source": [
    "**We want to predict the price of these used cars depeding of the features mentioned in the columns, the regressors**"
   ]
  },
  {
   "cell_type": "markdown",
   "id": "17294c77",
   "metadata": {},
   "source": [
    "**These are the features organized based on importance of predicting the value of a car**\n",
    "\n",
    "1. The first potential regressor is the brand \n",
    "2. Mileage is another important feature, the more the car is driven, the cheaper it should be\n",
    "3. The engine Volumne, sport cars have bigger engines and economic cars have smaller engines\n",
    "4. Year of pridcution, the older the car the cheaper it is excepting vintage vehicles. "
   ]
  },
  {
   "cell_type": "markdown",
   "id": "f13a4e3d",
   "metadata": {},
   "source": [
    "# Task 1: Finding missing values"
   ]
  },
  {
   "cell_type": "code",
   "execution_count": null,
   "id": "52e03e04",
   "metadata": {},
   "outputs": [],
   "source": [
    "cars.info()"
   ]
  },
  {
   "cell_type": "markdown",
   "id": "1e41fb9d",
   "metadata": {},
   "source": [
    "Looks like all is fine no missing values. In this course in the case of having missing values it is recommended removing 5% of the data at most.  "
   ]
  },
  {
   "cell_type": "code",
   "execution_count": null,
   "id": "51e884b9",
   "metadata": {},
   "outputs": [],
   "source": [
    "cars[\"Brand\"].value_counts() "
   ]
  },
  {
   "cell_type": "markdown",
   "id": "6d908e37",
   "metadata": {},
   "source": [
    "Brand is categorical data, so we are going to use dummy variables, price is the dependent variable of this regressor."
   ]
  },
  {
   "cell_type": "markdown",
   "id": "529c0ee8",
   "metadata": {},
   "source": [
    "# Task 2: plotting scatterplots, with each independent variable with a dependent variable which in this case is the price of the car."
   ]
  },
  {
   "cell_type": "code",
   "execution_count": null,
   "id": "69028278",
   "metadata": {},
   "outputs": [],
   "source": [
    "sns.scatterplot(x = cars[\"Mileage\"], y = cars[\"Price\"], data = cars, color = \"#ff3f34\") # price and Mileage\n",
    "plt.plot()"
   ]
  },
  {
   "cell_type": "code",
   "execution_count": null,
   "id": "9b29c4ef",
   "metadata": {},
   "outputs": [],
   "source": [
    "sns.scatterplot(x = cars[\"Year\"], y = cars[\"Price\"], data = cars, color = \"#3c40c6\") # price and Year\n",
    "plt.plot()"
   ]
  },
  {
   "cell_type": "code",
   "execution_count": null,
   "id": "815fea9a",
   "metadata": {},
   "outputs": [],
   "source": [
    "sns.scatterplot(x = cars[\"EngineV\"], y = cars[\"Price\"], data = cars, color = \"#0fbcf9\") # price and Year\n",
    "plt.plot()"
   ]
  },
  {
   "cell_type": "markdown",
   "id": "045f65fb",
   "metadata": {},
   "source": [
    "There are some patterns but definitely non linear patterns, one of the assumptions of linear regression is that the correlation between a dependent and independent variable should be linear, we can fix this changing the data, transform the scale the standard scale, we are going to use **Log transformation** it is especially useful when we are facing exponential scatterplots like these. "
   ]
  },
  {
   "cell_type": "code",
   "execution_count": null,
   "id": "f97acfcc",
   "metadata": {},
   "outputs": [],
   "source": [
    "cars[\"Price\"].head()"
   ]
  },
  {
   "cell_type": "code",
   "execution_count": null,
   "id": "e1881f3a",
   "metadata": {},
   "outputs": [],
   "source": [
    "np.log10(cars[\"Price\"]).head() # in the course we used the log with base 10 but in numpy np.log is with e"
   ]
  },
  {
   "cell_type": "markdown",
   "id": "8976de71",
   "metadata": {},
   "source": [
    "The columns of the dataset downloaded from excel have already the logarithmic form in other numerical columns. "
   ]
  },
  {
   "cell_type": "markdown",
   "id": "9235f03e",
   "metadata": {},
   "source": [
    "# Taks 3: Plotting the scatter plots with logarithmic transformation and normal version"
   ]
  },
  {
   "cell_type": "markdown",
   "id": "f1829bdd",
   "metadata": {},
   "source": [
    "**Mileage**"
   ]
  },
  {
   "cell_type": "code",
   "execution_count": null,
   "id": "2decc9e1",
   "metadata": {},
   "outputs": [],
   "source": [
    "sns.lmplot(y = \"log_price\", \n",
    "           x = \"Mileage\", \n",
    "           data = cars, \n",
    "           line_kws={\"color\": \"#ff3f34\"},\n",
    "           scatter_kws={\"color\": \"#1e272e\"})\n",
    "\n",
    "sns.lmplot(y = \"Price\", \n",
    "           x = \"Mileage\", \n",
    "           data = cars, \n",
    "           line_kws={\"color\": \"#ff3f34\"},\n",
    "           scatter_kws={\"color\": \"#1e272e\"})\n",
    "\n",
    "plt.show()"
   ]
  },
  {
   "cell_type": "markdown",
   "id": "7841707e",
   "metadata": {},
   "source": [
    "**Year**"
   ]
  },
  {
   "cell_type": "code",
   "execution_count": null,
   "id": "75a91d07",
   "metadata": {},
   "outputs": [],
   "source": [
    "sns.lmplot(y = \"log_price\", \n",
    "           x = \"Year\", \n",
    "           data = cars, \n",
    "           line_kws={\"color\": \"#ff3f34\"},\n",
    "           scatter_kws={\"color\": \"#1e272e\"})\n",
    "\n",
    "sns.lmplot(y = \"Price\", \n",
    "           x = \"Year\", \n",
    "           data = cars, \n",
    "           line_kws={\"color\": \"#ff3f34\"},\n",
    "           scatter_kws={\"color\": \"#1e272e\"})\n",
    "\n",
    "plt.show()"
   ]
  },
  {
   "cell_type": "markdown",
   "id": "754f56f5",
   "metadata": {},
   "source": [
    "**Engine V**"
   ]
  },
  {
   "cell_type": "code",
   "execution_count": null,
   "id": "9197a015",
   "metadata": {},
   "outputs": [],
   "source": [
    "sns.lmplot(y = \"log_price\", \n",
    "           x = \"EngineV\", \n",
    "           data = cars, \n",
    "           line_kws={\"color\": \"#ff3f34\"},\n",
    "           scatter_kws={\"color\": \"#1e272e\"})\n",
    "\n",
    "sns.lmplot(y = \"Price\", \n",
    "           x = \"EngineV\", \n",
    "           data = cars, \n",
    "           line_kws={\"color\": \"#ff3f34\"},\n",
    "           scatter_kws={\"color\": \"#1e272e\"})\n",
    "\n",
    "plt.show()"
   ]
  },
  {
   "cell_type": "markdown",
   "id": "9d39db49",
   "metadata": {},
   "source": [
    "The lines fits the data so much better when we see the price in a log10 version. We can have a log price and log mileage scatterplot. "
   ]
  },
  {
   "cell_type": "code",
   "execution_count": null,
   "id": "329e9c21",
   "metadata": {},
   "outputs": [],
   "source": [
    "sns.lmplot(y = \"log_price\", \n",
    "           x = \"log_mileage\", \n",
    "           data = cars, \n",
    "           line_kws={\"color\": \"#ff3f34\"},\n",
    "           scatter_kws={\"color\": \"#1e272e\"})\n",
    "\n",
    "sns.lmplot(y = \"Price\", \n",
    "           x = \"Mileage\", \n",
    "           data = cars, \n",
    "           line_kws={\"color\": \"#ff3f34\"},\n",
    "           scatter_kws={\"color\": \"#1e272e\"})\n",
    "\n",
    "plt.show()"
   ]
  },
  {
   "cell_type": "markdown",
   "id": "3a40df32",
   "metadata": {},
   "source": [
    "Some Assumptions in regression analysis\n",
    "\n",
    "**No endogeneity** is not violated\n",
    "\n",
    "**Normality** is not violated \n",
    "\n",
    "**0 mean and homeoscedasticity** (this last one fixed when trasforming to log10) not violated\n",
    "\n",
    "**No autocorrelation** we have cross sectional data, not time series data. \n",
    "\n",
    "**No multicollinearyty**"
   ]
  },
  {
   "cell_type": "code",
   "execution_count": null,
   "id": "12ac7daf",
   "metadata": {},
   "outputs": [],
   "source": [
    "sns.heatmap(cars.loc[:, [\"Mileage\", \"Year\", \"EngineV\"]].corr(numeric_only = True), annot = True, cmap = \"coolwarm\") \n",
    "plt.show()\n",
    "# there is not correlation between the independent variables we are using. "
   ]
  },
  {
   "cell_type": "markdown",
   "id": "68e92ef5",
   "metadata": {},
   "source": [
    "# Task 4: Create the dummy variables for categorical data"
   ]
  },
  {
   "cell_type": "code",
   "execution_count": null,
   "id": "f8919fb8",
   "metadata": {},
   "outputs": [],
   "source": [
    "brands = pd.get_dummies(cars[\"Brand\"])\n",
    "\n",
    "brands = brands.drop(\"Volkswagen\", axis = 1) # we need to drop the last column to avoid collinearity n -1 dummies\n",
    "brands.head()"
   ]
  },
  {
   "cell_type": "code",
   "execution_count": null,
   "id": "8157281f",
   "metadata": {},
   "outputs": [],
   "source": []
  },
  {
   "cell_type": "code",
   "execution_count": null,
   "id": "74b6199b",
   "metadata": {},
   "outputs": [],
   "source": []
  }
 ],
 "metadata": {
  "kernelspec": {
   "display_name": "Python 3 (ipykernel)",
   "language": "python",
   "name": "python3"
  },
  "language_info": {
   "codemirror_mode": {
    "name": "ipython",
    "version": 3
   },
   "file_extension": ".py",
   "mimetype": "text/x-python",
   "name": "python",
   "nbconvert_exporter": "python",
   "pygments_lexer": "ipython3",
   "version": "3.11.4"
  }
 },
 "nbformat": 4,
 "nbformat_minor": 5
}
