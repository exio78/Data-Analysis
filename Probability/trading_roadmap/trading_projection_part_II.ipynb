{
 "cells": [
  {
   "cell_type": "markdown",
   "id": "242c0c9f",
   "metadata": {},
   "source": [
    "# 22/01/2024 Trading projection analysis, Regression"
   ]
  },
  {
   "cell_type": "code",
   "execution_count": 1,
   "id": "3f964940",
   "metadata": {},
   "outputs": [],
   "source": [
    "import pandas as pd\n",
    "import numpy as np\n",
    "import matplotlib.pyplot as plt\n",
    "import seaborn as sns\n",
    "#plt.style.use(\"fivethirtyeight\")\n",
    "plt.style.use(\"bmh\")"
   ]
  },
  {
   "cell_type": "code",
   "execution_count": 2,
   "id": "452ae7c4",
   "metadata": {},
   "outputs": [
    {
     "data": {
      "text/html": [
       "<div>\n",
       "<style scoped>\n",
       "    .dataframe tbody tr th:only-of-type {\n",
       "        vertical-align: middle;\n",
       "    }\n",
       "\n",
       "    .dataframe tbody tr th {\n",
       "        vertical-align: top;\n",
       "    }\n",
       "\n",
       "    .dataframe thead th {\n",
       "        text-align: right;\n",
       "    }\n",
       "</style>\n",
       "<table border=\"1\" class=\"dataframe\">\n",
       "  <thead>\n",
       "    <tr style=\"text-align: right;\">\n",
       "      <th></th>\n",
       "      <th>jan 1-6</th>\n",
       "      <th>jan 8-13</th>\n",
       "      <th>jan 15-20</th>\n",
       "      <th>jan 22-27</th>\n",
       "      <th>Jan-Febr 29-3</th>\n",
       "      <th>Feb 5-10</th>\n",
       "      <th>Feb 12-17</th>\n",
       "      <th>Feb 19-24</th>\n",
       "      <th>Feb-March 26-3</th>\n",
       "      <th>March 5-10</th>\n",
       "      <th>...</th>\n",
       "      <th>Oct 22-27</th>\n",
       "      <th>Oct-Nov 29-3</th>\n",
       "      <th>Nov 5-10</th>\n",
       "      <th>Nov 12-17</th>\n",
       "      <th>Nov 19-24</th>\n",
       "      <th>Nov-Dec 26-1</th>\n",
       "      <th>Dec 3-8</th>\n",
       "      <th>Dec 10-15</th>\n",
       "      <th>Dec 17-22</th>\n",
       "      <th>Dec 24-29</th>\n",
       "    </tr>\n",
       "  </thead>\n",
       "  <tbody>\n",
       "    <tr>\n",
       "      <th>0</th>\n",
       "      <td>-0.38</td>\n",
       "      <td>-2.65</td>\n",
       "      <td>-0.12</td>\n",
       "      <td>1.76</td>\n",
       "      <td>3.88</td>\n",
       "      <td>2.82</td>\n",
       "      <td>4.29</td>\n",
       "      <td>3.61</td>\n",
       "      <td>-3.97</td>\n",
       "      <td>1.24</td>\n",
       "      <td>...</td>\n",
       "      <td>2</td>\n",
       "      <td>0.35</td>\n",
       "      <td>2</td>\n",
       "      <td>-2.42</td>\n",
       "      <td>-2.94</td>\n",
       "      <td>2.1</td>\n",
       "      <td>-5.46</td>\n",
       "      <td>2.06</td>\n",
       "      <td>2.6</td>\n",
       "      <td>2.01</td>\n",
       "    </tr>\n",
       "  </tbody>\n",
       "</table>\n",
       "<p>1 rows × 52 columns</p>\n",
       "</div>"
      ],
      "text/plain": [
       "   jan 1-6  jan 8-13  jan 15-20  jan 22-27  Jan-Febr 29-3  Feb 5-10  \\\n",
       "0    -0.38     -2.65      -0.12       1.76           3.88      2.82   \n",
       "\n",
       "   Feb 12-17  Feb 19-24  Feb-March 26-3  March 5-10  ...  Oct 22-27  \\\n",
       "0       4.29       3.61           -3.97        1.24  ...          2   \n",
       "\n",
       "   Oct-Nov 29-3  Nov 5-10  Nov 12-17  Nov 19-24  Nov-Dec 26-1  Dec 3-8  \\\n",
       "0          0.35         2      -2.42      -2.94           2.1    -5.46   \n",
       "\n",
       "   Dec 10-15  Dec 17-22  Dec 24-29  \n",
       "0       2.06        2.6       2.01  \n",
       "\n",
       "[1 rows x 52 columns]"
      ]
     },
     "execution_count": 2,
     "metadata": {},
     "output_type": "execute_result"
    }
   ],
   "source": [
    "pd.read_excel(\"Timeline_2023.xlsx\") # reading the excel file with my trading results 2023"
   ]
  },
  {
   "cell_type": "code",
   "execution_count": 3,
   "id": "e3c1cbe5",
   "metadata": {},
   "outputs": [],
   "source": [
    "timeline_2023 = pd.read_excel(\"Timeline_2023.xlsx\")"
   ]
  },
  {
   "cell_type": "code",
   "execution_count": 4,
   "id": "613c75bb",
   "metadata": {},
   "outputs": [],
   "source": [
    "timeline_2023 = timeline_2023.T"
   ]
  },
  {
   "cell_type": "code",
   "execution_count": 5,
   "id": "e5475424",
   "metadata": {},
   "outputs": [],
   "source": [
    "timeline_2023 = timeline_2023.rename(columns = {0 : \"results_week_percentage\"})"
   ]
  },
  {
   "cell_type": "code",
   "execution_count": 6,
   "id": "383b1a12",
   "metadata": {},
   "outputs": [
    {
     "data": {
      "text/html": [
       "<div>\n",
       "<style scoped>\n",
       "    .dataframe tbody tr th:only-of-type {\n",
       "        vertical-align: middle;\n",
       "    }\n",
       "\n",
       "    .dataframe tbody tr th {\n",
       "        vertical-align: top;\n",
       "    }\n",
       "\n",
       "    .dataframe thead th {\n",
       "        text-align: right;\n",
       "    }\n",
       "</style>\n",
       "<table border=\"1\" class=\"dataframe\">\n",
       "  <thead>\n",
       "    <tr style=\"text-align: right;\">\n",
       "      <th></th>\n",
       "      <th>results_week_percentage</th>\n",
       "    </tr>\n",
       "  </thead>\n",
       "  <tbody>\n",
       "    <tr>\n",
       "      <th>jan 1-6</th>\n",
       "      <td>-0.38</td>\n",
       "    </tr>\n",
       "    <tr>\n",
       "      <th>jan 8-13</th>\n",
       "      <td>-2.65</td>\n",
       "    </tr>\n",
       "    <tr>\n",
       "      <th>jan 15-20</th>\n",
       "      <td>-0.12</td>\n",
       "    </tr>\n",
       "    <tr>\n",
       "      <th>jan 22-27</th>\n",
       "      <td>1.76</td>\n",
       "    </tr>\n",
       "    <tr>\n",
       "      <th>Jan-Febr 29-3</th>\n",
       "      <td>3.88</td>\n",
       "    </tr>\n",
       "  </tbody>\n",
       "</table>\n",
       "</div>"
      ],
      "text/plain": [
       "               results_week_percentage\n",
       "jan 1-6                          -0.38\n",
       "jan 8-13                         -2.65\n",
       "jan 15-20                        -0.12\n",
       "jan 22-27                         1.76\n",
       "Jan-Febr 29-3                     3.88"
      ]
     },
     "execution_count": 6,
     "metadata": {},
     "output_type": "execute_result"
    }
   ],
   "source": [
    "timeline_2023.head()"
   ]
  },
  {
   "cell_type": "markdown",
   "id": "600f6d12",
   "metadata": {},
   "source": [
    "**This time I am going to apply a linear regression analysis based on the beheviour I have developed the last trymester of the previous year 2023, What are my expected results over the time applying statistical concepts and probability theory in the risk management in the stock market?** "
   ]
  },
  {
   "cell_type": "code",
   "execution_count": 7,
   "id": "16ae3265",
   "metadata": {},
   "outputs": [],
   "source": [
    "population_2023 = timeline_2023.loc[\"Sep 17-22\": , :] # we are going to grab the data since September"
   ]
  },
  {
   "cell_type": "code",
   "execution_count": 8,
   "id": "5fb2f3b1",
   "metadata": {},
   "outputs": [
    {
     "data": {
      "text/html": [
       "<div>\n",
       "<style scoped>\n",
       "    .dataframe tbody tr th:only-of-type {\n",
       "        vertical-align: middle;\n",
       "    }\n",
       "\n",
       "    .dataframe tbody tr th {\n",
       "        vertical-align: top;\n",
       "    }\n",
       "\n",
       "    .dataframe thead th {\n",
       "        text-align: right;\n",
       "    }\n",
       "</style>\n",
       "<table border=\"1\" class=\"dataframe\">\n",
       "  <thead>\n",
       "    <tr style=\"text-align: right;\">\n",
       "      <th></th>\n",
       "      <th>results_week_percentage</th>\n",
       "    </tr>\n",
       "  </thead>\n",
       "  <tbody>\n",
       "    <tr>\n",
       "      <th>Sep 17-22</th>\n",
       "      <td>2.00</td>\n",
       "    </tr>\n",
       "    <tr>\n",
       "      <th>Sep 24-29</th>\n",
       "      <td>2.00</td>\n",
       "    </tr>\n",
       "    <tr>\n",
       "      <th>Oct 1-6</th>\n",
       "      <td>2.00</td>\n",
       "    </tr>\n",
       "    <tr>\n",
       "      <th>Oct 8-13</th>\n",
       "      <td>2.00</td>\n",
       "    </tr>\n",
       "    <tr>\n",
       "      <th>Oct 15-20</th>\n",
       "      <td>-0.37</td>\n",
       "    </tr>\n",
       "    <tr>\n",
       "      <th>Oct 22-27</th>\n",
       "      <td>2.00</td>\n",
       "    </tr>\n",
       "    <tr>\n",
       "      <th>Oct-Nov 29-3</th>\n",
       "      <td>0.35</td>\n",
       "    </tr>\n",
       "    <tr>\n",
       "      <th>Nov 5-10</th>\n",
       "      <td>2.00</td>\n",
       "    </tr>\n",
       "    <tr>\n",
       "      <th>Nov 12-17</th>\n",
       "      <td>-2.42</td>\n",
       "    </tr>\n",
       "    <tr>\n",
       "      <th>Nov 19-24</th>\n",
       "      <td>-2.94</td>\n",
       "    </tr>\n",
       "    <tr>\n",
       "      <th>Nov-Dec 26-1</th>\n",
       "      <td>2.10</td>\n",
       "    </tr>\n",
       "    <tr>\n",
       "      <th>Dec 3-8</th>\n",
       "      <td>-5.46</td>\n",
       "    </tr>\n",
       "    <tr>\n",
       "      <th>Dec 10-15</th>\n",
       "      <td>2.06</td>\n",
       "    </tr>\n",
       "    <tr>\n",
       "      <th>Dec 17-22</th>\n",
       "      <td>2.60</td>\n",
       "    </tr>\n",
       "    <tr>\n",
       "      <th>Dec 24-29</th>\n",
       "      <td>2.01</td>\n",
       "    </tr>\n",
       "  </tbody>\n",
       "</table>\n",
       "</div>"
      ],
      "text/plain": [
       "              results_week_percentage\n",
       "Sep 17-22                        2.00\n",
       "Sep 24-29                        2.00\n",
       "Oct 1-6                          2.00\n",
       "Oct 8-13                         2.00\n",
       "Oct 15-20                       -0.37\n",
       "Oct 22-27                        2.00\n",
       "Oct-Nov 29-3                     0.35\n",
       "Nov 5-10                         2.00\n",
       "Nov 12-17                       -2.42\n",
       "Nov 19-24                       -2.94\n",
       "Nov-Dec 26-1                     2.10\n",
       "Dec 3-8                         -5.46\n",
       "Dec 10-15                        2.06\n",
       "Dec 17-22                        2.60\n",
       "Dec 24-29                        2.01"
      ]
     },
     "execution_count": 8,
     "metadata": {},
     "output_type": "execute_result"
    }
   ],
   "source": [
    "population_2023"
   ]
  },
  {
   "cell_type": "code",
   "execution_count": 9,
   "id": "9bbf6f2e",
   "metadata": {},
   "outputs": [
    {
     "data": {
      "text/plain": [
       "15"
      ]
     },
     "execution_count": 9,
     "metadata": {},
     "output_type": "execute_result"
    }
   ],
   "source": [
    "len(population_2023) # we have 15 observations"
   ]
  },
  {
   "cell_type": "code",
   "execution_count": 10,
   "id": "b11dbc92",
   "metadata": {},
   "outputs": [],
   "source": [
    "weeks = []\n",
    "for i in range(1, 16):\n",
    "    weeks.append(i)"
   ]
  },
  {
   "cell_type": "code",
   "execution_count": 11,
   "id": "c4860608",
   "metadata": {},
   "outputs": [],
   "source": [
    "population_2023.index = weeks # Reindexing the weeks in numbers instead of a label date"
   ]
  },
  {
   "cell_type": "code",
   "execution_count": 12,
   "id": "06b5c3db",
   "metadata": {},
   "outputs": [
    {
     "data": {
      "text/html": [
       "<div>\n",
       "<style scoped>\n",
       "    .dataframe tbody tr th:only-of-type {\n",
       "        vertical-align: middle;\n",
       "    }\n",
       "\n",
       "    .dataframe tbody tr th {\n",
       "        vertical-align: top;\n",
       "    }\n",
       "\n",
       "    .dataframe thead th {\n",
       "        text-align: right;\n",
       "    }\n",
       "</style>\n",
       "<table border=\"1\" class=\"dataframe\">\n",
       "  <thead>\n",
       "    <tr style=\"text-align: right;\">\n",
       "      <th></th>\n",
       "      <th>results_week_percentage</th>\n",
       "    </tr>\n",
       "  </thead>\n",
       "  <tbody>\n",
       "    <tr>\n",
       "      <th>1</th>\n",
       "      <td>2.00</td>\n",
       "    </tr>\n",
       "    <tr>\n",
       "      <th>2</th>\n",
       "      <td>2.00</td>\n",
       "    </tr>\n",
       "    <tr>\n",
       "      <th>3</th>\n",
       "      <td>2.00</td>\n",
       "    </tr>\n",
       "    <tr>\n",
       "      <th>4</th>\n",
       "      <td>2.00</td>\n",
       "    </tr>\n",
       "    <tr>\n",
       "      <th>5</th>\n",
       "      <td>-0.37</td>\n",
       "    </tr>\n",
       "    <tr>\n",
       "      <th>6</th>\n",
       "      <td>2.00</td>\n",
       "    </tr>\n",
       "    <tr>\n",
       "      <th>7</th>\n",
       "      <td>0.35</td>\n",
       "    </tr>\n",
       "    <tr>\n",
       "      <th>8</th>\n",
       "      <td>2.00</td>\n",
       "    </tr>\n",
       "    <tr>\n",
       "      <th>9</th>\n",
       "      <td>-2.42</td>\n",
       "    </tr>\n",
       "    <tr>\n",
       "      <th>10</th>\n",
       "      <td>-2.94</td>\n",
       "    </tr>\n",
       "    <tr>\n",
       "      <th>11</th>\n",
       "      <td>2.10</td>\n",
       "    </tr>\n",
       "    <tr>\n",
       "      <th>12</th>\n",
       "      <td>-5.46</td>\n",
       "    </tr>\n",
       "    <tr>\n",
       "      <th>13</th>\n",
       "      <td>2.06</td>\n",
       "    </tr>\n",
       "    <tr>\n",
       "      <th>14</th>\n",
       "      <td>2.60</td>\n",
       "    </tr>\n",
       "    <tr>\n",
       "      <th>15</th>\n",
       "      <td>2.01</td>\n",
       "    </tr>\n",
       "  </tbody>\n",
       "</table>\n",
       "</div>"
      ],
      "text/plain": [
       "    results_week_percentage\n",
       "1                      2.00\n",
       "2                      2.00\n",
       "3                      2.00\n",
       "4                      2.00\n",
       "5                     -0.37\n",
       "6                      2.00\n",
       "7                      0.35\n",
       "8                      2.00\n",
       "9                     -2.42\n",
       "10                    -2.94\n",
       "11                     2.10\n",
       "12                    -5.46\n",
       "13                     2.06\n",
       "14                     2.60\n",
       "15                     2.01"
      ]
     },
     "execution_count": 12,
     "metadata": {},
     "output_type": "execute_result"
    }
   ],
   "source": [
    "population_2023"
   ]
  },
  {
   "cell_type": "markdown",
   "id": "eb55fae3",
   "metadata": {},
   "source": [
    "Let's plot a scatterplot to see the relationship between these two variables, time and results, two variables in the same time into account. "
   ]
  },
  {
   "cell_type": "code",
   "execution_count": 13,
   "id": "271995d6",
   "metadata": {},
   "outputs": [
    {
     "data": {
      "image/png": "[encoded data removed]",
      "text/plain": [
       "<Figure size 640x480 with 1 Axes>"
      ]
     },
     "metadata": {},
     "output_type": "display_data"
    }
   ],
   "source": [
    "plt.scatter(population_2023.index, population_2023[\"results_week_percentage\"], color = \"#0abde3\")\n",
    "plt.title(\"Scatterplot Week Results and Time-Week\")\n",
    "plt.xlabel(\"Weeks\")\n",
    "plt.ylabel(\"Results\")\n",
    "plt.show()"
   ]
  },
  {
   "cell_type": "markdown",
   "id": "a5795ce4",
   "metadata": {},
   "source": [
    "We barely see a trend here, there is not relationship between these two variables, but what if we take the acummulative frecuency over the time? The accumulative frequency is the progressive sum of each value over time."
   ]
  },
  {
   "cell_type": "code",
   "execution_count": 14,
   "id": "f10af0a0",
   "metadata": {},
   "outputs": [],
   "source": [
    "import itertools"
   ]
  },
  {
   "cell_type": "code",
   "execution_count": 15,
   "id": "0d2a4445",
   "metadata": {},
   "outputs": [
    {
     "data": {
      "text/plain": [
       "[2.0,\n",
       " 4.0,\n",
       " 6.0,\n",
       " 8.0,\n",
       " 7.63,\n",
       " 9.629999999999999,\n",
       " 9.979999999999999,\n",
       " 11.979999999999999,\n",
       " 9.559999999999999,\n",
       " 6.619999999999999,\n",
       " 8.719999999999999,\n",
       " 3.259999999999999,\n",
       " 5.3199999999999985,\n",
       " 7.919999999999998,\n",
       " 9.929999999999998]"
      ]
     },
     "execution_count": 15,
     "metadata": {},
     "output_type": "execute_result"
    }
   ],
   "source": [
    "list(itertools.accumulate(population_2023[\"results_week_percentage\"])) "
   ]
  },
  {
   "cell_type": "code",
   "execution_count": 16,
   "id": "559d1489",
   "metadata": {},
   "outputs": [
    {
     "data": {
      "text/plain": [
       "110.54999999999998"
      ]
     },
     "execution_count": 16,
     "metadata": {},
     "output_type": "execute_result"
    }
   ],
   "source": [
    "sum(list(itertools.accumulate(population_2023[\"results_week_percentage\"]))) # this is the cumulative sum."
   ]
  },
  {
   "cell_type": "code",
   "execution_count": 17,
   "id": "25b4549f",
   "metadata": {},
   "outputs": [],
   "source": [
    "week_results = list(itertools.accumulate(population_2023[\"results_week_percentage\"]))"
   ]
  },
  {
   "cell_type": "code",
   "execution_count": 18,
   "id": "9be46ecc",
   "metadata": {},
   "outputs": [
    {
     "data": {
      "image/png": "[encoded data removed]",
      "text/plain": [
       "<Figure size 640x480 with 1 Axes>"
      ]
     },
     "metadata": {},
     "output_type": "display_data"
    }
   ],
   "source": [
    "plt.scatter(population_2023.index, week_results, color = \"#222f3e\")\n",
    "plt.title(\"Scatterplot Week Results and Time-Week\")\n",
    "plt.xlabel(\"Weeks\")\n",
    "plt.ylabel(\"Results Accumulative\")\n",
    "plt.show()"
   ]
  },
  {
   "cell_type": "markdown",
   "id": "45593a97",
   "metadata": {},
   "source": [
    "Can we model a straight line to estimate an expected value over time? "
   ]
  },
  {
   "cell_type": "code",
   "execution_count": 19,
   "id": "d9e48f52",
   "metadata": {},
   "outputs": [],
   "source": [
    "trymester = pd.DataFrame({\"Weeks\": population_2023.index, \"Results Accumulative\": week_results})"
   ]
  },
  {
   "cell_type": "markdown",
   "id": "ee18c56a",
   "metadata": {},
   "source": [
    "**But first let's calculate the correlation coefficient and then the coefficient of determination**"
   ]
  },
  {
   "cell_type": "code",
   "execution_count": 20,
   "id": "cac4dd45",
   "metadata": {},
   "outputs": [
    {
     "data": {
      "text/plain": [
       "0.3036888582069623"
      ]
     },
     "execution_count": 20,
     "metadata": {},
     "output_type": "execute_result"
    }
   ],
   "source": [
    "trymester.corr()[\"Weeks\"][\"Results Accumulative\"] \n",
    "# The correlation between these two variables is weak but it is still positive."
   ]
  },
  {
   "cell_type": "code",
   "execution_count": 21,
   "id": "c7cc996d",
   "metadata": {},
   "outputs": [
    {
     "data": {
      "text/plain": [
       "0.09222692259904844"
      ]
     },
     "execution_count": 21,
     "metadata": {},
     "output_type": "execute_result"
    }
   ],
   "source": [
    "trymester.corr()[\"Weeks\"][\"Results Accumulative\"] ** 2\n",
    "# We have 9% of explanation for the Y variable from the X variable with this dataset."
   ]
  },
  {
   "cell_type": "markdown",
   "id": "cb31b827",
   "metadata": {},
   "source": [
    "Do we have some outliers? on the y axis? the accumulative frequency? "
   ]
  },
  {
   "cell_type": "code",
   "execution_count": 22,
   "id": "1aac36c4",
   "metadata": {},
   "outputs": [
    {
     "data": {
      "image/png": "[encoded data removed]",
      "text/plain": [
       "<Figure size 640x480 with 1 Axes>"
      ]
     },
     "metadata": {},
     "output_type": "display_data"
    }
   ],
   "source": [
    "sns.boxplot(trymester[\"Results Accumulative\"], orient = \"h\", color = \"#1dd1a1\")\n",
    "plt.title(\"Box Plot Accumulative Results\")\n",
    "plt.xlabel(\"Results over each Week Accumulative\")\n",
    "plt.show()"
   ]
  },
  {
   "cell_type": "code",
   "execution_count": 23,
   "id": "b2cc8013",
   "metadata": {},
   "outputs": [
    {
     "data": {
      "text/plain": [
       "count    15.000000\n",
       "mean      7.370000\n",
       "std       2.813727\n",
       "min       2.000000\n",
       "25%       5.660000\n",
       "50%       7.920000\n",
       "75%       9.595000\n",
       "max      11.980000\n",
       "Name: Results Accumulative, dtype: float64"
      ]
     },
     "execution_count": 23,
     "metadata": {},
     "output_type": "execute_result"
    }
   ],
   "source": [
    "trymester[\"Results Accumulative\"].describe()"
   ]
  },
  {
   "cell_type": "code",
   "execution_count": 24,
   "id": "8d4746ff",
   "metadata": {},
   "outputs": [
    {
     "data": {
      "text/plain": [
       "3.9349999999999996"
      ]
     },
     "execution_count": 24,
     "metadata": {},
     "output_type": "execute_result"
    }
   ],
   "source": [
    "Q1 = trymester[\"Results Accumulative\"].describe().loc[\"25%\"]\n",
    "Q3 = trymester[\"Results Accumulative\"].describe().loc[\"75%\"]\n",
    "IQR = Q3 - Q1\n",
    "IQR"
   ]
  },
  {
   "cell_type": "markdown",
   "id": "6dca2ad8",
   "metadata": {},
   "source": [
    "According to the standard rule to identify outliers: We need to see if the data points are 1.5 away from the IQR (interquartile range) in order to identify outliers."
   ]
  },
  {
   "cell_type": "code",
   "execution_count": 25,
   "id": "f0110904",
   "metadata": {},
   "outputs": [
    {
     "data": {
      "text/plain": [
       "15.497499999999999"
      ]
     },
     "execution_count": 25,
     "metadata": {},
     "output_type": "execute_result"
    }
   ],
   "source": [
    "Q3 + (1.5 * IQR)"
   ]
  },
  {
   "cell_type": "code",
   "execution_count": 26,
   "id": "6dcf2422",
   "metadata": {},
   "outputs": [
    {
     "data": {
      "text/plain": [
       "-0.2425000000000006"
      ]
     },
     "execution_count": 26,
     "metadata": {},
     "output_type": "execute_result"
    }
   ],
   "source": [
    "Q1 - (1.5 * IQR)"
   ]
  },
  {
   "cell_type": "markdown",
   "id": "5899da9b",
   "metadata": {},
   "source": [
    "**We dont have outliers regarding the mean of the results accumulated, however, if we want to model a regression line we can consider a few outliers.**"
   ]
  },
  {
   "cell_type": "code",
   "execution_count": 27,
   "id": "fc3b1104",
   "metadata": {},
   "outputs": [
    {
     "data": {
      "text/plain": [
       "0      2.00\n",
       "1      4.00\n",
       "2      6.00\n",
       "3      8.00\n",
       "4      7.63\n",
       "5      9.63\n",
       "6      9.98\n",
       "7     11.98\n",
       "8      9.56\n",
       "9      6.62\n",
       "10     8.72\n",
       "11     3.26\n",
       "12     5.32\n",
       "13     7.92\n",
       "14     9.93\n",
       "Name: Results Accumulative, dtype: float64"
      ]
     },
     "execution_count": 27,
     "metadata": {},
     "output_type": "execute_result"
    }
   ],
   "source": [
    "trymester[\"Results Accumulative\"]"
   ]
  },
  {
   "cell_type": "code",
   "execution_count": 28,
   "id": "d0887220",
   "metadata": {},
   "outputs": [
    {
     "data": {
      "text/plain": [
       "[6.619999999999999, 3.259999999999999, 5.3199999999999985]"
      ]
     },
     "execution_count": 28,
     "metadata": {},
     "output_type": "execute_result"
    }
   ],
   "source": [
    "outliers_y = [trymester[\"Results Accumulative\"][9], trymester[\"Results Accumulative\"][11]\n",
    "              , trymester[\"Results Accumulative\"][12]]\n",
    "outliers_y # We are goiing to consider and remove these three outliers"
   ]
  },
  {
   "cell_type": "code",
   "execution_count": 29,
   "id": "78a1e579",
   "metadata": {},
   "outputs": [
    {
     "data": {
      "text/plain": [
       "[10, 12, 13]"
      ]
     },
     "execution_count": 29,
     "metadata": {},
     "output_type": "execute_result"
    }
   ],
   "source": [
    "outliers_x = [trymester[\"Weeks\"][9], trymester[\"Weeks\"][11]\n",
    "              , trymester[\"Weeks\"][12]]\n",
    "outliers_x"
   ]
  },
  {
   "cell_type": "markdown",
   "id": "04a0a309",
   "metadata": {},
   "source": [
    "# Scatter Plot with outliers"
   ]
  },
  {
   "cell_type": "code",
   "execution_count": 30,
   "id": "45422f30",
   "metadata": {},
   "outputs": [
    {
     "data": {
      "image/png": "[encoded data removed]",
      "text/plain": [
       "<Figure size 640x480 with 1 Axes>"
      ]
     },
     "metadata": {},
     "output_type": "display_data"
    }
   ],
   "source": [
    "plt.scatter(trymester[\"Weeks\"], trymester[\"Results Accumulative\"], color = \"#222f3e\")\n",
    "plt.scatter(outliers_x, outliers_y, color = \"#ff7675\")\n",
    "plt.title(\"Scatterplot Week Results With Outliers\")\n",
    "plt.xlabel(\"Weeks\")\n",
    "plt.ylabel(\"Results Accumulative\")\n",
    "plt.show()"
   ]
  },
  {
   "cell_type": "markdown",
   "id": "bac5682d",
   "metadata": {},
   "source": [
    "We have a possitive correlation but it is weak, very close to 0, in fact, to describe this scatterplot:\n",
    "\n",
    "1. Form: the form of the data is not exactly linear, it is more like a curve\n",
    "2. Direction: Certantly it is possitive\n",
    "3. Strenght: Weak, very weak\n",
    "4. Outliers: We can consider three of them"
   ]
  },
  {
   "cell_type": "markdown",
   "id": "6021b259",
   "metadata": {},
   "source": [
    "# Linear Regression Model"
   ]
  },
  {
   "cell_type": "markdown",
   "id": "1643562f",
   "metadata": {},
   "source": [
    "**We are going to plot the regression line, but first we need to find the slope and interception of this straight line, first with the complete data, and then with the data without outliers.**"
   ]
  },
  {
   "cell_type": "code",
   "execution_count": 31,
   "id": "cde6b181",
   "metadata": {},
   "outputs": [],
   "source": [
    "x = trymester[\"Weeks\"]\n",
    "y = trymester[\"Results Accumulative\"]"
   ]
  },
  {
   "cell_type": "code",
   "execution_count": 32,
   "id": "d035f85c",
   "metadata": {},
   "outputs": [
    {
     "data": {
      "text/plain": [
       "15"
      ]
     },
     "execution_count": 32,
     "metadata": {},
     "output_type": "execute_result"
    }
   ],
   "source": [
    "len(x)"
   ]
  },
  {
   "cell_type": "code",
   "execution_count": 33,
   "id": "431be51c",
   "metadata": {},
   "outputs": [
    {
     "data": {
      "text/plain": [
       "15"
      ]
     },
     "execution_count": 33,
     "metadata": {},
     "output_type": "execute_result"
    }
   ],
   "source": [
    "len(y)"
   ]
  },
  {
   "cell_type": "code",
   "execution_count": 34,
   "id": "94ccd7bd",
   "metadata": {},
   "outputs": [],
   "source": [
    "trymester[\"Sum\"] = x * y"
   ]
  },
  {
   "cell_type": "code",
   "execution_count": 35,
   "id": "3a1d8c48",
   "metadata": {},
   "outputs": [],
   "source": [
    "x_squared = x ** 2"
   ]
  },
  {
   "cell_type": "markdown",
   "id": "adcd08d3",
   "metadata": {},
   "source": [
    "**Let's calculate beta, the coeficient of the independent variable x, the Slope**"
   ]
  },
  {
   "cell_type": "code",
   "execution_count": 36,
   "id": "98be3753",
   "metadata": {},
   "outputs": [
    {
     "data": {
      "text/plain": [
       "1240"
      ]
     },
     "execution_count": 36,
     "metadata": {},
     "output_type": "execute_result"
    }
   ],
   "source": [
    "x_squared.sum()"
   ]
  },
  {
   "cell_type": "code",
   "execution_count": 37,
   "id": "0b632ac4",
   "metadata": {},
   "outputs": [
    {
     "data": {
      "text/plain": [
       "14400"
      ]
     },
     "execution_count": 37,
     "metadata": {},
     "output_type": "execute_result"
    }
   ],
   "source": [
    "x.sum() ** 2"
   ]
  },
  {
   "cell_type": "markdown",
   "id": "03e05360",
   "metadata": {},
   "source": [
    "# $ b = \\frac{n \\sum xy \\enspace-\\enspace \\sum x  \\sum y} {n \\sum x^2 \\enspace-\\enspace (\\sum x)^2}$ \n",
    "\n",
    "**The above formula to calculate beta based on the data provided** "
   ]
  },
  {
   "cell_type": "code",
   "execution_count": 38,
   "id": "11224d46",
   "metadata": {},
   "outputs": [
    {
     "data": {
      "text/plain": [
       "0.19107142857142814"
      ]
     },
     "execution_count": 38,
     "metadata": {},
     "output_type": "execute_result"
    }
   ],
   "source": [
    "b = ( ( 15 * trymester[\"Sum\"].sum() ) - ( x.sum() * y.sum() ) ) / ( ( 15 * x_squared.sum() ) - ( x.sum() ** 2 ) )\n",
    "b"
   ]
  },
  {
   "cell_type": "markdown",
   "id": "a9962f14",
   "metadata": {},
   "source": [
    "**Now it is time to calculate alpha, the interception**"
   ]
  },
  {
   "cell_type": "markdown",
   "id": "1bdeea46",
   "metadata": {},
   "source": [
    "# $a = \\frac{\\sum y \\enspace-\\enspace b \\sum x} {n}$\n",
    "\n",
    "**The above formula to calculate alpha based on the data provided** "
   ]
  },
  {
   "cell_type": "code",
   "execution_count": 39,
   "id": "b65cb153",
   "metadata": {},
   "outputs": [
    {
     "data": {
      "text/plain": [
       "5.841428571428575"
      ]
     },
     "execution_count": 39,
     "metadata": {},
     "output_type": "execute_result"
    }
   ],
   "source": [
    "a = ( y.sum() - ( b * x.sum() ) ) / 15\n",
    "a"
   ]
  },
  {
   "cell_type": "markdown",
   "id": "c6264bcc",
   "metadata": {},
   "source": [
    "**We are going to plot the line**"
   ]
  },
  {
   "cell_type": "code",
   "execution_count": 40,
   "id": "c1c94e86",
   "metadata": {},
   "outputs": [
    {
     "data": {
      "image/png": "[encoded data removed]",
      "text/plain": [
       "<Figure size 640x480 with 1 Axes>"
      ]
     },
     "metadata": {},
     "output_type": "display_data"
    }
   ],
   "source": [
    "alpha = a\n",
    "beta = b\n",
    "predictions = ( beta * x ) + alpha\n",
    "\n",
    "fig,ax = plt.subplots()\n",
    "ax.scatter(x, y) # plotting the scatterplot\n",
    "ax.plot(x, predictions, color =\"#fa8231\") # plotting the line\n",
    "ax.vlines(x, y, predictions, color='#eb3b5a')\n",
    "ax.set(\n",
    "    xlabel=\"Weeks\",\n",
    "    ylabel=\"Accumulative Results\",\n",
    "    title = \"Linear Regression of Trading Results\"\n",
    ")\n",
    "plt.show()"
   ]
  },
  {
   "cell_type": "markdown",
   "id": "04944b51",
   "metadata": {},
   "source": [
    "So according to this data what will be my week result of the 4th, 8th, 12th and 24th week? in terms of percentage "
   ]
  },
  {
   "cell_type": "code",
   "execution_count": 41,
   "id": "1a93063c",
   "metadata": {},
   "outputs": [
    {
     "data": {
      "text/plain": [
       "6.605714285714288"
      ]
     },
     "execution_count": 41,
     "metadata": {},
     "output_type": "execute_result"
    }
   ],
   "source": [
    "(beta * 4) + alpha"
   ]
  },
  {
   "cell_type": "code",
   "execution_count": 42,
   "id": "08b656b3",
   "metadata": {},
   "outputs": [
    {
     "data": {
      "text/plain": [
       "7.37"
      ]
     },
     "execution_count": 42,
     "metadata": {},
     "output_type": "execute_result"
    }
   ],
   "source": [
    "(beta * 8) + alpha"
   ]
  },
  {
   "cell_type": "code",
   "execution_count": 43,
   "id": "68c9ac1e",
   "metadata": {},
   "outputs": [
    {
     "data": {
      "text/plain": [
       "8.134285714285713"
      ]
     },
     "execution_count": 43,
     "metadata": {},
     "output_type": "execute_result"
    }
   ],
   "source": [
    "(beta * 12) + alpha"
   ]
  },
  {
   "cell_type": "code",
   "execution_count": 44,
   "id": "19f1e753",
   "metadata": {},
   "outputs": [
    {
     "data": {
      "text/plain": [
       "10.42714285714285"
      ]
     },
     "execution_count": 44,
     "metadata": {},
     "output_type": "execute_result"
    }
   ],
   "source": [
    "(beta * 24) + alpha"
   ]
  },
  {
   "cell_type": "code",
   "execution_count": 45,
   "id": "a667e8af",
   "metadata": {},
   "outputs": [],
   "source": [
    "with_outliers = []\n",
    "for observation in range(96):\n",
    "    observation = round( ( beta * observation ), 2 ) + alpha\n",
    "    with_outliers.append(observation)"
   ]
  },
  {
   "cell_type": "markdown",
   "id": "ca8a9166",
   "metadata": {},
   "source": [
    "**What is the root mean square of the residuals?**"
   ]
  },
  {
   "cell_type": "code",
   "execution_count": 46,
   "id": "cc4a3c40",
   "metadata": {},
   "outputs": [],
   "source": [
    "e = y - predictions\n",
    "e_squared = e ** 2\n",
    "mean_squared_e = e_squared.sum() / 15"
   ]
  },
  {
   "cell_type": "code",
   "execution_count": 47,
   "id": "05291d31",
   "metadata": {},
   "outputs": [
    {
     "data": {
      "text/plain": [
       "2.5899353733433657"
      ]
     },
     "execution_count": 47,
     "metadata": {},
     "output_type": "execute_result"
    }
   ],
   "source": [
    "RMSE = np.sqrt(mean_squared_e)\n",
    "RMSE"
   ]
  },
  {
   "cell_type": "markdown",
   "id": "8eeffb25",
   "metadata": {},
   "source": [
    "**Residual plot**"
   ]
  },
  {
   "cell_type": "code",
   "execution_count": 48,
   "id": "665a1602",
   "metadata": {},
   "outputs": [
    {
     "data": {
      "image/png": "[encoded data removed]",
      "text/plain": [
       "<Figure size 640x480 with 1 Axes>"
      ]
     },
     "metadata": {},
     "output_type": "display_data"
    }
   ],
   "source": [
    "fig,ax = plt.subplots()\n",
    "ax.scatter(x, e, color = \"#2d3436\")\n",
    "ax.axhline(np.mean(e), color =\"#fa8231\")\n",
    "ax.set(\n",
    "    xlabel=\"Weeks\",\n",
    "    ylabel=\"Residual Values e\",\n",
    "    title = \"Residual Plot\"\n",
    ")\n",
    "plt.show()"
   ]
  },
  {
   "cell_type": "markdown",
   "id": "d032391c",
   "metadata": {},
   "source": [
    "If the scatter plot of the residuals (x, e) is not random, if it follows a u shaped parabolic pattern, then a linear regression model will not be a good fit for the data, the mean of the residuals is always 0, and the sum of the residuals too. \n",
    "\n",
    "In this case we can see some kind  of curve, but let's see what happens when we remove some outliers."
   ]
  },
  {
   "cell_type": "markdown",
   "id": "02364fd4",
   "metadata": {},
   "source": [
    "# Regression without outliers"
   ]
  },
  {
   "cell_type": "code",
   "execution_count": 49,
   "id": "1692712d",
   "metadata": {},
   "outputs": [
    {
     "data": {
      "text/html": [
       "<div>\n",
       "<style scoped>\n",
       "    .dataframe tbody tr th:only-of-type {\n",
       "        vertical-align: middle;\n",
       "    }\n",
       "\n",
       "    .dataframe tbody tr th {\n",
       "        vertical-align: top;\n",
       "    }\n",
       "\n",
       "    .dataframe thead th {\n",
       "        text-align: right;\n",
       "    }\n",
       "</style>\n",
       "<table border=\"1\" class=\"dataframe\">\n",
       "  <thead>\n",
       "    <tr style=\"text-align: right;\">\n",
       "      <th></th>\n",
       "      <th>Weeks</th>\n",
       "      <th>Results Accumulative</th>\n",
       "      <th>Sum</th>\n",
       "    </tr>\n",
       "  </thead>\n",
       "  <tbody>\n",
       "    <tr>\n",
       "      <th>0</th>\n",
       "      <td>1</td>\n",
       "      <td>2.00</td>\n",
       "      <td>2.00</td>\n",
       "    </tr>\n",
       "    <tr>\n",
       "      <th>1</th>\n",
       "      <td>2</td>\n",
       "      <td>4.00</td>\n",
       "      <td>8.00</td>\n",
       "    </tr>\n",
       "    <tr>\n",
       "      <th>2</th>\n",
       "      <td>3</td>\n",
       "      <td>6.00</td>\n",
       "      <td>18.00</td>\n",
       "    </tr>\n",
       "    <tr>\n",
       "      <th>3</th>\n",
       "      <td>4</td>\n",
       "      <td>8.00</td>\n",
       "      <td>32.00</td>\n",
       "    </tr>\n",
       "    <tr>\n",
       "      <th>4</th>\n",
       "      <td>5</td>\n",
       "      <td>7.63</td>\n",
       "      <td>38.15</td>\n",
       "    </tr>\n",
       "    <tr>\n",
       "      <th>5</th>\n",
       "      <td>6</td>\n",
       "      <td>9.63</td>\n",
       "      <td>57.78</td>\n",
       "    </tr>\n",
       "    <tr>\n",
       "      <th>6</th>\n",
       "      <td>7</td>\n",
       "      <td>9.98</td>\n",
       "      <td>69.86</td>\n",
       "    </tr>\n",
       "    <tr>\n",
       "      <th>7</th>\n",
       "      <td>8</td>\n",
       "      <td>11.98</td>\n",
       "      <td>95.84</td>\n",
       "    </tr>\n",
       "    <tr>\n",
       "      <th>8</th>\n",
       "      <td>9</td>\n",
       "      <td>9.56</td>\n",
       "      <td>86.04</td>\n",
       "    </tr>\n",
       "    <tr>\n",
       "      <th>9</th>\n",
       "      <td>10</td>\n",
       "      <td>6.62</td>\n",
       "      <td>66.20</td>\n",
       "    </tr>\n",
       "    <tr>\n",
       "      <th>10</th>\n",
       "      <td>11</td>\n",
       "      <td>8.72</td>\n",
       "      <td>95.92</td>\n",
       "    </tr>\n",
       "    <tr>\n",
       "      <th>11</th>\n",
       "      <td>12</td>\n",
       "      <td>3.26</td>\n",
       "      <td>39.12</td>\n",
       "    </tr>\n",
       "    <tr>\n",
       "      <th>12</th>\n",
       "      <td>13</td>\n",
       "      <td>5.32</td>\n",
       "      <td>69.16</td>\n",
       "    </tr>\n",
       "    <tr>\n",
       "      <th>13</th>\n",
       "      <td>14</td>\n",
       "      <td>7.92</td>\n",
       "      <td>110.88</td>\n",
       "    </tr>\n",
       "    <tr>\n",
       "      <th>14</th>\n",
       "      <td>15</td>\n",
       "      <td>9.93</td>\n",
       "      <td>148.95</td>\n",
       "    </tr>\n",
       "  </tbody>\n",
       "</table>\n",
       "</div>"
      ],
      "text/plain": [
       "    Weeks  Results Accumulative     Sum\n",
       "0       1                  2.00    2.00\n",
       "1       2                  4.00    8.00\n",
       "2       3                  6.00   18.00\n",
       "3       4                  8.00   32.00\n",
       "4       5                  7.63   38.15\n",
       "5       6                  9.63   57.78\n",
       "6       7                  9.98   69.86\n",
       "7       8                 11.98   95.84\n",
       "8       9                  9.56   86.04\n",
       "9      10                  6.62   66.20\n",
       "10     11                  8.72   95.92\n",
       "11     12                  3.26   39.12\n",
       "12     13                  5.32   69.16\n",
       "13     14                  7.92  110.88\n",
       "14     15                  9.93  148.95"
      ]
     },
     "execution_count": 49,
     "metadata": {},
     "output_type": "execute_result"
    }
   ],
   "source": [
    "trymester"
   ]
  },
  {
   "cell_type": "code",
   "execution_count": 50,
   "id": "fafaaab6",
   "metadata": {},
   "outputs": [],
   "source": [
    "trymester = trymester.drop(index = [9, 11, 12]) # removing 3 outliers"
   ]
  },
  {
   "cell_type": "markdown",
   "id": "981d3fc0",
   "metadata": {},
   "source": [
    "**let's calculate the correlation coefficient and then the coefficient of determination without outliers**"
   ]
  },
  {
   "cell_type": "code",
   "execution_count": 51,
   "id": "249d3e36",
   "metadata": {},
   "outputs": [
    {
     "data": {
      "text/plain": [
       "0.6358643042775919"
      ]
     },
     "execution_count": 51,
     "metadata": {},
     "output_type": "execute_result"
    }
   ],
   "source": [
    "trymester.corr()[\"Weeks\"][\"Results Accumulative\"] \n",
    "# The correlation coefficient improved by a 0.3 extra, it is more positive, stronger without outliers\n",
    "# We can considerate a moderate positive correlation between Weeks and Results accumulated without outliers. "
   ]
  },
  {
   "cell_type": "code",
   "execution_count": 52,
   "id": "0685ee6b",
   "metadata": {},
   "outputs": [
    {
     "data": {
      "text/plain": [
       "0.40432341345442596"
      ]
     },
     "execution_count": 52,
     "metadata": {},
     "output_type": "execute_result"
    }
   ],
   "source": [
    "trymester.corr()[\"Weeks\"][\"Results Accumulative\"] ** 2\n",
    "# 40% of the Y values are explained by the X values, this is a considerable improvement\n",
    "# With those 3 outliers the dataset had an r squared of 0.09"
   ]
  },
  {
   "cell_type": "markdown",
   "id": "6f8a37a0",
   "metadata": {},
   "source": [
    "**Let's calculate beta, the coeficient of the independent variable, the Slope in this new dataset without outliers**"
   ]
  },
  {
   "cell_type": "code",
   "execution_count": 53,
   "id": "561e1496",
   "metadata": {},
   "outputs": [],
   "source": [
    "x = trymester[\"Weeks\"]\n",
    "y = trymester[\"Results Accumulative\"]"
   ]
  },
  {
   "cell_type": "code",
   "execution_count": 54,
   "id": "c99844f7",
   "metadata": {},
   "outputs": [
    {
     "data": {
      "text/plain": [
       "12"
      ]
     },
     "execution_count": 54,
     "metadata": {},
     "output_type": "execute_result"
    }
   ],
   "source": [
    "len(x)"
   ]
  },
  {
   "cell_type": "code",
   "execution_count": 55,
   "id": "c3da64f3",
   "metadata": {},
   "outputs": [
    {
     "data": {
      "text/plain": [
       "12"
      ]
     },
     "execution_count": 55,
     "metadata": {},
     "output_type": "execute_result"
    }
   ],
   "source": [
    "len(y)"
   ]
  },
  {
   "cell_type": "code",
   "execution_count": 56,
   "id": "ec195f05",
   "metadata": {},
   "outputs": [],
   "source": [
    "trymester[\"Sum\"] = x * y"
   ]
  },
  {
   "cell_type": "code",
   "execution_count": 57,
   "id": "0f652803",
   "metadata": {},
   "outputs": [],
   "source": [
    "x_squared = x ** 2"
   ]
  },
  {
   "cell_type": "code",
   "execution_count": 58,
   "id": "bfb8b80d",
   "metadata": {},
   "outputs": [
    {
     "data": {
      "text/plain": [
       "827"
      ]
     },
     "execution_count": 58,
     "metadata": {},
     "output_type": "execute_result"
    }
   ],
   "source": [
    "x_squared.sum()"
   ]
  },
  {
   "cell_type": "code",
   "execution_count": 59,
   "id": "17babd76",
   "metadata": {},
   "outputs": [
    {
     "data": {
      "text/plain": [
       "7225"
      ]
     },
     "execution_count": 59,
     "metadata": {},
     "output_type": "execute_result"
    }
   ],
   "source": [
    "x.sum() ** 2"
   ]
  },
  {
   "cell_type": "markdown",
   "id": "4e97f170",
   "metadata": {},
   "source": [
    "**Finding beta, the slope**"
   ]
  },
  {
   "cell_type": "code",
   "execution_count": 60,
   "id": "883fbf31",
   "metadata": {},
   "outputs": [
    {
     "data": {
      "text/plain": [
       "0.39136346795109234"
      ]
     },
     "execution_count": 60,
     "metadata": {},
     "output_type": "execute_result"
    }
   ],
   "source": [
    "b = ( ( 12 * trymester[\"Sum\"].sum() ) - ( x.sum() * y.sum() ) ) / ( ( 12 * x_squared.sum() ) - ( x.sum() ** 2 ) )\n",
    "b"
   ]
  },
  {
   "cell_type": "markdown",
   "id": "510dae24",
   "metadata": {},
   "source": [
    "**Finding alpha, the interception**"
   ]
  },
  {
   "cell_type": "code",
   "execution_count": 61,
   "id": "d6430329",
   "metadata": {},
   "outputs": [
    {
     "data": {
      "text/plain": [
       "5.173675435346429"
      ]
     },
     "execution_count": 61,
     "metadata": {},
     "output_type": "execute_result"
    }
   ],
   "source": [
    "a = ( y.sum() - ( b * x.sum() ) ) / 12\n",
    "a"
   ]
  },
  {
   "cell_type": "markdown",
   "id": "575ad0a7",
   "metadata": {},
   "source": [
    "Plotting the regression line **without outliers**"
   ]
  },
  {
   "cell_type": "code",
   "execution_count": 62,
   "id": "88dadcc6",
   "metadata": {},
   "outputs": [
    {
     "data": {
      "image/png": "[encoded data removed]",
      "text/plain": [
       "<Figure size 640x480 with 1 Axes>"
      ]
     },
     "metadata": {},
     "output_type": "display_data"
    }
   ],
   "source": [
    "alpha = a\n",
    "beta = b\n",
    "predictions = ( beta * x ) + alpha\n",
    "\n",
    "fig,ax = plt.subplots()\n",
    "ax.scatter(x, y)\n",
    "ax.plot(x, predictions, color =\"#fa8231\")\n",
    "ax.vlines(x, y, predictions, color='#eb3b5a')\n",
    "ax.set(\n",
    "    xlabel=\"Weeks\",\n",
    "    ylabel=\"Accumulative Results\",\n",
    "    title = \"Linear Regression of Trading Results No Outliers\"\n",
    ")\n",
    "plt.show()"
   ]
  },
  {
   "cell_type": "markdown",
   "id": "be4da1ee",
   "metadata": {},
   "source": [
    "So according to this dataset **without outliers** what will be my week result of the 4th, 8th, 12th and 24th week? in terms of percentage "
   ]
  },
  {
   "cell_type": "code",
   "execution_count": 63,
   "id": "bf278811",
   "metadata": {},
   "outputs": [
    {
     "data": {
      "text/plain": [
       "6.739129307150799"
      ]
     },
     "execution_count": 63,
     "metadata": {},
     "output_type": "execute_result"
    }
   ],
   "source": [
    "(beta * 4) + alpha"
   ]
  },
  {
   "cell_type": "code",
   "execution_count": 64,
   "id": "c6c7b96a",
   "metadata": {},
   "outputs": [
    {
     "data": {
      "text/plain": [
       "8.304583178955168"
      ]
     },
     "execution_count": 64,
     "metadata": {},
     "output_type": "execute_result"
    }
   ],
   "source": [
    "(beta * 8) + alpha"
   ]
  },
  {
   "cell_type": "code",
   "execution_count": 65,
   "id": "5a406a1a",
   "metadata": {},
   "outputs": [
    {
     "data": {
      "text/plain": [
       "9.870037050759539"
      ]
     },
     "execution_count": 65,
     "metadata": {},
     "output_type": "execute_result"
    }
   ],
   "source": [
    "(beta * 12) + alpha"
   ]
  },
  {
   "cell_type": "code",
   "execution_count": 66,
   "id": "04e6e6b0",
   "metadata": {},
   "outputs": [
    {
     "data": {
      "text/plain": [
       "14.566398666172645"
      ]
     },
     "execution_count": 66,
     "metadata": {},
     "output_type": "execute_result"
    }
   ],
   "source": [
    "(beta * 24) + alpha"
   ]
  },
  {
   "cell_type": "code",
   "execution_count": 67,
   "id": "3689354a",
   "metadata": {},
   "outputs": [],
   "source": [
    "without_outliers = []\n",
    "for observation in range(96):\n",
    "    observation = round( ( beta * observation ), 2 ) + alpha\n",
    "    without_outliers.append(observation)"
   ]
  },
  {
   "cell_type": "markdown",
   "id": "a123d3fb",
   "metadata": {},
   "source": [
    "**What is the root mean square of the residuals? without outliers**"
   ]
  },
  {
   "cell_type": "code",
   "execution_count": 68,
   "id": "992a8189",
   "metadata": {},
   "outputs": [],
   "source": [
    "e = y - predictions\n",
    "e_squared = e ** 2\n",
    "mean_squared_e = e_squared.sum() / 12"
   ]
  },
  {
   "cell_type": "code",
   "execution_count": 69,
   "id": "02ef545e",
   "metadata": {},
   "outputs": [
    {
     "data": {
      "text/plain": [
       "2.056559597493165"
      ]
     },
     "execution_count": 69,
     "metadata": {},
     "output_type": "execute_result"
    }
   ],
   "source": [
    "RMSE = np.sqrt(mean_squared_e)\n",
    "RMSE # the previous one was 2.58, with outliers"
   ]
  },
  {
   "cell_type": "markdown",
   "id": "4e092464",
   "metadata": {},
   "source": [
    "**Residual plot without outliers**"
   ]
  },
  {
   "cell_type": "code",
   "execution_count": 70,
   "id": "4657b0e4",
   "metadata": {},
   "outputs": [
    {
     "data": {
      "image/png": "[encoded data removed]",
      "text/plain": [
       "<Figure size 640x480 with 1 Axes>"
      ]
     },
     "metadata": {},
     "output_type": "display_data"
    }
   ],
   "source": [
    "fig,ax = plt.subplots()\n",
    "ax.scatter(x, e, color = \"#2d3436\")\n",
    "ax.axhline(np.mean(e), color =\"#fa8231\")\n",
    "ax.set(\n",
    "    xlabel=\"Weeks\",\n",
    "    ylabel=\"Residual Values e\",\n",
    "    title = \"Residual Plot no Outliers\"\n",
    ")\n",
    "plt.show()"
   ]
  },
  {
   "cell_type": "markdown",
   "id": "ec0e1277",
   "metadata": {},
   "source": [
    "I can see a U shaped pattern here, maybe a linear regression model is not the best model to fit this data of stock market results, however, we have a correlation coefficient which is positive or positive moderated."
   ]
  },
  {
   "cell_type": "code",
   "execution_count": 71,
   "id": "a5a66468",
   "metadata": {},
   "outputs": [],
   "source": [
    "estimations_weekly = pd.DataFrame({\"Outliers\": with_outliers, \"No Outliers\": without_outliers})"
   ]
  },
  {
   "cell_type": "code",
   "execution_count": 72,
   "id": "342e62bb",
   "metadata": {},
   "outputs": [],
   "source": [
    "estimations_weekly.to_csv(\"Projection Stock Market Returns Weekly.csv\") # saving estimations Weekly"
   ]
  },
  {
   "cell_type": "markdown",
   "id": "e894dafb",
   "metadata": {},
   "source": [
    "# Visualizing the two functions of linear Regression one with outliers and the other with no outliers 25/03/2024"
   ]
  },
  {
   "cell_type": "code",
   "execution_count": 73,
   "id": "c985c375",
   "metadata": {},
   "outputs": [
    {
     "data": {
      "image/png": "[encoded data removed]",
      "text/plain": [
       "<Figure size 640x480 with 1 Axes>"
      ]
     },
     "metadata": {},
     "output_type": "display_data"
    }
   ],
   "source": [
    "plt.plot(estimations_weekly.index, estimations_weekly[\"Outliers\"], color = \"#ff6348\", label = \"With Outliers\")\n",
    "plt.plot(estimations_weekly.index, estimations_weekly[\"No Outliers\"], color = \"#3742fa\", label = \"No Outliers\")\n",
    "plt.title(\"Two Functions last trimester 2023\")\n",
    "#plt.xlabel(\"Week\")\n",
    "plt.ylabel(\"Cumulative Result in %\")\n",
    "\n",
    "# Placing the ordered pairs\n",
    "for ordered_pair in [23, 47, 71, 95]:\n",
    "\n",
    "    x = estimations_weekly.index[ordered_pair]\n",
    "\n",
    "    y_with = round(estimations_weekly.loc[ordered_pair, \"Outliers\"], 2)\n",
    "    y_no = round(estimations_weekly.loc[ordered_pair, \"No Outliers\"], 2)\n",
    "\n",
    "    plt.scatter(x, y_with, color = \"#ff6348\")\n",
    "    plt.scatter(x, y_no, color = \"#3742fa\")\n",
    "\n",
    "\n",
    "plt.xticks(ticks = [23, 47, 71, 95], labels = [\"6 Months\", \"1 Year\", \"1 Year and a Half\", \"2 Years\"])\n",
    "\n",
    "plt.legend()\n",
    "plt.show()"
   ]
  },
  {
   "cell_type": "markdown",
   "id": "2c0d8803",
   "metadata": {},
   "source": [
    "# In a normal distribution:\n",
    "\n",
    "+ 68% of the data falls in 1 standard deviation\n",
    "+ 95% of the data falls in 2 standard deviations\n",
    "+ 99.7% of the data falls in 3 standard deviations\n",
    "\n",
    "However, here we are considering a residual sum of squares taking its root to see how much the spread of the data can be, and we saw that with outliers we have **2.58** and without outliers **2.06** residual sum of squares, and we can have 1, 2, 3 of these. While we have less outliers the more tigthly clustered the data can be to the mean **(the function of linear regression)** and the more we are going to earn long term. "
   ]
  }
 ],
 "metadata": {
  "kernelspec": {
   "display_name": "Python 3 (ipykernel)",
   "language": "python",
   "name": "python3"
  },
  "language_info": {
   "codemirror_mode": {
    "name": "ipython",
    "version": 3
   },
   "file_extension": ".py",
   "mimetype": "text/x-python",
   "name": "python",
   "nbconvert_exporter": "python",
   "pygments_lexer": "ipython3",
   "version": "3.11.4"
  }
 },
 "nbformat": 4,
 "nbformat_minor": 5
}
