{
 "cells": [
  {
   "cell_type": "markdown",
   "id": "45a8eb50",
   "metadata": {},
   "source": [
    "# 02/01/2024 Trading proyection analysis"
   ]
  },
  {
   "cell_type": "code",
   "execution_count": 1,
   "id": "2b65d69a",
   "metadata": {},
   "outputs": [],
   "source": [
    "import pandas as pd\n",
    "import numpy as np\n",
    "import matplotlib.pyplot as plt\n",
    "import seaborn as sns\n",
    "#plt.style.use(\"fivethirtyeight\")\n",
    "plt.style.use(\"bmh\")"
   ]
  },
  {
   "cell_type": "code",
   "execution_count": 2,
   "id": "8847023a",
   "metadata": {},
   "outputs": [
    {
     "data": {
      "text/html": [
       "<div>\n",
       "<style scoped>\n",
       "    .dataframe tbody tr th:only-of-type {\n",
       "        vertical-align: middle;\n",
       "    }\n",
       "\n",
       "    .dataframe tbody tr th {\n",
       "        vertical-align: top;\n",
       "    }\n",
       "\n",
       "    .dataframe thead th {\n",
       "        text-align: right;\n",
       "    }\n",
       "</style>\n",
       "<table border=\"1\" class=\"dataframe\">\n",
       "  <thead>\n",
       "    <tr style=\"text-align: right;\">\n",
       "      <th></th>\n",
       "      <th>jan 1-6</th>\n",
       "      <th>jan 8-13</th>\n",
       "      <th>jan 15-20</th>\n",
       "      <th>jan 22-27</th>\n",
       "      <th>Jan-Febr 29-3</th>\n",
       "      <th>Feb 5-10</th>\n",
       "      <th>Feb 12-17</th>\n",
       "      <th>Feb 19-24</th>\n",
       "      <th>Feb-March 26-3</th>\n",
       "      <th>March 5-10</th>\n",
       "      <th>...</th>\n",
       "      <th>Oct 22-27</th>\n",
       "      <th>Oct-Nov 29-3</th>\n",
       "      <th>Nov 5-10</th>\n",
       "      <th>Nov 12-17</th>\n",
       "      <th>Nov 19-24</th>\n",
       "      <th>Nov-Dec 26-1</th>\n",
       "      <th>Dec 3-8</th>\n",
       "      <th>Dec 10-15</th>\n",
       "      <th>Dec 17-22</th>\n",
       "      <th>Dec 24-29</th>\n",
       "    </tr>\n",
       "  </thead>\n",
       "  <tbody>\n",
       "    <tr>\n",
       "      <th>0</th>\n",
       "      <td>-0.38</td>\n",
       "      <td>-2.65</td>\n",
       "      <td>-0.12</td>\n",
       "      <td>1.76</td>\n",
       "      <td>3.88</td>\n",
       "      <td>2.82</td>\n",
       "      <td>4.29</td>\n",
       "      <td>3.61</td>\n",
       "      <td>-3.97</td>\n",
       "      <td>1.24</td>\n",
       "      <td>...</td>\n",
       "      <td>2</td>\n",
       "      <td>0.35</td>\n",
       "      <td>2</td>\n",
       "      <td>-2.42</td>\n",
       "      <td>-2.94</td>\n",
       "      <td>2.1</td>\n",
       "      <td>-5.46</td>\n",
       "      <td>2.06</td>\n",
       "      <td>2.6</td>\n",
       "      <td>2.01</td>\n",
       "    </tr>\n",
       "  </tbody>\n",
       "</table>\n",
       "<p>1 rows × 52 columns</p>\n",
       "</div>"
      ],
      "text/plain": [
       "   jan 1-6  jan 8-13  jan 15-20  jan 22-27  Jan-Febr 29-3  Feb 5-10  \\\n",
       "0    -0.38     -2.65      -0.12       1.76           3.88      2.82   \n",
       "\n",
       "   Feb 12-17  Feb 19-24  Feb-March 26-3  March 5-10  ...  Oct 22-27  \\\n",
       "0       4.29       3.61           -3.97        1.24  ...          2   \n",
       "\n",
       "   Oct-Nov 29-3  Nov 5-10  Nov 12-17  Nov 19-24  Nov-Dec 26-1  Dec 3-8  \\\n",
       "0          0.35         2      -2.42      -2.94           2.1    -5.46   \n",
       "\n",
       "   Dec 10-15  Dec 17-22  Dec 24-29  \n",
       "0       2.06        2.6       2.01  \n",
       "\n",
       "[1 rows x 52 columns]"
      ]
     },
     "execution_count": 2,
     "metadata": {},
     "output_type": "execute_result"
    }
   ],
   "source": [
    "pd.read_excel(\"Timeline_2023.xlsx\") # reading the excel file with my trading results 2023"
   ]
  },
  {
   "cell_type": "code",
   "execution_count": 3,
   "id": "6771ac94",
   "metadata": {},
   "outputs": [],
   "source": [
    "timeline_2023 = pd.read_excel(\"Timeline_2023.xlsx\")"
   ]
  },
  {
   "cell_type": "markdown",
   "id": "8be0d5c9",
   "metadata": {},
   "source": [
    "We are going to transpose it to manipulate the data better with an index which will be the date or segment of days that correspond to a week of trading and a column with the results of each week. "
   ]
  },
  {
   "cell_type": "code",
   "execution_count": 4,
   "id": "e15f082e",
   "metadata": {},
   "outputs": [],
   "source": [
    "timeline_2023 = timeline_2023.T"
   ]
  },
  {
   "cell_type": "code",
   "execution_count": 5,
   "id": "817b1f3b",
   "metadata": {},
   "outputs": [],
   "source": [
    "timeline_2023 = timeline_2023.rename(columns = {0 : \"results_week_percentage\"})"
   ]
  },
  {
   "cell_type": "code",
   "execution_count": 6,
   "id": "a85682d3",
   "metadata": {},
   "outputs": [
    {
     "data": {
      "text/html": [
       "<div>\n",
       "<style scoped>\n",
       "    .dataframe tbody tr th:only-of-type {\n",
       "        vertical-align: middle;\n",
       "    }\n",
       "\n",
       "    .dataframe tbody tr th {\n",
       "        vertical-align: top;\n",
       "    }\n",
       "\n",
       "    .dataframe thead th {\n",
       "        text-align: right;\n",
       "    }\n",
       "</style>\n",
       "<table border=\"1\" class=\"dataframe\">\n",
       "  <thead>\n",
       "    <tr style=\"text-align: right;\">\n",
       "      <th></th>\n",
       "      <th>results_week_percentage</th>\n",
       "    </tr>\n",
       "  </thead>\n",
       "  <tbody>\n",
       "    <tr>\n",
       "      <th>jan 1-6</th>\n",
       "      <td>-0.38</td>\n",
       "    </tr>\n",
       "    <tr>\n",
       "      <th>jan 8-13</th>\n",
       "      <td>-2.65</td>\n",
       "    </tr>\n",
       "    <tr>\n",
       "      <th>jan 15-20</th>\n",
       "      <td>-0.12</td>\n",
       "    </tr>\n",
       "    <tr>\n",
       "      <th>jan 22-27</th>\n",
       "      <td>1.76</td>\n",
       "    </tr>\n",
       "    <tr>\n",
       "      <th>Jan-Febr 29-3</th>\n",
       "      <td>3.88</td>\n",
       "    </tr>\n",
       "  </tbody>\n",
       "</table>\n",
       "</div>"
      ],
      "text/plain": [
       "               results_week_percentage\n",
       "jan 1-6                          -0.38\n",
       "jan 8-13                         -2.65\n",
       "jan 15-20                        -0.12\n",
       "jan 22-27                         1.76\n",
       "Jan-Febr 29-3                     3.88"
      ]
     },
     "execution_count": 6,
     "metadata": {},
     "output_type": "execute_result"
    }
   ],
   "source": [
    "timeline_2023.head()"
   ]
  },
  {
   "cell_type": "markdown",
   "id": "5b3cdc90",
   "metadata": {},
   "source": [
    "**If my goal is to proyect how will be my future results in my trades this year and the following ones I need to select a sample from the data generated from the previous year 2023**\n",
    "\n",
    "**The question is, which segment of the data from that excel do I need to take?, do I need to take it all or just a segment and in that case, which segment and why?**\n",
    "\n",
    "**Well, when we pick a sample we need to considerate the possibility of biasness in the sample selected, in this case I must consider lost and won weeks from the time I started to apply probability theory improving the quality of my trades, the behaviour I had during this segment of the year was the same in terms of technical analysis and risk management. This was the segment of the year I had after a considerable period of losses where I lost my first prop firm account of MyForexFunds because I was applying statistical knowledge, measures of central tendency and spread badly.**\n",
    "\n",
    "**This segment of the year results I am going to take is from the week of September 17-22 until the rest of the year 2023.**"
   ]
  },
  {
   "cell_type": "code",
   "execution_count": 7,
   "id": "0f3c57b7",
   "metadata": {},
   "outputs": [],
   "source": [
    "population_2023 = timeline_2023.loc[\"Sep 17-22\": , :]"
   ]
  },
  {
   "cell_type": "code",
   "execution_count": 8,
   "id": "8318a8d5",
   "metadata": {},
   "outputs": [
    {
     "data": {
      "text/plain": [
       "15"
      ]
     },
     "execution_count": 8,
     "metadata": {},
     "output_type": "execute_result"
    }
   ],
   "source": [
    "len(population_2023) # we have 15 weeks with 15 results applying a risk management based on probability theory concepts"
   ]
  },
  {
   "cell_type": "markdown",
   "id": "6045612e",
   "metadata": {},
   "source": [
    "# Sampling Distribution of the Sample Mean (SDSM)"
   ]
  },
  {
   "cell_type": "markdown",
   "id": "53903ab6",
   "metadata": {},
   "source": [
    "A subset of the population is called a sample, maybe we can consider that our total population of the data so far is this excel from the week of 17 of September. I am interested in predicting the events of the future **(the increase or decrease of my balance at the end of each week)** based on this sample, as predicting the features of the rest of the leaves of a tree based on the few leaves I currently have which are these 15 weeks, we can infer that the population parameter is similar to its corresponding statistic which in this case is the mean. \n",
    "\n",
    "We are going to take a sample of 4 results which correspond to 4 weeks, a month of trading and we are going to take all possible samples of 4 weeks inside of those 15 weeks applying **N ** n** using the itertools module."
   ]
  },
  {
   "cell_type": "code",
   "execution_count": 9,
   "id": "b2df5bdc",
   "metadata": {},
   "outputs": [],
   "source": [
    "import itertools"
   ]
  },
  {
   "cell_type": "code",
   "execution_count": 10,
   "id": "89c813f5",
   "metadata": {},
   "outputs": [
    {
     "name": "stdout",
     "output_type": "stream",
     "text": [
      "[2.0, 2.0, 2.0, 2.0, -0.37, 2.0, 0.35, 2.0, -2.42, -2.94, 2.1, -5.46, 2.06, 2.6, 2.01]\n"
     ]
    }
   ],
   "source": [
    "population = list(population_2023[\"results_week_percentage\"])\n",
    "print(list(population_2023[\"results_week_percentage\"])) # this is my list of 15 weekly results"
   ]
  },
  {
   "cell_type": "markdown",
   "id": "f1feb4ec",
   "metadata": {},
   "source": [
    "**We are going to plot our data distribution of those 15 week results on intervals of 4 bucks**"
   ]
  },
  {
   "cell_type": "code",
   "execution_count": 11,
   "id": "d2406344",
   "metadata": {},
   "outputs": [],
   "source": [
    "max_population = max(population)\n",
    "min_population = min(population)"
   ]
  },
  {
   "cell_type": "code",
   "execution_count": 12,
   "id": "bef8ab30",
   "metadata": {},
   "outputs": [
    {
     "data": {
      "text/plain": [
       "8.06"
      ]
     },
     "execution_count": 12,
     "metadata": {},
     "output_type": "execute_result"
    }
   ],
   "source": [
    "range_population = max_population - min_population\n",
    "range_population # the range of the distribution is 8.06"
   ]
  },
  {
   "cell_type": "code",
   "execution_count": 13,
   "id": "3f28a5c7",
   "metadata": {},
   "outputs": [
    {
     "data": {
      "text/plain": [
       "4.03"
      ]
     },
     "execution_count": 13,
     "metadata": {},
     "output_type": "execute_result"
    }
   ],
   "source": [
    "range_population / 2 # this 2 is the lenght of each bin"
   ]
  },
  {
   "cell_type": "code",
   "execution_count": 87,
   "id": "060c5743",
   "metadata": {},
   "outputs": [
    {
     "data": {
      "image/png": "[encoded data removed]",
      "text/plain": [
       "<Figure size 640x480 with 1 Axes>"
      ]
     },
     "metadata": {},
     "output_type": "display_data"
    }
   ],
   "source": [
    "plt.hist(population, bins = 4, color = \"#fa983a\", edgecolor = \"#2c3e50\")\n",
    "plt.title(\"Distribution of the 15 Week Results\")\n",
    "plt.ylabel(\"Frequency\")\n",
    "plt.xlabel(\"Results of the Weeks\")\n",
    "plt.axvline(np.mean(population), color = \"#3c6382\", label = f\"Population mean: {np.mean(population)}\", linestyle = \"--\")\n",
    "plt.legend()\n",
    "plt.show()"
   ]
  },
  {
   "cell_type": "markdown",
   "id": "a1cab951",
   "metadata": {},
   "source": [
    "**This distribution is not normal.**"
   ]
  },
  {
   "cell_type": "code",
   "execution_count": 15,
   "id": "57f7e9ef",
   "metadata": {},
   "outputs": [],
   "source": [
    "sample = 4 # we are going to take a sample of 4 weekly results"
   ]
  },
  {
   "cell_type": "code",
   "execution_count": 16,
   "id": "eece7b2b",
   "metadata": {},
   "outputs": [
    {
     "data": {
      "text/plain": [
       "50625"
      ]
     },
     "execution_count": 16,
     "metadata": {},
     "output_type": "execute_result"
    }
   ],
   "source": [
    "len(list(itertools.product(population, repeat = sample))) # Here we find every possible sample with a sample size of 4 \n",
    "                                                          # N ** n where N is 15 and n is 4"
   ]
  },
  {
   "cell_type": "code",
   "execution_count": 17,
   "id": "90725d36",
   "metadata": {},
   "outputs": [],
   "source": [
    "all_samples = list(itertools.product(population, repeat = sample)) # transforming the samples object into a list"
   ]
  },
  {
   "cell_type": "code",
   "execution_count": 18,
   "id": "3b7f5485",
   "metadata": {},
   "outputs": [],
   "source": [
    "# We are going to take every mean of each sample of 4 calculated and store it into a list called SDSM\n",
    "SDSM = []\n",
    "SDSM_decimals = []\n",
    "for i in all_samples:\n",
    "    sample_mean = np.mean(list(i))\n",
    "    SDSM.append(round(sample_mean)) # we are going to round the data to have integer numbers, a discrete approach\n",
    "    SDSM_decimals.append(sample_mean) # here we store the mean with its decimal values to plot it into a histogram"
   ]
  },
  {
   "cell_type": "code",
   "execution_count": 19,
   "id": "41b43655",
   "metadata": {},
   "outputs": [],
   "source": [
    "maxi = np.max(SDSM)\n",
    "mini = np.min(SDSM)"
   ]
  },
  {
   "cell_type": "code",
   "execution_count": 20,
   "id": "cd77cd34",
   "metadata": {},
   "outputs": [
    {
     "data": {
      "text/plain": [
       "8"
      ]
     },
     "execution_count": 20,
     "metadata": {},
     "output_type": "execute_result"
    }
   ],
   "source": [
    "abs(maxi - mini) # this is the range of the distribution, divide this by 1 (lenght of bins) is equal to the number of bins"
   ]
  },
  {
   "cell_type": "markdown",
   "id": "553bfff0",
   "metadata": {},
   "source": [
    "**We are going to plot the sample distribution of the sample mean (SDSM), since the distribution of the previous data is not normal and we took less than 30 sample size because we took 4, the resulting distribution will not be normal.**"
   ]
  },
  {
   "cell_type": "code",
   "execution_count": 21,
   "id": "99ba2534",
   "metadata": {},
   "outputs": [
    {
     "data": {
      "image/png": "[encoded data removed]",
      "text/plain": [
       "<Figure size 640x480 with 1 Axes>"
      ]
     },
     "metadata": {},
     "output_type": "display_data"
    }
   ],
   "source": [
    "plt.hist(SDSM_decimals, bins = 8, color = \"#4b7bec\", edgecolor = \"#d1d8e0\")\n",
    "plt.title(\"Distribution of Every Sample Mean\")\n",
    "plt.ylabel(\"Frequency\")\n",
    "plt.xlabel(\"Mean of Every Possible Sample of 4 Weeks\")\n",
    "plt.axvline(np.mean(SDSM), color = \"#eb3b5a\", label = f\"SDSM mean: {round(np.mean(SDSM), 2)}\", linestyle = \"--\")\n",
    "plt.legend()\n",
    "plt.show()"
   ]
  },
  {
   "cell_type": "markdown",
   "id": "eab51829",
   "metadata": {},
   "source": [
    "**Our data is skewed with a left tail or negatively skewed, the data of those 15 weeks is not normally distributed and we have just a few data observations not to guarantee a normal distribution with the central limit theorem (CLT).**"
   ]
  },
  {
   "cell_type": "code",
   "execution_count": 22,
   "id": "d5fad6a7",
   "metadata": {},
   "outputs": [
    {
     "data": {
      "text/plain": [
       " 2    15083\n",
       " 1    14178\n",
       " 0    14054\n",
       "-1     4504\n",
       "-2     2281\n",
       "-3      431\n",
       "-4       84\n",
       "-5        9\n",
       " 3        1\n",
       "Name: Results, dtype: int64"
      ]
     },
     "execution_count": 22,
     "metadata": {},
     "output_type": "execute_result"
    }
   ],
   "source": [
    "pd.Series(SDSM, name = \"Results\").value_counts() "
   ]
  },
  {
   "cell_type": "code",
   "execution_count": 23,
   "id": "3119287b",
   "metadata": {},
   "outputs": [
    {
     "data": {
      "text/plain": [
       " 2    0.297936\n",
       " 1    0.280059\n",
       " 0    0.277610\n",
       "-1    0.088968\n",
       "-2    0.045057\n",
       "-3    0.008514\n",
       "-4    0.001659\n",
       "-5    0.000178\n",
       " 3    0.000020\n",
       "Name: Results, dtype: float64"
      ]
     },
     "execution_count": 23,
     "metadata": {},
     "output_type": "execute_result"
    }
   ],
   "source": [
    "pd.Series(SDSM, name = \"Results\").value_counts(normalize = True) # this is the probability distribution of the SDSM"
   ]
  },
  {
   "cell_type": "code",
   "execution_count": 24,
   "id": "d9a0b869",
   "metadata": {},
   "outputs": [],
   "source": [
    "p_x = pd.Series(SDSM, name = \"Results\").value_counts(normalize = True) # we store this Series into a variable"
   ]
  },
  {
   "cell_type": "markdown",
   "id": "a7211406",
   "metadata": {},
   "source": [
    "**Let's plot the probability distribution of the sample mean with a bar chart.**"
   ]
  },
  {
   "cell_type": "code",
   "execution_count": 25,
   "id": "62d08eac",
   "metadata": {},
   "outputs": [
    {
     "data": {
      "image/png": "[encoded data removed]",
      "text/plain": [
       "<Figure size 640x480 with 1 Axes>"
      ]
     },
     "metadata": {},
     "output_type": "display_data"
    }
   ],
   "source": [
    "plt.bar(p_x.index, p_x, color = \"#4b7bec\")\n",
    "plt.title(\"Probability Distribution of Every Sample Mean\")\n",
    "plt.ylabel(\"Frequency\")\n",
    "plt.xlabel(\"P(X)\")\n",
    "plt.xticks(p_x.index)\n",
    "plt.show()"
   ]
  },
  {
   "cell_type": "markdown",
   "id": "f7b526eb",
   "metadata": {},
   "source": [
    "**Now let's calculate the mean and standard deviation of the probability distribution of the sample mean**"
   ]
  },
  {
   "cell_type": "code",
   "execution_count": 26,
   "id": "0bd05b31",
   "metadata": {},
   "outputs": [],
   "source": [
    "p_x = pd.DataFrame(p_x) # we convert this Series into a dataframe object to create a second column"
   ]
  },
  {
   "cell_type": "markdown",
   "id": "c4847549",
   "metadata": {},
   "source": [
    "**In these probability distributions we calculate the mean multiplying the value (in this case the resulted mean per sample) times its corresponding probability and we sum up all of these multiplications**"
   ]
  },
  {
   "cell_type": "code",
   "execution_count": 27,
   "id": "b7d7b950",
   "metadata": {},
   "outputs": [],
   "source": [
    "p_x[\"Multiply\"] = p_x[\"Results\"] * p_x.index"
   ]
  },
  {
   "cell_type": "code",
   "execution_count": 28,
   "id": "9fa07112",
   "metadata": {},
   "outputs": [
    {
     "data": {
      "text/plain": [
       "0.66"
      ]
     },
     "execution_count": 28,
     "metadata": {},
     "output_type": "execute_result"
    }
   ],
   "source": [
    "round(p_x[\"Multiply\"].sum(), 2) # this is the mean of the probability distribution of the SDSM "
   ]
  },
  {
   "cell_type": "code",
   "execution_count": 29,
   "id": "5b156c4f",
   "metadata": {},
   "outputs": [
    {
     "data": {
      "text/plain": [
       "results_week_percentage    0.66\n",
       "dtype: float64"
      ]
     },
     "execution_count": 29,
     "metadata": {},
     "output_type": "execute_result"
    }
   ],
   "source": [
    "round(population_2023.mean(), 2) # this is the mean of the population"
   ]
  },
  {
   "cell_type": "markdown",
   "id": "24259467",
   "metadata": {},
   "source": [
    "**The mean of the sample distribution of the sample mean (SDSM) and the mean of the population is the same.**"
   ]
  },
  {
   "cell_type": "code",
   "execution_count": 30,
   "id": "01258ef6",
   "metadata": {},
   "outputs": [],
   "source": [
    "from scipy import stats # with this module we can calculate the skewness of the data, a measure of asymetry"
   ]
  },
  {
   "cell_type": "code",
   "execution_count": 31,
   "id": "c8935f77",
   "metadata": {},
   "outputs": [
    {
     "data": {
      "text/plain": [
       "-0.73"
      ]
     },
     "execution_count": 31,
     "metadata": {},
     "output_type": "execute_result"
    }
   ],
   "source": [
    "round(stats.skew(SDSM_decimals), 2) \n",
    "# We have a higly negative skew data here, because my trades move towards earning at the end of each week"
   ]
  },
  {
   "cell_type": "code",
   "execution_count": 32,
   "id": "44acdbc9",
   "metadata": {},
   "outputs": [
    {
     "data": {
      "text/plain": [
       "1.17"
      ]
     },
     "execution_count": 32,
     "metadata": {},
     "output_type": "execute_result"
    }
   ],
   "source": [
    "round(np.std(population) / np.sqrt(sample), 2) # This is the standar error of the SDSM, the deviation from the mean"
   ]
  },
  {
   "cell_type": "markdown",
   "id": "c9f5f4d5",
   "metadata": {},
   "source": [
    "We are picking more than 5% of the population in this sample size of 4 we need to apply the finite population correction factor in the standar error of the sample distribution of the sample mean. Nevertheless, we are sampling with replacement **N ** n** so we don't need to do this product. "
   ]
  },
  {
   "cell_type": "markdown",
   "id": "88c648a6",
   "metadata": {},
   "source": [
    "# Sample Distribution of the Sample Proportion (SDSP)"
   ]
  },
  {
   "cell_type": "markdown",
   "id": "146e58f3",
   "metadata": {},
   "source": [
    "The proportion in our population data is the number of subjects that meet a certain condition where **p = x / n**, the condition we are going to higlight is all the data observations which resulted in **+2%** at the end of each week or more, so which is our population proportion? \n",
    "\n",
    "+ x = number of data observations that meet our criteria\n",
    "+ n = total number of sample size whether it meets our condition or not"
   ]
  },
  {
   "cell_type": "code",
   "execution_count": 33,
   "id": "6a2eac57",
   "metadata": {},
   "outputs": [],
   "source": [
    "x = 0\n",
    "n = len(population)\n",
    "for i in population:\n",
    "    if i >= 2:\n",
    "        x += 1"
   ]
  },
  {
   "cell_type": "code",
   "execution_count": 34,
   "id": "e8130437",
   "metadata": {},
   "outputs": [
    {
     "data": {
      "text/plain": [
       "0.67"
      ]
     },
     "execution_count": 34,
     "metadata": {},
     "output_type": "execute_result"
    }
   ],
   "source": [
    "p = round(x / n, 2)\n",
    "p # our population proportion is 67% "
   ]
  },
  {
   "cell_type": "markdown",
   "id": "cf48dc6f",
   "metadata": {},
   "source": [
    "**We can apply the sample distribution of the sample proportion (SDSP) taking every possible sample of 4 weeks that meet our criteria.**"
   ]
  },
  {
   "cell_type": "code",
   "execution_count": 35,
   "id": "b57126ca",
   "metadata": {},
   "outputs": [],
   "source": [
    "# We are going to take every proportion of each sample of 4 calculated and store it into a list called SDSP\n",
    "SDSP = []\n",
    "\n",
    "for samples in all_samples:\n",
    "    \n",
    "    x = 0\n",
    "    for data_point in samples:\n",
    "        \n",
    "        if data_point >= 2:\n",
    "            x += 1\n",
    "        \n",
    "    p_this_sample = x / len(samples) # this is the formula for the proportion but in this case for each sample of 4\n",
    "    \n",
    "    SDSP.append(p_this_sample) # we are going to append into a list the proportion of each sample"
   ]
  },
  {
   "cell_type": "code",
   "execution_count": 36,
   "id": "47cfcdbc",
   "metadata": {},
   "outputs": [
    {
     "data": {
      "text/plain": [
       "50625"
      ]
     },
     "execution_count": 36,
     "metadata": {},
     "output_type": "execute_result"
    }
   ],
   "source": [
    "len(SDSP)"
   ]
  },
  {
   "cell_type": "code",
   "execution_count": 37,
   "id": "d86b9107",
   "metadata": {},
   "outputs": [
    {
     "data": {
      "text/plain": [
       "50625"
      ]
     },
     "execution_count": 37,
     "metadata": {},
     "output_type": "execute_result"
    }
   ],
   "source": [
    "len(all_samples)"
   ]
  },
  {
   "cell_type": "code",
   "execution_count": 38,
   "id": "bc4b2766",
   "metadata": {},
   "outputs": [
    {
     "data": {
      "text/plain": [
       "0.67"
      ]
     },
     "execution_count": 38,
     "metadata": {},
     "output_type": "execute_result"
    }
   ],
   "source": [
    "round(np.mean(SDSP), 2)"
   ]
  },
  {
   "cell_type": "code",
   "execution_count": 39,
   "id": "78875d57",
   "metadata": {},
   "outputs": [
    {
     "data": {
      "text/plain": [
       "0.67"
      ]
     },
     "execution_count": 39,
     "metadata": {},
     "output_type": "execute_result"
    }
   ],
   "source": [
    "p"
   ]
  },
  {
   "cell_type": "markdown",
   "id": "c976fbdd",
   "metadata": {},
   "source": [
    "**Indeed, the mean of the SDSP is equal to the proportion p of the population, however, we can construct a probability distribution of a random variable p**"
   ]
  },
  {
   "cell_type": "code",
   "execution_count": 40,
   "id": "aecd6aa0",
   "metadata": {},
   "outputs": [
    {
     "data": {
      "text/plain": [
       "0.00    0.012346\n",
       "0.25    0.098765\n",
       "0.50    0.296296\n",
       "0.75    0.395062\n",
       "1.00    0.197531\n",
       "dtype: float64"
      ]
     },
     "execution_count": 40,
     "metadata": {},
     "output_type": "execute_result"
    }
   ],
   "source": [
    "pd.DataFrame(SDSP).value_counts(normalize = True).sort_index()"
   ]
  },
  {
   "cell_type": "code",
   "execution_count": 41,
   "id": "2108ae2c",
   "metadata": {},
   "outputs": [],
   "source": [
    "p_distribution_p = pd.Series(SDSP).value_counts(normalize = True).sort_index()"
   ]
  },
  {
   "cell_type": "code",
   "execution_count": 42,
   "id": "b5372f4f",
   "metadata": {},
   "outputs": [
    {
     "data": {
      "text/plain": [
       "0/4    0.012346\n",
       "1/4    0.098765\n",
       "2/4    0.296296\n",
       "3/4    0.395062\n",
       "4/4    0.197531\n",
       "dtype: float64"
      ]
     },
     "execution_count": 42,
     "metadata": {},
     "output_type": "execute_result"
    }
   ],
   "source": [
    "p_distribution_p.index = [\"0/4\", \"1/4\", \"2/4\", \"3/4\", \"4/4\"] # We are going to change the label of the index for readability\n",
    "p_distribution_p"
   ]
  },
  {
   "cell_type": "markdown",
   "id": "42dd8cbb",
   "metadata": {},
   "source": [
    "Now we are going to take each probability and store them into a list."
   ]
  },
  {
   "cell_type": "code",
   "execution_count": 43,
   "id": "c171b008",
   "metadata": {},
   "outputs": [],
   "source": [
    "probabilities = []\n",
    "for i in p_distribution_p:\n",
    "    indi_probability = round(i, 2)\n",
    "    probabilities.append(indi_probability)"
   ]
  },
  {
   "cell_type": "markdown",
   "id": "635b912d",
   "metadata": {},
   "source": [
    "**We are going to plot the probability distribution of this sample proportion with a bar chart.**"
   ]
  },
  {
   "cell_type": "code",
   "execution_count": 44,
   "id": "22a75623",
   "metadata": {},
   "outputs": [
    {
     "data": {
      "image/png": "[encoded data removed]",
      "text/plain": [
       "<Figure size 640x480 with 1 Axes>"
      ]
     },
     "metadata": {},
     "output_type": "display_data"
    }
   ],
   "source": [
    "plt.bar(p_distribution_p.index, probabilities, color = \"#3c40c6\")\n",
    "plt.title(\"Probability Distribution of the SDSP\")\n",
    "plt.ylabel(\"Frequency\")\n",
    "plt.xlabel(\"Proportion of Every Possible Sample of 4 Weeks\")\n",
    "plt.show()"
   ]
  },
  {
   "cell_type": "markdown",
   "id": "e612ea57",
   "metadata": {},
   "source": [
    "**What is the standard deviation of this probability distribution?**"
   ]
  },
  {
   "cell_type": "code",
   "execution_count": 45,
   "id": "56ce2763",
   "metadata": {},
   "outputs": [
    {
     "data": {
      "text/plain": [
       "0.24"
      ]
     },
     "execution_count": 45,
     "metadata": {},
     "output_type": "execute_result"
    }
   ],
   "source": [
    "round(np.sqrt(p * (1 - p)) / np.sqrt(sample), 2) # This is the Standar error formula for the SDSP \n",
    "\n",
    "# we don't have to use the finite population correction factor if we are sampling with replacement. "
   ]
  },
  {
   "cell_type": "markdown",
   "id": "8c8607f0",
   "metadata": {},
   "source": [
    "**This means that the proportion of the results of my trades at the end of each week deviates approximately 24% from the mean** "
   ]
  },
  {
   "cell_type": "markdown",
   "id": "bf25a669",
   "metadata": {},
   "source": [
    "**What is its mean?** we are going to apply the same process as in the SDSM"
   ]
  },
  {
   "cell_type": "code",
   "execution_count": 46,
   "id": "e63000a9",
   "metadata": {},
   "outputs": [
    {
     "data": {
      "text/plain": [
       "0.00    0.012346\n",
       "0.25    0.098765\n",
       "0.50    0.296296\n",
       "0.75    0.395062\n",
       "1.00    0.197531\n",
       "Name: Results, dtype: float64"
      ]
     },
     "execution_count": 46,
     "metadata": {},
     "output_type": "execute_result"
    }
   ],
   "source": [
    "pd.Series(SDSP, name = \"Results\").value_counts(normalize = True).sort_index()"
   ]
  },
  {
   "cell_type": "code",
   "execution_count": 47,
   "id": "e778e82f",
   "metadata": {},
   "outputs": [],
   "source": [
    "SDSP_df = pd.Series(SDSP, name = \"Results\").value_counts(normalize = True).sort_index()"
   ]
  },
  {
   "cell_type": "code",
   "execution_count": 48,
   "id": "a30594a4",
   "metadata": {},
   "outputs": [],
   "source": [
    "SDSP_df = pd.DataFrame(SDSP_df)"
   ]
  },
  {
   "cell_type": "code",
   "execution_count": 49,
   "id": "4b8fa7be",
   "metadata": {},
   "outputs": [],
   "source": [
    "SDSP_df[\"multiply\"] = SDSP_df.index * SDSP_df[\"Results\"]"
   ]
  },
  {
   "cell_type": "code",
   "execution_count": 50,
   "id": "278883f4",
   "metadata": {},
   "outputs": [
    {
     "data": {
      "text/html": [
       "<div>\n",
       "<style scoped>\n",
       "    .dataframe tbody tr th:only-of-type {\n",
       "        vertical-align: middle;\n",
       "    }\n",
       "\n",
       "    .dataframe tbody tr th {\n",
       "        vertical-align: top;\n",
       "    }\n",
       "\n",
       "    .dataframe thead th {\n",
       "        text-align: right;\n",
       "    }\n",
       "</style>\n",
       "<table border=\"1\" class=\"dataframe\">\n",
       "  <thead>\n",
       "    <tr style=\"text-align: right;\">\n",
       "      <th></th>\n",
       "      <th>Results</th>\n",
       "      <th>multiply</th>\n",
       "    </tr>\n",
       "  </thead>\n",
       "  <tbody>\n",
       "    <tr>\n",
       "      <th>0.00</th>\n",
       "      <td>0.012346</td>\n",
       "      <td>0.000000</td>\n",
       "    </tr>\n",
       "    <tr>\n",
       "      <th>0.25</th>\n",
       "      <td>0.098765</td>\n",
       "      <td>0.024691</td>\n",
       "    </tr>\n",
       "    <tr>\n",
       "      <th>0.50</th>\n",
       "      <td>0.296296</td>\n",
       "      <td>0.148148</td>\n",
       "    </tr>\n",
       "    <tr>\n",
       "      <th>0.75</th>\n",
       "      <td>0.395062</td>\n",
       "      <td>0.296296</td>\n",
       "    </tr>\n",
       "    <tr>\n",
       "      <th>1.00</th>\n",
       "      <td>0.197531</td>\n",
       "      <td>0.197531</td>\n",
       "    </tr>\n",
       "  </tbody>\n",
       "</table>\n",
       "</div>"
      ],
      "text/plain": [
       "       Results  multiply\n",
       "0.00  0.012346  0.000000\n",
       "0.25  0.098765  0.024691\n",
       "0.50  0.296296  0.148148\n",
       "0.75  0.395062  0.296296\n",
       "1.00  0.197531  0.197531"
      ]
     },
     "execution_count": 50,
     "metadata": {},
     "output_type": "execute_result"
    }
   ],
   "source": [
    "SDSP_df"
   ]
  },
  {
   "cell_type": "code",
   "execution_count": 51,
   "id": "75aeab8d",
   "metadata": {},
   "outputs": [
    {
     "data": {
      "text/plain": [
       "0.67"
      ]
     },
     "execution_count": 51,
     "metadata": {},
     "output_type": "execute_result"
    }
   ],
   "source": [
    "round(SDSP_df[\"multiply\"].sum(), 2) #This is the mean of the SDSP which is the same as the p of the population"
   ]
  },
  {
   "cell_type": "markdown",
   "id": "40d26cf7",
   "metadata": {},
   "source": [
    "Can we make inferences with this distribution? What are the conditions for this?\n",
    "\n",
    "+ Randomness: the sampling is random\n",
    "+ Normal (large counts) n * p >= 5 and n * (1 - p) >= 5: Looks like we don't have a large sample\n",
    "+ 10% rule: If we are sampling with replacement we don't need to worry about this"
   ]
  },
  {
   "cell_type": "code",
   "execution_count": 52,
   "id": "bee06a07",
   "metadata": {},
   "outputs": [
    {
     "data": {
      "text/plain": [
       "2.68"
      ]
     },
     "execution_count": 52,
     "metadata": {},
     "output_type": "execute_result"
    }
   ],
   "source": [
    "sample * p "
   ]
  },
  {
   "cell_type": "code",
   "execution_count": 53,
   "id": "d0124989",
   "metadata": {},
   "outputs": [
    {
     "data": {
      "text/plain": [
       "1.32"
      ]
     },
     "execution_count": 53,
     "metadata": {},
     "output_type": "execute_result"
    }
   ],
   "source": [
    "round(sample * (1 - p), 2)"
   ]
  },
  {
   "cell_type": "markdown",
   "id": "687ac292",
   "metadata": {},
   "source": [
    "**Since both of these products aren't bigger or equal than 5, we can't make inferences with this distribution using the central limit theorem knowledge with T and Z scores, a non parametric approach for small sample size and non normal distributions may be the best choice to make inferences on this kind of data**"
   ]
  },
  {
   "cell_type": "markdown",
   "id": "86f9c8bc",
   "metadata": {},
   "source": [
    "# Sum of each Sample of 4 Weeks"
   ]
  },
  {
   "cell_type": "markdown",
   "id": "1d9d2f15",
   "metadata": {},
   "source": [
    "We are going to sum every possible sample of 4 weeks from the data to see all the possible results within a month of trading, the variable all_samples contains **N ** n** posible samples 15 ** 4. "
   ]
  },
  {
   "cell_type": "code",
   "execution_count": 54,
   "id": "2a80d82c",
   "metadata": {},
   "outputs": [],
   "source": [
    "sumed_samples = [] # we are going to store every statistic which is this case is the sum, here in this empty list\n",
    "\n",
    "for sample in all_samples:\n",
    "    sumed = sum(sample) # we are going to store the sum, not the mean\n",
    "    sumed_samples.append(sumed)"
   ]
  },
  {
   "cell_type": "code",
   "execution_count": 55,
   "id": "35d40e74",
   "metadata": {},
   "outputs": [],
   "source": [
    "min_sumed = np.min(sumed_samples)\n",
    "max_sumed = np.max(sumed_samples)"
   ]
  },
  {
   "cell_type": "code",
   "execution_count": 56,
   "id": "73b09fcf",
   "metadata": {},
   "outputs": [
    {
     "data": {
      "text/plain": [
       "14.768"
      ]
     },
     "execution_count": 56,
     "metadata": {},
     "output_type": "execute_result"
    }
   ],
   "source": [
    "max_sumed - min_sumed / 5  # If I want a lenght of 5 for each bucket I need around of 32 or 33 bins "
   ]
  },
  {
   "cell_type": "code",
   "execution_count": 57,
   "id": "8e21a5c0",
   "metadata": {},
   "outputs": [
    {
     "data": {
      "image/png": "[encoded data removed]",
      "text/plain": [
       "<Figure size 640x480 with 1 Axes>"
      ]
     },
     "metadata": {},
     "output_type": "display_data"
    }
   ],
   "source": [
    "plt.hist(sumed_samples, color = \"#20bf6b\", edgecolor = \"#f5f6fa\", bins = 15)\n",
    "plt.title(\"Distribution of Sum of Each Month\")\n",
    "plt.ylabel(\"Frequency\")\n",
    "plt.xlabel(\"Results Month\")\n",
    "plt.axvline(np.mean(sumed_samples), color = \"#fa8231\", linestyle = \"--\", label = f\"Mean: {np.mean(sumed_samples)}\")\n",
    "plt.legend()\n",
    "plt.show()"
   ]
  },
  {
   "cell_type": "markdown",
   "id": "0382d828",
   "metadata": {},
   "source": [
    "**The mean is 2.64, what is the standar deviation?**"
   ]
  },
  {
   "cell_type": "code",
   "execution_count": 58,
   "id": "099b7d34",
   "metadata": {},
   "outputs": [
    {
     "data": {
      "text/plain": [
       "1.17"
      ]
     },
     "execution_count": 58,
     "metadata": {},
     "output_type": "execute_result"
    }
   ],
   "source": [
    "round(np.std(population) / np.sqrt(4), 2) # this is the standard error for this distribution, the same as the SDSM"
   ]
  },
  {
   "cell_type": "code",
   "execution_count": 59,
   "id": "75d8d4ee",
   "metadata": {},
   "outputs": [
    {
     "data": {
      "text/plain": [
       "4.66"
      ]
     },
     "execution_count": 59,
     "metadata": {},
     "output_type": "execute_result"
    }
   ],
   "source": [
    "round(np.std(sumed_samples), 2) # this is the standard deviation of this particular distribution of the sum of each month"
   ]
  },
  {
   "cell_type": "markdown",
   "id": "76baa5aa",
   "metadata": {},
   "source": [
    "**This data is left skewed, when we have skewed data it is better to use the interquartile range (IQR) as a measure of spread and the median as a measure of the centre.**"
   ]
  },
  {
   "cell_type": "code",
   "execution_count": 60,
   "id": "38b91baa",
   "metadata": {},
   "outputs": [],
   "source": [
    "sumed_samples = pd.Series(sumed_samples, name = \"Sumed Month\") # we create a series object to manipulate the tabular data"
   ]
  },
  {
   "cell_type": "code",
   "execution_count": 61,
   "id": "c2200968",
   "metadata": {},
   "outputs": [
    {
     "data": {
      "text/plain": [
       "3.26"
      ]
     },
     "execution_count": 61,
     "metadata": {},
     "output_type": "execute_result"
    }
   ],
   "source": [
    "round(sumed_samples.median(), 2) # the median is 3.26% "
   ]
  },
  {
   "cell_type": "code",
   "execution_count": 92,
   "id": "a30bf216",
   "metadata": {},
   "outputs": [
    {
     "data": {
      "image/png": "[encoded data removed]",
      "text/plain": [
       "<Figure size 640x480 with 1 Axes>"
      ]
     },
     "metadata": {},
     "output_type": "display_data"
    }
   ],
   "source": [
    "sns.boxplot(sumed_samples, orient = \"h\", color = \"#fa8231\")\n",
    "plt.title(\"Boxplot Sumed Results 4 Weeks\")\n",
    "plt.xlabel(\"Results 4 Weeks\")\n",
    "plt.show()"
   ]
  },
  {
   "cell_type": "markdown",
   "id": "b5f35ceb",
   "metadata": {},
   "source": [
    "By default, the whiskers extend from the Q1 and Q3 points to a distance of **1.5 times** the IQR in each direction. This distance is called the \"whisker range.\"\n",
    "\n",
    "Any data point that falls outside the whisker range is considered an outlier. This means they are either:\n",
    "\n",
    "+ More than 1.5 times the IQR below Q1: These are considered \"low outliers.\" Low Outlier < Q1 - 1.5(IQR)\n",
    "+ More than 1.5 times the IQR above Q3: These are considered \"high outliers.\" High Outlier > Q3 +1.5(IQR)\n",
    "\n",
    "**We have some outliers on the left side with those dots, in order to improve the system of my risk management I need to generate data tightly clustered to the centre**"
   ]
  },
  {
   "cell_type": "code",
   "execution_count": 63,
   "id": "4b5ca701",
   "metadata": {},
   "outputs": [
    {
     "data": {
      "text/plain": [
       "count    50625.000000\n",
       "mean         2.648000\n",
       "std          4.660548\n",
       "min        -21.840000\n",
       "25%         -0.360000\n",
       "50%          3.260000\n",
       "75%          6.410000\n",
       "max         10.400000\n",
       "Name: Sumed Month, dtype: float64"
      ]
     },
     "execution_count": 63,
     "metadata": {},
     "output_type": "execute_result"
    }
   ],
   "source": [
    "sumed_samples.describe()"
   ]
  },
  {
   "cell_type": "code",
   "execution_count": 64,
   "id": "137d80de",
   "metadata": {},
   "outputs": [],
   "source": [
    "description = sumed_samples.describe()"
   ]
  },
  {
   "cell_type": "code",
   "execution_count": 65,
   "id": "d7e377e5",
   "metadata": {},
   "outputs": [
    {
     "data": {
      "text/plain": [
       "6.77"
      ]
     },
     "execution_count": 65,
     "metadata": {},
     "output_type": "execute_result"
    }
   ],
   "source": [
    "IQR = description.loc[\"75%\"] - description.loc[\"25%\"] \n",
    "IQR"
   ]
  },
  {
   "cell_type": "markdown",
   "id": "cee1ff94",
   "metadata": {},
   "source": [
    "We have a **mean of 2.64** a **median of 3.26**. We also have a **standard deviation of 4.66**, a **standard error of 1.17** and finally an **interquartile range of 6.77**"
   ]
  },
  {
   "cell_type": "markdown",
   "id": "9c7987b8",
   "metadata": {},
   "source": [
    "# Proportion of the sum of each possible sample"
   ]
  },
  {
   "cell_type": "markdown",
   "id": "90328ce6",
   "metadata": {},
   "source": [
    "**In a prop firm challenge we can lose no more than 10%, but what percentage of this data is less than 10% during a month?**"
   ]
  },
  {
   "cell_type": "code",
   "execution_count": 66,
   "id": "b233c4a6",
   "metadata": {},
   "outputs": [],
   "source": [
    "sumed_samples = pd.Series(sumed_samples, name = \"Sumed Month\") # we create a series object to manipulate the tabular data"
   ]
  },
  {
   "cell_type": "code",
   "execution_count": 67,
   "id": "5e1f15e5",
   "metadata": {},
   "outputs": [],
   "source": [
    "less_10 = sumed_samples[sumed_samples <= -10]"
   ]
  },
  {
   "cell_type": "code",
   "execution_count": 68,
   "id": "bf5c6299",
   "metadata": {},
   "outputs": [],
   "source": [
    "more_10 = sumed_samples[sumed_samples > -10]"
   ]
  },
  {
   "cell_type": "code",
   "execution_count": 69,
   "id": "10d5edd3",
   "metadata": {},
   "outputs": [
    {
     "data": {
      "text/plain": [
       "524"
      ]
     },
     "execution_count": 69,
     "metadata": {},
     "output_type": "execute_result"
    }
   ],
   "source": [
    "len(less_10)"
   ]
  },
  {
   "cell_type": "code",
   "execution_count": 70,
   "id": "d8c0a5fb",
   "metadata": {},
   "outputs": [
    {
     "data": {
      "text/plain": [
       "50101"
      ]
     },
     "execution_count": 70,
     "metadata": {},
     "output_type": "execute_result"
    }
   ],
   "source": [
    "len(more_10)"
   ]
  },
  {
   "cell_type": "code",
   "execution_count": 71,
   "id": "5226eac9",
   "metadata": {},
   "outputs": [
    {
     "data": {
      "text/plain": [
       "50625"
      ]
     },
     "execution_count": 71,
     "metadata": {},
     "output_type": "execute_result"
    }
   ],
   "source": [
    "len(sumed_samples)"
   ]
  },
  {
   "cell_type": "code",
   "execution_count": 72,
   "id": "8c19aa4d",
   "metadata": {},
   "outputs": [
    {
     "data": {
      "text/plain": [
       "50625"
      ]
     },
     "execution_count": 72,
     "metadata": {},
     "output_type": "execute_result"
    }
   ],
   "source": [
    "len(less_10) + len(more_10)"
   ]
  },
  {
   "cell_type": "code",
   "execution_count": 73,
   "id": "cdfc95df",
   "metadata": {},
   "outputs": [],
   "source": [
    "lenght_less_10 = len(less_10)\n",
    "lenght_more_10 = len(more_10)\n",
    "lenght_total = len(sumed_samples)"
   ]
  },
  {
   "cell_type": "markdown",
   "id": "5953219f",
   "metadata": {},
   "source": [
    "**We are going to find the proportion of a month of trading where we have more than -10%** "
   ]
  },
  {
   "cell_type": "code",
   "execution_count": 74,
   "id": "4e2d1beb",
   "metadata": {},
   "outputs": [
    {
     "data": {
      "text/plain": [
       "0.99"
      ]
     },
     "execution_count": 74,
     "metadata": {},
     "output_type": "execute_result"
    }
   ],
   "source": [
    "round(lenght_more_10 / lenght_total, 2) # we have 99% chances of not losing a prop firm account acording to this data"
   ]
  },
  {
   "cell_type": "code",
   "execution_count": 75,
   "id": "b73cbd66",
   "metadata": {},
   "outputs": [
    {
     "data": {
      "text/plain": [
       "0.01"
      ]
     },
     "execution_count": 75,
     "metadata": {},
     "output_type": "execute_result"
    }
   ],
   "source": [
    "round(lenght_less_10 / lenght_total, 2) # we have 1% chances of losing a prop firm account according to this data"
   ]
  },
  {
   "cell_type": "markdown",
   "id": "5e236ff0",
   "metadata": {},
   "source": [
    "**What about the proportion of earning +8% per month?**"
   ]
  },
  {
   "cell_type": "code",
   "execution_count": 76,
   "id": "086353b5",
   "metadata": {},
   "outputs": [],
   "source": [
    "less_8 = sumed_samples[sumed_samples < 8]"
   ]
  },
  {
   "cell_type": "code",
   "execution_count": 77,
   "id": "7212dbd9",
   "metadata": {},
   "outputs": [],
   "source": [
    "more_8 = sumed_samples[sumed_samples >= 8]"
   ]
  },
  {
   "cell_type": "code",
   "execution_count": 78,
   "id": "7fd64a76",
   "metadata": {},
   "outputs": [],
   "source": [
    "lenght_less_8 = len(less_8)\n",
    "lenght_more_8 = len(more_8)"
   ]
  },
  {
   "cell_type": "code",
   "execution_count": 79,
   "id": "baab7bca",
   "metadata": {},
   "outputs": [
    {
     "data": {
      "text/plain": [
       "0.2"
      ]
     },
     "execution_count": 79,
     "metadata": {},
     "output_type": "execute_result"
    }
   ],
   "source": [
    "round(lenght_more_8 / lenght_total, 2) # we have 20% chances of geeting +8% per month"
   ]
  },
  {
   "cell_type": "code",
   "execution_count": 80,
   "id": "cb175484",
   "metadata": {},
   "outputs": [
    {
     "data": {
      "text/plain": [
       "0.8"
      ]
     },
     "execution_count": 80,
     "metadata": {},
     "output_type": "execute_result"
    }
   ],
   "source": [
    "round(lenght_less_8 / lenght_total, 2) # this is (1 - p) of getting +8% per month, here the chances are considerable bigger"
   ]
  },
  {
   "cell_type": "markdown",
   "id": "15c572a0",
   "metadata": {},
   "source": [
    "# Getting a projection of a Year"
   ]
  },
  {
   "cell_type": "code",
   "execution_count": 94,
   "id": "3611c83a",
   "metadata": {},
   "outputs": [],
   "source": [
    "sumed_samples = np.array(sumed_samples)"
   ]
  },
  {
   "cell_type": "code",
   "execution_count": 95,
   "id": "01c08fcc",
   "metadata": {},
   "outputs": [
    {
     "data": {
      "text/plain": [
       "array([ 8.62,  3.13,  8.62,  2.59, -5.78,  6.97,  0.6 ,  0.6 ,  8.71,\n",
       "        4.36,  6.37,  4.78])"
      ]
     },
     "execution_count": 95,
     "metadata": {},
     "output_type": "execute_result"
    }
   ],
   "source": [
    "year = np.random.choice(sumed_samples, 12) # we are going to select randomly 12 months\n",
    "year"
   ]
  },
  {
   "cell_type": "markdown",
   "id": "03b9600a",
   "metadata": {},
   "source": [
    "**We are going to plot a projection of a year, with 12 months of possible choices inside of the sumed samples of a month.** "
   ]
  },
  {
   "cell_type": "code",
   "execution_count": 96,
   "id": "96e7fedc",
   "metadata": {},
   "outputs": [],
   "source": [
    "year_accumulative = list(itertools.accumulate(year)) # here we use the ogive data, the accumulative results"
   ]
  },
  {
   "cell_type": "code",
   "execution_count": 97,
   "id": "4187c03a",
   "metadata": {},
   "outputs": [],
   "source": [
    "months = [\"Jan\", \"Feb\", \"Mar\", \"Apr\", \"May\", \"Jun\", \"Jul\", \"Aug\", \"Sep\", \"Oct\", \"Nov\", \"Dec\"]"
   ]
  },
  {
   "cell_type": "code",
   "execution_count": 98,
   "id": "80818979",
   "metadata": {},
   "outputs": [
    {
     "data": {
      "image/png": "[encoded data removed]",
      "text/plain": [
       "<Figure size 640x480 with 1 Axes>"
      ]
     },
     "metadata": {},
     "output_type": "display_data"
    }
   ],
   "source": [
    "plt.plot(months, year, marker = \"o\", color = \"#130f40\", linewidth = 1.5, label = \"Results Month\")\n",
    "plt.plot(year_accumulative, marker = \"o\", color = \"#ff7979\", linewidth = 1.5, label = \"Accumulative Results\")\n",
    "plt.title(\"Projection of Results During a Year\")\n",
    "plt.xlabel(\"Months\")\n",
    "plt.ylabel(\"Percentage % Earned or Lost\")\n",
    "plt.legend()\n",
    "plt.show()"
   ]
  },
  {
   "cell_type": "code",
   "execution_count": null,
   "id": "8ca298f3",
   "metadata": {},
   "outputs": [],
   "source": []
  }
 ],
 "metadata": {
  "kernelspec": {
   "display_name": "Python 3 (ipykernel)",
   "language": "python",
   "name": "python3"
  },
  "language_info": {
   "codemirror_mode": {
    "name": "ipython",
    "version": 3
   },
   "file_extension": ".py",
   "mimetype": "text/x-python",
   "name": "python",
   "nbconvert_exporter": "python",
   "pygments_lexer": "ipython3",
   "version": "3.11.4"
  }
 },
 "nbformat": 4,
 "nbformat_minor": 5
}
