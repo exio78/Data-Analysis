{
 "cells": [
  {
   "cell_type": "markdown",
   "id": "ca00eb6f",
   "metadata": {},
   "source": [
    "# 20/12/2023 Geometric Random Variable for Job Vacancies in the UK"
   ]
  },
  {
   "cell_type": "markdown",
   "id": "4a8bff58",
   "metadata": {},
   "source": [
    "**\"Jobs vacancies per 100 emp jobs\" is a term used to describe the ratio of available job openings to the total number of employed individuals within a specific population in this case the Uk population, usually represented as a percentage. So, for every 100 people currently employed, it shows how many job openings exist.**"
   ]
  },
  {
   "cell_type": "markdown",
   "id": "c6c5dce8",
   "metadata": {},
   "source": [
    "The data comes from the UK Office for National Statistics (ONS): 👇🏼 👇🏼 👇🏼https://www.ons.gov.uk/employmentandlabourmarket/peopleinwork/employmentandemployeetypes/timeseries/ap2z/lms"
   ]
  },
  {
   "cell_type": "code",
   "execution_count": 46,
   "id": "82f02ab8",
   "metadata": {},
   "outputs": [],
   "source": [
    "import pandas as pd\n",
    "import matplotlib.pyplot as plt\n",
    "import seaborn as sns"
   ]
  },
  {
   "cell_type": "code",
   "execution_count": 47,
   "id": "f0aeb498",
   "metadata": {},
   "outputs": [],
   "source": [
    "vacancies_ratio = pd.read_excel(\"uk_jobs_vacancies.xls\") # here we extract the data from and excel file"
   ]
  },
  {
   "cell_type": "markdown",
   "id": "0d5ff9ca",
   "metadata": {},
   "source": [
    "# Cleaning and organizing the data"
   ]
  },
  {
   "cell_type": "code",
   "execution_count": 48,
   "id": "4d98c785",
   "metadata": {},
   "outputs": [
    {
     "data": {
      "text/html": [
       "<div>\n",
       "<style scoped>\n",
       "    .dataframe tbody tr th:only-of-type {\n",
       "        vertical-align: middle;\n",
       "    }\n",
       "\n",
       "    .dataframe tbody tr th {\n",
       "        vertical-align: top;\n",
       "    }\n",
       "\n",
       "    .dataframe thead th {\n",
       "        text-align: right;\n",
       "    }\n",
       "</style>\n",
       "<table border=\"1\" class=\"dataframe\">\n",
       "  <thead>\n",
       "    <tr style=\"text-align: right;\">\n",
       "      <th></th>\n",
       "      <th>Title</th>\n",
       "      <th>UK Job Vacancies ratio per 100 emp jobs - Total</th>\n",
       "    </tr>\n",
       "  </thead>\n",
       "  <tbody>\n",
       "    <tr>\n",
       "      <th>0</th>\n",
       "      <td>CDID</td>\n",
       "      <td>AP2Z</td>\n",
       "    </tr>\n",
       "    <tr>\n",
       "      <th>1</th>\n",
       "      <td>Source dataset ID</td>\n",
       "      <td>LMS</td>\n",
       "    </tr>\n",
       "    <tr>\n",
       "      <th>2</th>\n",
       "      <td>PreUnit</td>\n",
       "      <td>NaN</td>\n",
       "    </tr>\n",
       "    <tr>\n",
       "      <th>3</th>\n",
       "      <td>Unit</td>\n",
       "      <td>NaN</td>\n",
       "    </tr>\n",
       "    <tr>\n",
       "      <th>4</th>\n",
       "      <td>Release date</td>\n",
       "      <td>12-12-2023</td>\n",
       "    </tr>\n",
       "    <tr>\n",
       "      <th>5</th>\n",
       "      <td>Next release</td>\n",
       "      <td>16 January 2024</td>\n",
       "    </tr>\n",
       "    <tr>\n",
       "      <th>6</th>\n",
       "      <td>Important notes</td>\n",
       "      <td>NaN</td>\n",
       "    </tr>\n",
       "    <tr>\n",
       "      <th>7</th>\n",
       "      <td>2001 MAY</td>\n",
       "      <td>2.6</td>\n",
       "    </tr>\n",
       "    <tr>\n",
       "      <th>8</th>\n",
       "      <td>2001 JUN</td>\n",
       "      <td>2.5</td>\n",
       "    </tr>\n",
       "    <tr>\n",
       "      <th>9</th>\n",
       "      <td>2001 JUL</td>\n",
       "      <td>2.5</td>\n",
       "    </tr>\n",
       "  </tbody>\n",
       "</table>\n",
       "</div>"
      ],
      "text/plain": [
       "               Title UK Job Vacancies ratio per 100 emp jobs - Total\n",
       "0               CDID                                            AP2Z\n",
       "1  Source dataset ID                                             LMS\n",
       "2            PreUnit                                             NaN\n",
       "3               Unit                                             NaN\n",
       "4       Release date                                      12-12-2023\n",
       "5       Next release                                 16 January 2024\n",
       "6    Important notes                                             NaN\n",
       "7           2001 MAY                                             2.6\n",
       "8           2001 JUN                                             2.5\n",
       "9           2001 JUL                                             2.5"
      ]
     },
     "execution_count": 48,
     "metadata": {},
     "output_type": "execute_result"
    }
   ],
   "source": [
    "vacancies_ratio.head(10) # looks like we are interested in the data from the 7th row"
   ]
  },
  {
   "cell_type": "code",
   "execution_count": 49,
   "id": "fa10bb55",
   "metadata": {},
   "outputs": [],
   "source": [
    "# we are going to use a shorter name for the column of vacancies\n",
    "vacancies_ratio = vacancies_ratio.rename(columns = {\"UK Job Vacancies ratio per 100 emp jobs - Total\": \"vacancies\"})"
   ]
  },
  {
   "cell_type": "code",
   "execution_count": 50,
   "id": "af2a75c0",
   "metadata": {},
   "outputs": [],
   "source": [
    "vacancies_ratio = vacancies_ratio.loc[7:, :]"
   ]
  },
  {
   "cell_type": "code",
   "execution_count": 51,
   "id": "5035212b",
   "metadata": {},
   "outputs": [
    {
     "name": "stdout",
     "output_type": "stream",
     "text": [
      "<class 'pandas.core.frame.DataFrame'>\n",
      "RangeIndex: 270 entries, 7 to 276\n",
      "Data columns (total 2 columns):\n",
      " #   Column     Non-Null Count  Dtype \n",
      "---  ------     --------------  ----- \n",
      " 0   Title      270 non-null    object\n",
      " 1   vacancies  270 non-null    object\n",
      "dtypes: object(2)\n",
      "memory usage: 4.3+ KB\n"
     ]
    }
   ],
   "source": [
    "vacancies_ratio.info()"
   ]
  },
  {
   "cell_type": "markdown",
   "id": "f6180185",
   "metadata": {},
   "source": [
    "**We have non null data in our dataframe, however we need to convert the vacancies column into float numbers.**"
   ]
  },
  {
   "cell_type": "code",
   "execution_count": 53,
   "id": "1bdca088",
   "metadata": {},
   "outputs": [],
   "source": [
    "vacancies_ratio[\"vacancies\"] = vacancies_ratio[\"vacancies\"].astype(float)"
   ]
  },
  {
   "cell_type": "code",
   "execution_count": 217,
   "id": "e3f64de0",
   "metadata": {},
   "outputs": [
    {
     "data": {
      "text/plain": [
       "count    270.000000\n",
       "mean       2.385185\n",
       "std        0.574814\n",
       "min        1.100000\n",
       "25%        2.025000\n",
       "50%        2.300000\n",
       "75%        2.600000\n",
       "max        4.100000\n",
       "Name: vacancies, dtype: float64"
      ]
     },
     "execution_count": 217,
     "metadata": {},
     "output_type": "execute_result"
    }
   ],
   "source": [
    "vacancies_ratio[\"vacancies\"].describe() # let's see the five figure summary"
   ]
  },
  {
   "cell_type": "markdown",
   "id": "f68a35be",
   "metadata": {},
   "source": [
    "**Plotting a boxplot**"
   ]
  },
  {
   "cell_type": "code",
   "execution_count": 103,
   "id": "aad93a87",
   "metadata": {},
   "outputs": [
    {
     "data": {
      "image/png": "[encoded data removed]",
      "text/plain": [
       "<Figure size 640x480 with 1 Axes>"
      ]
     },
     "metadata": {},
     "output_type": "display_data"
    }
   ],
   "source": [
    "sns.boxplot(data = vacancies_ratio[\"vacancies\"].describe().loc[\"min\": \"max\"], \n",
    "            orient = \"h\", width = 0.5, linewidth = 2, whis = 5, color = \"#ff5e57\")\n",
    "\n",
    "plt.xlabel(\"Vacancies Ratio emp 100\")\n",
    "plt.axvline(vacancies_ratio[\"vacancies\"].describe().loc[\"50%\"], color = \"#ffa801\")\n",
    "\n",
    "plt.show()"
   ]
  },
  {
   "cell_type": "code",
   "execution_count": 95,
   "id": "84081dfe",
   "metadata": {},
   "outputs": [],
   "source": [
    "IQR = vacancies_ratio[\"vacancies\"].describe().loc[\"75%\"] - vacancies_ratio[\"vacancies\"].describe().loc[\"25%\"]"
   ]
  },
  {
   "cell_type": "code",
   "execution_count": 97,
   "id": "8a80c2ce",
   "metadata": {},
   "outputs": [
    {
     "data": {
      "text/plain": [
       "0.5750000000000002"
      ]
     },
     "execution_count": 97,
     "metadata": {},
     "output_type": "execute_result"
    }
   ],
   "source": [
    "IQR"
   ]
  },
  {
   "cell_type": "markdown",
   "id": "66338ca0",
   "metadata": {},
   "source": [
    "**IQR This is the interquatile range of the data, it is very similar to the mean of the vacancies ratio per 100 employees in this particular dataset**"
   ]
  },
  {
   "cell_type": "markdown",
   "id": "09ee67ac",
   "metadata": {},
   "source": [
    "# Applying our Geometric Random Variable"
   ]
  },
  {
   "cell_type": "markdown",
   "id": "85eca4a6",
   "metadata": {},
   "source": [
    " Geometric random variables work better we they have these features:\n",
    " \n",
    " + Each trial must be independent\n",
    " + Each trial must be called success or failure\n",
    " + Probability of success on each trial remains constant\n",
    " + We run N trials until we get a success\n",
    " \n",
    "1. Independent Trials:\n",
    " \n",
    "+ Yes: Job vacancies ratio with a positive return per month from the previous one can be considered independent trials if factors like previous applications, skills, or market conditions don't significantly influence subsequent outcomes. However, if these factors have a strong influence, the independence assumption might be violated.\n",
    "\n",
    "2. Success/Failure:\n",
    "\n",
    "+ Yes: You can define \"success\" as positive return and \"failure\" as negative return. This clearly fulfills the criterion.\n",
    "\n",
    "3. Constant Probability:\n",
    "\n",
    "+ Partially: The geometric random variable assumes a constant probability of success (positive return per month) across all trials. However, in reality, the job vacancy ratio (your chosen success probability) might fluctuate slightly month-to-month or depending on specific sectors/skills. Therefore, the probability wouldn't be perfectly constant but could be considered an approximation within a reasonable range.\n",
    "\n",
    "4. N Trials until Success:\n",
    "\n",
    "+ Yes: This approach aligns with the geometric model by running trials (monthly reports of jobs vacancies ratio) until achieving a success (positive return from the previous month)."
   ]
  },
  {
   "cell_type": "markdown",
   "id": "ed4cfb12",
   "metadata": {},
   "source": [
    "Success & Failure Definition:\n",
    "\n",
    "1. Define success as finding a job in a month where the percentage change in the **\"jobs vacancies per 100 emp jobs\" ratio is positive** (indicating more vacancies and potentially easier job search).\n",
    "\n",
    "2. Define failure as not finding a job in a month with a **negative percentage change** (fewer vacancies and potentially tougher job search)."
   ]
  },
  {
   "cell_type": "markdown",
   "id": "8ab2e6e4",
   "metadata": {},
   "source": [
    "**let's plot a line graph to display the time series data**"
   ]
  },
  {
   "cell_type": "markdown",
   "id": "138c4c94",
   "metadata": {},
   "source": [
    "We need to organize the data to convert the string column of Title in a datetime object"
   ]
  },
  {
   "cell_type": "code",
   "execution_count": 108,
   "id": "943925b0",
   "metadata": {},
   "outputs": [
    {
     "data": {
      "text/plain": [
       "7     2001 MAY\n",
       "8     2001 JUN\n",
       "9     2001 JUL\n",
       "10    2001 AUG\n",
       "11    2001 SEP\n",
       "Name: Title, dtype: object"
      ]
     },
     "execution_count": 108,
     "metadata": {},
     "output_type": "execute_result"
    }
   ],
   "source": [
    "vacancies_ratio[\"Title\"].head() # we just convert the months into numbers and swap the years and months"
   ]
  },
  {
   "cell_type": "code",
   "execution_count": 126,
   "id": "3f43c7a5",
   "metadata": {},
   "outputs": [],
   "source": [
    "months = {\"JAN\": \"01\", \"FEB\": \"02\", \"MAR\": \"03\", \"APR\": \"04\", \"MAY\": \"05\", \"JUN\": \"06\", \"JUL\": \"07\",\n",
    "         \"AUG\": \"08\", \"SEP\": \"09\", \"OCT\": \"10\", \"NOV\": \"11\", \"DIC\": \"12\"}"
   ]
  },
  {
   "cell_type": "code",
   "execution_count": 150,
   "id": "a884e51a",
   "metadata": {},
   "outputs": [],
   "source": [
    "vacancies_ratio[\"months\"] = vacancies_ratio[\"Title\"].str[-3: ]"
   ]
  },
  {
   "cell_type": "code",
   "execution_count": 153,
   "id": "4f8ae896",
   "metadata": {},
   "outputs": [],
   "source": [
    "vacancies_ratio[\"months\"] = vacancies_ratio[\"months\"].map(months)"
   ]
  },
  {
   "cell_type": "code",
   "execution_count": 169,
   "id": "f8f6f238",
   "metadata": {},
   "outputs": [],
   "source": [
    "vacancies_ratio[\"year\"] = vacancies_ratio[\"Title\"].str[0: 4]"
   ]
  },
  {
   "cell_type": "code",
   "execution_count": 170,
   "id": "9c0302ae",
   "metadata": {},
   "outputs": [],
   "source": [
    "vacancies_ratio[\"time_series\"] = vacancies_ratio[\"months\"] + \" \" + vacancies_ratio[\"year\"]"
   ]
  },
  {
   "cell_type": "code",
   "execution_count": 171,
   "id": "4e6aa2a5",
   "metadata": {},
   "outputs": [
    {
     "data": {
      "text/html": [
       "<div>\n",
       "<style scoped>\n",
       "    .dataframe tbody tr th:only-of-type {\n",
       "        vertical-align: middle;\n",
       "    }\n",
       "\n",
       "    .dataframe tbody tr th {\n",
       "        vertical-align: top;\n",
       "    }\n",
       "\n",
       "    .dataframe thead th {\n",
       "        text-align: right;\n",
       "    }\n",
       "</style>\n",
       "<table border=\"1\" class=\"dataframe\">\n",
       "  <thead>\n",
       "    <tr style=\"text-align: right;\">\n",
       "      <th></th>\n",
       "      <th>Title</th>\n",
       "      <th>vacancies</th>\n",
       "      <th>months</th>\n",
       "      <th>year</th>\n",
       "      <th>time_series</th>\n",
       "    </tr>\n",
       "  </thead>\n",
       "  <tbody>\n",
       "    <tr>\n",
       "      <th>7</th>\n",
       "      <td>2001 MAY</td>\n",
       "      <td>2.6</td>\n",
       "      <td>05</td>\n",
       "      <td>2001</td>\n",
       "      <td>05 2001</td>\n",
       "    </tr>\n",
       "    <tr>\n",
       "      <th>8</th>\n",
       "      <td>2001 JUN</td>\n",
       "      <td>2.5</td>\n",
       "      <td>06</td>\n",
       "      <td>2001</td>\n",
       "      <td>06 2001</td>\n",
       "    </tr>\n",
       "    <tr>\n",
       "      <th>9</th>\n",
       "      <td>2001 JUL</td>\n",
       "      <td>2.5</td>\n",
       "      <td>07</td>\n",
       "      <td>2001</td>\n",
       "      <td>07 2001</td>\n",
       "    </tr>\n",
       "    <tr>\n",
       "      <th>10</th>\n",
       "      <td>2001 AUG</td>\n",
       "      <td>2.5</td>\n",
       "      <td>08</td>\n",
       "      <td>2001</td>\n",
       "      <td>08 2001</td>\n",
       "    </tr>\n",
       "    <tr>\n",
       "      <th>11</th>\n",
       "      <td>2001 SEP</td>\n",
       "      <td>2.4</td>\n",
       "      <td>09</td>\n",
       "      <td>2001</td>\n",
       "      <td>09 2001</td>\n",
       "    </tr>\n",
       "  </tbody>\n",
       "</table>\n",
       "</div>"
      ],
      "text/plain": [
       "       Title  vacancies months  year time_series\n",
       "7   2001 MAY        2.6     05  2001     05 2001\n",
       "8   2001 JUN        2.5     06  2001     06 2001\n",
       "9   2001 JUL        2.5     07  2001     07 2001\n",
       "10  2001 AUG        2.5     08  2001     08 2001\n",
       "11  2001 SEP        2.4     09  2001     09 2001"
      ]
     },
     "execution_count": 171,
     "metadata": {},
     "output_type": "execute_result"
    }
   ],
   "source": [
    "vacancies_ratio.head()"
   ]
  },
  {
   "cell_type": "code",
   "execution_count": 173,
   "id": "6ff7a4b9",
   "metadata": {},
   "outputs": [
    {
     "data": {
      "text/plain": [
       "7    2001-05-01\n",
       "8    2001-06-01\n",
       "9    2001-07-01\n",
       "10   2001-08-01\n",
       "11   2001-09-01\n",
       "Name: time_series, dtype: datetime64[ns]"
      ]
     },
     "execution_count": 173,
     "metadata": {},
     "output_type": "execute_result"
    }
   ],
   "source": [
    "pd.to_datetime(vacancies_ratio[\"time_series\"], format = \"%m %Y\").head()"
   ]
  },
  {
   "cell_type": "code",
   "execution_count": 174,
   "id": "eef94191",
   "metadata": {},
   "outputs": [],
   "source": [
    "time_series = pd.to_datetime(vacancies_ratio[\"time_series\"], format = \"%m %Y\")"
   ]
  },
  {
   "cell_type": "markdown",
   "id": "1570c5b4",
   "metadata": {},
   "source": [
    "**Now that we have a time series data object we are going to plot a line chart**"
   ]
  },
  {
   "cell_type": "code",
   "execution_count": 187,
   "id": "f89ae069",
   "metadata": {},
   "outputs": [
    {
     "data": {
      "image/png": "[encoded data removed]",
      "text/plain": [
       "<Figure size 800x400 with 1 Axes>"
      ]
     },
     "metadata": {},
     "output_type": "display_data"
    }
   ],
   "source": [
    "plt.figure(figsize = (8, 4))\n",
    "plt.plot(time_series, vacancies_ratio[\"vacancies\"], color = \"#575fcf\")\n",
    "plt.title(\"Jobs Vacancies Ratio per 100 employees in the UK\")\n",
    "plt.xlabel(\"Years\")\n",
    "plt.ylabel(\"Vacancy ratio per 100 employees\")\n",
    "plt.show()"
   ]
  },
  {
   "cell_type": "markdown",
   "id": "f1d65505",
   "metadata": {},
   "source": [
    "**Modeling the monthly change in job vacancies as a percentage of the previous month's ratio can be a valuable indicator for a geometric random variable model in the UK context**"
   ]
  },
  {
   "cell_type": "code",
   "execution_count": 190,
   "id": "5a2368af",
   "metadata": {},
   "outputs": [
    {
     "data": {
      "text/plain": [
       "7           NaN\n",
       "8     -0.038462\n",
       "9      0.000000\n",
       "10     0.000000\n",
       "11    -0.040000\n",
       "         ...   \n",
       "272   -0.030303\n",
       "273   -0.031250\n",
       "274    0.000000\n",
       "275   -0.032258\n",
       "276    0.000000\n",
       "Name: vacancies, Length: 270, dtype: float64"
      ]
     },
     "execution_count": 190,
     "metadata": {},
     "output_type": "execute_result"
    }
   ],
   "source": [
    "vacancies_ratio[\"vacancies\"].pct_change()"
   ]
  },
  {
   "cell_type": "code",
   "execution_count": 204,
   "id": "7717d041",
   "metadata": {},
   "outputs": [],
   "source": [
    "pct_change_month = vacancies_ratio[\"vacancies\"].pct_change()"
   ]
  },
  {
   "cell_type": "markdown",
   "id": "d6a3b001",
   "metadata": {},
   "source": [
    "**How many positive changes from this ratio do we have?** "
   ]
  },
  {
   "cell_type": "code",
   "execution_count": 205,
   "id": "5eac4657",
   "metadata": {},
   "outputs": [
    {
     "data": {
      "text/plain": [
       "42"
      ]
     },
     "execution_count": 205,
     "metadata": {},
     "output_type": "execute_result"
    }
   ],
   "source": [
    "len(pct_change_month[pct_change_month > 0])"
   ]
  },
  {
   "cell_type": "markdown",
   "id": "7b7c525d",
   "metadata": {},
   "source": [
    "**How many negative changes from this ratio do we have**"
   ]
  },
  {
   "cell_type": "code",
   "execution_count": 211,
   "id": "7d44fa2c",
   "metadata": {},
   "outputs": [
    {
     "data": {
      "text/plain": [
       "227"
      ]
     },
     "execution_count": 211,
     "metadata": {},
     "output_type": "execute_result"
    }
   ],
   "source": [
    "len(pct_change_month[pct_change_month <= 0]) \n",
    "\n",
    "# zero or less than 0 because in reality we are going to see a success if we have a positive change between months\n",
    "# and we are going to have a failure if it happens anything else including not having a positive change between months"
   ]
  },
  {
   "cell_type": "markdown",
   "id": "9448c2bf",
   "metadata": {},
   "source": [
    "**We need to see the probability we are going to have a positive change in this dataset, this will be our success**"
   ]
  },
  {
   "cell_type": "code",
   "execution_count": 209,
   "id": "14ae120e",
   "metadata": {},
   "outputs": [
    {
     "data": {
      "text/plain": [
       "0.15555555555555556"
      ]
     },
     "execution_count": 209,
     "metadata": {},
     "output_type": "execute_result"
    }
   ],
   "source": [
    "len(pct_change_month[pct_change_month > 0]) / len(vacancies_ratio) "
   ]
  },
  {
   "cell_type": "markdown",
   "id": "fa5b2886",
   "metadata": {},
   "source": [
    "**Since we divided the total number of positive changes per months we have between the total number of changes per month we can say that the probability of obtaining a positive month is 0.15 or 0.16, 15% almost 16%**\n",
    "\n",
    "# But what is the probability we have at least 3 months until we get a positive change from the previous month? "
   ]
  },
  {
   "cell_type": "code",
   "execution_count": 216,
   "id": "72e817b1",
   "metadata": {},
   "outputs": [
    {
     "data": {
      "text/plain": [
       "0.10837499999999999"
      ]
     },
     "execution_count": 216,
     "metadata": {},
     "output_type": "execute_result"
    }
   ],
   "source": [
    "P_3 = 0.15 * ((1 - 0.15) ** 2) # here we applied the formula for the geometric random variable just for three trials-months\n",
    "P_3"
   ]
  },
  {
   "cell_type": "markdown",
   "id": "b13355dd",
   "metadata": {},
   "source": [
    "**What is the probability we are going to have more than 3 months before having a success where we can see a postive change of the job vacancy ratio per 100 employees?**"
   ]
  },
  {
   "cell_type": "code",
   "execution_count": 213,
   "id": "c23015bc",
   "metadata": {},
   "outputs": [],
   "source": [
    "P_2 = 0.15 * ((1 - 0.15) ** 1)\n",
    "P_1 = 0.15 * ((1 - 0.15) ** 0)"
   ]
  },
  {
   "cell_type": "code",
   "execution_count": 215,
   "id": "c29424ff",
   "metadata": {},
   "outputs": [
    {
     "data": {
      "text/plain": [
       "0.7225"
      ]
     },
     "execution_count": 215,
     "metadata": {},
     "output_type": "execute_result"
    }
   ],
   "source": [
    "P_greater_3 = 1 - (P_2 + P_1)\n",
    "P_greater_3"
   ]
  },
  {
   "cell_type": "markdown",
   "id": "5303d3d8",
   "metadata": {},
   "source": [
    "**When calculating probability of more than something to the infinitfe it would be difficult to calculate it so we take advantage of the fact that every distribution adds to 1**"
   ]
  },
  {
   "cell_type": "markdown",
   "id": "1e02687d",
   "metadata": {},
   "source": [
    "# Conclusion"
   ]
  },
  {
   "cell_type": "markdown",
   "id": "3b01c46f",
   "metadata": {},
   "source": [
    "**It is less likely to have a positive change of this ratio in the Uk up until the third month because we have 0.108 around of 11% chances of this scenario to happen, However, it is going to take us at least 3 or more trials (months) to get a positive change from this ratio due to the fact that we have 72% chances of having a positive change per month after the third trial or month.**"
   ]
  }
 ],
 "metadata": {
  "kernelspec": {
   "display_name": "Python 3 (ipykernel)",
   "language": "python",
   "name": "python3"
  },
  "language_info": {
   "codemirror_mode": {
    "name": "ipython",
    "version": 3
   },
   "file_extension": ".py",
   "mimetype": "text/x-python",
   "name": "python",
   "nbconvert_exporter": "python",
   "pygments_lexer": "ipython3",
   "version": "3.11.4"
  }
 },
 "nbformat": 4,
 "nbformat_minor": 5
}
