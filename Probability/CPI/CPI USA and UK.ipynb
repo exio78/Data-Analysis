{
 "cells": [
  {
   "cell_type": "markdown",
   "id": "ffdb3d04",
   "metadata": {},
   "source": [
    "# 16/01/2024 CPI USA and UK"
   ]
  },
  {
   "cell_type": "markdown",
   "id": "8caa8b24",
   "metadata": {},
   "source": [
    "**The CPI is the change in prices of a whole basket of goods and sevices to measure the power of purchase of the citizens in a respective country or region like the US or the UK; allow me to show you a little essay, a coloquial one explain it a little more:**"
   ]
  },
  {
   "cell_type": "markdown",
   "id": "2476ba0a",
   "metadata": {},
   "source": [
    "Ah, the CPI, eh? Imagine it like this, mate: picture yourself down at the local Sainsbury's, trolley piled high with your usual bits and bobs – baked beans, a cheeky bit of fish and chips, maybe a new brew kettle for good measure. Now, imagine coming back next month, that same trolley costing a quid or two more. That, in a nutshell, is the **Consumer Price Index.**\n",
    "\n",
    "The clever chaps at the **Office for National Statistics (ONS)** keep tabs on the prices of **a whole basket of goodies** like yours, from bangers and mash to mobile phone bills. Each month, they compare those prices to what they were before, giving us a bit of a gauge on how much dearer the whole shebang's getting. It's like a national price-checker, telling us if our quid's still stretching as far as it used to.\n",
    "\n",
    "Now, why's it all so important? Well, the CPI's a bit like **a canary in the coal mine for the economy**. If it's chirping away about prices soaring, it's a sign things might be heating up a bit – **inflation, they call it**. The Bank of England might need to put the brakes on things to cool it down, or the government might step in with a bit of extra help for folks struggling with the rising cost of living.\n",
    "\n",
    "On the flip side, if the CPI's nice and quiet, it means prices are staying steady and folks can breathe a bit easier. So, there you have it, the CPI: a simple bit of shopping maths turned into a vital measure of the nation's economic health. Keep an eye on it, and you'll always know whether your budget's feeling flush or facing a squeeze.\n",
    "\n",
    "And remember, even if the price of baked beans goes up a pence or two, there's always a good cuppa to cheer you up. Chin up, and carry on!"
   ]
  },
  {
   "cell_type": "markdown",
   "id": "f571caab",
   "metadata": {},
   "source": [
    "# The goal of this project is to compare the CPI of the US and the CPI of the UK, who is performing better keeping inflation away? "
   ]
  },
  {
   "cell_type": "code",
   "execution_count": 1,
   "id": "f1689c84",
   "metadata": {},
   "outputs": [],
   "source": [
    "import pandas as pd\n",
    "import numpy as np\n",
    "import matplotlib.pyplot as plt\n",
    "import seaborn as sns\n",
    "plt.style.use(\"bmh\")"
   ]
  },
  {
   "cell_type": "markdown",
   "id": "200c413e",
   "metadata": {},
   "source": [
    "The data comes from the investing webpage: https://es.investing.com/economic-calendar/cpi-67"
   ]
  },
  {
   "cell_type": "markdown",
   "id": "b82372d9",
   "metadata": {},
   "source": [
    "# CPI USA"
   ]
  },
  {
   "cell_type": "code",
   "execution_count": 2,
   "id": "8e451c80",
   "metadata": {},
   "outputs": [
    {
     "data": {
      "text/html": [
       "<div>\n",
       "<style scoped>\n",
       "    .dataframe tbody tr th:only-of-type {\n",
       "        vertical-align: middle;\n",
       "    }\n",
       "\n",
       "    .dataframe tbody tr th {\n",
       "        vertical-align: top;\n",
       "    }\n",
       "\n",
       "    .dataframe thead th {\n",
       "        text-align: right;\n",
       "    }\n",
       "</style>\n",
       "<table border=\"1\" class=\"dataframe\">\n",
       "  <thead>\n",
       "    <tr style=\"text-align: right;\">\n",
       "      <th></th>\n",
       "      <th>Release Date</th>\n",
       "      <th>Unnamed: 1</th>\n",
       "      <th>Time</th>\n",
       "      <th>Unnamed: 3</th>\n",
       "      <th>Unnamed: 4</th>\n",
       "      <th>Unnamed: 5</th>\n",
       "      <th>Actual</th>\n",
       "      <th>Forecast</th>\n",
       "      <th>Unnamed: 8</th>\n",
       "      <th>Unnamed: 9</th>\n",
       "      <th>Unnamed: 10</th>\n",
       "      <th>Previous</th>\n",
       "    </tr>\n",
       "  </thead>\n",
       "  <tbody>\n",
       "    <tr>\n",
       "      <th>0</th>\n",
       "      <td>Jan 11, 2024 (Dec)</td>\n",
       "      <td>NaN</td>\n",
       "      <td>13:30</td>\n",
       "      <td>NaN</td>\n",
       "      <td>NaN</td>\n",
       "      <td>NaN</td>\n",
       "      <td>NaN</td>\n",
       "      <td>0.002</td>\n",
       "      <td>NaN</td>\n",
       "      <td>NaN</td>\n",
       "      <td>NaN</td>\n",
       "      <td>0.001</td>\n",
       "    </tr>\n",
       "    <tr>\n",
       "      <th>1</th>\n",
       "      <td>Dec 12, 2023 (Nov)</td>\n",
       "      <td>NaN</td>\n",
       "      <td>13:30</td>\n",
       "      <td>NaN</td>\n",
       "      <td>NaN</td>\n",
       "      <td>NaN</td>\n",
       "      <td>0.001</td>\n",
       "      <td>0</td>\n",
       "      <td>NaN</td>\n",
       "      <td>NaN</td>\n",
       "      <td>NaN</td>\n",
       "      <td>0</td>\n",
       "    </tr>\n",
       "    <tr>\n",
       "      <th>2</th>\n",
       "      <td>Nov 14, 2023 (Oct)</td>\n",
       "      <td>NaN</td>\n",
       "      <td>13:30</td>\n",
       "      <td>NaN</td>\n",
       "      <td>NaN</td>\n",
       "      <td>NaN</td>\n",
       "      <td>0</td>\n",
       "      <td>0.001</td>\n",
       "      <td>NaN</td>\n",
       "      <td>NaN</td>\n",
       "      <td>NaN</td>\n",
       "      <td>0.004</td>\n",
       "    </tr>\n",
       "    <tr>\n",
       "      <th>3</th>\n",
       "      <td>Oct 12, 2023 (Sep)</td>\n",
       "      <td>NaN</td>\n",
       "      <td>12:30</td>\n",
       "      <td>NaN</td>\n",
       "      <td>NaN</td>\n",
       "      <td>NaN</td>\n",
       "      <td>0.004</td>\n",
       "      <td>0.003</td>\n",
       "      <td>NaN</td>\n",
       "      <td>NaN</td>\n",
       "      <td>NaN</td>\n",
       "      <td>0.006</td>\n",
       "    </tr>\n",
       "    <tr>\n",
       "      <th>4</th>\n",
       "      <td>Sep 13, 2023 (Aug)</td>\n",
       "      <td>NaN</td>\n",
       "      <td>12:30</td>\n",
       "      <td>NaN</td>\n",
       "      <td>NaN</td>\n",
       "      <td>NaN</td>\n",
       "      <td>0.006</td>\n",
       "      <td>0.006</td>\n",
       "      <td>NaN</td>\n",
       "      <td>NaN</td>\n",
       "      <td>NaN</td>\n",
       "      <td>0.002</td>\n",
       "    </tr>\n",
       "  </tbody>\n",
       "</table>\n",
       "</div>"
      ],
      "text/plain": [
       "         Release Date  Unnamed: 1   Time Unnamed: 3  Unnamed: 4  Unnamed: 5  \\\n",
       "0  Jan 11, 2024 (Dec)         NaN  13:30        NaN         NaN         NaN   \n",
       "1  Dec 12, 2023 (Nov)         NaN  13:30        NaN         NaN         NaN   \n",
       "2  Nov 14, 2023 (Oct)         NaN  13:30        NaN         NaN         NaN   \n",
       "3  Oct 12, 2023 (Sep)         NaN  12:30        NaN         NaN         NaN   \n",
       "4  Sep 13, 2023 (Aug)         NaN  12:30        NaN         NaN         NaN   \n",
       "\n",
       "  Actual Forecast  Unnamed: 8  Unnamed: 9  Unnamed: 10 Previous  \n",
       "0    NaN    0.002         NaN         NaN          NaN    0.001  \n",
       "1  0.001        0         NaN         NaN          NaN        0  \n",
       "2      0    0.001         NaN         NaN          NaN    0.004  \n",
       "3  0.004    0.003         NaN         NaN          NaN    0.006  \n",
       "4  0.006    0.006         NaN         NaN          NaN    0.002  "
      ]
     },
     "execution_count": 2,
     "metadata": {},
     "output_type": "execute_result"
    }
   ],
   "source": [
    "CPI_USA = pd.read_excel(\"CPI_USA/CPI_USA.xlsx\")\n",
    "CPI_USA.head()"
   ]
  },
  {
   "cell_type": "code",
   "execution_count": 3,
   "id": "724bc19a",
   "metadata": {},
   "outputs": [
    {
     "data": {
      "text/plain": [
       "Index(['Release Date', 'Unnamed: 1', 'Time', 'Unnamed: 3', 'Unnamed: 4',\n",
       "       'Unnamed: 5', 'Actual', 'Forecast', 'Unnamed: 8', 'Unnamed: 9',\n",
       "       'Unnamed: 10', 'Previous'],\n",
       "      dtype='object')"
      ]
     },
     "execution_count": 3,
     "metadata": {},
     "output_type": "execute_result"
    }
   ],
   "source": [
    "CPI_USA.columns"
   ]
  },
  {
   "cell_type": "code",
   "execution_count": 4,
   "id": "8f962227",
   "metadata": {},
   "outputs": [
    {
     "data": {
      "text/html": [
       "<div>\n",
       "<style scoped>\n",
       "    .dataframe tbody tr th:only-of-type {\n",
       "        vertical-align: middle;\n",
       "    }\n",
       "\n",
       "    .dataframe tbody tr th {\n",
       "        vertical-align: top;\n",
       "    }\n",
       "\n",
       "    .dataframe thead th {\n",
       "        text-align: right;\n",
       "    }\n",
       "</style>\n",
       "<table border=\"1\" class=\"dataframe\">\n",
       "  <thead>\n",
       "    <tr style=\"text-align: right;\">\n",
       "      <th></th>\n",
       "      <th>Release Date</th>\n",
       "      <th>Time</th>\n",
       "      <th>Actual</th>\n",
       "      <th>Forecast</th>\n",
       "      <th>Previous</th>\n",
       "    </tr>\n",
       "  </thead>\n",
       "  <tbody>\n",
       "    <tr>\n",
       "      <th>0</th>\n",
       "      <td>Jan 11, 2024 (Dec)</td>\n",
       "      <td>13:30</td>\n",
       "      <td>NaN</td>\n",
       "      <td>0.002</td>\n",
       "      <td>0.001</td>\n",
       "    </tr>\n",
       "    <tr>\n",
       "      <th>1</th>\n",
       "      <td>Dec 12, 2023 (Nov)</td>\n",
       "      <td>13:30</td>\n",
       "      <td>0.001</td>\n",
       "      <td>0</td>\n",
       "      <td>0</td>\n",
       "    </tr>\n",
       "    <tr>\n",
       "      <th>2</th>\n",
       "      <td>Nov 14, 2023 (Oct)</td>\n",
       "      <td>13:30</td>\n",
       "      <td>0</td>\n",
       "      <td>0.001</td>\n",
       "      <td>0.004</td>\n",
       "    </tr>\n",
       "    <tr>\n",
       "      <th>3</th>\n",
       "      <td>Oct 12, 2023 (Sep)</td>\n",
       "      <td>12:30</td>\n",
       "      <td>0.004</td>\n",
       "      <td>0.003</td>\n",
       "      <td>0.006</td>\n",
       "    </tr>\n",
       "    <tr>\n",
       "      <th>4</th>\n",
       "      <td>Sep 13, 2023 (Aug)</td>\n",
       "      <td>12:30</td>\n",
       "      <td>0.006</td>\n",
       "      <td>0.006</td>\n",
       "      <td>0.002</td>\n",
       "    </tr>\n",
       "  </tbody>\n",
       "</table>\n",
       "</div>"
      ],
      "text/plain": [
       "         Release Date   Time Actual Forecast Previous\n",
       "0  Jan 11, 2024 (Dec)  13:30    NaN    0.002    0.001\n",
       "1  Dec 12, 2023 (Nov)  13:30  0.001        0        0\n",
       "2  Nov 14, 2023 (Oct)  13:30      0    0.001    0.004\n",
       "3  Oct 12, 2023 (Sep)  12:30  0.004    0.003    0.006\n",
       "4  Sep 13, 2023 (Aug)  12:30  0.006    0.006    0.002"
      ]
     },
     "execution_count": 4,
     "metadata": {},
     "output_type": "execute_result"
    }
   ],
   "source": [
    "CPI_USA = CPI_USA[[\"Release Date\", \"Time\", \"Actual\", \"Forecast\", \"Previous\"]]\n",
    "CPI_USA.head()"
   ]
  },
  {
   "cell_type": "markdown",
   "id": "d4fd4546",
   "metadata": {},
   "source": [
    "Let's see how many null values we have."
   ]
  },
  {
   "cell_type": "code",
   "execution_count": 5,
   "id": "9e8ecec5",
   "metadata": {},
   "outputs": [
    {
     "data": {
      "text/plain": [
       "Release Date     13\n",
       "Time            649\n",
       "Actual           14\n",
       "Forecast        451\n",
       "Previous         14\n",
       "dtype: int64"
      ]
     },
     "execution_count": 5,
     "metadata": {},
     "output_type": "execute_result"
    }
   ],
   "source": [
    "CPI_USA.isnull().sum() # we are interested in the actual column"
   ]
  },
  {
   "cell_type": "code",
   "execution_count": 6,
   "id": "ad870e18",
   "metadata": {},
   "outputs": [
    {
     "data": {
      "text/html": [
       "<div>\n",
       "<style scoped>\n",
       "    .dataframe tbody tr th:only-of-type {\n",
       "        vertical-align: middle;\n",
       "    }\n",
       "\n",
       "    .dataframe tbody tr th {\n",
       "        vertical-align: top;\n",
       "    }\n",
       "\n",
       "    .dataframe thead th {\n",
       "        text-align: right;\n",
       "    }\n",
       "</style>\n",
       "<table border=\"1\" class=\"dataframe\">\n",
       "  <thead>\n",
       "    <tr style=\"text-align: right;\">\n",
       "      <th></th>\n",
       "      <th>Release Date</th>\n",
       "      <th>Time</th>\n",
       "      <th>Actual</th>\n",
       "      <th>Forecast</th>\n",
       "      <th>Previous</th>\n",
       "    </tr>\n",
       "  </thead>\n",
       "  <tbody>\n",
       "    <tr>\n",
       "      <th>0</th>\n",
       "      <td>Jan 11, 2024 (Dec)</td>\n",
       "      <td>13:30</td>\n",
       "      <td>NaN</td>\n",
       "      <td>0.002</td>\n",
       "      <td>0.001</td>\n",
       "    </tr>\n",
       "    <tr>\n",
       "      <th>59</th>\n",
       "      <td>NaN</td>\n",
       "      <td>NaN</td>\n",
       "      <td>NaN</td>\n",
       "      <td>NaN</td>\n",
       "      <td>NaN</td>\n",
       "    </tr>\n",
       "    <tr>\n",
       "      <th>106</th>\n",
       "      <td>NaN</td>\n",
       "      <td>NaN</td>\n",
       "      <td>NaN</td>\n",
       "      <td>NaN</td>\n",
       "      <td>NaN</td>\n",
       "    </tr>\n",
       "    <tr>\n",
       "      <th>153</th>\n",
       "      <td>NaN</td>\n",
       "      <td>NaN</td>\n",
       "      <td>NaN</td>\n",
       "      <td>NaN</td>\n",
       "      <td>NaN</td>\n",
       "    </tr>\n",
       "    <tr>\n",
       "      <th>200</th>\n",
       "      <td>NaN</td>\n",
       "      <td>NaN</td>\n",
       "      <td>NaN</td>\n",
       "      <td>NaN</td>\n",
       "      <td>NaN</td>\n",
       "    </tr>\n",
       "    <tr>\n",
       "      <th>247</th>\n",
       "      <td>NaN</td>\n",
       "      <td>NaN</td>\n",
       "      <td>NaN</td>\n",
       "      <td>NaN</td>\n",
       "      <td>NaN</td>\n",
       "    </tr>\n",
       "    <tr>\n",
       "      <th>294</th>\n",
       "      <td>NaN</td>\n",
       "      <td>NaN</td>\n",
       "      <td>NaN</td>\n",
       "      <td>NaN</td>\n",
       "      <td>NaN</td>\n",
       "    </tr>\n",
       "    <tr>\n",
       "      <th>341</th>\n",
       "      <td>NaN</td>\n",
       "      <td>NaN</td>\n",
       "      <td>NaN</td>\n",
       "      <td>NaN</td>\n",
       "      <td>NaN</td>\n",
       "    </tr>\n",
       "    <tr>\n",
       "      <th>388</th>\n",
       "      <td>NaN</td>\n",
       "      <td>NaN</td>\n",
       "      <td>NaN</td>\n",
       "      <td>NaN</td>\n",
       "      <td>NaN</td>\n",
       "    </tr>\n",
       "    <tr>\n",
       "      <th>435</th>\n",
       "      <td>NaN</td>\n",
       "      <td>NaN</td>\n",
       "      <td>NaN</td>\n",
       "      <td>NaN</td>\n",
       "      <td>NaN</td>\n",
       "    </tr>\n",
       "    <tr>\n",
       "      <th>482</th>\n",
       "      <td>NaN</td>\n",
       "      <td>NaN</td>\n",
       "      <td>NaN</td>\n",
       "      <td>NaN</td>\n",
       "      <td>NaN</td>\n",
       "    </tr>\n",
       "    <tr>\n",
       "      <th>529</th>\n",
       "      <td>NaN</td>\n",
       "      <td>NaN</td>\n",
       "      <td>NaN</td>\n",
       "      <td>NaN</td>\n",
       "      <td>NaN</td>\n",
       "    </tr>\n",
       "    <tr>\n",
       "      <th>576</th>\n",
       "      <td>NaN</td>\n",
       "      <td>NaN</td>\n",
       "      <td>NaN</td>\n",
       "      <td>NaN</td>\n",
       "      <td>NaN</td>\n",
       "    </tr>\n",
       "    <tr>\n",
       "      <th>623</th>\n",
       "      <td>NaN</td>\n",
       "      <td>NaN</td>\n",
       "      <td>NaN</td>\n",
       "      <td>NaN</td>\n",
       "      <td>NaN</td>\n",
       "    </tr>\n",
       "  </tbody>\n",
       "</table>\n",
       "</div>"
      ],
      "text/plain": [
       "           Release Date   Time Actual Forecast Previous\n",
       "0    Jan 11, 2024 (Dec)  13:30    NaN    0.002    0.001\n",
       "59                  NaN    NaN    NaN      NaN      NaN\n",
       "106                 NaN    NaN    NaN      NaN      NaN\n",
       "153                 NaN    NaN    NaN      NaN      NaN\n",
       "200                 NaN    NaN    NaN      NaN      NaN\n",
       "247                 NaN    NaN    NaN      NaN      NaN\n",
       "294                 NaN    NaN    NaN      NaN      NaN\n",
       "341                 NaN    NaN    NaN      NaN      NaN\n",
       "388                 NaN    NaN    NaN      NaN      NaN\n",
       "435                 NaN    NaN    NaN      NaN      NaN\n",
       "482                 NaN    NaN    NaN      NaN      NaN\n",
       "529                 NaN    NaN    NaN      NaN      NaN\n",
       "576                 NaN    NaN    NaN      NaN      NaN\n",
       "623                 NaN    NaN    NaN      NaN      NaN"
      ]
     },
     "execution_count": 6,
     "metadata": {},
     "output_type": "execute_result"
    }
   ],
   "source": [
    "CPI_USA.loc[CPI_USA.isnull()[\"Actual\"] == True] # these are the null values which are just white spaces"
   ]
  },
  {
   "cell_type": "code",
   "execution_count": 7,
   "id": "966cbb97",
   "metadata": {},
   "outputs": [
    {
     "data": {
      "text/plain": [
       "Release Date      0\n",
       "Time            636\n",
       "Actual            0\n",
       "Forecast        438\n",
       "Previous          1\n",
       "dtype: int64"
      ]
     },
     "execution_count": 7,
     "metadata": {},
     "output_type": "execute_result"
    }
   ],
   "source": [
    "CPI_USA = CPI_USA.loc[CPI_USA.isnull()[\"Actual\"] != True]\n",
    "CPI_USA.isnull().sum()"
   ]
  },
  {
   "cell_type": "markdown",
   "id": "77b6d916",
   "metadata": {},
   "source": [
    "As we can see we don't have any more null values in the actual column which is our distribution data column we want to see. "
   ]
  },
  {
   "cell_type": "markdown",
   "id": "5a29c0ce",
   "metadata": {},
   "source": [
    "# CPI UK"
   ]
  },
  {
   "cell_type": "code",
   "execution_count": 8,
   "id": "be0741c1",
   "metadata": {},
   "outputs": [
    {
     "data": {
      "text/html": [
       "<div>\n",
       "<style scoped>\n",
       "    .dataframe tbody tr th:only-of-type {\n",
       "        vertical-align: middle;\n",
       "    }\n",
       "\n",
       "    .dataframe tbody tr th {\n",
       "        vertical-align: top;\n",
       "    }\n",
       "\n",
       "    .dataframe thead th {\n",
       "        text-align: right;\n",
       "    }\n",
       "</style>\n",
       "<table border=\"1\" class=\"dataframe\">\n",
       "  <thead>\n",
       "    <tr style=\"text-align: right;\">\n",
       "      <th></th>\n",
       "      <th>Release Date</th>\n",
       "      <th>Time</th>\n",
       "      <th>Actual</th>\n",
       "      <th>Unnamed: 3</th>\n",
       "      <th>Unnamed: 4</th>\n",
       "      <th>Forecast</th>\n",
       "      <th>Unnamed: 6</th>\n",
       "      <th>Previous</th>\n",
       "    </tr>\n",
       "  </thead>\n",
       "  <tbody>\n",
       "    <tr>\n",
       "      <th>0</th>\n",
       "      <td>Jan 17, 2024 (Dec)</td>\n",
       "      <td>02:00</td>\n",
       "      <td>NaN</td>\n",
       "      <td>NaN</td>\n",
       "      <td>NaN</td>\n",
       "      <td>NaN</td>\n",
       "      <td>NaN</td>\n",
       "      <td>-0.002</td>\n",
       "    </tr>\n",
       "    <tr>\n",
       "      <th>1</th>\n",
       "      <td>Dec 20, 2023 (Nov)</td>\n",
       "      <td>02:00</td>\n",
       "      <td>-0.002</td>\n",
       "      <td>NaN</td>\n",
       "      <td>NaN</td>\n",
       "      <td>0.002</td>\n",
       "      <td>NaN</td>\n",
       "      <td>0.000</td>\n",
       "    </tr>\n",
       "    <tr>\n",
       "      <th>2</th>\n",
       "      <td>Nov 15, 2023 (Oct)</td>\n",
       "      <td>02:00</td>\n",
       "      <td>0.000</td>\n",
       "      <td>NaN</td>\n",
       "      <td>NaN</td>\n",
       "      <td>0.001</td>\n",
       "      <td>NaN</td>\n",
       "      <td>0.005</td>\n",
       "    </tr>\n",
       "    <tr>\n",
       "      <th>3</th>\n",
       "      <td>Oct 18, 2023 (Sep)</td>\n",
       "      <td>01:00</td>\n",
       "      <td>0.005</td>\n",
       "      <td>NaN</td>\n",
       "      <td>NaN</td>\n",
       "      <td>0.005</td>\n",
       "      <td>NaN</td>\n",
       "      <td>0.003</td>\n",
       "    </tr>\n",
       "    <tr>\n",
       "      <th>4</th>\n",
       "      <td>Sep 20, 2023 (Aug)</td>\n",
       "      <td>01:00</td>\n",
       "      <td>0.003</td>\n",
       "      <td>NaN</td>\n",
       "      <td>NaN</td>\n",
       "      <td>0.007</td>\n",
       "      <td>NaN</td>\n",
       "      <td>-0.004</td>\n",
       "    </tr>\n",
       "  </tbody>\n",
       "</table>\n",
       "</div>"
      ],
      "text/plain": [
       "         Release Date   Time  Actual  Unnamed: 3  Unnamed: 4  Forecast  \\\n",
       "0  Jan 17, 2024 (Dec)  02:00     NaN         NaN         NaN       NaN   \n",
       "1  Dec 20, 2023 (Nov)  02:00  -0.002         NaN         NaN     0.002   \n",
       "2  Nov 15, 2023 (Oct)  02:00   0.000         NaN         NaN     0.001   \n",
       "3  Oct 18, 2023 (Sep)  01:00   0.005         NaN         NaN     0.005   \n",
       "4  Sep 20, 2023 (Aug)  01:00   0.003         NaN         NaN     0.007   \n",
       "\n",
       "   Unnamed: 6  Previous  \n",
       "0         NaN    -0.002  \n",
       "1         NaN     0.000  \n",
       "2         NaN     0.005  \n",
       "3         NaN     0.003  \n",
       "4         NaN    -0.004  "
      ]
     },
     "execution_count": 8,
     "metadata": {},
     "output_type": "execute_result"
    }
   ],
   "source": [
    "pd.read_excel(\"CPI_UK/CPI_UK.xlsx\").head()"
   ]
  },
  {
   "cell_type": "code",
   "execution_count": 9,
   "id": "438ad789",
   "metadata": {},
   "outputs": [
    {
     "data": {
      "text/plain": [
       "Index(['Release Date', 'Time', 'Actual', 'Unnamed: 3', 'Unnamed: 4',\n",
       "       'Forecast', 'Unnamed: 6', 'Previous'],\n",
       "      dtype='object')"
      ]
     },
     "execution_count": 9,
     "metadata": {},
     "output_type": "execute_result"
    }
   ],
   "source": [
    "CPI_UK = pd.read_excel(\"CPI_UK/CPI_UK.xlsx\")\n",
    "CPI_UK.columns"
   ]
  },
  {
   "cell_type": "code",
   "execution_count": 10,
   "id": "fafe9f05",
   "metadata": {},
   "outputs": [
    {
     "data": {
      "text/html": [
       "<div>\n",
       "<style scoped>\n",
       "    .dataframe tbody tr th:only-of-type {\n",
       "        vertical-align: middle;\n",
       "    }\n",
       "\n",
       "    .dataframe tbody tr th {\n",
       "        vertical-align: top;\n",
       "    }\n",
       "\n",
       "    .dataframe thead th {\n",
       "        text-align: right;\n",
       "    }\n",
       "</style>\n",
       "<table border=\"1\" class=\"dataframe\">\n",
       "  <thead>\n",
       "    <tr style=\"text-align: right;\">\n",
       "      <th></th>\n",
       "      <th>Release Date</th>\n",
       "      <th>Time</th>\n",
       "      <th>Actual</th>\n",
       "      <th>Forecast</th>\n",
       "      <th>Previous</th>\n",
       "    </tr>\n",
       "  </thead>\n",
       "  <tbody>\n",
       "    <tr>\n",
       "      <th>0</th>\n",
       "      <td>Jan 17, 2024 (Dec)</td>\n",
       "      <td>02:00</td>\n",
       "      <td>NaN</td>\n",
       "      <td>NaN</td>\n",
       "      <td>-0.002</td>\n",
       "    </tr>\n",
       "    <tr>\n",
       "      <th>1</th>\n",
       "      <td>Dec 20, 2023 (Nov)</td>\n",
       "      <td>02:00</td>\n",
       "      <td>-0.002</td>\n",
       "      <td>0.002</td>\n",
       "      <td>0.000</td>\n",
       "    </tr>\n",
       "    <tr>\n",
       "      <th>2</th>\n",
       "      <td>Nov 15, 2023 (Oct)</td>\n",
       "      <td>02:00</td>\n",
       "      <td>0.000</td>\n",
       "      <td>0.001</td>\n",
       "      <td>0.005</td>\n",
       "    </tr>\n",
       "    <tr>\n",
       "      <th>3</th>\n",
       "      <td>Oct 18, 2023 (Sep)</td>\n",
       "      <td>01:00</td>\n",
       "      <td>0.005</td>\n",
       "      <td>0.005</td>\n",
       "      <td>0.003</td>\n",
       "    </tr>\n",
       "    <tr>\n",
       "      <th>4</th>\n",
       "      <td>Sep 20, 2023 (Aug)</td>\n",
       "      <td>01:00</td>\n",
       "      <td>0.003</td>\n",
       "      <td>0.007</td>\n",
       "      <td>-0.004</td>\n",
       "    </tr>\n",
       "  </tbody>\n",
       "</table>\n",
       "</div>"
      ],
      "text/plain": [
       "         Release Date   Time  Actual  Forecast  Previous\n",
       "0  Jan 17, 2024 (Dec)  02:00     NaN       NaN    -0.002\n",
       "1  Dec 20, 2023 (Nov)  02:00  -0.002     0.002     0.000\n",
       "2  Nov 15, 2023 (Oct)  02:00   0.000     0.001     0.005\n",
       "3  Oct 18, 2023 (Sep)  01:00   0.005     0.005     0.003\n",
       "4  Sep 20, 2023 (Aug)  01:00   0.003     0.007    -0.004"
      ]
     },
     "execution_count": 10,
     "metadata": {},
     "output_type": "execute_result"
    }
   ],
   "source": [
    "CPI_UK = CPI_UK[[\"Release Date\", \"Time\", \"Actual\", \"Forecast\", \"Previous\"]]\n",
    "CPI_UK.head()"
   ]
  },
  {
   "cell_type": "code",
   "execution_count": 11,
   "id": "72f2f4c1",
   "metadata": {},
   "outputs": [
    {
     "data": {
      "text/plain": [
       "Release Date      0\n",
       "Time              0\n",
       "Actual            1\n",
       "Forecast        290\n",
       "Previous          1\n",
       "dtype: int64"
      ]
     },
     "execution_count": 11,
     "metadata": {},
     "output_type": "execute_result"
    }
   ],
   "source": [
    "CPI_UK.isnull().sum() # in the actual column we have just one null value"
   ]
  },
  {
   "cell_type": "code",
   "execution_count": 12,
   "id": "8ad48d2d",
   "metadata": {},
   "outputs": [
    {
     "data": {
      "text/html": [
       "<div>\n",
       "<style scoped>\n",
       "    .dataframe tbody tr th:only-of-type {\n",
       "        vertical-align: middle;\n",
       "    }\n",
       "\n",
       "    .dataframe tbody tr th {\n",
       "        vertical-align: top;\n",
       "    }\n",
       "\n",
       "    .dataframe thead th {\n",
       "        text-align: right;\n",
       "    }\n",
       "</style>\n",
       "<table border=\"1\" class=\"dataframe\">\n",
       "  <thead>\n",
       "    <tr style=\"text-align: right;\">\n",
       "      <th></th>\n",
       "      <th>Release Date</th>\n",
       "      <th>Time</th>\n",
       "      <th>Actual</th>\n",
       "      <th>Forecast</th>\n",
       "      <th>Previous</th>\n",
       "    </tr>\n",
       "  </thead>\n",
       "  <tbody>\n",
       "    <tr>\n",
       "      <th>1</th>\n",
       "      <td>Dec 20, 2023 (Nov)</td>\n",
       "      <td>02:00</td>\n",
       "      <td>-0.002</td>\n",
       "      <td>0.002</td>\n",
       "      <td>0.000</td>\n",
       "    </tr>\n",
       "    <tr>\n",
       "      <th>2</th>\n",
       "      <td>Nov 15, 2023 (Oct)</td>\n",
       "      <td>02:00</td>\n",
       "      <td>0.000</td>\n",
       "      <td>0.001</td>\n",
       "      <td>0.005</td>\n",
       "    </tr>\n",
       "    <tr>\n",
       "      <th>3</th>\n",
       "      <td>Oct 18, 2023 (Sep)</td>\n",
       "      <td>01:00</td>\n",
       "      <td>0.005</td>\n",
       "      <td>0.005</td>\n",
       "      <td>0.003</td>\n",
       "    </tr>\n",
       "    <tr>\n",
       "      <th>4</th>\n",
       "      <td>Sep 20, 2023 (Aug)</td>\n",
       "      <td>01:00</td>\n",
       "      <td>0.003</td>\n",
       "      <td>0.007</td>\n",
       "      <td>-0.004</td>\n",
       "    </tr>\n",
       "    <tr>\n",
       "      <th>5</th>\n",
       "      <td>Aug 16, 2023 (Jul)</td>\n",
       "      <td>01:00</td>\n",
       "      <td>-0.004</td>\n",
       "      <td>-0.005</td>\n",
       "      <td>0.001</td>\n",
       "    </tr>\n",
       "  </tbody>\n",
       "</table>\n",
       "</div>"
      ],
      "text/plain": [
       "         Release Date   Time  Actual  Forecast  Previous\n",
       "1  Dec 20, 2023 (Nov)  02:00  -0.002     0.002     0.000\n",
       "2  Nov 15, 2023 (Oct)  02:00   0.000     0.001     0.005\n",
       "3  Oct 18, 2023 (Sep)  01:00   0.005     0.005     0.003\n",
       "4  Sep 20, 2023 (Aug)  01:00   0.003     0.007    -0.004\n",
       "5  Aug 16, 2023 (Jul)  01:00  -0.004    -0.005     0.001"
      ]
     },
     "execution_count": 12,
     "metadata": {},
     "output_type": "execute_result"
    }
   ],
   "source": [
    "CPI_UK.loc[1: , :].head()\n",
    "# this date hasn't come yet by the time I am working on this project\n",
    "# we are going to select only the rows that contains a value in the Actual column"
   ]
  },
  {
   "cell_type": "code",
   "execution_count": 13,
   "id": "1864197b",
   "metadata": {},
   "outputs": [
    {
     "data": {
      "text/html": [
       "<div>\n",
       "<style scoped>\n",
       "    .dataframe tbody tr th:only-of-type {\n",
       "        vertical-align: middle;\n",
       "    }\n",
       "\n",
       "    .dataframe tbody tr th {\n",
       "        vertical-align: top;\n",
       "    }\n",
       "\n",
       "    .dataframe thead th {\n",
       "        text-align: right;\n",
       "    }\n",
       "</style>\n",
       "<table border=\"1\" class=\"dataframe\">\n",
       "  <thead>\n",
       "    <tr style=\"text-align: right;\">\n",
       "      <th></th>\n",
       "      <th>Release Date</th>\n",
       "      <th>Time</th>\n",
       "      <th>Actual</th>\n",
       "      <th>Forecast</th>\n",
       "      <th>Previous</th>\n",
       "    </tr>\n",
       "  </thead>\n",
       "  <tbody>\n",
       "    <tr>\n",
       "      <th>1</th>\n",
       "      <td>Dec 20, 2023 (Nov)</td>\n",
       "      <td>02:00</td>\n",
       "      <td>-0.002</td>\n",
       "      <td>0.002</td>\n",
       "      <td>0.000</td>\n",
       "    </tr>\n",
       "    <tr>\n",
       "      <th>2</th>\n",
       "      <td>Nov 15, 2023 (Oct)</td>\n",
       "      <td>02:00</td>\n",
       "      <td>0.000</td>\n",
       "      <td>0.001</td>\n",
       "      <td>0.005</td>\n",
       "    </tr>\n",
       "    <tr>\n",
       "      <th>3</th>\n",
       "      <td>Oct 18, 2023 (Sep)</td>\n",
       "      <td>01:00</td>\n",
       "      <td>0.005</td>\n",
       "      <td>0.005</td>\n",
       "      <td>0.003</td>\n",
       "    </tr>\n",
       "    <tr>\n",
       "      <th>4</th>\n",
       "      <td>Sep 20, 2023 (Aug)</td>\n",
       "      <td>01:00</td>\n",
       "      <td>0.003</td>\n",
       "      <td>0.007</td>\n",
       "      <td>-0.004</td>\n",
       "    </tr>\n",
       "    <tr>\n",
       "      <th>5</th>\n",
       "      <td>Aug 16, 2023 (Jul)</td>\n",
       "      <td>01:00</td>\n",
       "      <td>-0.004</td>\n",
       "      <td>-0.005</td>\n",
       "      <td>0.001</td>\n",
       "    </tr>\n",
       "  </tbody>\n",
       "</table>\n",
       "</div>"
      ],
      "text/plain": [
       "         Release Date   Time  Actual  Forecast  Previous\n",
       "1  Dec 20, 2023 (Nov)  02:00  -0.002     0.002     0.000\n",
       "2  Nov 15, 2023 (Oct)  02:00   0.000     0.001     0.005\n",
       "3  Oct 18, 2023 (Sep)  01:00   0.005     0.005     0.003\n",
       "4  Sep 20, 2023 (Aug)  01:00   0.003     0.007    -0.004\n",
       "5  Aug 16, 2023 (Jul)  01:00  -0.004    -0.005     0.001"
      ]
     },
     "execution_count": 13,
     "metadata": {},
     "output_type": "execute_result"
    }
   ],
   "source": [
    "CPI_UK = CPI_UK.loc[1: , :]\n",
    "CPI_UK.head()"
   ]
  },
  {
   "cell_type": "markdown",
   "id": "6d592b61",
   "metadata": {},
   "source": [
    "Managing the values of the actual columns:\n",
    "\n",
    "When I extract the data from excel to this jupyter notebook the actual column data is divided by 100 for each value, so i need to reverse that. "
   ]
  },
  {
   "cell_type": "code",
   "execution_count": 14,
   "id": "5ec6652d",
   "metadata": {},
   "outputs": [
    {
     "data": {
      "text/plain": [
       "1    0.001\n",
       "2        0\n",
       "3    0.004\n",
       "4    0.006\n",
       "5    0.002\n",
       "Name: Actual, dtype: object"
      ]
     },
     "execution_count": 14,
     "metadata": {},
     "output_type": "execute_result"
    }
   ],
   "source": [
    "CPI_USA[\"Actual\"].head()"
   ]
  },
  {
   "cell_type": "code",
   "execution_count": 15,
   "id": "724c31de",
   "metadata": {},
   "outputs": [
    {
     "data": {
      "text/plain": [
       "1    0.1\n",
       "2      0\n",
       "3    0.4\n",
       "4    0.6\n",
       "5    0.2\n",
       "Name: Actual, dtype: object"
      ]
     },
     "execution_count": 15,
     "metadata": {},
     "output_type": "execute_result"
    }
   ],
   "source": [
    "CPI_USA[\"Actual\"] = CPI_USA[\"Actual\"] * 100\n",
    "CPI_USA[\"Actual\"].head()"
   ]
  },
  {
   "cell_type": "code",
   "execution_count": 16,
   "id": "e9ed4ea6",
   "metadata": {},
   "outputs": [
    {
     "data": {
      "text/plain": [
       "1   -0.002\n",
       "2    0.000\n",
       "3    0.005\n",
       "4    0.003\n",
       "5   -0.004\n",
       "Name: Actual, dtype: float64"
      ]
     },
     "execution_count": 16,
     "metadata": {},
     "output_type": "execute_result"
    }
   ],
   "source": [
    "CPI_UK[\"Actual\"].head()"
   ]
  },
  {
   "cell_type": "code",
   "execution_count": 17,
   "id": "74a737c1",
   "metadata": {},
   "outputs": [
    {
     "data": {
      "text/plain": [
       "1   -0.2\n",
       "2    0.0\n",
       "3    0.5\n",
       "4    0.3\n",
       "5   -0.4\n",
       "Name: Actual, dtype: float64"
      ]
     },
     "execution_count": 17,
     "metadata": {},
     "output_type": "execute_result"
    }
   ],
   "source": [
    "CPI_UK[\"Actual\"] = CPI_UK[\"Actual\"] * 100\n",
    "CPI_UK[\"Actual\"].head()"
   ]
  },
  {
   "cell_type": "markdown",
   "id": "06004e54",
   "metadata": {},
   "source": [
    "Transforming data string into floats"
   ]
  },
  {
   "cell_type": "code",
   "execution_count": 18,
   "id": "d4e36134",
   "metadata": {},
   "outputs": [],
   "source": [
    "CPI_UK[\"Actual\"] = CPI_UK[\"Actual\"].astype(float)"
   ]
  },
  {
   "cell_type": "code",
   "execution_count": 19,
   "id": "cdde1528",
   "metadata": {},
   "outputs": [],
   "source": [
    "CPI_USA = CPI_USA.loc[CPI_USA[\"Actual\"].str.isdigit() != False, :]"
   ]
  },
  {
   "cell_type": "code",
   "execution_count": 20,
   "id": "32f784ad",
   "metadata": {},
   "outputs": [],
   "source": [
    "CPI_USA[\"Actual\"] = CPI_USA[\"Actual\"].astype(float)"
   ]
  },
  {
   "cell_type": "markdown",
   "id": "72517938",
   "metadata": {},
   "source": [
    "# Descriptive statistc"
   ]
  },
  {
   "cell_type": "markdown",
   "id": "1dd5629a",
   "metadata": {},
   "source": [
    "We are going to see their distributions, measures of central tendency, spread and outliers as well as skewness in a observational study."
   ]
  },
  {
   "cell_type": "code",
   "execution_count": 21,
   "id": "42400d1f",
   "metadata": {},
   "outputs": [],
   "source": [
    "max_uk = CPI_UK[\"Actual\"].describe().loc[\"max\"]\n",
    "min_uk = CPI_UK[\"Actual\"].describe().loc[\"min\"]\n",
    "\n",
    "range_cpi_uk = max_uk - min_uk"
   ]
  },
  {
   "cell_type": "code",
   "execution_count": 22,
   "id": "5aa7e4d0",
   "metadata": {},
   "outputs": [
    {
     "data": {
      "text/plain": [
       "8.600000000000001"
      ]
     },
     "execution_count": 22,
     "metadata": {},
     "output_type": "execute_result"
    }
   ],
   "source": [
    "range_cpi_uk / 0.5 # if we want a lenght of 0.5 per bin we need around of 9 buckets"
   ]
  },
  {
   "cell_type": "code",
   "execution_count": 23,
   "id": "8fc598a0",
   "metadata": {},
   "outputs": [
    {
     "data": {
      "image/png": "[encoded data removed]",
      "text/plain": [
       "<Figure size 640x480 with 1 Axes>"
      ]
     },
     "metadata": {},
     "output_type": "display_data"
    }
   ],
   "source": [
    "plt.hist(CPI_UK[\"Actual\"], edgecolor = \"#dcdde1\", color = \"#b71540\", bins = 9)\n",
    "plt.title(\"CPI UK\")\n",
    "plt.xlabel(\"CPI Monthly Report\")\n",
    "plt.ylabel(\"Frequency\")\n",
    "plt.show()"
   ]
  },
  {
   "cell_type": "markdown",
   "id": "be8bd9dc",
   "metadata": {},
   "source": [
    "**Looks like we have for the UK right skew data, they don't want to go high, chirping away about prices soaring**"
   ]
  },
  {
   "cell_type": "code",
   "execution_count": 24,
   "id": "fdf9523b",
   "metadata": {},
   "outputs": [],
   "source": [
    "new_index = []\n",
    "for i in range(len(CPI_UK[\"Actual\"])):\n",
    "    new_index.append(i)"
   ]
  },
  {
   "cell_type": "code",
   "execution_count": 25,
   "id": "dd66c9e1",
   "metadata": {},
   "outputs": [],
   "source": [
    "old_index_uk = CPI_UK[\"Actual\"].index \n",
    "# we are going to save this old index to match the dataframe when we are going to see the outliers"
   ]
  },
  {
   "cell_type": "code",
   "execution_count": 26,
   "id": "795a4783",
   "metadata": {},
   "outputs": [],
   "source": [
    "CPI_UK[\"Actual\"].index = new_index"
   ]
  },
  {
   "cell_type": "markdown",
   "id": "9de94d0f",
   "metadata": {},
   "source": [
    "Plotting a box plot for the CPI in the UK"
   ]
  },
  {
   "cell_type": "code",
   "execution_count": 27,
   "id": "6e5bb071",
   "metadata": {},
   "outputs": [
    {
     "data": {
      "image/png": "[encoded data removed]",
      "text/plain": [
       "<Figure size 640x480 with 1 Axes>"
      ]
     },
     "metadata": {},
     "output_type": "display_data"
    }
   ],
   "source": [
    "sns.boxplot(CPI_UK[\"Actual\"], orient = \"h\", color = \"#b71540\")\n",
    "plt.title(\"Boxplot CPI UK\")\n",
    "plt.xlabel(\"CPI reports in %\")\n",
    "plt.show()"
   ]
  },
  {
   "cell_type": "markdown",
   "id": "dde3455f",
   "metadata": {},
   "source": [
    "We have many outliers on the right side according to the 1.5 estandard of outlier identification"
   ]
  },
  {
   "cell_type": "code",
   "execution_count": 28,
   "id": "e515e4c8",
   "metadata": {},
   "outputs": [
    {
     "data": {
      "text/plain": [
       "count    430.000000\n",
       "mean       0.235349\n",
       "std        0.436458\n",
       "min       -0.900000\n",
       "25%        0.000000\n",
       "50%        0.300000\n",
       "75%        0.500000\n",
       "max        3.400000\n",
       "Name: Actual, dtype: float64"
      ]
     },
     "execution_count": 28,
     "metadata": {},
     "output_type": "execute_result"
    }
   ],
   "source": [
    "CPI_UK[\"Actual\"].describe()"
   ]
  },
  {
   "cell_type": "markdown",
   "id": "5b2ca11f",
   "metadata": {},
   "source": [
    "# Now it is time for the USA, its distribution, measures of central tendency and spread of the data"
   ]
  },
  {
   "cell_type": "code",
   "execution_count": 29,
   "id": "df0dda0e",
   "metadata": {},
   "outputs": [],
   "source": [
    "max_usa = CPI_USA[\"Actual\"].describe().loc[\"max\"]\n",
    "min_usa = CPI_USA[\"Actual\"].describe().loc[\"min\"]\n",
    "\n",
    "range_cpi_usa = max_usa - min_usa"
   ]
  },
  {
   "cell_type": "code",
   "execution_count": 30,
   "id": "3512b687",
   "metadata": {},
   "outputs": [
    {
     "data": {
      "text/plain": [
       "7.0"
      ]
     },
     "execution_count": 30,
     "metadata": {},
     "output_type": "execute_result"
    }
   ],
   "source": [
    "range_cpi_usa / 0.5 # if we want a lenght of 0.5 per bin we need around of 7 buckets"
   ]
  },
  {
   "cell_type": "code",
   "execution_count": 31,
   "id": "5bb84ff0",
   "metadata": {},
   "outputs": [
    {
     "data": {
      "image/png": "[encoded data removed]",
      "text/plain": [
       "<Figure size 640x480 with 1 Axes>"
      ]
     },
     "metadata": {},
     "output_type": "display_data"
    }
   ],
   "source": [
    "plt.hist(CPI_USA[\"Actual\"], edgecolor = \"#dcdde1\", color = \"#1e3799\", bins = 7)\n",
    "plt.title(\"CPI USA\")\n",
    "plt.xlabel(\"CPI Monthly Report\")\n",
    "plt.ylabel(\"Frequency\")\n",
    "plt.show()"
   ]
  },
  {
   "cell_type": "markdown",
   "id": "a779717a",
   "metadata": {},
   "source": [
    "**The US has had lower inflation levels than the UK, this can indicate that the americans have had more deflations than the birtish citizens**"
   ]
  },
  {
   "cell_type": "markdown",
   "id": "8ac390d6",
   "metadata": {},
   "source": [
    "Now we are goin to plot the boxplot for the CPI in the US"
   ]
  },
  {
   "cell_type": "code",
   "execution_count": 32,
   "id": "50671a36",
   "metadata": {},
   "outputs": [],
   "source": [
    "new_index_usa = []\n",
    "for i in range(len(CPI_USA[\"Actual\"])):\n",
    "    new_index_usa.append(i)\n",
    "\n",
    "old_index_usa = CPI_USA[\"Actual\"].index \n",
    "# we are going to save this old index to match the dataframe when we are going to see the outliers\n",
    "\n",
    "CPI_USA[\"Actual\"].index = new_index_usa"
   ]
  },
  {
   "cell_type": "code",
   "execution_count": 33,
   "id": "2bb123c6",
   "metadata": {},
   "outputs": [
    {
     "data": {
      "image/png": "[encoded data removed]",
      "text/plain": [
       "<Figure size 640x480 with 1 Axes>"
      ]
     },
     "metadata": {},
     "output_type": "display_data"
    }
   ],
   "source": [
    "sns.boxplot(CPI_USA[\"Actual\"], orient = \"h\", color = \"#1e3799\")\n",
    "plt.title(\"Boxplot CPI USA\")\n",
    "plt.xlabel(\"CPI reports in %\")\n",
    "plt.show()"
   ]
  },
  {
   "cell_type": "markdown",
   "id": "25db0b5e",
   "metadata": {},
   "source": [
    "We have outliers on both sides but we have a larger spread of the data from the left side of the boxplot"
   ]
  },
  {
   "cell_type": "code",
   "execution_count": 34,
   "id": "a0ba03ba",
   "metadata": {},
   "outputs": [
    {
     "data": {
      "text/plain": [
       "count    634.000000\n",
       "mean       0.325552\n",
       "std        0.338209\n",
       "min       -1.700000\n",
       "25%        0.100000\n",
       "50%        0.300000\n",
       "75%        0.500000\n",
       "max        1.800000\n",
       "Name: Actual, dtype: float64"
      ]
     },
     "execution_count": 34,
     "metadata": {},
     "output_type": "execute_result"
    }
   ],
   "source": [
    "CPI_USA[\"Actual\"].describe()"
   ]
  },
  {
   "cell_type": "markdown",
   "id": "6679d34b",
   "metadata": {},
   "source": [
    "In fact we can compare this description and 5 figure approach with the two data sets in our observational study"
   ]
  },
  {
   "cell_type": "code",
   "execution_count": 35,
   "id": "4b95a2f8",
   "metadata": {},
   "outputs": [],
   "source": [
    "description = pd.concat([CPI_USA[\"Actual\"].describe(), CPI_UK[\"Actual\"].describe()], axis = 1)"
   ]
  },
  {
   "cell_type": "code",
   "execution_count": 36,
   "id": "6f057217",
   "metadata": {},
   "outputs": [],
   "source": [
    "description.columns.values[0] = \"USA\"\n",
    "description.columns.values[1] = \"UK\""
   ]
  },
  {
   "cell_type": "code",
   "execution_count": 37,
   "id": "a838c9d5",
   "metadata": {},
   "outputs": [
    {
     "data": {
      "text/html": [
       "<div>\n",
       "<style scoped>\n",
       "    .dataframe tbody tr th:only-of-type {\n",
       "        vertical-align: middle;\n",
       "    }\n",
       "\n",
       "    .dataframe tbody tr th {\n",
       "        vertical-align: top;\n",
       "    }\n",
       "\n",
       "    .dataframe thead th {\n",
       "        text-align: right;\n",
       "    }\n",
       "</style>\n",
       "<table border=\"1\" class=\"dataframe\">\n",
       "  <thead>\n",
       "    <tr style=\"text-align: right;\">\n",
       "      <th></th>\n",
       "      <th>USA</th>\n",
       "      <th>UK</th>\n",
       "    </tr>\n",
       "  </thead>\n",
       "  <tbody>\n",
       "    <tr>\n",
       "      <th>count</th>\n",
       "      <td>634.000000</td>\n",
       "      <td>430.000000</td>\n",
       "    </tr>\n",
       "    <tr>\n",
       "      <th>mean</th>\n",
       "      <td>0.325552</td>\n",
       "      <td>0.235349</td>\n",
       "    </tr>\n",
       "    <tr>\n",
       "      <th>std</th>\n",
       "      <td>0.338209</td>\n",
       "      <td>0.436458</td>\n",
       "    </tr>\n",
       "    <tr>\n",
       "      <th>min</th>\n",
       "      <td>-1.700000</td>\n",
       "      <td>-0.900000</td>\n",
       "    </tr>\n",
       "    <tr>\n",
       "      <th>25%</th>\n",
       "      <td>0.100000</td>\n",
       "      <td>0.000000</td>\n",
       "    </tr>\n",
       "    <tr>\n",
       "      <th>50%</th>\n",
       "      <td>0.300000</td>\n",
       "      <td>0.300000</td>\n",
       "    </tr>\n",
       "    <tr>\n",
       "      <th>75%</th>\n",
       "      <td>0.500000</td>\n",
       "      <td>0.500000</td>\n",
       "    </tr>\n",
       "    <tr>\n",
       "      <th>max</th>\n",
       "      <td>1.800000</td>\n",
       "      <td>3.400000</td>\n",
       "    </tr>\n",
       "  </tbody>\n",
       "</table>\n",
       "</div>"
      ],
      "text/plain": [
       "              USA          UK\n",
       "count  634.000000  430.000000\n",
       "mean     0.325552    0.235349\n",
       "std      0.338209    0.436458\n",
       "min     -1.700000   -0.900000\n",
       "25%      0.100000    0.000000\n",
       "50%      0.300000    0.300000\n",
       "75%      0.500000    0.500000\n",
       "max      1.800000    3.400000"
      ]
     },
     "execution_count": 37,
     "metadata": {},
     "output_type": "execute_result"
    }
   ],
   "source": [
    "description"
   ]
  },
  {
   "cell_type": "markdown",
   "id": "84360b19",
   "metadata": {},
   "source": [
    "Many of the measures for these two datasets are similar like the mean, the standard deviation (std) and even the quartiles, however the UK has higher rate of inflation than the US and the US has lower reports indicating certain level of deflation the UK does not have.  "
   ]
  },
  {
   "cell_type": "markdown",
   "id": "f65eb343",
   "metadata": {},
   "source": [
    "Let's see the interquartile range of these two datasets."
   ]
  },
  {
   "cell_type": "code",
   "execution_count": 38,
   "id": "974c18de",
   "metadata": {},
   "outputs": [
    {
     "data": {
      "text/plain": [
       "0.5"
      ]
     },
     "execution_count": 38,
     "metadata": {},
     "output_type": "execute_result"
    }
   ],
   "source": [
    "description.iloc[6, 0] "
   ]
  },
  {
   "cell_type": "code",
   "execution_count": 39,
   "id": "02fce411",
   "metadata": {},
   "outputs": [],
   "source": [
    "USA_IQR = description.iloc[6, 0] - description.iloc[4, 0]\n",
    "UK_IQR = description.iloc[6, 1] - description.iloc[4, 1]"
   ]
  },
  {
   "cell_type": "code",
   "execution_count": 40,
   "id": "547e920d",
   "metadata": {},
   "outputs": [
    {
     "data": {
      "text/plain": [
       "0.4"
      ]
     },
     "execution_count": 40,
     "metadata": {},
     "output_type": "execute_result"
    }
   ],
   "source": [
    "USA_IQR"
   ]
  },
  {
   "cell_type": "code",
   "execution_count": 41,
   "id": "93171c17",
   "metadata": {},
   "outputs": [
    {
     "data": {
      "text/plain": [
       "0.5"
      ]
     },
     "execution_count": 41,
     "metadata": {},
     "output_type": "execute_result"
    }
   ],
   "source": [
    "UK_IQR"
   ]
  },
  {
   "cell_type": "markdown",
   "id": "8c2eb917",
   "metadata": {},
   "source": [
    "**We have more data from the USA because investing webpage has data since 1970 and for the UK since 1988**\n",
    "\n",
    "We have a question: What is the preferred range of the CPI for our societies?"
   ]
  },
  {
   "cell_type": "markdown",
   "id": "e941fa51",
   "metadata": {},
   "source": [
    "Generally preferred range:\n",
    "\n",
    " + 1-3%: This range is often considered ideal for several reasons:\n",
    "\n",
    "1. **Low and stable inflation:** Prices rise slowly and predictably, allowing for confident budgeting and economic planning.\n",
    "\n",
    "2. **Balanced growth:** Modest inflation can incentivize businesses to invest and innovate while protecting consumers from deflationary pressures that can stagnate the economy.\n",
    "\n",
    "3. **Wage adjustments:** Wages can gradually adjust to keep pace with price increases, maintaining purchasing power.\n",
    "\n",
    "**European perspective:**\n",
    "\n",
    "The European Central Bank (ECB) targets an inflation rate of **\"below, but close to, 2%\"** over the medium term. This reflects a focus on price stability while acknowledging the potential benefits of low, positive inflation.\n",
    "\n",
    "Some European countries, particularly those with a history of high inflation, might prioritize even lower CPI ranges closer to 1%.\n",
    "\n",
    "Concerns about deflation and stagnant economic growth in recent years have made maintaining some level of inflation more important in Europe.\n",
    "\n",
    "**North American perspective:**\n",
    "\n",
    "The Federal Reserve has a dual mandate of achieving maximum employment and stable prices. While no explicit inflation target is set, the Fed generally aims for an inflation rate **around 2%.**\n",
    "\n",
    "Some economists in North America **argue for a slightly higher inflation target of 3-4%**, citing potential benefits for economic growth and debt reduction.\n",
    "\n",
    "Concerns about income inequality and the impact of inflation on low-income earners can lead to calls for lower CPI targets in North America.\n",
    "\n",
    "**It's important to remember:**\n",
    "\n",
    "These are general trends, and individual opinions within both Europe and North America can vary widely.\n",
    "\n",
    "The \"best\" CPI range ultimately depends on various factors, including the specific economic circumstances of each country, its long-term goals, and the risk tolerance of its citizens.\n",
    "\n",
    "Striking a balance between price stability, economic growth, and social well-being remains a complex challenge for policymakers on both sides of the Atlantic."
   ]
  },
  {
   "cell_type": "markdown",
   "id": "0e3c70de",
   "metadata": {},
   "source": [
    "**What about the skewness of these two datasets?** "
   ]
  },
  {
   "cell_type": "code",
   "execution_count": 42,
   "id": "13f78468",
   "metadata": {},
   "outputs": [],
   "source": [
    "from scipy import stats"
   ]
  },
  {
   "cell_type": "code",
   "execution_count": 43,
   "id": "ba096bfa",
   "metadata": {},
   "outputs": [
    {
     "data": {
      "text/plain": [
       "0.19"
      ]
     },
     "execution_count": 43,
     "metadata": {},
     "output_type": "execute_result"
    }
   ],
   "source": [
    "round(stats.skew(CPI_USA[\"Actual\"]), 2)"
   ]
  },
  {
   "cell_type": "code",
   "execution_count": 44,
   "id": "da1234b9",
   "metadata": {},
   "outputs": [
    {
     "data": {
      "text/plain": [
       "1.13"
      ]
     },
     "execution_count": 44,
     "metadata": {},
     "output_type": "execute_result"
    }
   ],
   "source": [
    "round(stats.skew(CPI_UK[\"Actual\"]), 2)"
   ]
  },
  {
   "cell_type": "markdown",
   "id": "53d9210a",
   "metadata": {},
   "source": [
    "The americans have a more normal dataset, however, the british have a history of higher levels of CPI and inflation according to these two datasets, the british dataset is right skewed considerably more than the american one. "
   ]
  },
  {
   "cell_type": "markdown",
   "id": "2ad84e86",
   "metadata": {},
   "source": [
    "# Outliers"
   ]
  },
  {
   "cell_type": "markdown",
   "id": "6b7ffd79",
   "metadata": {},
   "source": [
    "**Every observation that is < Q1 - 1.5(IQRQ) is an outlier as well as > Q3 + 1.5(IQR) as a generalized standard**"
   ]
  },
  {
   "cell_type": "code",
   "execution_count": 45,
   "id": "c4192976",
   "metadata": {},
   "outputs": [
    {
     "data": {
      "text/html": [
       "<div>\n",
       "<style scoped>\n",
       "    .dataframe tbody tr th:only-of-type {\n",
       "        vertical-align: middle;\n",
       "    }\n",
       "\n",
       "    .dataframe tbody tr th {\n",
       "        vertical-align: top;\n",
       "    }\n",
       "\n",
       "    .dataframe thead th {\n",
       "        text-align: right;\n",
       "    }\n",
       "</style>\n",
       "<table border=\"1\" class=\"dataframe\">\n",
       "  <thead>\n",
       "    <tr style=\"text-align: right;\">\n",
       "      <th></th>\n",
       "      <th>USA</th>\n",
       "      <th>UK</th>\n",
       "    </tr>\n",
       "  </thead>\n",
       "  <tbody>\n",
       "    <tr>\n",
       "      <th>count</th>\n",
       "      <td>634.000000</td>\n",
       "      <td>430.000000</td>\n",
       "    </tr>\n",
       "    <tr>\n",
       "      <th>mean</th>\n",
       "      <td>0.325552</td>\n",
       "      <td>0.235349</td>\n",
       "    </tr>\n",
       "    <tr>\n",
       "      <th>std</th>\n",
       "      <td>0.338209</td>\n",
       "      <td>0.436458</td>\n",
       "    </tr>\n",
       "    <tr>\n",
       "      <th>min</th>\n",
       "      <td>-1.700000</td>\n",
       "      <td>-0.900000</td>\n",
       "    </tr>\n",
       "    <tr>\n",
       "      <th>25%</th>\n",
       "      <td>0.100000</td>\n",
       "      <td>0.000000</td>\n",
       "    </tr>\n",
       "    <tr>\n",
       "      <th>50%</th>\n",
       "      <td>0.300000</td>\n",
       "      <td>0.300000</td>\n",
       "    </tr>\n",
       "    <tr>\n",
       "      <th>75%</th>\n",
       "      <td>0.500000</td>\n",
       "      <td>0.500000</td>\n",
       "    </tr>\n",
       "    <tr>\n",
       "      <th>max</th>\n",
       "      <td>1.800000</td>\n",
       "      <td>3.400000</td>\n",
       "    </tr>\n",
       "  </tbody>\n",
       "</table>\n",
       "</div>"
      ],
      "text/plain": [
       "              USA          UK\n",
       "count  634.000000  430.000000\n",
       "mean     0.325552    0.235349\n",
       "std      0.338209    0.436458\n",
       "min     -1.700000   -0.900000\n",
       "25%      0.100000    0.000000\n",
       "50%      0.300000    0.300000\n",
       "75%      0.500000    0.500000\n",
       "max      1.800000    3.400000"
      ]
     },
     "execution_count": 45,
     "metadata": {},
     "output_type": "execute_result"
    }
   ],
   "source": [
    "description # need to remember this dataframe"
   ]
  },
  {
   "cell_type": "code",
   "execution_count": 46,
   "id": "2b04bd71",
   "metadata": {},
   "outputs": [],
   "source": [
    "Q1_USA = description.iloc[4, 0]\n",
    "Q3_USA = description.iloc[6, 0]\n",
    "\n",
    "Q1_UK = description.iloc[4, 1]\n",
    "Q3_UK = description.iloc[6, 1]"
   ]
  },
  {
   "cell_type": "code",
   "execution_count": 47,
   "id": "3f9b6dda",
   "metadata": {},
   "outputs": [],
   "source": [
    "CPI_USA.index = old_index_usa\n",
    "CPI_UK.index = old_index_uk"
   ]
  },
  {
   "cell_type": "code",
   "execution_count": 48,
   "id": "937e82fc",
   "metadata": {},
   "outputs": [
    {
     "data": {
      "text/html": [
       "<div>\n",
       "<style scoped>\n",
       "    .dataframe tbody tr th:only-of-type {\n",
       "        vertical-align: middle;\n",
       "    }\n",
       "\n",
       "    .dataframe tbody tr th {\n",
       "        vertical-align: top;\n",
       "    }\n",
       "\n",
       "    .dataframe thead th {\n",
       "        text-align: right;\n",
       "    }\n",
       "</style>\n",
       "<table border=\"1\" class=\"dataframe\">\n",
       "  <thead>\n",
       "    <tr style=\"text-align: right;\">\n",
       "      <th></th>\n",
       "      <th>Release Date</th>\n",
       "      <th>Time</th>\n",
       "      <th>Actual</th>\n",
       "      <th>Forecast</th>\n",
       "      <th>Previous</th>\n",
       "    </tr>\n",
       "  </thead>\n",
       "  <tbody>\n",
       "    <tr>\n",
       "      <th>44</th>\n",
       "      <td>May 12, 2020 (Apr)</td>\n",
       "      <td>NaN</td>\n",
       "      <td>-0.8</td>\n",
       "      <td>-0.008</td>\n",
       "      <td>-0.004</td>\n",
       "    </tr>\n",
       "    <tr>\n",
       "      <th>183</th>\n",
       "      <td>Jan 16, 2009</td>\n",
       "      <td>NaN</td>\n",
       "      <td>-0.7</td>\n",
       "      <td>-0.009</td>\n",
       "      <td>-0.017</td>\n",
       "    </tr>\n",
       "    <tr>\n",
       "      <th>184</th>\n",
       "      <td>Dec 16, 2008</td>\n",
       "      <td>NaN</td>\n",
       "      <td>-1.7</td>\n",
       "      <td>-0.012</td>\n",
       "      <td>-0.01</td>\n",
       "    </tr>\n",
       "    <tr>\n",
       "      <th>185</th>\n",
       "      <td>Nov 19, 2008</td>\n",
       "      <td>NaN</td>\n",
       "      <td>-1.0</td>\n",
       "      <td>-0.008</td>\n",
       "      <td>0</td>\n",
       "    </tr>\n",
       "  </tbody>\n",
       "</table>\n",
       "</div>"
      ],
      "text/plain": [
       "           Release Date Time  Actual Forecast Previous\n",
       "44   May 12, 2020 (Apr)  NaN    -0.8   -0.008   -0.004\n",
       "183        Jan 16, 2009  NaN    -0.7   -0.009   -0.017\n",
       "184        Dec 16, 2008  NaN    -1.7   -0.012    -0.01\n",
       "185        Nov 19, 2008  NaN    -1.0   -0.008        0"
      ]
     },
     "execution_count": 48,
     "metadata": {},
     "output_type": "execute_result"
    }
   ],
   "source": [
    "CPI_USA[CPI_USA[\"Actual\"] < Q1_USA - (1.5 * USA_IQR)] # We had some recesions in 2008-2009 and 2020"
   ]
  },
  {
   "cell_type": "code",
   "execution_count": 49,
   "id": "50e79bec",
   "metadata": {},
   "outputs": [
    {
     "data": {
      "text/html": [
       "<div>\n",
       "<style scoped>\n",
       "    .dataframe tbody tr th:only-of-type {\n",
       "        vertical-align: middle;\n",
       "    }\n",
       "\n",
       "    .dataframe tbody tr th {\n",
       "        vertical-align: top;\n",
       "    }\n",
       "\n",
       "    .dataframe thead th {\n",
       "        text-align: right;\n",
       "    }\n",
       "</style>\n",
       "<table border=\"1\" class=\"dataframe\">\n",
       "  <thead>\n",
       "    <tr style=\"text-align: right;\">\n",
       "      <th></th>\n",
       "      <th>Release Date</th>\n",
       "      <th>Time</th>\n",
       "      <th>Actual</th>\n",
       "      <th>Forecast</th>\n",
       "      <th>Previous</th>\n",
       "    </tr>\n",
       "  </thead>\n",
       "  <tbody>\n",
       "    <tr>\n",
       "      <th>18</th>\n",
       "      <td>Jul 13, 2022 (Jun)</td>\n",
       "      <td>NaN</td>\n",
       "      <td>1.3</td>\n",
       "      <td>0.011</td>\n",
       "      <td>0.01</td>\n",
       "    </tr>\n",
       "    <tr>\n",
       "      <th>21</th>\n",
       "      <td>Apr 12, 2022 (Mar)</td>\n",
       "      <td>NaN</td>\n",
       "      <td>1.2</td>\n",
       "      <td>0.012</td>\n",
       "      <td>0.008</td>\n",
       "    </tr>\n",
       "    <tr>\n",
       "      <th>223</th>\n",
       "      <td>Oct 14, 2005 (Sep)</td>\n",
       "      <td>NaN</td>\n",
       "      <td>1.4</td>\n",
       "      <td>NaN</td>\n",
       "      <td>0.006</td>\n",
       "    </tr>\n",
       "    <tr>\n",
       "      <th>536</th>\n",
       "      <td>Apr 01, 1980 (Mar)</td>\n",
       "      <td>NaN</td>\n",
       "      <td>1.4</td>\n",
       "      <td>NaN</td>\n",
       "      <td>0.013</td>\n",
       "    </tr>\n",
       "    <tr>\n",
       "      <th>537</th>\n",
       "      <td>Mar 01, 1980 (Feb)</td>\n",
       "      <td>NaN</td>\n",
       "      <td>1.3</td>\n",
       "      <td>NaN</td>\n",
       "      <td>0.014</td>\n",
       "    </tr>\n",
       "    <tr>\n",
       "      <th>538</th>\n",
       "      <td>Feb 01, 1980 (Jan)</td>\n",
       "      <td>NaN</td>\n",
       "      <td>1.4</td>\n",
       "      <td>NaN</td>\n",
       "      <td>0.012</td>\n",
       "    </tr>\n",
       "    <tr>\n",
       "      <th>539</th>\n",
       "      <td>Jan 01, 1980 (Dec)</td>\n",
       "      <td>NaN</td>\n",
       "      <td>1.2</td>\n",
       "      <td>NaN</td>\n",
       "      <td>0.011</td>\n",
       "    </tr>\n",
       "    <tr>\n",
       "      <th>603</th>\n",
       "      <td>Oct 01, 1974 (Sep)</td>\n",
       "      <td>NaN</td>\n",
       "      <td>1.4</td>\n",
       "      <td>NaN</td>\n",
       "      <td>0.012</td>\n",
       "    </tr>\n",
       "    <tr>\n",
       "      <th>604</th>\n",
       "      <td>Sep 01, 1974 (Aug)</td>\n",
       "      <td>NaN</td>\n",
       "      <td>1.2</td>\n",
       "      <td>NaN</td>\n",
       "      <td>0.006</td>\n",
       "    </tr>\n",
       "    <tr>\n",
       "      <th>616</th>\n",
       "      <td>Sep 01, 1973 (Aug)</td>\n",
       "      <td>NaN</td>\n",
       "      <td>1.8</td>\n",
       "      <td>NaN</td>\n",
       "      <td>0</td>\n",
       "    </tr>\n",
       "  </tbody>\n",
       "</table>\n",
       "</div>"
      ],
      "text/plain": [
       "           Release Date Time  Actual Forecast Previous\n",
       "18   Jul 13, 2022 (Jun)  NaN     1.3    0.011     0.01\n",
       "21   Apr 12, 2022 (Mar)  NaN     1.2    0.012    0.008\n",
       "223  Oct 14, 2005 (Sep)  NaN     1.4      NaN    0.006\n",
       "536  Apr 01, 1980 (Mar)  NaN     1.4      NaN    0.013\n",
       "537  Mar 01, 1980 (Feb)  NaN     1.3      NaN    0.014\n",
       "538  Feb 01, 1980 (Jan)  NaN     1.4      NaN    0.012\n",
       "539  Jan 01, 1980 (Dec)  NaN     1.2      NaN    0.011\n",
       "603  Oct 01, 1974 (Sep)  NaN     1.4      NaN    0.012\n",
       "604  Sep 01, 1974 (Aug)  NaN     1.2      NaN    0.006\n",
       "616  Sep 01, 1973 (Aug)  NaN     1.8      NaN        0"
      ]
     },
     "execution_count": 49,
     "metadata": {},
     "output_type": "execute_result"
    }
   ],
   "source": [
    "CPI_USA[CPI_USA[\"Actual\"] > Q3_USA + (1.5 * USA_IQR)] \n",
    "# we had higher inflation on those days of Richard Nixon in office as well as the previous year 2022"
   ]
  },
  {
   "cell_type": "markdown",
   "id": "4ee68df5",
   "metadata": {},
   "source": [
    "What about the UK? Remember that we don't have data for the 70s in the UK, maybe the inflation was high too back then. "
   ]
  },
  {
   "cell_type": "code",
   "execution_count": 50,
   "id": "f69303b2",
   "metadata": {},
   "outputs": [
    {
     "data": {
      "text/html": [
       "<div>\n",
       "<style scoped>\n",
       "    .dataframe tbody tr th:only-of-type {\n",
       "        vertical-align: middle;\n",
       "    }\n",
       "\n",
       "    .dataframe tbody tr th {\n",
       "        vertical-align: top;\n",
       "    }\n",
       "\n",
       "    .dataframe thead th {\n",
       "        text-align: right;\n",
       "    }\n",
       "</style>\n",
       "<table border=\"1\" class=\"dataframe\">\n",
       "  <thead>\n",
       "    <tr style=\"text-align: right;\">\n",
       "      <th></th>\n",
       "      <th>Release Date</th>\n",
       "      <th>Time</th>\n",
       "      <th>Actual</th>\n",
       "      <th>Forecast</th>\n",
       "      <th>Previous</th>\n",
       "    </tr>\n",
       "  </thead>\n",
       "  <tbody>\n",
       "    <tr>\n",
       "      <th>59</th>\n",
       "      <td>Feb 13, 2019 (Jan)</td>\n",
       "      <td>04:30</td>\n",
       "      <td>-0.8</td>\n",
       "      <td>-0.007</td>\n",
       "      <td>0.002</td>\n",
       "    </tr>\n",
       "    <tr>\n",
       "      <th>95</th>\n",
       "      <td>Feb 16, 2016 (Jan)</td>\n",
       "      <td>04:30</td>\n",
       "      <td>-0.8</td>\n",
       "      <td>-0.007</td>\n",
       "      <td>0.001</td>\n",
       "    </tr>\n",
       "    <tr>\n",
       "      <th>107</th>\n",
       "      <td>Feb 17, 2015 (Jan)</td>\n",
       "      <td>04:30</td>\n",
       "      <td>-0.9</td>\n",
       "      <td>-0.008</td>\n",
       "      <td>0.000</td>\n",
       "    </tr>\n",
       "    <tr>\n",
       "      <th>203</th>\n",
       "      <td>Feb 01, 2007 (Jan)</td>\n",
       "      <td>04:00</td>\n",
       "      <td>-0.8</td>\n",
       "      <td>NaN</td>\n",
       "      <td>0.006</td>\n",
       "    </tr>\n",
       "    <tr>\n",
       "      <th>269</th>\n",
       "      <td>Aug 01, 2001 (Jul)</td>\n",
       "      <td>04:00</td>\n",
       "      <td>-0.8</td>\n",
       "      <td>NaN</td>\n",
       "      <td>0.002</td>\n",
       "    </tr>\n",
       "    <tr>\n",
       "      <th>275</th>\n",
       "      <td>Feb 01, 2001 (Jan)</td>\n",
       "      <td>04:00</td>\n",
       "      <td>-0.9</td>\n",
       "      <td>NaN</td>\n",
       "      <td>0.000</td>\n",
       "    </tr>\n",
       "    <tr>\n",
       "      <th>287</th>\n",
       "      <td>Feb 01, 2000 (Jan)</td>\n",
       "      <td>04:00</td>\n",
       "      <td>-0.9</td>\n",
       "      <td>NaN</td>\n",
       "      <td>0.003</td>\n",
       "    </tr>\n",
       "  </tbody>\n",
       "</table>\n",
       "</div>"
      ],
      "text/plain": [
       "           Release Date   Time  Actual  Forecast  Previous\n",
       "59   Feb 13, 2019 (Jan)  04:30    -0.8    -0.007     0.002\n",
       "95   Feb 16, 2016 (Jan)  04:30    -0.8    -0.007     0.001\n",
       "107  Feb 17, 2015 (Jan)  04:30    -0.9    -0.008     0.000\n",
       "203  Feb 01, 2007 (Jan)  04:00    -0.8       NaN     0.006\n",
       "269  Aug 01, 2001 (Jul)  04:00    -0.8       NaN     0.002\n",
       "275  Feb 01, 2001 (Jan)  04:00    -0.9       NaN     0.000\n",
       "287  Feb 01, 2000 (Jan)  04:00    -0.9       NaN     0.003"
      ]
     },
     "execution_count": 50,
     "metadata": {},
     "output_type": "execute_result"
    }
   ],
   "source": [
    "CPI_UK[CPI_UK[\"Actual\"] < Q1_UK - (1.5 * UK_IQR)] "
   ]
  },
  {
   "cell_type": "code",
   "execution_count": 51,
   "id": "d19eb5b5",
   "metadata": {},
   "outputs": [
    {
     "data": {
      "text/html": [
       "<div>\n",
       "<style scoped>\n",
       "    .dataframe tbody tr th:only-of-type {\n",
       "        vertical-align: middle;\n",
       "    }\n",
       "\n",
       "    .dataframe tbody tr th {\n",
       "        vertical-align: top;\n",
       "    }\n",
       "\n",
       "    .dataframe thead th {\n",
       "        text-align: right;\n",
       "    }\n",
       "</style>\n",
       "<table border=\"1\" class=\"dataframe\">\n",
       "  <thead>\n",
       "    <tr style=\"text-align: right;\">\n",
       "      <th></th>\n",
       "      <th>Release Date</th>\n",
       "      <th>Time</th>\n",
       "      <th>Actual</th>\n",
       "      <th>Forecast</th>\n",
       "      <th>Previous</th>\n",
       "    </tr>\n",
       "  </thead>\n",
       "  <tbody>\n",
       "    <tr>\n",
       "      <th>14</th>\n",
       "      <td>Nov 16, 2022 (Oct)</td>\n",
       "      <td>02:00</td>\n",
       "      <td>2.0</td>\n",
       "      <td>0.017</td>\n",
       "      <td>0.005</td>\n",
       "    </tr>\n",
       "    <tr>\n",
       "      <th>20</th>\n",
       "      <td>May 18, 2022 (Apr)</td>\n",
       "      <td>01:00</td>\n",
       "      <td>2.5</td>\n",
       "      <td>0.026</td>\n",
       "      <td>0.011</td>\n",
       "    </tr>\n",
       "    <tr>\n",
       "      <th>392</th>\n",
       "      <td>May 01, 1991 (Apr)</td>\n",
       "      <td>04:00</td>\n",
       "      <td>3.4</td>\n",
       "      <td>NaN</td>\n",
       "      <td>0.003</td>\n",
       "    </tr>\n",
       "    <tr>\n",
       "      <th>404</th>\n",
       "      <td>May 01, 1990 (Apr)</td>\n",
       "      <td>04:00</td>\n",
       "      <td>1.7</td>\n",
       "      <td>NaN</td>\n",
       "      <td>0.006</td>\n",
       "    </tr>\n",
       "    <tr>\n",
       "      <th>416</th>\n",
       "      <td>May 01, 1989 (Apr)</td>\n",
       "      <td>04:00</td>\n",
       "      <td>1.4</td>\n",
       "      <td>NaN</td>\n",
       "      <td>0.005</td>\n",
       "    </tr>\n",
       "    <tr>\n",
       "      <th>428</th>\n",
       "      <td>May 01, 1988 (Apr)</td>\n",
       "      <td>04:00</td>\n",
       "      <td>1.3</td>\n",
       "      <td>NaN</td>\n",
       "      <td>0.003</td>\n",
       "    </tr>\n",
       "  </tbody>\n",
       "</table>\n",
       "</div>"
      ],
      "text/plain": [
       "           Release Date   Time  Actual  Forecast  Previous\n",
       "14   Nov 16, 2022 (Oct)  02:00     2.0     0.017     0.005\n",
       "20   May 18, 2022 (Apr)  01:00     2.5     0.026     0.011\n",
       "392  May 01, 1991 (Apr)  04:00     3.4       NaN     0.003\n",
       "404  May 01, 1990 (Apr)  04:00     1.7       NaN     0.006\n",
       "416  May 01, 1989 (Apr)  04:00     1.4       NaN     0.005\n",
       "428  May 01, 1988 (Apr)  04:00     1.3       NaN     0.003"
      ]
     },
     "execution_count": 51,
     "metadata": {},
     "output_type": "execute_result"
    }
   ],
   "source": [
    "CPI_UK[CPI_UK[\"Actual\"] > Q3_UK + (1.5 * UK_IQR)] \n",
    "# The John Mayor period in the Uk was the highest record of inflation they have ever had monthly"
   ]
  },
  {
   "cell_type": "markdown",
   "id": "3c446c36",
   "metadata": {},
   "source": [
    "**Can we use these datsets to make inferences?**"
   ]
  },
  {
   "cell_type": "code",
   "execution_count": 52,
   "id": "d25f70be",
   "metadata": {},
   "outputs": [
    {
     "data": {
      "text/plain": [
       "430"
      ]
     },
     "execution_count": 52,
     "metadata": {},
     "output_type": "execute_result"
    }
   ],
   "source": [
    "len(CPI_UK)"
   ]
  },
  {
   "cell_type": "markdown",
   "id": "d2878d14",
   "metadata": {},
   "source": [
    "While **a skewness of 0 indicates a perfectly symmetrical distribution**, a skewness of **0.19 for the USA CPI datset is considered relatively mild**. This suggests that our dataset is not extremely skewed, which makes it more likely for the Central Limit theorem (CLT) to hold.\n",
    "\n",
    "\n",
    "A **skewness of 1.13 for the UK CPI** in our dataset suggests a more significant deviation from normality than a value of **0.19.** For the UK we have **5 outliers on the right** and 5 / 430 data observations for the UK is equal to 0.011, so we have **less than 2% of the outliers in the overall data**, let's remove them and see if our skewness changes for a more effective approach with the central limit theorem. \n",
    "\n",
    "We are more interested in removing the higher outliers in the Uk because this Kingdom is characterized for having certain moments where they have had higher levels of inflation than the USA, and even doing this it will be a rigther skewed dataset than the USA regarding CPI. "
   ]
  },
  {
   "cell_type": "code",
   "execution_count": 53,
   "id": "56e77527",
   "metadata": {},
   "outputs": [],
   "source": [
    "CPI_UK = CPI_UK[CPI_UK[\"Actual\"] < Q3_UK + (1.5 * UK_IQR)]"
   ]
  },
  {
   "cell_type": "code",
   "execution_count": 54,
   "id": "8a1fbfba",
   "metadata": {},
   "outputs": [
    {
     "data": {
      "text/plain": [
       "-0.46"
      ]
     },
     "execution_count": 54,
     "metadata": {},
     "output_type": "execute_result"
    }
   ],
   "source": [
    "round(stats.skew(CPI_UK[\"Actual\"]), 2) # we reduced the skewness to -0.46% which is better"
   ]
  },
  {
   "cell_type": "code",
   "execution_count": 55,
   "id": "e563543b",
   "metadata": {},
   "outputs": [
    {
     "data": {
      "image/png": "[encoded data removed]",
      "text/plain": [
       "<Figure size 640x480 with 1 Axes>"
      ]
     },
     "metadata": {},
     "output_type": "display_data"
    }
   ],
   "source": [
    "plt.hist(CPI_UK[\"Actual\"], edgecolor = \"#dcdde1\", color = \"#b71540\", bins = 9)\n",
    "plt.title(\"CPI UK Without Outliers\")\n",
    "plt.xlabel(\"CPI Monthly Report without Outliers\")\n",
    "plt.ylabel(\"Frequency\")\n",
    "plt.show()"
   ]
  },
  {
   "cell_type": "markdown",
   "id": "9e5a0f97",
   "metadata": {},
   "source": [
    "Better normalized. Now it is time to save these files to apply inferences later."
   ]
  },
  {
   "cell_type": "code",
   "execution_count": 56,
   "id": "87e204f8",
   "metadata": {},
   "outputs": [],
   "source": [
    "CPI_USA[\"Actual\"].to_csv(\"CPI_USA.csv\")\n",
    "CPI_UK[\"Actual\"].to_csv(\"CPI_UK.csv\")"
   ]
  }
 ],
 "metadata": {
  "kernelspec": {
   "display_name": "Python 3 (ipykernel)",
   "language": "python",
   "name": "python3"
  },
  "language_info": {
   "codemirror_mode": {
    "name": "ipython",
    "version": 3
   },
   "file_extension": ".py",
   "mimetype": "text/x-python",
   "name": "python",
   "nbconvert_exporter": "python",
   "pygments_lexer": "ipython3",
   "version": "3.11.4"
  }
 },
 "nbformat": 4,
 "nbformat_minor": 5
}
