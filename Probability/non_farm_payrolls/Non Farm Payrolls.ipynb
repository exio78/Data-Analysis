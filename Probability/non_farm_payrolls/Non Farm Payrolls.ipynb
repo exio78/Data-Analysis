{
 "cells": [
  {
   "cell_type": "markdown",
   "id": "9c4539b6",
   "metadata": {},
   "source": [
    "# 05/01/2024 \n",
    "\n",
    "# Non Fram Payrolls analysis Descriptive and inferential statistics"
   ]
  },
  {
   "cell_type": "markdown",
   "id": "f819fa28",
   "metadata": {},
   "source": [
    "What are the NFP or non farm payrolls? why it is an economic indicator of first order? \n",
    "\n",
    "It measures the number of employed people in the **non-agricultural sector**. The Bureau of Labor Statistics (BLS) releases the NFP data monthly as part of the Employment Situation report, typically on the first Friday of the month, the report includes:\n",
    "\n",
    "+ The change in non-farm payrolls: This is the main indicator, showcasing the net number of jobs created or lost in the non-farm sector compared to the previous month.\n",
    "\n",
    "+ The unemployment rate: This measures the percentage of the labor force that is actively seeking work and not employed.\n",
    "\n",
    "+ Average hourly earnings: This shows the average hourly wage or salary for all employees in the non-farm sector.\n",
    "\n",
    "+ Labor force participation rate: This reflects the percentage of the adult population that is either employed or actively seeking work.\n",
    "\n",
    "**Why are non-farm payrolls important?**\n",
    "\n",
    "NFP is considered a crucial indicator for the health of the US economy for these reasons:\n",
    "\n",
    "+ Employment growth: Strong job creation generally indicates a healthy economy and strong consumer spending, impacting growth.\n",
    "\n",
    "+ Policy decisions: The Federal Reserve closely monitors NFP to make decisions about interest rates and monetary policy.\n",
    "\n",
    "+ Market movements: NFP releases often cause significant fluctuations in the stock market and other financial markets.\n",
    "\n",
    "**Understanding NFP:**\n",
    "\n",
    "The reported figure refers to the net change in jobs, meaning it accounts for both jobs created and lost. NFP generally fluctuates within a certain range **(around 10,000 to 250,000 in non-recessional periods)**, and large variations can attract significant attention."
   ]
  },
  {
   "cell_type": "code",
   "execution_count": 1,
   "id": "d5ff4368",
   "metadata": {},
   "outputs": [],
   "source": [
    "import pandas as pd\n",
    "import numpy as np\n",
    "import matplotlib.pyplot as plt\n",
    "import seaborn as sns\n",
    "plt.style.use(\"bmh\")"
   ]
  },
  {
   "cell_type": "markdown",
   "id": "ede9f590",
   "metadata": {},
   "source": [
    "This is the data from this webpage: https://es.investing.com/economic-calendar/nonfarm-payrolls-227"
   ]
  },
  {
   "cell_type": "markdown",
   "id": "086d0d87",
   "metadata": {},
   "source": [
    "# Descriptive statistic"
   ]
  },
  {
   "cell_type": "code",
   "execution_count": 2,
   "id": "e82fe96e",
   "metadata": {},
   "outputs": [
    {
     "data": {
      "text/html": [
       "<div>\n",
       "<style scoped>\n",
       "    .dataframe tbody tr th:only-of-type {\n",
       "        vertical-align: middle;\n",
       "    }\n",
       "\n",
       "    .dataframe tbody tr th {\n",
       "        vertical-align: top;\n",
       "    }\n",
       "\n",
       "    .dataframe thead th {\n",
       "        text-align: right;\n",
       "    }\n",
       "</style>\n",
       "<table border=\"1\" class=\"dataframe\">\n",
       "  <thead>\n",
       "    <tr style=\"text-align: right;\">\n",
       "      <th></th>\n",
       "      <th>Fecha de publicación</th>\n",
       "      <th>Unnamed: 1</th>\n",
       "      <th>Unnamed: 2</th>\n",
       "      <th>Unnamed: 3</th>\n",
       "      <th>Unnamed: 4</th>\n",
       "      <th>Unnamed: 5</th>\n",
       "      <th>Unnamed: 6</th>\n",
       "      <th>Hora</th>\n",
       "      <th>Unnamed: 8</th>\n",
       "      <th>Unnamed: 9</th>\n",
       "      <th>...</th>\n",
       "      <th>Unnamed: 12</th>\n",
       "      <th>Unnamed: 13</th>\n",
       "      <th>Unnamed: 14</th>\n",
       "      <th>Unnamed: 15</th>\n",
       "      <th>Previsión</th>\n",
       "      <th>Unnamed: 17</th>\n",
       "      <th>Unnamed: 18</th>\n",
       "      <th>Unnamed: 19</th>\n",
       "      <th>Unnamed: 20</th>\n",
       "      <th>Anterior</th>\n",
       "    </tr>\n",
       "  </thead>\n",
       "  <tbody>\n",
       "    <tr>\n",
       "      <th>0</th>\n",
       "      <td>05.01.2024 (Dic)</td>\n",
       "      <td>NaN</td>\n",
       "      <td>NaN</td>\n",
       "      <td>NaN</td>\n",
       "      <td>NaN</td>\n",
       "      <td>NaN</td>\n",
       "      <td>NaN</td>\n",
       "      <td>14:30</td>\n",
       "      <td>NaN</td>\n",
       "      <td>NaN</td>\n",
       "      <td>...</td>\n",
       "      <td>NaN</td>\n",
       "      <td>NaN</td>\n",
       "      <td>NaN</td>\n",
       "      <td>NaN</td>\n",
       "      <td>170K</td>\n",
       "      <td>NaN</td>\n",
       "      <td>NaN</td>\n",
       "      <td>NaN</td>\n",
       "      <td>NaN</td>\n",
       "      <td>173K</td>\n",
       "    </tr>\n",
       "    <tr>\n",
       "      <th>1</th>\n",
       "      <td>08.12.2023 (Nov)</td>\n",
       "      <td>NaN</td>\n",
       "      <td>NaN</td>\n",
       "      <td>NaN</td>\n",
       "      <td>NaN</td>\n",
       "      <td>NaN</td>\n",
       "      <td>NaN</td>\n",
       "      <td>14:30</td>\n",
       "      <td>NaN</td>\n",
       "      <td>NaN</td>\n",
       "      <td>...</td>\n",
       "      <td>NaN</td>\n",
       "      <td>NaN</td>\n",
       "      <td>NaN</td>\n",
       "      <td>NaN</td>\n",
       "      <td>180K</td>\n",
       "      <td>NaN</td>\n",
       "      <td>NaN</td>\n",
       "      <td>NaN</td>\n",
       "      <td>NaN</td>\n",
       "      <td>150K</td>\n",
       "    </tr>\n",
       "    <tr>\n",
       "      <th>2</th>\n",
       "      <td>03.11.2023 (Oct)</td>\n",
       "      <td>NaN</td>\n",
       "      <td>NaN</td>\n",
       "      <td>NaN</td>\n",
       "      <td>NaN</td>\n",
       "      <td>NaN</td>\n",
       "      <td>NaN</td>\n",
       "      <td>13:30</td>\n",
       "      <td>NaN</td>\n",
       "      <td>NaN</td>\n",
       "      <td>...</td>\n",
       "      <td>NaN</td>\n",
       "      <td>NaN</td>\n",
       "      <td>NaN</td>\n",
       "      <td>NaN</td>\n",
       "      <td>180K</td>\n",
       "      <td>NaN</td>\n",
       "      <td>NaN</td>\n",
       "      <td>NaN</td>\n",
       "      <td>NaN</td>\n",
       "      <td>297K</td>\n",
       "    </tr>\n",
       "    <tr>\n",
       "      <th>3</th>\n",
       "      <td>06.10.2023 (Sep)</td>\n",
       "      <td>NaN</td>\n",
       "      <td>NaN</td>\n",
       "      <td>NaN</td>\n",
       "      <td>NaN</td>\n",
       "      <td>NaN</td>\n",
       "      <td>NaN</td>\n",
       "      <td>13:30</td>\n",
       "      <td>NaN</td>\n",
       "      <td>NaN</td>\n",
       "      <td>...</td>\n",
       "      <td>NaN</td>\n",
       "      <td>NaN</td>\n",
       "      <td>NaN</td>\n",
       "      <td>NaN</td>\n",
       "      <td>170K</td>\n",
       "      <td>NaN</td>\n",
       "      <td>NaN</td>\n",
       "      <td>NaN</td>\n",
       "      <td>NaN</td>\n",
       "      <td>227K</td>\n",
       "    </tr>\n",
       "    <tr>\n",
       "      <th>4</th>\n",
       "      <td>01.09.2023 (Ago)</td>\n",
       "      <td>NaN</td>\n",
       "      <td>NaN</td>\n",
       "      <td>NaN</td>\n",
       "      <td>NaN</td>\n",
       "      <td>NaN</td>\n",
       "      <td>NaN</td>\n",
       "      <td>13:30</td>\n",
       "      <td>NaN</td>\n",
       "      <td>NaN</td>\n",
       "      <td>...</td>\n",
       "      <td>NaN</td>\n",
       "      <td>NaN</td>\n",
       "      <td>NaN</td>\n",
       "      <td>NaN</td>\n",
       "      <td>170K</td>\n",
       "      <td>NaN</td>\n",
       "      <td>NaN</td>\n",
       "      <td>NaN</td>\n",
       "      <td>NaN</td>\n",
       "      <td>157K</td>\n",
       "    </tr>\n",
       "  </tbody>\n",
       "</table>\n",
       "<p>5 rows × 22 columns</p>\n",
       "</div>"
      ],
      "text/plain": [
       "  Fecha de publicación  Unnamed: 1  Unnamed: 2  Unnamed: 3  Unnamed: 4  \\\n",
       "0     05.01.2024 (Dic)         NaN         NaN         NaN         NaN   \n",
       "1     08.12.2023 (Nov)         NaN         NaN         NaN         NaN   \n",
       "2     03.11.2023 (Oct)         NaN         NaN         NaN         NaN   \n",
       "3     06.10.2023 (Sep)         NaN         NaN         NaN         NaN   \n",
       "4     01.09.2023 (Ago)         NaN         NaN         NaN         NaN   \n",
       "\n",
       "   Unnamed: 5  Unnamed: 6   Hora  Unnamed: 8  Unnamed: 9  ... Unnamed: 12  \\\n",
       "0         NaN         NaN  14:30         NaN         NaN  ...         NaN   \n",
       "1         NaN         NaN  14:30         NaN         NaN  ...         NaN   \n",
       "2         NaN         NaN  13:30         NaN         NaN  ...         NaN   \n",
       "3         NaN         NaN  13:30         NaN         NaN  ...         NaN   \n",
       "4         NaN         NaN  13:30         NaN         NaN  ...         NaN   \n",
       "\n",
       "   Unnamed: 13  Unnamed: 14  Unnamed: 15  Previsión  Unnamed: 17 Unnamed: 18  \\\n",
       "0          NaN          NaN          NaN       170K          NaN         NaN   \n",
       "1          NaN          NaN          NaN       180K          NaN         NaN   \n",
       "2          NaN          NaN          NaN       180K          NaN         NaN   \n",
       "3          NaN          NaN          NaN       170K          NaN         NaN   \n",
       "4          NaN          NaN          NaN       170K          NaN         NaN   \n",
       "\n",
       "   Unnamed: 19  Unnamed: 20  Anterior  \n",
       "0          NaN          NaN      173K  \n",
       "1          NaN          NaN      150K  \n",
       "2          NaN          NaN      297K  \n",
       "3          NaN          NaN      227K  \n",
       "4          NaN          NaN      157K  \n",
       "\n",
       "[5 rows x 22 columns]"
      ]
     },
     "execution_count": 2,
     "metadata": {},
     "output_type": "execute_result"
    }
   ],
   "source": [
    "pd.read_excel(\"non_farm_payrolls_investing.xlsx\").head() "
   ]
  },
  {
   "cell_type": "code",
   "execution_count": 3,
   "id": "cc8fc066",
   "metadata": {},
   "outputs": [
    {
     "data": {
      "text/plain": [
       "Index(['Fecha de publicación', 'Unnamed: 1', 'Unnamed: 2', 'Unnamed: 3',\n",
       "       'Unnamed: 4', 'Unnamed: 5', 'Unnamed: 6', 'Hora', 'Unnamed: 8',\n",
       "       'Unnamed: 9', 'Actual', 'Unnamed: 11', 'Unnamed: 12', 'Unnamed: 13',\n",
       "       'Unnamed: 14', 'Unnamed: 15', 'Previsión', 'Unnamed: 17', 'Unnamed: 18',\n",
       "       'Unnamed: 19', 'Unnamed: 20', 'Anterior'],\n",
       "      dtype='object')"
      ]
     },
     "execution_count": 3,
     "metadata": {},
     "output_type": "execute_result"
    }
   ],
   "source": [
    "pd.read_excel(\"non_farm_payrolls_investing.xlsx\").columns"
   ]
  },
  {
   "cell_type": "code",
   "execution_count": 4,
   "id": "da6c12b5",
   "metadata": {},
   "outputs": [],
   "source": [
    "nfp = pd.read_excel(\"non_farm_payrolls_investing.xlsx\")[[\"Fecha de publicación\", \"Hora\", \"Actual\", \"Previsión\", \"Anterior\"]]"
   ]
  },
  {
   "cell_type": "code",
   "execution_count": 5,
   "id": "ef58f94b",
   "metadata": {},
   "outputs": [],
   "source": [
    "nfp = nfp.rename(columns = {\"Fecha de publicación\": \"Time of Release\", \"Hora\" : \"Time\", \"Actual\" : \"Actual\"\n",
    "                            , \"Previsión\" : \"Expected\", \"Anterior\" : \"Before\"})"
   ]
  },
  {
   "cell_type": "code",
   "execution_count": 6,
   "id": "4d60060c",
   "metadata": {},
   "outputs": [
    {
     "data": {
      "text/html": [
       "<div>\n",
       "<style scoped>\n",
       "    .dataframe tbody tr th:only-of-type {\n",
       "        vertical-align: middle;\n",
       "    }\n",
       "\n",
       "    .dataframe tbody tr th {\n",
       "        vertical-align: top;\n",
       "    }\n",
       "\n",
       "    .dataframe thead th {\n",
       "        text-align: right;\n",
       "    }\n",
       "</style>\n",
       "<table border=\"1\" class=\"dataframe\">\n",
       "  <thead>\n",
       "    <tr style=\"text-align: right;\">\n",
       "      <th></th>\n",
       "      <th>Time of Release</th>\n",
       "      <th>Time</th>\n",
       "      <th>Actual</th>\n",
       "      <th>Expected</th>\n",
       "      <th>Before</th>\n",
       "    </tr>\n",
       "  </thead>\n",
       "  <tbody>\n",
       "    <tr>\n",
       "      <th>0</th>\n",
       "      <td>05.01.2024 (Dic)</td>\n",
       "      <td>14:30</td>\n",
       "      <td>216K</td>\n",
       "      <td>170K</td>\n",
       "      <td>173K</td>\n",
       "    </tr>\n",
       "    <tr>\n",
       "      <th>1</th>\n",
       "      <td>08.12.2023 (Nov)</td>\n",
       "      <td>14:30</td>\n",
       "      <td>199K</td>\n",
       "      <td>180K</td>\n",
       "      <td>150K</td>\n",
       "    </tr>\n",
       "    <tr>\n",
       "      <th>2</th>\n",
       "      <td>03.11.2023 (Oct)</td>\n",
       "      <td>13:30</td>\n",
       "      <td>150K</td>\n",
       "      <td>180K</td>\n",
       "      <td>297K</td>\n",
       "    </tr>\n",
       "    <tr>\n",
       "      <th>3</th>\n",
       "      <td>06.10.2023 (Sep)</td>\n",
       "      <td>13:30</td>\n",
       "      <td>336K</td>\n",
       "      <td>170K</td>\n",
       "      <td>227K</td>\n",
       "    </tr>\n",
       "    <tr>\n",
       "      <th>4</th>\n",
       "      <td>01.09.2023 (Ago)</td>\n",
       "      <td>13:30</td>\n",
       "      <td>187K</td>\n",
       "      <td>170K</td>\n",
       "      <td>157K</td>\n",
       "    </tr>\n",
       "  </tbody>\n",
       "</table>\n",
       "</div>"
      ],
      "text/plain": [
       "    Time of Release   Time Actual Expected Before\n",
       "0  05.01.2024 (Dic)  14:30   216K     170K   173K\n",
       "1  08.12.2023 (Nov)  14:30   199K     180K   150K\n",
       "2  03.11.2023 (Oct)  13:30   150K     180K   297K\n",
       "3  06.10.2023 (Sep)  13:30   336K     170K   227K\n",
       "4  01.09.2023 (Ago)  13:30   187K     170K   157K"
      ]
     },
     "execution_count": 6,
     "metadata": {},
     "output_type": "execute_result"
    }
   ],
   "source": [
    "nfp.head()"
   ]
  },
  {
   "cell_type": "markdown",
   "id": "165a2080",
   "metadata": {},
   "source": [
    "Now that we have our data organized let's explore it."
   ]
  },
  {
   "cell_type": "code",
   "execution_count": 7,
   "id": "6a833d4d",
   "metadata": {},
   "outputs": [
    {
     "data": {
      "text/plain": [
       "Time of Release      0\n",
       "Time                 0\n",
       "Actual               0\n",
       "Expected           458\n",
       "Before               0\n",
       "dtype: int64"
      ]
     },
     "execution_count": 7,
     "metadata": {},
     "output_type": "execute_result"
    }
   ],
   "source": [
    "nfp.isnull().sum() # we have some null values in the expected column"
   ]
  },
  {
   "cell_type": "code",
   "execution_count": 8,
   "id": "e2c7d47f",
   "metadata": {},
   "outputs": [
    {
     "data": {
      "text/plain": [
       "Actual    14\n",
       "162K       5\n",
       "223K       5\n",
       "211K       5\n",
       "235K       5\n",
       "          ..\n",
       "279K       1\n",
       "136K       1\n",
       "341K       1\n",
       "512K       1\n",
       "153K       1\n",
       "Name: Actual, Length: 400, dtype: int64"
      ]
     },
     "execution_count": 8,
     "metadata": {},
     "output_type": "execute_result"
    }
   ],
   "source": [
    "nfp[\"Actual\"].value_counts()"
   ]
  },
  {
   "cell_type": "code",
   "execution_count": 9,
   "id": "b50ef2b7",
   "metadata": {},
   "outputs": [],
   "source": [
    "nfp = nfp.loc[nfp[\"Actual\"] != \"Actual\", :]"
   ]
  },
  {
   "cell_type": "markdown",
   "id": "407d756c",
   "metadata": {},
   "source": [
    "**Let's plot the distribution of the NFP**"
   ]
  },
  {
   "cell_type": "markdown",
   "id": "e71e1eb4",
   "metadata": {},
   "source": [
    "We need to change the datatype of the **Actual column**"
   ]
  },
  {
   "cell_type": "code",
   "execution_count": 10,
   "id": "c9130c4b",
   "metadata": {},
   "outputs": [
    {
     "data": {
      "text/plain": [
       "str"
      ]
     },
     "execution_count": 10,
     "metadata": {},
     "output_type": "execute_result"
    }
   ],
   "source": [
    "type(nfp[\"Actual\"][0]) # we have strings but we need to plot integers on a histogram"
   ]
  },
  {
   "cell_type": "code",
   "execution_count": 11,
   "id": "bca47cc1",
   "metadata": {},
   "outputs": [],
   "source": [
    "nfp[\"Actual\"] = nfp[\"Actual\"].apply(lambda x : x[:-1]) # obtaining only the string numbers\n",
    "nfp[\"Actual\"] = nfp[\"Actual\"].apply(lambda x : x.replace(\".\", \"\")) # replacing . by nothing to have a clean number\n",
    "nfp[\"Actual\"] = nfp[\"Actual\"].apply(lambda x : x.replace(\",\", \"\")) # replacing , by nothing to have a clean number"
   ]
  },
  {
   "cell_type": "code",
   "execution_count": 12,
   "id": "af643149",
   "metadata": {},
   "outputs": [],
   "source": [
    "nfp[\"Actual\"] = nfp[\"Actual\"].astype(int) # here we convert from string to integers"
   ]
  },
  {
   "cell_type": "code",
   "execution_count": 13,
   "id": "baf3c52e",
   "metadata": {},
   "outputs": [],
   "source": [
    "min_nfp = nfp[\"Actual\"].min()\n",
    "max_nfp = nfp[\"Actual\"].max()"
   ]
  },
  {
   "cell_type": "code",
   "execution_count": 14,
   "id": "2538ac50",
   "metadata": {},
   "outputs": [
    {
     "data": {
      "text/plain": [
       "25337"
      ]
     },
     "execution_count": 14,
     "metadata": {},
     "output_type": "execute_result"
    }
   ],
   "source": [
    "range_nfp = max_nfp - min_nfp \n",
    "range_nfp # this is the range of this dataset of NFP"
   ]
  },
  {
   "cell_type": "code",
   "execution_count": 15,
   "id": "743b146d",
   "metadata": {},
   "outputs": [
    {
     "data": {
      "text/plain": [
       "25.337"
      ]
     },
     "execution_count": 15,
     "metadata": {},
     "output_type": "execute_result"
    }
   ],
   "source": [
    "range_nfp / 1000 # if we place 1000 buckets we will have a lenght of almost 26 per bucket"
   ]
  },
  {
   "cell_type": "code",
   "execution_count": 16,
   "id": "3c5f235c",
   "metadata": {},
   "outputs": [],
   "source": [
    "mean_nfp = round(nfp[\"Actual\"].mean(), 2)\n",
    "median_nfp = nfp[\"Actual\"].median()"
   ]
  },
  {
   "cell_type": "code",
   "execution_count": 17,
   "id": "8c5e73d3",
   "metadata": {},
   "outputs": [
    {
     "data": {
      "text/plain": [
       "131.73"
      ]
     },
     "execution_count": 17,
     "metadata": {},
     "output_type": "execute_result"
    }
   ],
   "source": [
    "mean_nfp"
   ]
  },
  {
   "cell_type": "code",
   "execution_count": 18,
   "id": "4e5c569f",
   "metadata": {},
   "outputs": [
    {
     "data": {
      "text/plain": [
       "173.0"
      ]
     },
     "execution_count": 18,
     "metadata": {},
     "output_type": "execute_result"
    }
   ],
   "source": [
    "median_nfp"
   ]
  },
  {
   "cell_type": "markdown",
   "id": "b57959f0",
   "metadata": {},
   "source": [
    "**Now let's plot the distribution**"
   ]
  },
  {
   "cell_type": "code",
   "execution_count": 19,
   "id": "059cb870",
   "metadata": {},
   "outputs": [
    {
     "data": {
      "image/png": "[encoded data removed]",
      "text/plain": [
       "<Figure size 640x480 with 1 Axes>"
      ]
     },
     "metadata": {},
     "output_type": "display_data"
    }
   ],
   "source": [
    "plt.hist(nfp[\"Actual\"], bins = 1000, color = \"#05c46b\")\n",
    "plt.title(\"Distribution of NFP USA\")\n",
    "plt.xlabel(\"NFP report in Thousands\")\n",
    "plt.ylabel(\"Frequency\")\n",
    "plt.axvline(mean_nfp, label = f\"Mean NFP : {mean_nfp}\", linestyle = \"--\", color = \"#1e272e\")\n",
    "plt.legend()\n",
    "plt.show()"
   ]
  },
  {
   "cell_type": "markdown",
   "id": "c99026da",
   "metadata": {},
   "source": [
    "**Looks like we have some outliers on the left and on the right and we can't visualize our data very well**"
   ]
  },
  {
   "cell_type": "code",
   "execution_count": 20,
   "id": "03da06c9",
   "metadata": {},
   "outputs": [
    {
     "data": {
      "image/png": "[encoded data removed]",
      "text/plain": [
       "<Figure size 640x480 with 1 Axes>"
      ]
     },
     "metadata": {},
     "output_type": "display_data"
    }
   ],
   "source": [
    "sns.boxplot(nfp[\"Actual\"], orient = \"h\", color = \"#f53b57\") # we are going to plot a boxplot to see how it looks\n",
    "plt.title(\"Boxplot of NFP USA\")\n",
    "plt.xlabel(\"NFP report in Thousands\")\n",
    "plt.show()"
   ]
  },
  {
   "cell_type": "markdown",
   "id": "1c9ec8db",
   "metadata": {},
   "source": [
    "Looks like we can't visualize this data very well.\n",
    "\n",
    "What is its **standard deviation** and **interquartile range IQR of this dataset with outliers**? "
   ]
  },
  {
   "cell_type": "code",
   "execution_count": 21,
   "id": "3a6ff057",
   "metadata": {},
   "outputs": [
    {
     "data": {
      "text/plain": [
       "count      649.000000\n",
       "mean       131.734977\n",
       "std        866.500268\n",
       "min     -20537.000000\n",
       "25%         54.000000\n",
       "50%        173.000000\n",
       "75%        271.000000\n",
       "max       4800.000000\n",
       "Name: Actual, dtype: float64"
      ]
     },
     "execution_count": 21,
     "metadata": {},
     "output_type": "execute_result"
    }
   ],
   "source": [
    "nfp[\"Actual\"].describe()"
   ]
  },
  {
   "cell_type": "code",
   "execution_count": 22,
   "id": "584e2141",
   "metadata": {},
   "outputs": [
    {
     "data": {
      "text/plain": [
       "217.0"
      ]
     },
     "execution_count": 22,
     "metadata": {},
     "output_type": "execute_result"
    }
   ],
   "source": [
    "IQR = nfp[\"Actual\"].describe().loc[\"75%\"] - nfp[\"Actual\"].describe().loc[\"25%\"]\n",
    "IQR"
   ]
  },
  {
   "cell_type": "markdown",
   "id": "3e9a8d75",
   "metadata": {},
   "source": [
    "Every observation that is < Q1 - 1.5(IQRQ) is an outlier as well as > Q3 + 1.5(IQR)"
   ]
  },
  {
   "cell_type": "markdown",
   "id": "75788216",
   "metadata": {},
   "source": [
    "# A treatment for the data "
   ]
  },
  {
   "cell_type": "markdown",
   "id": "7fc24b2a",
   "metadata": {},
   "source": [
    "Some process that can change the population dataset is called a treatment and that is what we are going to do. We are going to remove outliers."
   ]
  },
  {
   "cell_type": "code",
   "execution_count": 23,
   "id": "6e8cb419",
   "metadata": {},
   "outputs": [],
   "source": [
    "Q1 = nfp[\"Actual\"].describe().loc[\"25%\"]\n",
    "Q3 = nfp[\"Actual\"].describe().loc[\"75%\"]"
   ]
  },
  {
   "cell_type": "code",
   "execution_count": 24,
   "id": "7e36067d",
   "metadata": {},
   "outputs": [
    {
     "data": {
      "text/plain": [
       "-271.5"
      ]
     },
     "execution_count": 24,
     "metadata": {},
     "output_type": "execute_result"
    }
   ],
   "source": [
    "Q1 - (1.5 * IQR)"
   ]
  },
  {
   "cell_type": "code",
   "execution_count": 25,
   "id": "9d682a1e",
   "metadata": {},
   "outputs": [
    {
     "data": {
      "text/plain": [
       "596.5"
      ]
     },
     "execution_count": 25,
     "metadata": {},
     "output_type": "execute_result"
    }
   ],
   "source": [
    "Q3 + (1.5 * IQR)"
   ]
  },
  {
   "cell_type": "markdown",
   "id": "6248f7f7",
   "metadata": {},
   "source": [
    "So the range of the whiskers is between **-271.5 and 596.5**  everything outside of this range is an outlier."
   ]
  },
  {
   "cell_type": "code",
   "execution_count": 26,
   "id": "887e9039",
   "metadata": {},
   "outputs": [
    {
     "data": {
      "text/plain": [
       "27"
      ]
     },
     "execution_count": 26,
     "metadata": {},
     "output_type": "execute_result"
    }
   ],
   "source": [
    "len(nfp[nfp[\"Actual\"] < Q1 - (1.5 * IQR)][\"Actual\"])"
   ]
  },
  {
   "cell_type": "code",
   "execution_count": 27,
   "id": "e7b58277",
   "metadata": {},
   "outputs": [
    {
     "data": {
      "text/html": [
       "<div>\n",
       "<style scoped>\n",
       "    .dataframe tbody tr th:only-of-type {\n",
       "        vertical-align: middle;\n",
       "    }\n",
       "\n",
       "    .dataframe tbody tr th {\n",
       "        vertical-align: top;\n",
       "    }\n",
       "\n",
       "    .dataframe thead th {\n",
       "        text-align: right;\n",
       "    }\n",
       "</style>\n",
       "<table border=\"1\" class=\"dataframe\">\n",
       "  <thead>\n",
       "    <tr style=\"text-align: right;\">\n",
       "      <th></th>\n",
       "      <th>Time of Release</th>\n",
       "      <th>Time</th>\n",
       "      <th>Actual</th>\n",
       "      <th>Expected</th>\n",
       "      <th>Before</th>\n",
       "    </tr>\n",
       "  </thead>\n",
       "  <tbody>\n",
       "    <tr>\n",
       "      <th>45</th>\n",
       "      <td>08.05.2020 (Abr)</td>\n",
       "      <td>13:30</td>\n",
       "      <td>-20537</td>\n",
       "      <td>-22.000K</td>\n",
       "      <td>-870K</td>\n",
       "    </tr>\n",
       "    <tr>\n",
       "      <th>46</th>\n",
       "      <td>03.04.2020 (Mar)</td>\n",
       "      <td>13:30</td>\n",
       "      <td>-701</td>\n",
       "      <td>-100K</td>\n",
       "      <td>275K</td>\n",
       "    </tr>\n",
       "    <tr>\n",
       "      <th>178</th>\n",
       "      <td>2009-07-02 00:00:00</td>\n",
       "      <td>13:30</td>\n",
       "      <td>-467</td>\n",
       "      <td>-375K</td>\n",
       "      <td>-322K</td>\n",
       "    </tr>\n",
       "    <tr>\n",
       "      <th>179</th>\n",
       "      <td>2009-06-05 00:00:00</td>\n",
       "      <td>13:30</td>\n",
       "      <td>-345</td>\n",
       "      <td>-521K</td>\n",
       "      <td>-504K</td>\n",
       "    </tr>\n",
       "    <tr>\n",
       "      <th>180</th>\n",
       "      <td>2009-05-08 00:00:00</td>\n",
       "      <td>13:30</td>\n",
       "      <td>-539</td>\n",
       "      <td>-580K</td>\n",
       "      <td>-699K</td>\n",
       "    </tr>\n",
       "    <tr>\n",
       "      <th>181</th>\n",
       "      <td>2009-04-03 00:00:00</td>\n",
       "      <td>13:30</td>\n",
       "      <td>-663</td>\n",
       "      <td>-662K</td>\n",
       "      <td>-651K</td>\n",
       "    </tr>\n",
       "    <tr>\n",
       "      <th>182</th>\n",
       "      <td>2009-03-06 00:00:00</td>\n",
       "      <td>14:30</td>\n",
       "      <td>-651</td>\n",
       "      <td>-636K</td>\n",
       "      <td>-598K</td>\n",
       "    </tr>\n",
       "    <tr>\n",
       "      <th>183</th>\n",
       "      <td>2009-02-06 00:00:00</td>\n",
       "      <td>14:30</td>\n",
       "      <td>-598</td>\n",
       "      <td>-530K</td>\n",
       "      <td>-524K</td>\n",
       "    </tr>\n",
       "    <tr>\n",
       "      <th>184</th>\n",
       "      <td>2009-01-09 00:00:00</td>\n",
       "      <td>14:30</td>\n",
       "      <td>-524</td>\n",
       "      <td>-475K</td>\n",
       "      <td>-533K</td>\n",
       "    </tr>\n",
       "    <tr>\n",
       "      <th>185</th>\n",
       "      <td>2008-12-05 00:00:00</td>\n",
       "      <td>14:30</td>\n",
       "      <td>-533</td>\n",
       "      <td>-320K</td>\n",
       "      <td>-240K</td>\n",
       "    </tr>\n",
       "    <tr>\n",
       "      <th>271</th>\n",
       "      <td>07.12.2001 (Nov)</td>\n",
       "      <td>13:30</td>\n",
       "      <td>-294</td>\n",
       "      <td>NaN</td>\n",
       "      <td>-325K</td>\n",
       "    </tr>\n",
       "    <tr>\n",
       "      <th>272</th>\n",
       "      <td>02.11.2001 (Oct)</td>\n",
       "      <td>13:30</td>\n",
       "      <td>-325</td>\n",
       "      <td>NaN</td>\n",
       "      <td>-241K</td>\n",
       "    </tr>\n",
       "    <tr>\n",
       "      <th>278</th>\n",
       "      <td>04.05.2001 (Abr)</td>\n",
       "      <td>13:30</td>\n",
       "      <td>-282</td>\n",
       "      <td>NaN</td>\n",
       "      <td>-25K</td>\n",
       "    </tr>\n",
       "    <tr>\n",
       "      <th>403</th>\n",
       "      <td>01.03.1991 (Feb)</td>\n",
       "      <td>13:30</td>\n",
       "      <td>-305</td>\n",
       "      <td>NaN</td>\n",
       "      <td>-120K</td>\n",
       "    </tr>\n",
       "    <tr>\n",
       "      <th>495</th>\n",
       "      <td>02.09.1983 (Ago)</td>\n",
       "      <td>13:30</td>\n",
       "      <td>-308</td>\n",
       "      <td>NaN</td>\n",
       "      <td>418K</td>\n",
       "    </tr>\n",
       "    <tr>\n",
       "      <th>505</th>\n",
       "      <td>05.11.1982 (Oct)</td>\n",
       "      <td>13:30</td>\n",
       "      <td>-277</td>\n",
       "      <td>NaN</td>\n",
       "      <td>-181K</td>\n",
       "    </tr>\n",
       "    <tr>\n",
       "      <th>508</th>\n",
       "      <td>06.08.1982 (Jul)</td>\n",
       "      <td>13:30</td>\n",
       "      <td>-342</td>\n",
       "      <td>NaN</td>\n",
       "      <td>-243K</td>\n",
       "    </tr>\n",
       "    <tr>\n",
       "      <th>511</th>\n",
       "      <td>07.05.1982 (Abr)</td>\n",
       "      <td>13:30</td>\n",
       "      <td>-280</td>\n",
       "      <td>NaN</td>\n",
       "      <td>-130K</td>\n",
       "    </tr>\n",
       "    <tr>\n",
       "      <th>514</th>\n",
       "      <td>05.02.1982 (Ene)</td>\n",
       "      <td>13:30</td>\n",
       "      <td>-326</td>\n",
       "      <td>NaN</td>\n",
       "      <td>-278K</td>\n",
       "    </tr>\n",
       "    <tr>\n",
       "      <th>515</th>\n",
       "      <td>01.01.1982 (Dic)</td>\n",
       "      <td>13:30</td>\n",
       "      <td>-278</td>\n",
       "      <td>NaN</td>\n",
       "      <td>-209K</td>\n",
       "    </tr>\n",
       "    <tr>\n",
       "      <th>534</th>\n",
       "      <td>04.07.1980 (Jun)</td>\n",
       "      <td>13:30</td>\n",
       "      <td>-320</td>\n",
       "      <td>NaN</td>\n",
       "      <td>-431K</td>\n",
       "    </tr>\n",
       "    <tr>\n",
       "      <th>535</th>\n",
       "      <td>06.06.1980 (May)</td>\n",
       "      <td>13:30</td>\n",
       "      <td>-431</td>\n",
       "      <td>NaN</td>\n",
       "      <td>-144K</td>\n",
       "    </tr>\n",
       "    <tr>\n",
       "      <th>599</th>\n",
       "      <td>07.03.1975 (Feb)</td>\n",
       "      <td>13:30</td>\n",
       "      <td>-378</td>\n",
       "      <td>NaN</td>\n",
       "      <td>-360K</td>\n",
       "    </tr>\n",
       "    <tr>\n",
       "      <th>600</th>\n",
       "      <td>07.02.1975 (Ene)</td>\n",
       "      <td>13:30</td>\n",
       "      <td>-360</td>\n",
       "      <td>NaN</td>\n",
       "      <td>-604K</td>\n",
       "    </tr>\n",
       "    <tr>\n",
       "      <th>601</th>\n",
       "      <td>03.01.1975 (Dic)</td>\n",
       "      <td>13:30</td>\n",
       "      <td>-604</td>\n",
       "      <td>NaN</td>\n",
       "      <td>-368K</td>\n",
       "    </tr>\n",
       "    <tr>\n",
       "      <th>602</th>\n",
       "      <td>06.12.1974 (Nov)</td>\n",
       "      <td>13:30</td>\n",
       "      <td>-368</td>\n",
       "      <td>NaN</td>\n",
       "      <td>18K</td>\n",
       "    </tr>\n",
       "    <tr>\n",
       "      <th>652</th>\n",
       "      <td>06.11.1970 (Oct)</td>\n",
       "      <td>13:30</td>\n",
       "      <td>-429</td>\n",
       "      <td>NaN</td>\n",
       "      <td>15K</td>\n",
       "    </tr>\n",
       "  </tbody>\n",
       "</table>\n",
       "</div>"
      ],
      "text/plain": [
       "         Time of Release   Time  Actual  Expected Before\n",
       "45      08.05.2020 (Abr)  13:30  -20537  -22.000K  -870K\n",
       "46      03.04.2020 (Mar)  13:30    -701     -100K   275K\n",
       "178  2009-07-02 00:00:00  13:30    -467     -375K  -322K\n",
       "179  2009-06-05 00:00:00  13:30    -345     -521K  -504K\n",
       "180  2009-05-08 00:00:00  13:30    -539     -580K  -699K\n",
       "181  2009-04-03 00:00:00  13:30    -663     -662K  -651K\n",
       "182  2009-03-06 00:00:00  14:30    -651     -636K  -598K\n",
       "183  2009-02-06 00:00:00  14:30    -598     -530K  -524K\n",
       "184  2009-01-09 00:00:00  14:30    -524     -475K  -533K\n",
       "185  2008-12-05 00:00:00  14:30    -533     -320K  -240K\n",
       "271     07.12.2001 (Nov)  13:30    -294       NaN  -325K\n",
       "272     02.11.2001 (Oct)  13:30    -325       NaN  -241K\n",
       "278     04.05.2001 (Abr)  13:30    -282       NaN   -25K\n",
       "403     01.03.1991 (Feb)  13:30    -305       NaN  -120K\n",
       "495     02.09.1983 (Ago)  13:30    -308       NaN   418K\n",
       "505     05.11.1982 (Oct)  13:30    -277       NaN  -181K\n",
       "508     06.08.1982 (Jul)  13:30    -342       NaN  -243K\n",
       "511     07.05.1982 (Abr)  13:30    -280       NaN  -130K\n",
       "514     05.02.1982 (Ene)  13:30    -326       NaN  -278K\n",
       "515     01.01.1982 (Dic)  13:30    -278       NaN  -209K\n",
       "534     04.07.1980 (Jun)  13:30    -320       NaN  -431K\n",
       "535     06.06.1980 (May)  13:30    -431       NaN  -144K\n",
       "599     07.03.1975 (Feb)  13:30    -378       NaN  -360K\n",
       "600     07.02.1975 (Ene)  13:30    -360       NaN  -604K\n",
       "601     03.01.1975 (Dic)  13:30    -604       NaN  -368K\n",
       "602     06.12.1974 (Nov)  13:30    -368       NaN    18K\n",
       "652     06.11.1970 (Oct)  13:30    -429       NaN    15K"
      ]
     },
     "execution_count": 27,
     "metadata": {},
     "output_type": "execute_result"
    }
   ],
   "source": [
    "nfp[nfp[\"Actual\"] < Q1 - (1.5 * IQR)]"
   ]
  },
  {
   "cell_type": "code",
   "execution_count": 28,
   "id": "cd70c747",
   "metadata": {},
   "outputs": [
    {
     "data": {
      "text/plain": [
       "12"
      ]
     },
     "execution_count": 28,
     "metadata": {},
     "output_type": "execute_result"
    }
   ],
   "source": [
    "len(nfp[nfp[\"Actual\"] > Q3 + (1.5 * IQR)][\"Actual\"])"
   ]
  },
  {
   "cell_type": "code",
   "execution_count": 29,
   "id": "036264eb",
   "metadata": {},
   "outputs": [
    {
     "data": {
      "text/html": [
       "<div>\n",
       "<style scoped>\n",
       "    .dataframe tbody tr th:only-of-type {\n",
       "        vertical-align: middle;\n",
       "    }\n",
       "\n",
       "    .dataframe tbody tr th {\n",
       "        vertical-align: top;\n",
       "    }\n",
       "\n",
       "    .dataframe thead th {\n",
       "        text-align: right;\n",
       "    }\n",
       "</style>\n",
       "<table border=\"1\" class=\"dataframe\">\n",
       "  <thead>\n",
       "    <tr style=\"text-align: right;\">\n",
       "      <th></th>\n",
       "      <th>Time of Release</th>\n",
       "      <th>Time</th>\n",
       "      <th>Actual</th>\n",
       "      <th>Expected</th>\n",
       "      <th>Before</th>\n",
       "    </tr>\n",
       "  </thead>\n",
       "  <tbody>\n",
       "    <tr>\n",
       "      <th>23</th>\n",
       "      <td>04.03.2022 (Feb)</td>\n",
       "      <td>14:30</td>\n",
       "      <td>678</td>\n",
       "      <td>400K</td>\n",
       "      <td>481K</td>\n",
       "    </tr>\n",
       "    <tr>\n",
       "      <th>30</th>\n",
       "      <td>06.08.2021 (Jul)</td>\n",
       "      <td>13:30</td>\n",
       "      <td>943</td>\n",
       "      <td>870K</td>\n",
       "      <td>938K</td>\n",
       "    </tr>\n",
       "    <tr>\n",
       "      <th>31</th>\n",
       "      <td>02.07.2021 (Jun)</td>\n",
       "      <td>13:30</td>\n",
       "      <td>850</td>\n",
       "      <td>700K</td>\n",
       "      <td>583K</td>\n",
       "    </tr>\n",
       "    <tr>\n",
       "      <th>34</th>\n",
       "      <td>02.04.2021 (Mar)</td>\n",
       "      <td>13:30</td>\n",
       "      <td>916</td>\n",
       "      <td>647K</td>\n",
       "      <td>468K</td>\n",
       "    </tr>\n",
       "    <tr>\n",
       "      <th>39</th>\n",
       "      <td>06.11.2020 (Oct)</td>\n",
       "      <td>14:30</td>\n",
       "      <td>638</td>\n",
       "      <td>600K</td>\n",
       "      <td>672K</td>\n",
       "    </tr>\n",
       "    <tr>\n",
       "      <th>40</th>\n",
       "      <td>02.10.2020 (Sep)</td>\n",
       "      <td>13:30</td>\n",
       "      <td>661</td>\n",
       "      <td>850K</td>\n",
       "      <td>1.489K</td>\n",
       "    </tr>\n",
       "    <tr>\n",
       "      <th>41</th>\n",
       "      <td>04.09.2020 (Ago)</td>\n",
       "      <td>13:30</td>\n",
       "      <td>1371</td>\n",
       "      <td>1.400K</td>\n",
       "      <td>1.734K</td>\n",
       "    </tr>\n",
       "    <tr>\n",
       "      <th>42</th>\n",
       "      <td>07.08.2020 (Jul)</td>\n",
       "      <td>13:30</td>\n",
       "      <td>1763</td>\n",
       "      <td>1.600K</td>\n",
       "      <td>4.791K</td>\n",
       "    </tr>\n",
       "    <tr>\n",
       "      <th>43</th>\n",
       "      <td>02.07.2020 (Jun)</td>\n",
       "      <td>13:30</td>\n",
       "      <td>4800</td>\n",
       "      <td>3.000K</td>\n",
       "      <td>2.699K</td>\n",
       "    </tr>\n",
       "    <tr>\n",
       "      <th>44</th>\n",
       "      <td>05.06.2020 (May)</td>\n",
       "      <td>13:30</td>\n",
       "      <td>2509</td>\n",
       "      <td>-8.000K</td>\n",
       "      <td>-20.687K</td>\n",
       "    </tr>\n",
       "    <tr>\n",
       "      <th>494</th>\n",
       "      <td>07.10.1983 (Sep)</td>\n",
       "      <td>13:30</td>\n",
       "      <td>1115</td>\n",
       "      <td>NaN</td>\n",
       "      <td>-308K</td>\n",
       "    </tr>\n",
       "    <tr>\n",
       "      <th>560</th>\n",
       "      <td>05.05.1978 (Abr)</td>\n",
       "      <td>13:30</td>\n",
       "      <td>702</td>\n",
       "      <td>NaN</td>\n",
       "      <td>513K</td>\n",
       "    </tr>\n",
       "  </tbody>\n",
       "</table>\n",
       "</div>"
      ],
      "text/plain": [
       "      Time of Release   Time  Actual Expected    Before\n",
       "23   04.03.2022 (Feb)  14:30     678     400K      481K\n",
       "30   06.08.2021 (Jul)  13:30     943     870K      938K\n",
       "31   02.07.2021 (Jun)  13:30     850     700K      583K\n",
       "34   02.04.2021 (Mar)  13:30     916     647K      468K\n",
       "39   06.11.2020 (Oct)  14:30     638     600K      672K\n",
       "40   02.10.2020 (Sep)  13:30     661     850K    1.489K\n",
       "41   04.09.2020 (Ago)  13:30    1371   1.400K    1.734K\n",
       "42   07.08.2020 (Jul)  13:30    1763   1.600K    4.791K\n",
       "43   02.07.2020 (Jun)  13:30    4800   3.000K    2.699K\n",
       "44   05.06.2020 (May)  13:30    2509  -8.000K  -20.687K\n",
       "494  07.10.1983 (Sep)  13:30    1115      NaN     -308K\n",
       "560  05.05.1978 (Abr)  13:30     702      NaN      513K"
      ]
     },
     "execution_count": 29,
     "metadata": {},
     "output_type": "execute_result"
    }
   ],
   "source": [
    "nfp[nfp[\"Actual\"] > Q3 + (1.5 * IQR)]"
   ]
  },
  {
   "cell_type": "code",
   "execution_count": 30,
   "id": "ea0c358e",
   "metadata": {},
   "outputs": [],
   "source": [
    "low_outliers =  Q1 - (1.5 * IQR)\n",
    "high_outliers = Q3 + (1.5 * IQR)"
   ]
  },
  {
   "cell_type": "code",
   "execution_count": 31,
   "id": "cc04f727",
   "metadata": {},
   "outputs": [],
   "source": [
    "without_outliers = nfp[(nfp[\"Actual\"] > low_outliers) & (nfp[\"Actual\"] < high_outliers)] \n",
    "# everything inside this range (-271.5 and 596.5)"
   ]
  },
  {
   "cell_type": "code",
   "execution_count": 32,
   "id": "c9a62a57",
   "metadata": {},
   "outputs": [
    {
     "data": {
      "text/plain": [
       "163.96"
      ]
     },
     "execution_count": 32,
     "metadata": {},
     "output_type": "execute_result"
    }
   ],
   "source": [
    "mean_nfp_no_outliers = round(without_outliers[\"Actual\"].mean(), 2)\n",
    "mean_nfp_no_outliers"
   ]
  },
  {
   "cell_type": "code",
   "execution_count": 33,
   "id": "013c2bee",
   "metadata": {},
   "outputs": [
    {
     "data": {
      "image/png": "[encoded data removed]",
      "text/plain": [
       "<Figure size 640x480 with 1 Axes>"
      ]
     },
     "metadata": {},
     "output_type": "display_data"
    }
   ],
   "source": [
    "plt.hist(without_outliers[\"Actual\"], color = \"#05c46b\", edgecolor = \"#d2dae2\", bins = 45)\n",
    "plt.title(\"Distribution of NFP USA Without Outliers\")\n",
    "plt.xlabel(\"NFP report in Thousands\")\n",
    "plt.ylabel(\"Frequency\")\n",
    "plt.axvline(mean_nfp_no_outliers, label = f\"Mean NFP : {mean_nfp_no_outliers}\", linestyle = \"--\", color = \"#1e272e\")\n",
    "plt.legend()\n",
    "plt.show()"
   ]
  },
  {
   "cell_type": "markdown",
   "id": "19ffc44d",
   "metadata": {},
   "source": [
    "**As we can see the distribution without outliers is approximately normal**"
   ]
  },
  {
   "cell_type": "code",
   "execution_count": 34,
   "id": "396e20e4",
   "metadata": {},
   "outputs": [
    {
     "data": {
      "image/png": "[encoded data removed]",
      "text/plain": [
       "<Figure size 640x480 with 1 Axes>"
      ]
     },
     "metadata": {},
     "output_type": "display_data"
    }
   ],
   "source": [
    "sns.boxplot(without_outliers[\"Actual\"], orient = \"h\", color = \"#f53b57\")\n",
    "plt.title(\"Boxplot of NFP USA Without Outliers\")\n",
    "plt.xlabel(\"NFP report in Thousands\")\n",
    "plt.show()\n",
    "plt.show()"
   ]
  },
  {
   "cell_type": "code",
   "execution_count": 35,
   "id": "15507239",
   "metadata": {},
   "outputs": [
    {
     "data": {
      "text/plain": [
       "count    610.000000\n",
       "mean     163.959016\n",
       "std      155.665318\n",
       "min     -270.000000\n",
       "25%       74.000000\n",
       "50%      179.500000\n",
       "75%      267.750000\n",
       "max      559.000000\n",
       "Name: Actual, dtype: float64"
      ]
     },
     "execution_count": 35,
     "metadata": {},
     "output_type": "execute_result"
    }
   ],
   "source": [
    "without_outliers[\"Actual\"].describe()"
   ]
  },
  {
   "cell_type": "code",
   "execution_count": 36,
   "id": "a63adeea",
   "metadata": {},
   "outputs": [
    {
     "data": {
      "text/plain": [
       "213.75"
      ]
     },
     "execution_count": 36,
     "metadata": {},
     "output_type": "execute_result"
    }
   ],
   "source": [
    "IQR = without_outliers[\"Actual\"].describe().loc[\"75%\"] - nfp[\"Actual\"].describe().loc[\"25%\"]\n",
    "IQR # we have an interquartile range very similar to the data with outliers"
   ]
  },
  {
   "cell_type": "markdown",
   "id": "292823ff",
   "metadata": {},
   "source": [
    "**What is the skew of the data with outliers and the data without outliers?**"
   ]
  },
  {
   "cell_type": "code",
   "execution_count": 37,
   "id": "13b69051",
   "metadata": {},
   "outputs": [],
   "source": [
    "from scipy import stats"
   ]
  },
  {
   "cell_type": "code",
   "execution_count": 38,
   "id": "0dd644d0",
   "metadata": {},
   "outputs": [
    {
     "data": {
      "text/plain": [
       "-20.68"
      ]
     },
     "execution_count": 38,
     "metadata": {},
     "output_type": "execute_result"
    }
   ],
   "source": [
    "round(stats.skew(nfp[\"Actual\"]), 2) # this dataset is higly skwed"
   ]
  },
  {
   "cell_type": "code",
   "execution_count": 39,
   "id": "c433f32b",
   "metadata": {},
   "outputs": [
    {
     "data": {
      "text/plain": [
       "-0.41"
      ]
     },
     "execution_count": 39,
     "metadata": {},
     "output_type": "execute_result"
    }
   ],
   "source": [
    "round(stats.skew(without_outliers[\"Actual\"]), 2) # after removing outliers we got a more normal distribution"
   ]
  },
  {
   "cell_type": "markdown",
   "id": "61237916",
   "metadata": {},
   "source": [
    "A normal distribution, by definition, has a **skew of 0**. This is because it is perfectly symmetrical around its mean, with equal weight on the left and right tails of the bell curve. Any non-zero skew indicates that the distribution deviates from the perfect symmetry of a normal distribution.\n",
    "\n",
    "However, in practice, **some datasets may approximate a normal distribution** even with a slight skew. Here are some general guidelines:\n",
    "\n",
    "+ Absolute skew < 0.5: Generally considered approximately normal. Statistical tests for normality may still reject it, but the practical impact on your analysis might be minimal.\n",
    "\n",
    "+ 0.5 ≤ absolute skew ≤ 1: Moderately skewed. You might want to consider transformations or alternative non-parametric methods depending on your analysis goals.\n",
    "\n",
    "+ Absolute skew > 1: Highly skewed. It's unlikely that assuming normality is appropriate at this level of asymmetry."
   ]
  },
  {
   "cell_type": "code",
   "execution_count": 40,
   "id": "84fb3da1",
   "metadata": {},
   "outputs": [
    {
     "data": {
      "text/plain": [
       "649"
      ]
     },
     "execution_count": 40,
     "metadata": {},
     "output_type": "execute_result"
    }
   ],
   "source": [
    "len(nfp) # this is the total lenght of the original data "
   ]
  },
  {
   "cell_type": "code",
   "execution_count": 41,
   "id": "3a29f5ff",
   "metadata": {},
   "outputs": [
    {
     "data": {
      "text/plain": [
       "40"
      ]
     },
     "execution_count": 41,
     "metadata": {},
     "output_type": "execute_result"
    }
   ],
   "source": [
    "len(nfp[nfp[\"Actual\"] < Q1 - (1.5 * IQR)][\"Actual\"]) + len(nfp[nfp[\"Actual\"] > Q3 + (1.5 * IQR)][\"Actual\"])\n",
    "# this is the number of outliers"
   ]
  },
  {
   "cell_type": "code",
   "execution_count": 42,
   "id": "534aeeca",
   "metadata": {},
   "outputs": [
    {
     "data": {
      "text/plain": [
       "6.16"
      ]
     },
     "execution_count": 42,
     "metadata": {},
     "output_type": "execute_result"
    }
   ],
   "source": [
    "proportion_outliers = round((40 / 649) * 100, 2)\n",
    "proportion_outliers # we have less than 10% of observations which are outliers"
   ]
  },
  {
   "cell_type": "markdown",
   "id": "2ade66e7",
   "metadata": {},
   "source": [
    "Based on this brief descriptive and exploratory data analysis we are going to use the dataset without outliers in order to make inferences about **point estimators, confidence intervals and hypothesis testing.** "
   ]
  },
  {
   "cell_type": "code",
   "execution_count": 43,
   "id": "fc4f16a1",
   "metadata": {},
   "outputs": [],
   "source": [
    "without_outliers.to_excel(\"nfp_without_outliers.xlsx\")"
   ]
  }
 ],
 "metadata": {
  "kernelspec": {
   "display_name": "Python 3 (ipykernel)",
   "language": "python",
   "name": "python3"
  },
  "language_info": {
   "codemirror_mode": {
    "name": "ipython",
    "version": 3
   },
   "file_extension": ".py",
   "mimetype": "text/x-python",
   "name": "python",
   "nbconvert_exporter": "python",
   "pygments_lexer": "ipython3",
   "version": "3.11.4"
  }
 },
 "nbformat": 4,
 "nbformat_minor": 5
}
